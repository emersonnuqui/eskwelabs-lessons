{
 "cells": [
  {
   "cell_type": "markdown",
   "metadata": {
    "toc": true
   },
   "source": [
    "<h1>Table of Contents<span class=\"tocSkip\"></span></h1>\n",
    "<div class=\"toc\"><ul class=\"toc-item\"><li><span><a href=\"#Exercises\" data-toc-modified-id=\"Exercises-1\"><span class=\"toc-item-num\">1&nbsp;&nbsp;</span>Exercises</a></span><ul class=\"toc-item\"><li><span><a href=\"#AVERAGE.-Create-a-bar-chart-of-top-10-countries-in-terms-of-%-of-females-with-debit-card.\" data-toc-modified-id=\"AVERAGE.-Create-a-bar-chart-of-top-10-countries-in-terms-of-%-of-females-with-debit-card.-1.1\"><span class=\"toc-item-num\">1.1&nbsp;&nbsp;</span>AVERAGE. Create a bar chart of top 10 countries in terms of % of females with debit card.</a></span></li><li><span><a href=\"#DIFFICULT.-Create-a-bubble-map-to-show-%-of-females-with-debit-card-per-country.-Create-another-showing-%-of-males-with-debit-card-per-country.\" data-toc-modified-id=\"DIFFICULT.-Create-a-bubble-map-to-show-%-of-females-with-debit-card-per-country.-Create-another-showing-%-of-males-with-debit-card-per-country.-1.2\"><span class=\"toc-item-num\">1.2&nbsp;&nbsp;</span>DIFFICULT. Create a bubble map to show % of females with debit card per country. Create another showing % of males with debit card per country.</a></span></li></ul></li></ul></div>"
   ]
  },
  {
   "cell_type": "markdown",
   "metadata": {
    "id": "COCN0vRF_0ni"
   },
   "source": [
    "# Exercises"
   ]
  },
  {
   "cell_type": "code",
   "execution_count": 1,
   "metadata": {
    "id": "9JD0QEk5nEDg"
   },
   "outputs": [],
   "source": [
    "# Import libraries\n",
    "import csv\n",
    "import matplotlib.pyplot as plt\n",
    "import pandas as pd\n",
    "import plotly.express as px\n",
    "import seaborn as sns"
   ]
  },
  {
   "cell_type": "code",
   "execution_count": 2,
   "metadata": {
    "id": "8rl_xWq3m1kH"
   },
   "outputs": [],
   "source": [
    "# Load the data\n",
    "data = pd.read_csv('micro_world.csv', engine='python')"
   ]
  },
  {
   "cell_type": "markdown",
   "metadata": {
    "id": "DI5r9nctlhjA"
   },
   "source": [
    "## AVERAGE. Create a bar chart of top 10 countries in terms of % of females with debit card."
   ]
  },
  {
   "cell_type": "code",
   "execution_count": 3,
   "metadata": {
    "id": "Le-vVh92qei-"
   },
   "outputs": [],
   "source": [
    "data[\"female_with_debit_card\"] = data.apply(\n",
    "    lambda x: 1 if x[\"female\"] == 2 and x[\"fin2\"] == 1 else None, \n",
    "    axis=1)"
   ]
  },
  {
   "cell_type": "code",
   "execution_count": 4,
   "metadata": {},
   "outputs": [
    {
     "data": {
      "text/html": [
       "<div>\n",
       "<style scoped>\n",
       "    .dataframe tbody tr th:only-of-type {\n",
       "        vertical-align: middle;\n",
       "    }\n",
       "\n",
       "    .dataframe tbody tr th {\n",
       "        vertical-align: top;\n",
       "    }\n",
       "\n",
       "    .dataframe thead th {\n",
       "        text-align: right;\n",
       "    }\n",
       "</style>\n",
       "<table border=\"1\" class=\"dataframe\">\n",
       "  <thead>\n",
       "    <tr style=\"text-align: right;\">\n",
       "      <th></th>\n",
       "      <th>female</th>\n",
       "      <th>fin2</th>\n",
       "      <th>female_with_debit_card</th>\n",
       "    </tr>\n",
       "  </thead>\n",
       "  <tbody>\n",
       "    <tr>\n",
       "      <th>0</th>\n",
       "      <td>1</td>\n",
       "      <td>2</td>\n",
       "      <td>NaN</td>\n",
       "    </tr>\n",
       "    <tr>\n",
       "      <th>1</th>\n",
       "      <td>2</td>\n",
       "      <td>2</td>\n",
       "      <td>NaN</td>\n",
       "    </tr>\n",
       "    <tr>\n",
       "      <th>2</th>\n",
       "      <td>2</td>\n",
       "      <td>2</td>\n",
       "      <td>NaN</td>\n",
       "    </tr>\n",
       "    <tr>\n",
       "      <th>3</th>\n",
       "      <td>2</td>\n",
       "      <td>2</td>\n",
       "      <td>NaN</td>\n",
       "    </tr>\n",
       "    <tr>\n",
       "      <th>4</th>\n",
       "      <td>1</td>\n",
       "      <td>2</td>\n",
       "      <td>NaN</td>\n",
       "    </tr>\n",
       "    <tr>\n",
       "      <th>...</th>\n",
       "      <td>...</td>\n",
       "      <td>...</td>\n",
       "      <td>...</td>\n",
       "    </tr>\n",
       "    <tr>\n",
       "      <th>154918</th>\n",
       "      <td>2</td>\n",
       "      <td>2</td>\n",
       "      <td>NaN</td>\n",
       "    </tr>\n",
       "    <tr>\n",
       "      <th>154919</th>\n",
       "      <td>1</td>\n",
       "      <td>1</td>\n",
       "      <td>NaN</td>\n",
       "    </tr>\n",
       "    <tr>\n",
       "      <th>154920</th>\n",
       "      <td>1</td>\n",
       "      <td>1</td>\n",
       "      <td>NaN</td>\n",
       "    </tr>\n",
       "    <tr>\n",
       "      <th>154921</th>\n",
       "      <td>1</td>\n",
       "      <td>1</td>\n",
       "      <td>NaN</td>\n",
       "    </tr>\n",
       "    <tr>\n",
       "      <th>154922</th>\n",
       "      <td>1</td>\n",
       "      <td>1</td>\n",
       "      <td>NaN</td>\n",
       "    </tr>\n",
       "  </tbody>\n",
       "</table>\n",
       "<p>154923 rows × 3 columns</p>\n",
       "</div>"
      ],
      "text/plain": [
       "        female  fin2  female_with_debit_card\n",
       "0            1     2                     NaN\n",
       "1            2     2                     NaN\n",
       "2            2     2                     NaN\n",
       "3            2     2                     NaN\n",
       "4            1     2                     NaN\n",
       "...        ...   ...                     ...\n",
       "154918       2     2                     NaN\n",
       "154919       1     1                     NaN\n",
       "154920       1     1                     NaN\n",
       "154921       1     1                     NaN\n",
       "154922       1     1                     NaN\n",
       "\n",
       "[154923 rows x 3 columns]"
      ]
     },
     "execution_count": 4,
     "metadata": {},
     "output_type": "execute_result"
    }
   ],
   "source": [
    "data[[\"female\", \"fin2\", \"female_with_debit_card\"]]"
   ]
  },
  {
   "cell_type": "code",
   "execution_count": 18,
   "metadata": {},
   "outputs": [
    {
     "name": "stderr",
     "output_type": "stream",
     "text": [
      "C:\\Users\\emers\\AppData\\Local\\Temp\\ipykernel_41180\\450345796.py:2: FutureWarning:\n",
      "\n",
      "Indexing with multiple keys (implicitly converted to a tuple of keys) will be deprecated, use a list instead.\n",
      "\n"
     ]
    },
    {
     "data": {
      "text/html": [
       "<div>\n",
       "<style scoped>\n",
       "    .dataframe tbody tr th:only-of-type {\n",
       "        vertical-align: middle;\n",
       "    }\n",
       "\n",
       "    .dataframe tbody tr th {\n",
       "        vertical-align: top;\n",
       "    }\n",
       "\n",
       "    .dataframe thead th {\n",
       "        text-align: right;\n",
       "    }\n",
       "</style>\n",
       "<table border=\"1\" class=\"dataframe\">\n",
       "  <thead>\n",
       "    <tr style=\"text-align: right;\">\n",
       "      <th></th>\n",
       "      <th>economy</th>\n",
       "      <th>wpid_random</th>\n",
       "      <th>female_with_debit_card</th>\n",
       "    </tr>\n",
       "  </thead>\n",
       "  <tbody>\n",
       "    <tr>\n",
       "      <th>0</th>\n",
       "      <td>Afghanistan</td>\n",
       "      <td>500</td>\n",
       "      <td>7</td>\n",
       "    </tr>\n",
       "    <tr>\n",
       "      <th>1</th>\n",
       "      <td>Albania</td>\n",
       "      <td>601</td>\n",
       "      <td>152</td>\n",
       "    </tr>\n",
       "    <tr>\n",
       "      <th>2</th>\n",
       "      <td>Algeria</td>\n",
       "      <td>504</td>\n",
       "      <td>83</td>\n",
       "    </tr>\n",
       "    <tr>\n",
       "      <th>3</th>\n",
       "      <td>Argentina</td>\n",
       "      <td>567</td>\n",
       "      <td>267</td>\n",
       "    </tr>\n",
       "    <tr>\n",
       "      <th>4</th>\n",
       "      <td>Armenia</td>\n",
       "      <td>577</td>\n",
       "      <td>129</td>\n",
       "    </tr>\n",
       "    <tr>\n",
       "      <th>...</th>\n",
       "      <td>...</td>\n",
       "      <td>...</td>\n",
       "      <td>...</td>\n",
       "    </tr>\n",
       "    <tr>\n",
       "      <th>139</th>\n",
       "      <td>Venezuela, RB</td>\n",
       "      <td>618</td>\n",
       "      <td>416</td>\n",
       "    </tr>\n",
       "    <tr>\n",
       "      <th>140</th>\n",
       "      <td>Vietnam</td>\n",
       "      <td>575</td>\n",
       "      <td>165</td>\n",
       "    </tr>\n",
       "    <tr>\n",
       "      <th>141</th>\n",
       "      <td>West Bank and Gaza</td>\n",
       "      <td>598</td>\n",
       "      <td>73</td>\n",
       "    </tr>\n",
       "    <tr>\n",
       "      <th>142</th>\n",
       "      <td>Zambia</td>\n",
       "      <td>587</td>\n",
       "      <td>105</td>\n",
       "    </tr>\n",
       "    <tr>\n",
       "      <th>143</th>\n",
       "      <td>Zimbabwe</td>\n",
       "      <td>611</td>\n",
       "      <td>118</td>\n",
       "    </tr>\n",
       "  </tbody>\n",
       "</table>\n",
       "<p>144 rows × 3 columns</p>\n",
       "</div>"
      ],
      "text/plain": [
       "                economy  wpid_random  female_with_debit_card\n",
       "0           Afghanistan          500                       7\n",
       "1               Albania          601                     152\n",
       "2               Algeria          504                      83\n",
       "3             Argentina          567                     267\n",
       "4               Armenia          577                     129\n",
       "..                  ...          ...                     ...\n",
       "139       Venezuela, RB          618                     416\n",
       "140             Vietnam          575                     165\n",
       "141  West Bank and Gaza          598                      73\n",
       "142              Zambia          587                     105\n",
       "143            Zimbabwe          611                     118\n",
       "\n",
       "[144 rows x 3 columns]"
      ]
     },
     "execution_count": 18,
     "metadata": {},
     "output_type": "execute_result"
    }
   ],
   "source": [
    "grouped_data = data[data[\"female\"] == 2]\n",
    "grouped_data = grouped_data.groupby([\"economy\"])[\"wpid_random\", \"female_with_debit_card\"].count()\n",
    "grouped_data = grouped_data.reset_index()\n",
    "grouped_data"
   ]
  },
  {
   "cell_type": "code",
   "execution_count": 20,
   "metadata": {},
   "outputs": [
    {
     "data": {
      "text/html": [
       "<div>\n",
       "<style scoped>\n",
       "    .dataframe tbody tr th:only-of-type {\n",
       "        vertical-align: middle;\n",
       "    }\n",
       "\n",
       "    .dataframe tbody tr th {\n",
       "        vertical-align: top;\n",
       "    }\n",
       "\n",
       "    .dataframe thead th {\n",
       "        text-align: right;\n",
       "    }\n",
       "</style>\n",
       "<table border=\"1\" class=\"dataframe\">\n",
       "  <thead>\n",
       "    <tr style=\"text-align: right;\">\n",
       "      <th></th>\n",
       "      <th>economy</th>\n",
       "      <th>wpid_random</th>\n",
       "      <th>female_with_debit_card</th>\n",
       "      <th>% of female with debit card</th>\n",
       "    </tr>\n",
       "  </thead>\n",
       "  <tbody>\n",
       "    <tr>\n",
       "      <th>0</th>\n",
       "      <td>Netherlands</td>\n",
       "      <td>469</td>\n",
       "      <td>466</td>\n",
       "      <td>99.36</td>\n",
       "    </tr>\n",
       "    <tr>\n",
       "      <th>1</th>\n",
       "      <td>Norway</td>\n",
       "      <td>500</td>\n",
       "      <td>496</td>\n",
       "      <td>99.20</td>\n",
       "    </tr>\n",
       "    <tr>\n",
       "      <th>2</th>\n",
       "      <td>Sweden</td>\n",
       "      <td>518</td>\n",
       "      <td>512</td>\n",
       "      <td>98.84</td>\n",
       "    </tr>\n",
       "    <tr>\n",
       "      <th>3</th>\n",
       "      <td>Finland</td>\n",
       "      <td>533</td>\n",
       "      <td>523</td>\n",
       "      <td>98.12</td>\n",
       "    </tr>\n",
       "    <tr>\n",
       "      <th>4</th>\n",
       "      <td>Denmark</td>\n",
       "      <td>520</td>\n",
       "      <td>506</td>\n",
       "      <td>97.31</td>\n",
       "    </tr>\n",
       "    <tr>\n",
       "      <th>5</th>\n",
       "      <td>New Zealand</td>\n",
       "      <td>593</td>\n",
       "      <td>576</td>\n",
       "      <td>97.13</td>\n",
       "    </tr>\n",
       "    <tr>\n",
       "      <th>6</th>\n",
       "      <td>Belgium</td>\n",
       "      <td>519</td>\n",
       "      <td>499</td>\n",
       "      <td>96.15</td>\n",
       "    </tr>\n",
       "    <tr>\n",
       "      <th>7</th>\n",
       "      <td>Canada</td>\n",
       "      <td>500</td>\n",
       "      <td>480</td>\n",
       "      <td>96.00</td>\n",
       "    </tr>\n",
       "    <tr>\n",
       "      <th>8</th>\n",
       "      <td>Slovenia</td>\n",
       "      <td>540</td>\n",
       "      <td>511</td>\n",
       "      <td>94.63</td>\n",
       "    </tr>\n",
       "    <tr>\n",
       "      <th>9</th>\n",
       "      <td>Estonia</td>\n",
       "      <td>506</td>\n",
       "      <td>471</td>\n",
       "      <td>93.08</td>\n",
       "    </tr>\n",
       "  </tbody>\n",
       "</table>\n",
       "</div>"
      ],
      "text/plain": [
       "       economy  wpid_random  female_with_debit_card  \\\n",
       "0  Netherlands          469                     466   \n",
       "1       Norway          500                     496   \n",
       "2       Sweden          518                     512   \n",
       "3      Finland          533                     523   \n",
       "4      Denmark          520                     506   \n",
       "5  New Zealand          593                     576   \n",
       "6      Belgium          519                     499   \n",
       "7       Canada          500                     480   \n",
       "8     Slovenia          540                     511   \n",
       "9      Estonia          506                     471   \n",
       "\n",
       "   % of female with debit card  \n",
       "0                        99.36  \n",
       "1                        99.20  \n",
       "2                        98.84  \n",
       "3                        98.12  \n",
       "4                        97.31  \n",
       "5                        97.13  \n",
       "6                        96.15  \n",
       "7                        96.00  \n",
       "8                        94.63  \n",
       "9                        93.08  "
      ]
     },
     "execution_count": 20,
     "metadata": {},
     "output_type": "execute_result"
    }
   ],
   "source": [
    "grouped_data[\"% of female with debit card\"] = round(grouped_data[\"female_with_debit_card\"] *100 / grouped_data[\"wpid_random\"],2)\n",
    "top_10 = grouped_data.sort_values(\"% of female with debit card\", ascending=False).head(10).reset_index(drop=True)\n",
    "top_10"
   ]
  },
  {
   "cell_type": "code",
   "execution_count": 30,
   "metadata": {},
   "outputs": [
    {
     "name": "stderr",
     "output_type": "stream",
     "text": [
      "C:\\Users\\emers\\Eskwelabs\\Eskwelabs - DS Cohort 10 Sprint 1 Materials\\venv\\lib\\site-packages\\seaborn\\_decorators.py:36: FutureWarning:\n",
      "\n",
      "Pass the following variables as keyword args: x, y. From version 0.12, the only valid positional argument will be `data`, and passing other arguments without an explicit keyword will result in an error or misinterpretation.\n",
      "\n"
     ]
    },
    {
     "data": {
      "image/png": "[encoded data removed]",
      "text/plain": [
       "<Figure size 500x700 with 1 Axes>"
      ]
     },
     "metadata": {},
     "output_type": "display_data"
    }
   ],
   "source": [
    "plt.figure(figsize=(5,7))\n",
    "\n",
    "sns.barplot(\n",
    "    top_10['economy'],\n",
    "    top_10['% of female with debit card'],\n",
    "    color =\"blue\"\n",
    ")\n",
    "\n",
    "plt.title(\"Top 10 countries in terms % of females with debit card\")\n",
    "plt.xlabel(\"Country\")\n",
    "plt.ylabel(\"% of female with debit card\")\n",
    "\n",
    "plt.xticks(rotation=45)\n",
    "\n",
    "plt.show()"
   ]
  },
  {
   "cell_type": "markdown",
   "metadata": {
    "id": "fgUW9tCaqgVm"
   },
   "source": [
    "## DIFFICULT. Create a bubble map to show % of females with debit card per country. Create another showing % of males with debit card per country.\n",
    "\n",
    "Notice any difference?"
   ]
  },
  {
   "cell_type": "code",
   "execution_count": 22,
   "metadata": {
    "id": "GvNHpGNzq27f"
   },
   "outputs": [],
   "source": [
    "data[\"male_with_debit_card\"] = data.apply(\n",
    "    lambda x: 1 if x[\"female\"] == 1 and x[\"fin2\"] == 1 else None, \n",
    "    axis=1)"
   ]
  },
  {
   "cell_type": "code",
   "execution_count": 23,
   "metadata": {},
   "outputs": [
    {
     "data": {
      "text/html": [
       "<div>\n",
       "<style scoped>\n",
       "    .dataframe tbody tr th:only-of-type {\n",
       "        vertical-align: middle;\n",
       "    }\n",
       "\n",
       "    .dataframe tbody tr th {\n",
       "        vertical-align: top;\n",
       "    }\n",
       "\n",
       "    .dataframe thead th {\n",
       "        text-align: right;\n",
       "    }\n",
       "</style>\n",
       "<table border=\"1\" class=\"dataframe\">\n",
       "  <thead>\n",
       "    <tr style=\"text-align: right;\">\n",
       "      <th></th>\n",
       "      <th>female</th>\n",
       "      <th>fin2</th>\n",
       "      <th>female_with_debit_card</th>\n",
       "      <th>male_with_debit_card</th>\n",
       "    </tr>\n",
       "  </thead>\n",
       "  <tbody>\n",
       "    <tr>\n",
       "      <th>0</th>\n",
       "      <td>1</td>\n",
       "      <td>2</td>\n",
       "      <td>NaN</td>\n",
       "      <td>NaN</td>\n",
       "    </tr>\n",
       "    <tr>\n",
       "      <th>1</th>\n",
       "      <td>2</td>\n",
       "      <td>2</td>\n",
       "      <td>NaN</td>\n",
       "      <td>NaN</td>\n",
       "    </tr>\n",
       "    <tr>\n",
       "      <th>2</th>\n",
       "      <td>2</td>\n",
       "      <td>2</td>\n",
       "      <td>NaN</td>\n",
       "      <td>NaN</td>\n",
       "    </tr>\n",
       "    <tr>\n",
       "      <th>3</th>\n",
       "      <td>2</td>\n",
       "      <td>2</td>\n",
       "      <td>NaN</td>\n",
       "      <td>NaN</td>\n",
       "    </tr>\n",
       "    <tr>\n",
       "      <th>4</th>\n",
       "      <td>1</td>\n",
       "      <td>2</td>\n",
       "      <td>NaN</td>\n",
       "      <td>NaN</td>\n",
       "    </tr>\n",
       "    <tr>\n",
       "      <th>...</th>\n",
       "      <td>...</td>\n",
       "      <td>...</td>\n",
       "      <td>...</td>\n",
       "      <td>...</td>\n",
       "    </tr>\n",
       "    <tr>\n",
       "      <th>154918</th>\n",
       "      <td>2</td>\n",
       "      <td>2</td>\n",
       "      <td>NaN</td>\n",
       "      <td>NaN</td>\n",
       "    </tr>\n",
       "    <tr>\n",
       "      <th>154919</th>\n",
       "      <td>1</td>\n",
       "      <td>1</td>\n",
       "      <td>NaN</td>\n",
       "      <td>1.0</td>\n",
       "    </tr>\n",
       "    <tr>\n",
       "      <th>154920</th>\n",
       "      <td>1</td>\n",
       "      <td>1</td>\n",
       "      <td>NaN</td>\n",
       "      <td>1.0</td>\n",
       "    </tr>\n",
       "    <tr>\n",
       "      <th>154921</th>\n",
       "      <td>1</td>\n",
       "      <td>1</td>\n",
       "      <td>NaN</td>\n",
       "      <td>1.0</td>\n",
       "    </tr>\n",
       "    <tr>\n",
       "      <th>154922</th>\n",
       "      <td>1</td>\n",
       "      <td>1</td>\n",
       "      <td>NaN</td>\n",
       "      <td>1.0</td>\n",
       "    </tr>\n",
       "  </tbody>\n",
       "</table>\n",
       "<p>154923 rows × 4 columns</p>\n",
       "</div>"
      ],
      "text/plain": [
       "        female  fin2  female_with_debit_card  male_with_debit_card\n",
       "0            1     2                     NaN                   NaN\n",
       "1            2     2                     NaN                   NaN\n",
       "2            2     2                     NaN                   NaN\n",
       "3            2     2                     NaN                   NaN\n",
       "4            1     2                     NaN                   NaN\n",
       "...        ...   ...                     ...                   ...\n",
       "154918       2     2                     NaN                   NaN\n",
       "154919       1     1                     NaN                   1.0\n",
       "154920       1     1                     NaN                   1.0\n",
       "154921       1     1                     NaN                   1.0\n",
       "154922       1     1                     NaN                   1.0\n",
       "\n",
       "[154923 rows x 4 columns]"
      ]
     },
     "execution_count": 23,
     "metadata": {},
     "output_type": "execute_result"
    }
   ],
   "source": [
    "data[[\"female\", \"fin2\", \"female_with_debit_card\",\"male_with_debit_card\"]]"
   ]
  },
  {
   "cell_type": "code",
   "execution_count": 24,
   "metadata": {},
   "outputs": [
    {
     "ename": "SyntaxError",
     "evalue": "invalid syntax (2145338485.py, line 1)",
     "output_type": "error",
     "traceback": [
      "\u001b[1;36m  Cell \u001b[1;32mIn [24], line 1\u001b[1;36m\u001b[0m\n\u001b[1;33m    grouped_data2 =\u001b[0m\n\u001b[1;37m                    ^\u001b[0m\n\u001b[1;31mSyntaxError\u001b[0m\u001b[1;31m:\u001b[0m invalid syntax\n"
     ]
    }
   ],
   "source": [
    "\n",
    "grouped_data2 = data.groupby([\"economy\",\"economycode\"])[\"wpid_random\", \"female_with_debit_card\", \"male_with_debit_card\"].count()\n",
    "grouped_data2 = grouped_data2.reset_index()\n",
    "grouped_data2"
   ]
  },
  {
   "cell_type": "code",
   "execution_count": null,
   "metadata": {},
   "outputs": [],
   "source": [
    "grouped_data2[\"% of female with debit card\"] = round(grouped_data2[\"female_with_debit_card\"] *100 / grouped_data2[\"wpid_random\"],2)"
   ]
  },
  {
   "cell_type": "code",
   "execution_count": 25,
   "metadata": {},
   "outputs": [],
   "source": [
    "grouped_data2[\"% of male with debit card\"] = round(grouped_data2[\"male_with_debit_card\"] *100 / grouped_data2[\"wpid_random\"],2)"
   ]
  },
  {
   "cell_type": "code",
   "execution_count": 26,
   "metadata": {},
   "outputs": [
    {
     "data": {
      "text/html": [
       "<div>\n",
       "<style scoped>\n",
       "    .dataframe tbody tr th:only-of-type {\n",
       "        vertical-align: middle;\n",
       "    }\n",
       "\n",
       "    .dataframe tbody tr th {\n",
       "        vertical-align: top;\n",
       "    }\n",
       "\n",
       "    .dataframe thead th {\n",
       "        text-align: right;\n",
       "    }\n",
       "</style>\n",
       "<table border=\"1\" class=\"dataframe\">\n",
       "  <thead>\n",
       "    <tr style=\"text-align: right;\">\n",
       "      <th></th>\n",
       "      <th>economy</th>\n",
       "      <th>economycode</th>\n",
       "      <th>wpid_random</th>\n",
       "      <th>female_with_debit_card</th>\n",
       "      <th>male_with_debit_card</th>\n",
       "      <th>% of female with debit card</th>\n",
       "      <th>% of male with debit card</th>\n",
       "    </tr>\n",
       "  </thead>\n",
       "  <tbody>\n",
       "    <tr>\n",
       "      <th>0</th>\n",
       "      <td>Afghanistan</td>\n",
       "      <td>AFG</td>\n",
       "      <td>1000</td>\n",
       "      <td>7</td>\n",
       "      <td>21</td>\n",
       "      <td>0.70</td>\n",
       "      <td>2.10</td>\n",
       "    </tr>\n",
       "    <tr>\n",
       "      <th>1</th>\n",
       "      <td>Albania</td>\n",
       "      <td>ALB</td>\n",
       "      <td>1000</td>\n",
       "      <td>152</td>\n",
       "      <td>126</td>\n",
       "      <td>15.20</td>\n",
       "      <td>12.60</td>\n",
       "    </tr>\n",
       "    <tr>\n",
       "      <th>2</th>\n",
       "      <td>Algeria</td>\n",
       "      <td>DZA</td>\n",
       "      <td>1016</td>\n",
       "      <td>83</td>\n",
       "      <td>164</td>\n",
       "      <td>8.17</td>\n",
       "      <td>16.14</td>\n",
       "    </tr>\n",
       "    <tr>\n",
       "      <th>3</th>\n",
       "      <td>Argentina</td>\n",
       "      <td>ARG</td>\n",
       "      <td>1000</td>\n",
       "      <td>267</td>\n",
       "      <td>195</td>\n",
       "      <td>26.70</td>\n",
       "      <td>19.50</td>\n",
       "    </tr>\n",
       "    <tr>\n",
       "      <th>4</th>\n",
       "      <td>Armenia</td>\n",
       "      <td>ARM</td>\n",
       "      <td>1000</td>\n",
       "      <td>129</td>\n",
       "      <td>135</td>\n",
       "      <td>12.90</td>\n",
       "      <td>13.50</td>\n",
       "    </tr>\n",
       "    <tr>\n",
       "      <th>...</th>\n",
       "      <td>...</td>\n",
       "      <td>...</td>\n",
       "      <td>...</td>\n",
       "      <td>...</td>\n",
       "      <td>...</td>\n",
       "      <td>...</td>\n",
       "      <td>...</td>\n",
       "    </tr>\n",
       "    <tr>\n",
       "      <th>139</th>\n",
       "      <td>Venezuela, RB</td>\n",
       "      <td>VEN</td>\n",
       "      <td>1000</td>\n",
       "      <td>416</td>\n",
       "      <td>269</td>\n",
       "      <td>41.60</td>\n",
       "      <td>26.90</td>\n",
       "    </tr>\n",
       "    <tr>\n",
       "      <th>140</th>\n",
       "      <td>Vietnam</td>\n",
       "      <td>VNM</td>\n",
       "      <td>1002</td>\n",
       "      <td>165</td>\n",
       "      <td>122</td>\n",
       "      <td>16.47</td>\n",
       "      <td>12.18</td>\n",
       "    </tr>\n",
       "    <tr>\n",
       "      <th>141</th>\n",
       "      <td>West Bank and Gaza</td>\n",
       "      <td>PSE</td>\n",
       "      <td>1000</td>\n",
       "      <td>73</td>\n",
       "      <td>116</td>\n",
       "      <td>7.30</td>\n",
       "      <td>11.60</td>\n",
       "    </tr>\n",
       "    <tr>\n",
       "      <th>142</th>\n",
       "      <td>Zambia</td>\n",
       "      <td>ZMB</td>\n",
       "      <td>1000</td>\n",
       "      <td>105</td>\n",
       "      <td>127</td>\n",
       "      <td>10.50</td>\n",
       "      <td>12.70</td>\n",
       "    </tr>\n",
       "    <tr>\n",
       "      <th>143</th>\n",
       "      <td>Zimbabwe</td>\n",
       "      <td>ZWE</td>\n",
       "      <td>1000</td>\n",
       "      <td>118</td>\n",
       "      <td>131</td>\n",
       "      <td>11.80</td>\n",
       "      <td>13.10</td>\n",
       "    </tr>\n",
       "  </tbody>\n",
       "</table>\n",
       "<p>144 rows × 7 columns</p>\n",
       "</div>"
      ],
      "text/plain": [
       "                economy economycode  wpid_random  female_with_debit_card  \\\n",
       "0           Afghanistan         AFG         1000                       7   \n",
       "1               Albania         ALB         1000                     152   \n",
       "2               Algeria         DZA         1016                      83   \n",
       "3             Argentina         ARG         1000                     267   \n",
       "4               Armenia         ARM         1000                     129   \n",
       "..                  ...         ...          ...                     ...   \n",
       "139       Venezuela, RB         VEN         1000                     416   \n",
       "140             Vietnam         VNM         1002                     165   \n",
       "141  West Bank and Gaza         PSE         1000                      73   \n",
       "142              Zambia         ZMB         1000                     105   \n",
       "143            Zimbabwe         ZWE         1000                     118   \n",
       "\n",
       "     male_with_debit_card  % of female with debit card  \\\n",
       "0                      21                         0.70   \n",
       "1                     126                        15.20   \n",
       "2                     164                         8.17   \n",
       "3                     195                        26.70   \n",
       "4                     135                        12.90   \n",
       "..                    ...                          ...   \n",
       "139                   269                        41.60   \n",
       "140                   122                        16.47   \n",
       "141                   116                         7.30   \n",
       "142                   127                        10.50   \n",
       "143                   131                        11.80   \n",
       "\n",
       "     % of male with debit card  \n",
       "0                         2.10  \n",
       "1                        12.60  \n",
       "2                        16.14  \n",
       "3                        19.50  \n",
       "4                        13.50  \n",
       "..                         ...  \n",
       "139                      26.90  \n",
       "140                      12.18  \n",
       "141                      11.60  \n",
       "142                      12.70  \n",
       "143                      13.10  \n",
       "\n",
       "[144 rows x 7 columns]"
      ]
     },
     "execution_count": 26,
     "metadata": {},
     "output_type": "execute_result"
    }
   ],
   "source": [
    "grouped_data2"
   ]
  },
  {
   "cell_type": "code",
   "execution_count": 27,
   "metadata": {},
   "outputs": [
    {
     "data": {
      "application/vnd.plotly.v1+json": {
       "config": {
        "plotlyServerURL": "https://plot.ly"
       },
       "data": [
        {
         "geo": "geo",
         "hovertemplate": "<b>%{hovertext}</b><br><br>economy=Afghanistan<br>% of female with debit card=%{marker.size}<br>economycode=%{location}<extra></extra>",
         "hovertext": [
          "Afghanistan"
         ],
         "legendgroup": "Afghanistan",
         "locations": [
          "AFG"
         ],
         "marker": {
          "color": "#636efa",
          "size": [
           0.7
          ],
          "sizemode": "area",
          "sizeref": 0.14400000000000002,
          "symbol": "circle"
         },
         "mode": "markers",
         "name": "Afghanistan",
         "showlegend": true,
         "type": "scattergeo"
        },
        {
         "geo": "geo",
         "hovertemplate": "<b>%{hovertext}</b><br><br>economy=Albania<br>% of female with debit card=%{marker.size}<br>economycode=%{location}<extra></extra>",
         "hovertext": [
          "Albania"
         ],
         "legendgroup": "Albania",
         "locations": [
          "ALB"
         ],
         "marker": {
          "color": "#EF553B",
          "size": [
           15.2
          ],
          "sizemode": "area",
          "sizeref": 0.14400000000000002,
          "symbol": "circle"
         },
         "mode": "markers",
         "name": "Albania",
         "showlegend": true,
         "type": "scattergeo"
        },
        {
         "geo": "geo",
         "hovertemplate": "<b>%{hovertext}</b><br><br>economy=Algeria<br>% of female with debit card=%{marker.size}<br>economycode=%{location}<extra></extra>",
         "hovertext": [
          "Algeria"
         ],
         "legendgroup": "Algeria",
         "locations": [
          "DZA"
         ],
         "marker": {
          "color": "#00cc96",
          "size": [
           8.17
          ],
          "sizemode": "area",
          "sizeref": 0.14400000000000002,
          "symbol": "circle"
         },
         "mode": "markers",
         "name": "Algeria",
         "showlegend": true,
         "type": "scattergeo"
        },
        {
         "geo": "geo",
         "hovertemplate": "<b>%{hovertext}</b><br><br>economy=Argentina<br>% of female with debit card=%{marker.size}<br>economycode=%{location}<extra></extra>",
         "hovertext": [
          "Argentina"
         ],
         "legendgroup": "Argentina",
         "locations": [
          "ARG"
         ],
         "marker": {
          "color": "#ab63fa",
          "size": [
           26.7
          ],
          "sizemode": "area",
          "sizeref": 0.14400000000000002,
          "symbol": "circle"
         },
         "mode": "markers",
         "name": "Argentina",
         "showlegend": true,
         "type": "scattergeo"
        },
        {
         "geo": "geo",
         "hovertemplate": "<b>%{hovertext}</b><br><br>economy=Armenia<br>% of female with debit card=%{marker.size}<br>economycode=%{location}<extra></extra>",
         "hovertext": [
          "Armenia"
         ],
         "legendgroup": "Armenia",
         "locations": [
          "ARM"
         ],
         "marker": {
          "color": "#FFA15A",
          "size": [
           12.9
          ],
          "sizemode": "area",
          "sizeref": 0.14400000000000002,
          "symbol": "circle"
         },
         "mode": "markers",
         "name": "Armenia",
         "showlegend": true,
         "type": "scattergeo"
        },
        {
         "geo": "geo",
         "hovertemplate": "<b>%{hovertext}</b><br><br>economy=Australia<br>% of female with debit card=%{marker.size}<br>economycode=%{location}<extra></extra>",
         "hovertext": [
          "Australia"
         ],
         "legendgroup": "Australia",
         "locations": [
          "AUS"
         ],
         "marker": {
          "color": "#19d3f3",
          "size": [
           50.6
          ],
          "sizemode": "area",
          "sizeref": 0.14400000000000002,
          "symbol": "circle"
         },
         "mode": "markers",
         "name": "Australia",
         "showlegend": true,
         "type": "scattergeo"
        },
        {
         "geo": "geo",
         "hovertemplate": "<b>%{hovertext}</b><br><br>economy=Austria<br>% of female with debit card=%{marker.size}<br>economycode=%{location}<extra></extra>",
         "hovertext": [
          "Austria"
         ],
         "legendgroup": "Austria",
         "locations": [
          "AUT"
         ],
         "marker": {
          "color": "#FF6692",
          "size": [
           45.2
          ],
          "sizemode": "area",
          "sizeref": 0.14400000000000002,
          "symbol": "circle"
         },
         "mode": "markers",
         "name": "Austria",
         "showlegend": true,
         "type": "scattergeo"
        },
        {
         "geo": "geo",
         "hovertemplate": "<b>%{hovertext}</b><br><br>economy=Azerbaijan<br>% of female with debit card=%{marker.size}<br>economycode=%{location}<extra></extra>",
         "hovertext": [
          "Azerbaijan"
         ],
         "legendgroup": "Azerbaijan",
         "locations": [
          "AZE"
         ],
         "marker": {
          "color": "#B6E880",
          "size": [
           18.4
          ],
          "sizemode": "area",
          "sizeref": 0.14400000000000002,
          "symbol": "circle"
         },
         "mode": "markers",
         "name": "Azerbaijan",
         "showlegend": true,
         "type": "scattergeo"
        },
        {
         "geo": "geo",
         "hovertemplate": "<b>%{hovertext}</b><br><br>economy=Bahrain<br>% of female with debit card=%{marker.size}<br>economycode=%{location}<extra></extra>",
         "hovertext": [
          "Bahrain"
         ],
         "legendgroup": "Bahrain",
         "locations": [
          "BHR"
         ],
         "marker": {
          "color": "#FF97FF",
          "size": [
           29.06
          ],
          "sizemode": "area",
          "sizeref": 0.14400000000000002,
          "symbol": "circle"
         },
         "mode": "markers",
         "name": "Bahrain",
         "showlegend": true,
         "type": "scattergeo"
        },
        {
         "geo": "geo",
         "hovertemplate": "<b>%{hovertext}</b><br><br>economy=Bangladesh<br>% of female with debit card=%{marker.size}<br>economycode=%{location}<extra></extra>",
         "hovertext": [
          "Bangladesh"
         ],
         "legendgroup": "Bangladesh",
         "locations": [
          "BGD"
         ],
         "marker": {
          "color": "#FECB52",
          "size": [
           1.9
          ],
          "sizemode": "area",
          "sizeref": 0.14400000000000002,
          "symbol": "circle"
         },
         "mode": "markers",
         "name": "Bangladesh",
         "showlegend": true,
         "type": "scattergeo"
        },
        {
         "geo": "geo",
         "hovertemplate": "<b>%{hovertext}</b><br><br>economy=Belarus<br>% of female with debit card=%{marker.size}<br>economycode=%{location}<extra></extra>",
         "hovertext": [
          "Belarus"
         ],
         "legendgroup": "Belarus",
         "locations": [
          "BLR"
         ],
         "marker": {
          "color": "#636efa",
          "size": [
           44.73
          ],
          "sizemode": "area",
          "sizeref": 0.14400000000000002,
          "symbol": "circle"
         },
         "mode": "markers",
         "name": "Belarus",
         "showlegend": true,
         "type": "scattergeo"
        },
        {
         "geo": "geo",
         "hovertemplate": "<b>%{hovertext}</b><br><br>economy=Belgium<br>% of female with debit card=%{marker.size}<br>economycode=%{location}<extra></extra>",
         "hovertext": [
          "Belgium"
         ],
         "legendgroup": "Belgium",
         "locations": [
          "BEL"
         ],
         "marker": {
          "color": "#EF553B",
          "size": [
           49.85
          ],
          "sizemode": "area",
          "sizeref": 0.14400000000000002,
          "symbol": "circle"
         },
         "mode": "markers",
         "name": "Belgium",
         "showlegend": true,
         "type": "scattergeo"
        },
        {
         "geo": "geo",
         "hovertemplate": "<b>%{hovertext}</b><br><br>economy=Benin<br>% of female with debit card=%{marker.size}<br>economycode=%{location}<extra></extra>",
         "hovertext": [
          "Benin"
         ],
         "legendgroup": "Benin",
         "locations": [
          "BEN"
         ],
         "marker": {
          "color": "#00cc96",
          "size": [
           4
          ],
          "sizemode": "area",
          "sizeref": 0.14400000000000002,
          "symbol": "circle"
         },
         "mode": "markers",
         "name": "Benin",
         "showlegend": true,
         "type": "scattergeo"
        },
        {
         "geo": "geo",
         "hovertemplate": "<b>%{hovertext}</b><br><br>economy=Bolivia<br>% of female with debit card=%{marker.size}<br>economycode=%{location}<extra></extra>",
         "hovertext": [
          "Bolivia"
         ],
         "legendgroup": "Bolivia",
         "locations": [
          "BOL"
         ],
         "marker": {
          "color": "#ab63fa",
          "size": [
           15.5
          ],
          "sizemode": "area",
          "sizeref": 0.14400000000000002,
          "symbol": "circle"
         },
         "mode": "markers",
         "name": "Bolivia",
         "showlegend": true,
         "type": "scattergeo"
        },
        {
         "geo": "geo",
         "hovertemplate": "<b>%{hovertext}</b><br><br>economy=Bosnia and Herzegovina<br>% of female with debit card=%{marker.size}<br>economycode=%{location}<extra></extra>",
         "hovertext": [
          "Bosnia and Herzegovina"
         ],
         "legendgroup": "Bosnia and Herzegovina",
         "locations": [
          "BIH"
         ],
         "marker": {
          "color": "#FFA15A",
          "size": [
           22.2
          ],
          "sizemode": "area",
          "sizeref": 0.14400000000000002,
          "symbol": "circle"
         },
         "mode": "markers",
         "name": "Bosnia and Herzegovina",
         "showlegend": true,
         "type": "scattergeo"
        },
        {
         "geo": "geo",
         "hovertemplate": "<b>%{hovertext}</b><br><br>economy=Botswana<br>% of female with debit card=%{marker.size}<br>economycode=%{location}<extra></extra>",
         "hovertext": [
          "Botswana"
         ],
         "legendgroup": "Botswana",
         "locations": [
          "BWA"
         ],
         "marker": {
          "color": "#19d3f3",
          "size": [
           17.8
          ],
          "sizemode": "area",
          "sizeref": 0.14400000000000002,
          "symbol": "circle"
         },
         "mode": "markers",
         "name": "Botswana",
         "showlegend": true,
         "type": "scattergeo"
        },
        {
         "geo": "geo",
         "hovertemplate": "<b>%{hovertext}</b><br><br>economy=Brazil<br>% of female with debit card=%{marker.size}<br>economycode=%{location}<extra></extra>",
         "hovertext": [
          "Brazil"
         ],
         "legendgroup": "Brazil",
         "locations": [
          "BRA"
         ],
         "marker": {
          "color": "#FF6692",
          "size": [
           34.3
          ],
          "sizemode": "area",
          "sizeref": 0.14400000000000002,
          "symbol": "circle"
         },
         "mode": "markers",
         "name": "Brazil",
         "showlegend": true,
         "type": "scattergeo"
        },
        {
         "geo": "geo",
         "hovertemplate": "<b>%{hovertext}</b><br><br>economy=Bulgaria<br>% of female with debit card=%{marker.size}<br>economycode=%{location}<extra></extra>",
         "hovertext": [
          "Bulgaria"
         ],
         "legendgroup": "Bulgaria",
         "locations": [
          "BGR"
         ],
         "marker": {
          "color": "#B6E880",
          "size": [
           39.7
          ],
          "sizemode": "area",
          "sizeref": 0.14400000000000002,
          "symbol": "circle"
         },
         "mode": "markers",
         "name": "Bulgaria",
         "showlegend": true,
         "type": "scattergeo"
        },
        {
         "geo": "geo",
         "hovertemplate": "<b>%{hovertext}</b><br><br>economy=Burkina Faso<br>% of female with debit card=%{marker.size}<br>economycode=%{location}<extra></extra>",
         "hovertext": [
          "Burkina Faso"
         ],
         "legendgroup": "Burkina Faso",
         "locations": [
          "BFA"
         ],
         "marker": {
          "color": "#FF97FF",
          "size": [
           4.3
          ],
          "sizemode": "area",
          "sizeref": 0.14400000000000002,
          "symbol": "circle"
         },
         "mode": "markers",
         "name": "Burkina Faso",
         "showlegend": true,
         "type": "scattergeo"
        },
        {
         "geo": "geo",
         "hovertemplate": "<b>%{hovertext}</b><br><br>economy=Cambodia<br>% of female with debit card=%{marker.size}<br>economycode=%{location}<extra></extra>",
         "hovertext": [
          "Cambodia"
         ],
         "legendgroup": "Cambodia",
         "locations": [
          "KHM"
         ],
         "marker": {
          "color": "#FECB52",
          "size": [
           4.81
          ],
          "sizemode": "area",
          "sizeref": 0.14400000000000002,
          "symbol": "circle"
         },
         "mode": "markers",
         "name": "Cambodia",
         "showlegend": true,
         "type": "scattergeo"
        },
        {
         "geo": "geo",
         "hovertemplate": "<b>%{hovertext}</b><br><br>economy=Cameroon<br>% of female with debit card=%{marker.size}<br>economycode=%{location}<extra></extra>",
         "hovertext": [
          "Cameroon"
         ],
         "legendgroup": "Cameroon",
         "locations": [
          "CMR"
         ],
         "marker": {
          "color": "#636efa",
          "size": [
           5.3
          ],
          "sizemode": "area",
          "sizeref": 0.14400000000000002,
          "symbol": "circle"
         },
         "mode": "markers",
         "name": "Cameroon",
         "showlegend": true,
         "type": "scattergeo"
        },
        {
         "geo": "geo",
         "hovertemplate": "<b>%{hovertext}</b><br><br>economy=Canada<br>% of female with debit card=%{marker.size}<br>economycode=%{location}<extra></extra>",
         "hovertext": [
          "Canada"
         ],
         "legendgroup": "Canada",
         "locations": [
          "CAN"
         ],
         "marker": {
          "color": "#EF553B",
          "size": [
           47.86
          ],
          "sizemode": "area",
          "sizeref": 0.14400000000000002,
          "symbol": "circle"
         },
         "mode": "markers",
         "name": "Canada",
         "showlegend": true,
         "type": "scattergeo"
        },
        {
         "geo": "geo",
         "hovertemplate": "<b>%{hovertext}</b><br><br>economy=Central African Republic<br>% of female with debit card=%{marker.size}<br>economycode=%{location}<extra></extra>",
         "hovertext": [
          "Central African Republic"
         ],
         "legendgroup": "Central African Republic",
         "locations": [
          "CAF"
         ],
         "marker": {
          "color": "#00cc96",
          "size": [
           3
          ],
          "sizemode": "area",
          "sizeref": 0.14400000000000002,
          "symbol": "circle"
         },
         "mode": "markers",
         "name": "Central African Republic",
         "showlegend": true,
         "type": "scattergeo"
        },
        {
         "geo": "geo",
         "hovertemplate": "<b>%{hovertext}</b><br><br>economy=Chad<br>% of female with debit card=%{marker.size}<br>economycode=%{location}<extra></extra>",
         "hovertext": [
          "Chad"
         ],
         "legendgroup": "Chad",
         "locations": [
          "TCD"
         ],
         "marker": {
          "color": "#ab63fa",
          "size": [
           0.7
          ],
          "sizemode": "area",
          "sizeref": 0.14400000000000002,
          "symbol": "circle"
         },
         "mode": "markers",
         "name": "Chad",
         "showlegend": true,
         "type": "scattergeo"
        },
        {
         "geo": "geo",
         "hovertemplate": "<b>%{hovertext}</b><br><br>economy=Chile<br>% of female with debit card=%{marker.size}<br>economycode=%{location}<extra></extra>",
         "hovertext": [
          "Chile"
         ],
         "legendgroup": "Chile",
         "locations": [
          "CHL"
         ],
         "marker": {
          "color": "#FFA15A",
          "size": [
           32.4
          ],
          "sizemode": "area",
          "sizeref": 0.14400000000000002,
          "symbol": "circle"
         },
         "mode": "markers",
         "name": "Chile",
         "showlegend": true,
         "type": "scattergeo"
        },
        {
         "geo": "geo",
         "hovertemplate": "<b>%{hovertext}</b><br><br>economy=China<br>% of female with debit card=%{marker.size}<br>economycode=%{location}<extra></extra>",
         "hovertext": [
          "China"
         ],
         "legendgroup": "China",
         "locations": [
          "CHN"
         ],
         "marker": {
          "color": "#19d3f3",
          "size": [
           29.45
          ],
          "sizemode": "area",
          "sizeref": 0.14400000000000002,
          "symbol": "circle"
         },
         "mode": "markers",
         "name": "China",
         "showlegend": true,
         "type": "scattergeo"
        },
        {
         "geo": "geo",
         "hovertemplate": "<b>%{hovertext}</b><br><br>economy=Colombia<br>% of female with debit card=%{marker.size}<br>economycode=%{location}<extra></extra>",
         "hovertext": [
          "Colombia"
         ],
         "legendgroup": "Colombia",
         "locations": [
          "COL"
         ],
         "marker": {
          "color": "#FF6692",
          "size": [
           11.8
          ],
          "sizemode": "area",
          "sizeref": 0.14400000000000002,
          "symbol": "circle"
         },
         "mode": "markers",
         "name": "Colombia",
         "showlegend": true,
         "type": "scattergeo"
        },
        {
         "geo": "geo",
         "hovertemplate": "<b>%{hovertext}</b><br><br>economy=Congo, Dem. Rep.<br>% of female with debit card=%{marker.size}<br>economycode=%{location}<extra></extra>",
         "hovertext": [
          "Congo, Dem. Rep."
         ],
         "legendgroup": "Congo, Dem. Rep.",
         "locations": [
          "COD"
         ],
         "marker": {
          "color": "#B6E880",
          "size": [
           3.8
          ],
          "sizemode": "area",
          "sizeref": 0.14400000000000002,
          "symbol": "circle"
         },
         "mode": "markers",
         "name": "Congo, Dem. Rep.",
         "showlegend": true,
         "type": "scattergeo"
        },
        {
         "geo": "geo",
         "hovertemplate": "<b>%{hovertext}</b><br><br>economy=Congo, Rep.<br>% of female with debit card=%{marker.size}<br>economycode=%{location}<extra></extra>",
         "hovertext": [
          "Congo, Rep."
         ],
         "legendgroup": "Congo, Rep.",
         "locations": [
          "COG"
         ],
         "marker": {
          "color": "#FF97FF",
          "size": [
           6.9
          ],
          "sizemode": "area",
          "sizeref": 0.14400000000000002,
          "symbol": "circle"
         },
         "mode": "markers",
         "name": "Congo, Rep.",
         "showlegend": true,
         "type": "scattergeo"
        },
        {
         "geo": "geo",
         "hovertemplate": "<b>%{hovertext}</b><br><br>economy=Costa Rica<br>% of female with debit card=%{marker.size}<br>economycode=%{location}<extra></extra>",
         "hovertext": [
          "Costa Rica"
         ],
         "legendgroup": "Costa Rica",
         "locations": [
          "CRI"
         ],
         "marker": {
          "color": "#FECB52",
          "size": [
           26
          ],
          "sizemode": "area",
          "sizeref": 0.14400000000000002,
          "symbol": "circle"
         },
         "mode": "markers",
         "name": "Costa Rica",
         "showlegend": true,
         "type": "scattergeo"
        },
        {
         "geo": "geo",
         "hovertemplate": "<b>%{hovertext}</b><br><br>economy=Cote d'Ivoire<br>% of female with debit card=%{marker.size}<br>economycode=%{location}<extra></extra>",
         "hovertext": [
          "Cote d'Ivoire"
         ],
         "legendgroup": "Cote d'Ivoire",
         "locations": [
          "CIV"
         ],
         "marker": {
          "color": "#636efa",
          "size": [
           2.3
          ],
          "sizemode": "area",
          "sizeref": 0.14400000000000002,
          "symbol": "circle"
         },
         "mode": "markers",
         "name": "Cote d'Ivoire",
         "showlegend": true,
         "type": "scattergeo"
        },
        {
         "geo": "geo",
         "hovertemplate": "<b>%{hovertext}</b><br><br>economy=Croatia<br>% of female with debit card=%{marker.size}<br>economycode=%{location}<extra></extra>",
         "hovertext": [
          "Croatia"
         ],
         "legendgroup": "Croatia",
         "locations": [
          "HRV"
         ],
         "marker": {
          "color": "#EF553B",
          "size": [
           34.7
          ],
          "sizemode": "area",
          "sizeref": 0.14400000000000002,
          "symbol": "circle"
         },
         "mode": "markers",
         "name": "Croatia",
         "showlegend": true,
         "type": "scattergeo"
        },
        {
         "geo": "geo",
         "hovertemplate": "<b>%{hovertext}</b><br><br>economy=Cyprus<br>% of female with debit card=%{marker.size}<br>economycode=%{location}<extra></extra>",
         "hovertext": [
          "Cyprus"
         ],
         "legendgroup": "Cyprus",
         "locations": [
          "CYP"
         ],
         "marker": {
          "color": "#00cc96",
          "size": [
           33.24
          ],
          "sizemode": "area",
          "sizeref": 0.14400000000000002,
          "symbol": "circle"
         },
         "mode": "markers",
         "name": "Cyprus",
         "showlegend": true,
         "type": "scattergeo"
        },
        {
         "geo": "geo",
         "hovertemplate": "<b>%{hovertext}</b><br><br>economy=Czech Republic<br>% of female with debit card=%{marker.size}<br>economycode=%{location}<extra></extra>",
         "hovertext": [
          "Czech Republic"
         ],
         "legendgroup": "Czech Republic",
         "locations": [
          "CZE"
         ],
         "marker": {
          "color": "#ab63fa",
          "size": [
           41.5
          ],
          "sizemode": "area",
          "sizeref": 0.14400000000000002,
          "symbol": "circle"
         },
         "mode": "markers",
         "name": "Czech Republic",
         "showlegend": true,
         "type": "scattergeo"
        },
        {
         "geo": "geo",
         "hovertemplate": "<b>%{hovertext}</b><br><br>economy=Denmark<br>% of female with debit card=%{marker.size}<br>economycode=%{location}<extra></extra>",
         "hovertext": [
          "Denmark"
         ],
         "legendgroup": "Denmark",
         "locations": [
          "DNK"
         ],
         "marker": {
          "color": "#FFA15A",
          "size": [
           50.6
          ],
          "sizemode": "area",
          "sizeref": 0.14400000000000002,
          "symbol": "circle"
         },
         "mode": "markers",
         "name": "Denmark",
         "showlegend": true,
         "type": "scattergeo"
        },
        {
         "geo": "geo",
         "hovertemplate": "<b>%{hovertext}</b><br><br>economy=Dominican Republic<br>% of female with debit card=%{marker.size}<br>economycode=%{location}<extra></extra>",
         "hovertext": [
          "Dominican Republic"
         ],
         "legendgroup": "Dominican Republic",
         "locations": [
          "DOM"
         ],
         "marker": {
          "color": "#19d3f3",
          "size": [
           14
          ],
          "sizemode": "area",
          "sizeref": 0.14400000000000002,
          "symbol": "circle"
         },
         "mode": "markers",
         "name": "Dominican Republic",
         "showlegend": true,
         "type": "scattergeo"
        },
        {
         "geo": "geo",
         "hovertemplate": "<b>%{hovertext}</b><br><br>economy=Ecuador<br>% of female with debit card=%{marker.size}<br>economycode=%{location}<extra></extra>",
         "hovertext": [
          "Ecuador"
         ],
         "legendgroup": "Ecuador",
         "locations": [
          "ECU"
         ],
         "marker": {
          "color": "#FF6692",
          "size": [
           12.2
          ],
          "sizemode": "area",
          "sizeref": 0.14400000000000002,
          "symbol": "circle"
         },
         "mode": "markers",
         "name": "Ecuador",
         "showlegend": true,
         "type": "scattergeo"
        },
        {
         "geo": "geo",
         "hovertemplate": "<b>%{hovertext}</b><br><br>economy=Egypt, Arab Rep.<br>% of female with debit card=%{marker.size}<br>economycode=%{location}<extra></extra>",
         "hovertext": [
          "Egypt, Arab Rep."
         ],
         "legendgroup": "Egypt, Arab Rep.",
         "locations": [
          "EGY"
         ],
         "marker": {
          "color": "#B6E880",
          "size": [
           11.2
          ],
          "sizemode": "area",
          "sizeref": 0.14400000000000002,
          "symbol": "circle"
         },
         "mode": "markers",
         "name": "Egypt, Arab Rep.",
         "showlegend": true,
         "type": "scattergeo"
        },
        {
         "geo": "geo",
         "hovertemplate": "<b>%{hovertext}</b><br><br>economy=El Salvador<br>% of female with debit card=%{marker.size}<br>economycode=%{location}<extra></extra>",
         "hovertext": [
          "El Salvador"
         ],
         "legendgroup": "El Salvador",
         "locations": [
          "SLV"
         ],
         "marker": {
          "color": "#FF97FF",
          "size": [
           8.1
          ],
          "sizemode": "area",
          "sizeref": 0.14400000000000002,
          "symbol": "circle"
         },
         "mode": "markers",
         "name": "El Salvador",
         "showlegend": true,
         "type": "scattergeo"
        },
        {
         "geo": "geo",
         "hovertemplate": "<b>%{hovertext}</b><br><br>economy=Estonia<br>% of female with debit card=%{marker.size}<br>economycode=%{location}<extra></extra>",
         "hovertext": [
          "Estonia"
         ],
         "legendgroup": "Estonia",
         "locations": [
          "EST"
         ],
         "marker": {
          "color": "#FECB52",
          "size": [
           47.1
          ],
          "sizemode": "area",
          "sizeref": 0.14400000000000002,
          "symbol": "circle"
         },
         "mode": "markers",
         "name": "Estonia",
         "showlegend": true,
         "type": "scattergeo"
        },
        {
         "geo": "geo",
         "hovertemplate": "<b>%{hovertext}</b><br><br>economy=Ethiopia<br>% of female with debit card=%{marker.size}<br>economycode=%{location}<extra></extra>",
         "hovertext": [
          "Ethiopia"
         ],
         "legendgroup": "Ethiopia",
         "locations": [
          "ETH"
         ],
         "marker": {
          "color": "#636efa",
          "size": [
           3.5
          ],
          "sizemode": "area",
          "sizeref": 0.14400000000000002,
          "symbol": "circle"
         },
         "mode": "markers",
         "name": "Ethiopia",
         "showlegend": true,
         "type": "scattergeo"
        },
        {
         "geo": "geo",
         "hovertemplate": "<b>%{hovertext}</b><br><br>economy=Finland<br>% of female with debit card=%{marker.size}<br>economycode=%{location}<extra></extra>",
         "hovertext": [
          "Finland"
         ],
         "legendgroup": "Finland",
         "locations": [
          "FIN"
         ],
         "marker": {
          "color": "#EF553B",
          "size": [
           52.3
          ],
          "sizemode": "area",
          "sizeref": 0.14400000000000002,
          "symbol": "circle"
         },
         "mode": "markers",
         "name": "Finland",
         "showlegend": true,
         "type": "scattergeo"
        },
        {
         "geo": "geo",
         "hovertemplate": "<b>%{hovertext}</b><br><br>economy=France<br>% of female with debit card=%{marker.size}<br>economycode=%{location}<extra></extra>",
         "hovertext": [
          "France"
         ],
         "legendgroup": "France",
         "locations": [
          "FRA"
         ],
         "marker": {
          "color": "#00cc96",
          "size": [
           45.4
          ],
          "sizemode": "area",
          "sizeref": 0.14400000000000002,
          "symbol": "circle"
         },
         "mode": "markers",
         "name": "France",
         "showlegend": true,
         "type": "scattergeo"
        },
        {
         "geo": "geo",
         "hovertemplate": "<b>%{hovertext}</b><br><br>economy=Gabon<br>% of female with debit card=%{marker.size}<br>economycode=%{location}<extra></extra>",
         "hovertext": [
          "Gabon"
         ],
         "legendgroup": "Gabon",
         "locations": [
          "GAB"
         ],
         "marker": {
          "color": "#ab63fa",
          "size": [
           8.9
          ],
          "sizemode": "area",
          "sizeref": 0.14400000000000002,
          "symbol": "circle"
         },
         "mode": "markers",
         "name": "Gabon",
         "showlegend": true,
         "type": "scattergeo"
        },
        {
         "geo": "geo",
         "hovertemplate": "<b>%{hovertext}</b><br><br>economy=Georgia<br>% of female with debit card=%{marker.size}<br>economycode=%{location}<extra></extra>",
         "hovertext": [
          "Georgia"
         ],
         "legendgroup": "Georgia",
         "locations": [
          "GEO"
         ],
         "marker": {
          "color": "#FFA15A",
          "size": [
           25.8
          ],
          "sizemode": "area",
          "sizeref": 0.14400000000000002,
          "symbol": "circle"
         },
         "mode": "markers",
         "name": "Georgia",
         "showlegend": true,
         "type": "scattergeo"
        },
        {
         "geo": "geo",
         "hovertemplate": "<b>%{hovertext}</b><br><br>economy=Germany<br>% of female with debit card=%{marker.size}<br>economycode=%{location}<extra></extra>",
         "hovertext": [
          "Germany"
         ],
         "legendgroup": "Germany",
         "locations": [
          "DEU"
         ],
         "marker": {
          "color": "#19d3f3",
          "size": [
           46.4
          ],
          "sizemode": "area",
          "sizeref": 0.14400000000000002,
          "symbol": "circle"
         },
         "mode": "markers",
         "name": "Germany",
         "showlegend": true,
         "type": "scattergeo"
        },
        {
         "geo": "geo",
         "hovertemplate": "<b>%{hovertext}</b><br><br>economy=Ghana<br>% of female with debit card=%{marker.size}<br>economycode=%{location}<extra></extra>",
         "hovertext": [
          "Ghana"
         ],
         "legendgroup": "Ghana",
         "locations": [
          "GHA"
         ],
         "marker": {
          "color": "#FF6692",
          "size": [
           7
          ],
          "sizemode": "area",
          "sizeref": 0.14400000000000002,
          "symbol": "circle"
         },
         "mode": "markers",
         "name": "Ghana",
         "showlegend": true,
         "type": "scattergeo"
        },
        {
         "geo": "geo",
         "hovertemplate": "<b>%{hovertext}</b><br><br>economy=Greece<br>% of female with debit card=%{marker.size}<br>economycode=%{location}<extra></extra>",
         "hovertext": [
          "Greece"
         ],
         "legendgroup": "Greece",
         "locations": [
          "GRC"
         ],
         "marker": {
          "color": "#B6E880",
          "size": [
           36.7
          ],
          "sizemode": "area",
          "sizeref": 0.14400000000000002,
          "symbol": "circle"
         },
         "mode": "markers",
         "name": "Greece",
         "showlegend": true,
         "type": "scattergeo"
        },
        {
         "geo": "geo",
         "hovertemplate": "<b>%{hovertext}</b><br><br>economy=Guatemala<br>% of female with debit card=%{marker.size}<br>economycode=%{location}<extra></extra>",
         "hovertext": [
          "Guatemala"
         ],
         "legendgroup": "Guatemala",
         "locations": [
          "GTM"
         ],
         "marker": {
          "color": "#FF97FF",
          "size": [
           7
          ],
          "sizemode": "area",
          "sizeref": 0.14400000000000002,
          "symbol": "circle"
         },
         "mode": "markers",
         "name": "Guatemala",
         "showlegend": true,
         "type": "scattergeo"
        },
        {
         "geo": "geo",
         "hovertemplate": "<b>%{hovertext}</b><br><br>economy=Guinea<br>% of female with debit card=%{marker.size}<br>economycode=%{location}<extra></extra>",
         "hovertext": [
          "Guinea"
         ],
         "legendgroup": "Guinea",
         "locations": [
          "GIN"
         ],
         "marker": {
          "color": "#FECB52",
          "size": [
           3.9
          ],
          "sizemode": "area",
          "sizeref": 0.14400000000000002,
          "symbol": "circle"
         },
         "mode": "markers",
         "name": "Guinea",
         "showlegend": true,
         "type": "scattergeo"
        },
        {
         "geo": "geo",
         "hovertemplate": "<b>%{hovertext}</b><br><br>economy=Haiti<br>% of female with debit card=%{marker.size}<br>economycode=%{location}<extra></extra>",
         "hovertext": [
          "Haiti"
         ],
         "legendgroup": "Haiti",
         "locations": [
          "HTI"
         ],
         "marker": {
          "color": "#636efa",
          "size": [
           5.36
          ],
          "sizemode": "area",
          "sizeref": 0.14400000000000002,
          "symbol": "circle"
         },
         "mode": "markers",
         "name": "Haiti",
         "showlegend": true,
         "type": "scattergeo"
        },
        {
         "geo": "geo",
         "hovertemplate": "<b>%{hovertext}</b><br><br>economy=Honduras<br>% of female with debit card=%{marker.size}<br>economycode=%{location}<extra></extra>",
         "hovertext": [
          "Honduras"
         ],
         "legendgroup": "Honduras",
         "locations": [
          "HND"
         ],
         "marker": {
          "color": "#EF553B",
          "size": [
           8
          ],
          "sizemode": "area",
          "sizeref": 0.14400000000000002,
          "symbol": "circle"
         },
         "mode": "markers",
         "name": "Honduras",
         "showlegend": true,
         "type": "scattergeo"
        },
        {
         "geo": "geo",
         "hovertemplate": "<b>%{hovertext}</b><br><br>economy=Hong Kong SAR, China<br>% of female with debit card=%{marker.size}<br>economycode=%{location}<extra></extra>",
         "hovertext": [
          "Hong Kong SAR, China"
         ],
         "legendgroup": "Hong Kong SAR, China",
         "locations": [
          "HKG"
         ],
         "marker": {
          "color": "#00cc96",
          "size": [
           45.98
          ],
          "sizemode": "area",
          "sizeref": 0.14400000000000002,
          "symbol": "circle"
         },
         "mode": "markers",
         "name": "Hong Kong SAR, China",
         "showlegend": true,
         "type": "scattergeo"
        },
        {
         "geo": "geo",
         "hovertemplate": "<b>%{hovertext}</b><br><br>economy=Hungary<br>% of female with debit card=%{marker.size}<br>economycode=%{location}<extra></extra>",
         "hovertext": [
          "Hungary"
         ],
         "legendgroup": "Hungary",
         "locations": [
          "HUN"
         ],
         "marker": {
          "color": "#ab63fa",
          "size": [
           38.7
          ],
          "sizemode": "area",
          "sizeref": 0.14400000000000002,
          "symbol": "circle"
         },
         "mode": "markers",
         "name": "Hungary",
         "showlegend": true,
         "type": "scattergeo"
        },
        {
         "geo": "geo",
         "hovertemplate": "<b>%{hovertext}</b><br><br>economy=India<br>% of female with debit card=%{marker.size}<br>economycode=%{location}<extra></extra>",
         "hovertext": [
          "India"
         ],
         "legendgroup": "India",
         "locations": [
          "IND"
         ],
         "marker": {
          "color": "#FFA15A",
          "size": [
           12.23
          ],
          "sizemode": "area",
          "sizeref": 0.14400000000000002,
          "symbol": "circle"
         },
         "mode": "markers",
         "name": "India",
         "showlegend": true,
         "type": "scattergeo"
        },
        {
         "geo": "geo",
         "hovertemplate": "<b>%{hovertext}</b><br><br>economy=Indonesia<br>% of female with debit card=%{marker.size}<br>economycode=%{location}<extra></extra>",
         "hovertext": [
          "Indonesia"
         ],
         "legendgroup": "Indonesia",
         "locations": [
          "IDN"
         ],
         "marker": {
          "color": "#19d3f3",
          "size": [
           22.4
          ],
          "sizemode": "area",
          "sizeref": 0.14400000000000002,
          "symbol": "circle"
         },
         "mode": "markers",
         "name": "Indonesia",
         "showlegend": true,
         "type": "scattergeo"
        },
        {
         "geo": "geo",
         "hovertemplate": "<b>%{hovertext}</b><br><br>economy=Iran, Islamic Rep.<br>% of female with debit card=%{marker.size}<br>economycode=%{location}<extra></extra>",
         "hovertext": [
          "Iran, Islamic Rep."
         ],
         "legendgroup": "Iran, Islamic Rep.",
         "locations": [
          "IRN"
         ],
         "marker": {
          "color": "#FF6692",
          "size": [
           40.64
          ],
          "sizemode": "area",
          "sizeref": 0.14400000000000002,
          "symbol": "circle"
         },
         "mode": "markers",
         "name": "Iran, Islamic Rep.",
         "showlegend": true,
         "type": "scattergeo"
        },
        {
         "geo": "geo",
         "hovertemplate": "<b>%{hovertext}</b><br><br>economy=Iraq<br>% of female with debit card=%{marker.size}<br>economycode=%{location}<extra></extra>",
         "hovertext": [
          "Iraq"
         ],
         "legendgroup": "Iraq",
         "locations": [
          "IRQ"
         ],
         "marker": {
          "color": "#B6E880",
          "size": [
           1.8
          ],
          "sizemode": "area",
          "sizeref": 0.14400000000000002,
          "symbol": "circle"
         },
         "mode": "markers",
         "name": "Iraq",
         "showlegend": true,
         "type": "scattergeo"
        },
        {
         "geo": "geo",
         "hovertemplate": "<b>%{hovertext}</b><br><br>economy=Ireland<br>% of female with debit card=%{marker.size}<br>economycode=%{location}<extra></extra>",
         "hovertext": [
          "Ireland"
         ],
         "legendgroup": "Ireland",
         "locations": [
          "IRL"
         ],
         "marker": {
          "color": "#FF97FF",
          "size": [
           47
          ],
          "sizemode": "area",
          "sizeref": 0.14400000000000002,
          "symbol": "circle"
         },
         "mode": "markers",
         "name": "Ireland",
         "showlegend": true,
         "type": "scattergeo"
        },
        {
         "geo": "geo",
         "hovertemplate": "<b>%{hovertext}</b><br><br>economy=Israel<br>% of female with debit card=%{marker.size}<br>economycode=%{location}<extra></extra>",
         "hovertext": [
          "Israel"
         ],
         "legendgroup": "Israel",
         "locations": [
          "ISR"
         ],
         "marker": {
          "color": "#FECB52",
          "size": [
           16.4
          ],
          "sizemode": "area",
          "sizeref": 0.14400000000000002,
          "symbol": "circle"
         },
         "mode": "markers",
         "name": "Israel",
         "showlegend": true,
         "type": "scattergeo"
        },
        {
         "geo": "geo",
         "hovertemplate": "<b>%{hovertext}</b><br><br>economy=Italy<br>% of female with debit card=%{marker.size}<br>economycode=%{location}<extra></extra>",
         "hovertext": [
          "Italy"
         ],
         "legendgroup": "Italy",
         "locations": [
          "ITA"
         ],
         "marker": {
          "color": "#636efa",
          "size": [
           42.9
          ],
          "sizemode": "area",
          "sizeref": 0.14400000000000002,
          "symbol": "circle"
         },
         "mode": "markers",
         "name": "Italy",
         "showlegend": true,
         "type": "scattergeo"
        },
        {
         "geo": "geo",
         "hovertemplate": "<b>%{hovertext}</b><br><br>economy=Japan<br>% of female with debit card=%{marker.size}<br>economycode=%{location}<extra></extra>",
         "hovertext": [
          "Japan"
         ],
         "legendgroup": "Japan",
         "locations": [
          "JPN"
         ],
         "marker": {
          "color": "#EF553B",
          "size": [
           47.36
          ],
          "sizemode": "area",
          "sizeref": 0.14400000000000002,
          "symbol": "circle"
         },
         "mode": "markers",
         "name": "Japan",
         "showlegend": true,
         "type": "scattergeo"
        },
        {
         "geo": "geo",
         "hovertemplate": "<b>%{hovertext}</b><br><br>economy=Jordan<br>% of female with debit card=%{marker.size}<br>economycode=%{location}<extra></extra>",
         "hovertext": [
          "Jordan"
         ],
         "legendgroup": "Jordan",
         "locations": [
          "JOR"
         ],
         "marker": {
          "color": "#00cc96",
          "size": [
           10.47
          ],
          "sizemode": "area",
          "sizeref": 0.14400000000000002,
          "symbol": "circle"
         },
         "mode": "markers",
         "name": "Jordan",
         "showlegend": true,
         "type": "scattergeo"
        },
        {
         "geo": "geo",
         "hovertemplate": "<b>%{hovertext}</b><br><br>economy=Kazakhstan<br>% of female with debit card=%{marker.size}<br>economycode=%{location}<extra></extra>",
         "hovertext": [
          "Kazakhstan"
         ],
         "legendgroup": "Kazakhstan",
         "locations": [
          "KAZ"
         ],
         "marker": {
          "color": "#ab63fa",
          "size": [
           25
          ],
          "sizemode": "area",
          "sizeref": 0.14400000000000002,
          "symbol": "circle"
         },
         "mode": "markers",
         "name": "Kazakhstan",
         "showlegend": true,
         "type": "scattergeo"
        },
        {
         "geo": "geo",
         "hovertemplate": "<b>%{hovertext}</b><br><br>economy=Kenya<br>% of female with debit card=%{marker.size}<br>economycode=%{location}<extra></extra>",
         "hovertext": [
          "Kenya"
         ],
         "legendgroup": "Kenya",
         "locations": [
          "KEN"
         ],
         "marker": {
          "color": "#FFA15A",
          "size": [
           17
          ],
          "sizemode": "area",
          "sizeref": 0.14400000000000002,
          "symbol": "circle"
         },
         "mode": "markers",
         "name": "Kenya",
         "showlegend": true,
         "type": "scattergeo"
        },
        {
         "geo": "geo",
         "hovertemplate": "<b>%{hovertext}</b><br><br>economy=Korea, Rep.<br>% of female with debit card=%{marker.size}<br>economycode=%{location}<extra></extra>",
         "hovertext": [
          "Korea, Rep."
         ],
         "legendgroup": "Korea, Rep.",
         "locations": [
          "KOR"
         ],
         "marker": {
          "color": "#19d3f3",
          "size": [
           33.4
          ],
          "sizemode": "area",
          "sizeref": 0.14400000000000002,
          "symbol": "circle"
         },
         "mode": "markers",
         "name": "Korea, Rep.",
         "showlegend": true,
         "type": "scattergeo"
        },
        {
         "geo": "geo",
         "hovertemplate": "<b>%{hovertext}</b><br><br>economy=Kosovo<br>% of female with debit card=%{marker.size}<br>economycode=%{location}<extra></extra>",
         "hovertext": [
          "Kosovo"
         ],
         "legendgroup": "Kosovo",
         "locations": [
          "XKX"
         ],
         "marker": {
          "color": "#FF6692",
          "size": [
           18.5
          ],
          "sizemode": "area",
          "sizeref": 0.14400000000000002,
          "symbol": "circle"
         },
         "mode": "markers",
         "name": "Kosovo",
         "showlegend": true,
         "type": "scattergeo"
        },
        {
         "geo": "geo",
         "hovertemplate": "<b>%{hovertext}</b><br><br>economy=Kuwait<br>% of female with debit card=%{marker.size}<br>economycode=%{location}<extra></extra>",
         "hovertext": [
          "Kuwait"
         ],
         "legendgroup": "Kuwait",
         "locations": [
          "KWT"
         ],
         "marker": {
          "color": "#B6E880",
          "size": [
           24.3
          ],
          "sizemode": "area",
          "sizeref": 0.14400000000000002,
          "symbol": "circle"
         },
         "mode": "markers",
         "name": "Kuwait",
         "showlegend": true,
         "type": "scattergeo"
        },
        {
         "geo": "geo",
         "hovertemplate": "<b>%{hovertext}</b><br><br>economy=Kyrgyz Republic<br>% of female with debit card=%{marker.size}<br>economycode=%{location}<extra></extra>",
         "hovertext": [
          "Kyrgyz Republic"
         ],
         "legendgroup": "Kyrgyz Republic",
         "locations": [
          "KGZ"
         ],
         "marker": {
          "color": "#FF97FF",
          "size": [
           15.4
          ],
          "sizemode": "area",
          "sizeref": 0.14400000000000002,
          "symbol": "circle"
         },
         "mode": "markers",
         "name": "Kyrgyz Republic",
         "showlegend": true,
         "type": "scattergeo"
        },
        {
         "geo": "geo",
         "hovertemplate": "<b>%{hovertext}</b><br><br>economy=Lao PDR<br>% of female with debit card=%{marker.size}<br>economycode=%{location}<extra></extra>",
         "hovertext": [
          "Lao PDR"
         ],
         "legendgroup": "Lao PDR",
         "locations": [
          "LAO"
         ],
         "marker": {
          "color": "#FECB52",
          "size": [
           9.4
          ],
          "sizemode": "area",
          "sizeref": 0.14400000000000002,
          "symbol": "circle"
         },
         "mode": "markers",
         "name": "Lao PDR",
         "showlegend": true,
         "type": "scattergeo"
        },
        {
         "geo": "geo",
         "hovertemplate": "<b>%{hovertext}</b><br><br>economy=Latvia<br>% of female with debit card=%{marker.size}<br>economycode=%{location}<extra></extra>",
         "hovertext": [
          "Latvia"
         ],
         "legendgroup": "Latvia",
         "locations": [
          "LVA"
         ],
         "marker": {
          "color": "#636efa",
          "size": [
           57.39
          ],
          "sizemode": "area",
          "sizeref": 0.14400000000000002,
          "symbol": "circle"
         },
         "mode": "markers",
         "name": "Latvia",
         "showlegend": true,
         "type": "scattergeo"
        },
        {
         "geo": "geo",
         "hovertemplate": "<b>%{hovertext}</b><br><br>economy=Lebanon<br>% of female with debit card=%{marker.size}<br>economycode=%{location}<extra></extra>",
         "hovertext": [
          "Lebanon"
         ],
         "legendgroup": "Lebanon",
         "locations": [
          "LBN"
         ],
         "marker": {
          "color": "#EF553B",
          "size": [
           16.5
          ],
          "sizemode": "area",
          "sizeref": 0.14400000000000002,
          "symbol": "circle"
         },
         "mode": "markers",
         "name": "Lebanon",
         "showlegend": true,
         "type": "scattergeo"
        },
        {
         "geo": "geo",
         "hovertemplate": "<b>%{hovertext}</b><br><br>economy=Lesotho<br>% of female with debit card=%{marker.size}<br>economycode=%{location}<extra></extra>",
         "hovertext": [
          "Lesotho"
         ],
         "legendgroup": "Lesotho",
         "locations": [
          "LSO"
         ],
         "marker": {
          "color": "#00cc96",
          "size": [
           13.6
          ],
          "sizemode": "area",
          "sizeref": 0.14400000000000002,
          "symbol": "circle"
         },
         "mode": "markers",
         "name": "Lesotho",
         "showlegend": true,
         "type": "scattergeo"
        },
        {
         "geo": "geo",
         "hovertemplate": "<b>%{hovertext}</b><br><br>economy=Liberia<br>% of female with debit card=%{marker.size}<br>economycode=%{location}<extra></extra>",
         "hovertext": [
          "Liberia"
         ],
         "legendgroup": "Liberia",
         "locations": [
          "LBR"
         ],
         "marker": {
          "color": "#ab63fa",
          "size": [
           1.6
          ],
          "sizemode": "area",
          "sizeref": 0.14400000000000002,
          "symbol": "circle"
         },
         "mode": "markers",
         "name": "Liberia",
         "showlegend": true,
         "type": "scattergeo"
        },
        {
         "geo": "geo",
         "hovertemplate": "<b>%{hovertext}</b><br><br>economy=Libya<br>% of female with debit card=%{marker.size}<br>economycode=%{location}<extra></extra>",
         "hovertext": [
          "Libya"
         ],
         "legendgroup": "Libya",
         "locations": [
          "LBY"
         ],
         "marker": {
          "color": "#FFA15A",
          "size": [
           7.58
          ],
          "sizemode": "area",
          "sizeref": 0.14400000000000002,
          "symbol": "circle"
         },
         "mode": "markers",
         "name": "Libya",
         "showlegend": true,
         "type": "scattergeo"
        },
        {
         "geo": "geo",
         "hovertemplate": "<b>%{hovertext}</b><br><br>economy=Lithuania<br>% of female with debit card=%{marker.size}<br>economycode=%{location}<extra></extra>",
         "hovertext": [
          "Lithuania"
         ],
         "legendgroup": "Lithuania",
         "locations": [
          "LTU"
         ],
         "marker": {
          "color": "#19d3f3",
          "size": [
           30
          ],
          "sizemode": "area",
          "sizeref": 0.14400000000000002,
          "symbol": "circle"
         },
         "mode": "markers",
         "name": "Lithuania",
         "showlegend": true,
         "type": "scattergeo"
        },
        {
         "geo": "geo",
         "hovertemplate": "<b>%{hovertext}</b><br><br>economy=Luxembourg<br>% of female with debit card=%{marker.size}<br>economycode=%{location}<extra></extra>",
         "hovertext": [
          "Luxembourg"
         ],
         "legendgroup": "Luxembourg",
         "locations": [
          "LUX"
         ],
         "marker": {
          "color": "#FF6692",
          "size": [
           42.3
          ],
          "sizemode": "area",
          "sizeref": 0.14400000000000002,
          "symbol": "circle"
         },
         "mode": "markers",
         "name": "Luxembourg",
         "showlegend": true,
         "type": "scattergeo"
        },
        {
         "geo": "geo",
         "hovertemplate": "<b>%{hovertext}</b><br><br>economy=Macedonia, FYR<br>% of female with debit card=%{marker.size}<br>economycode=%{location}<extra></extra>",
         "hovertext": [
          "Macedonia, FYR"
         ],
         "legendgroup": "Macedonia, FYR",
         "locations": [
          "MKD"
         ],
         "marker": {
          "color": "#B6E880",
          "size": [
           31.65
          ],
          "sizemode": "area",
          "sizeref": 0.14400000000000002,
          "symbol": "circle"
         },
         "mode": "markers",
         "name": "Macedonia, FYR",
         "showlegend": true,
         "type": "scattergeo"
        },
        {
         "geo": "geo",
         "hovertemplate": "<b>%{hovertext}</b><br><br>economy=Madagascar<br>% of female with debit card=%{marker.size}<br>economycode=%{location}<extra></extra>",
         "hovertext": [
          "Madagascar"
         ],
         "legendgroup": "Madagascar",
         "locations": [
          "MDG"
         ],
         "marker": {
          "color": "#FF97FF",
          "size": [
           2.1
          ],
          "sizemode": "area",
          "sizeref": 0.14400000000000002,
          "symbol": "circle"
         },
         "mode": "markers",
         "name": "Madagascar",
         "showlegend": true,
         "type": "scattergeo"
        },
        {
         "geo": "geo",
         "hovertemplate": "<b>%{hovertext}</b><br><br>economy=Malawi<br>% of female with debit card=%{marker.size}<br>economycode=%{location}<extra></extra>",
         "hovertext": [
          "Malawi"
         ],
         "legendgroup": "Malawi",
         "locations": [
          "MWI"
         ],
         "marker": {
          "color": "#FECB52",
          "size": [
           5.9
          ],
          "sizemode": "area",
          "sizeref": 0.14400000000000002,
          "symbol": "circle"
         },
         "mode": "markers",
         "name": "Malawi",
         "showlegend": true,
         "type": "scattergeo"
        },
        {
         "geo": "geo",
         "hovertemplate": "<b>%{hovertext}</b><br><br>economy=Malaysia<br>% of female with debit card=%{marker.size}<br>economycode=%{location}<extra></extra>",
         "hovertext": [
          "Malaysia"
         ],
         "legendgroup": "Malaysia",
         "locations": [
          "MYS"
         ],
         "marker": {
          "color": "#636efa",
          "size": [
           34.36
          ],
          "sizemode": "area",
          "sizeref": 0.14400000000000002,
          "symbol": "circle"
         },
         "mode": "markers",
         "name": "Malaysia",
         "showlegend": true,
         "type": "scattergeo"
        },
        {
         "geo": "geo",
         "hovertemplate": "<b>%{hovertext}</b><br><br>economy=Mali<br>% of female with debit card=%{marker.size}<br>economycode=%{location}<extra></extra>",
         "hovertext": [
          "Mali"
         ],
         "legendgroup": "Mali",
         "locations": [
          "MLI"
         ],
         "marker": {
          "color": "#EF553B",
          "size": [
           2.5
          ],
          "sizemode": "area",
          "sizeref": 0.14400000000000002,
          "symbol": "circle"
         },
         "mode": "markers",
         "name": "Mali",
         "showlegend": true,
         "type": "scattergeo"
        },
        {
         "geo": "geo",
         "hovertemplate": "<b>%{hovertext}</b><br><br>economy=Malta<br>% of female with debit card=%{marker.size}<br>economycode=%{location}<extra></extra>",
         "hovertext": [
          "Malta"
         ],
         "legendgroup": "Malta",
         "locations": [
          "MLT"
         ],
         "marker": {
          "color": "#00cc96",
          "size": [
           46.66
          ],
          "sizemode": "area",
          "sizeref": 0.14400000000000002,
          "symbol": "circle"
         },
         "mode": "markers",
         "name": "Malta",
         "showlegend": true,
         "type": "scattergeo"
        },
        {
         "geo": "geo",
         "hovertemplate": "<b>%{hovertext}</b><br><br>economy=Mauritania<br>% of female with debit card=%{marker.size}<br>economycode=%{location}<extra></extra>",
         "hovertext": [
          "Mauritania"
         ],
         "legendgroup": "Mauritania",
         "locations": [
          "MRT"
         ],
         "marker": {
          "color": "#ab63fa",
          "size": [
           4
          ],
          "sizemode": "area",
          "sizeref": 0.14400000000000002,
          "symbol": "circle"
         },
         "mode": "markers",
         "name": "Mauritania",
         "showlegend": true,
         "type": "scattergeo"
        },
        {
         "geo": "geo",
         "hovertemplate": "<b>%{hovertext}</b><br><br>economy=Mauritius<br>% of female with debit card=%{marker.size}<br>economycode=%{location}<extra></extra>",
         "hovertext": [
          "Mauritius"
         ],
         "legendgroup": "Mauritius",
         "locations": [
          "MUS"
         ],
         "marker": {
          "color": "#FFA15A",
          "size": [
           36.5
          ],
          "sizemode": "area",
          "sizeref": 0.14400000000000002,
          "symbol": "circle"
         },
         "mode": "markers",
         "name": "Mauritius",
         "showlegend": true,
         "type": "scattergeo"
        },
        {
         "geo": "geo",
         "hovertemplate": "<b>%{hovertext}</b><br><br>economy=Mexico<br>% of female with debit card=%{marker.size}<br>economycode=%{location}<extra></extra>",
         "hovertext": [
          "Mexico"
         ],
         "legendgroup": "Mexico",
         "locations": [
          "MEX"
         ],
         "marker": {
          "color": "#19d3f3",
          "size": [
           11
          ],
          "sizemode": "area",
          "sizeref": 0.14400000000000002,
          "symbol": "circle"
         },
         "mode": "markers",
         "name": "Mexico",
         "showlegend": true,
         "type": "scattergeo"
        },
        {
         "geo": "geo",
         "hovertemplate": "<b>%{hovertext}</b><br><br>economy=Moldova<br>% of female with debit card=%{marker.size}<br>economycode=%{location}<extra></extra>",
         "hovertext": [
          "Moldova"
         ],
         "legendgroup": "Moldova",
         "locations": [
          "MDA"
         ],
         "marker": {
          "color": "#FF6692",
          "size": [
           14.6
          ],
          "sizemode": "area",
          "sizeref": 0.14400000000000002,
          "symbol": "circle"
         },
         "mode": "markers",
         "name": "Moldova",
         "showlegend": true,
         "type": "scattergeo"
        },
        {
         "geo": "geo",
         "hovertemplate": "<b>%{hovertext}</b><br><br>economy=Mongolia<br>% of female with debit card=%{marker.size}<br>economycode=%{location}<extra></extra>",
         "hovertext": [
          "Mongolia"
         ],
         "legendgroup": "Mongolia",
         "locations": [
          "MNG"
         ],
         "marker": {
          "color": "#B6E880",
          "size": [
           45.6
          ],
          "sizemode": "area",
          "sizeref": 0.14400000000000002,
          "symbol": "circle"
         },
         "mode": "markers",
         "name": "Mongolia",
         "showlegend": true,
         "type": "scattergeo"
        },
        {
         "geo": "geo",
         "hovertemplate": "<b>%{hovertext}</b><br><br>economy=Montenegro<br>% of female with debit card=%{marker.size}<br>economycode=%{location}<extra></extra>",
         "hovertext": [
          "Montenegro"
         ],
         "legendgroup": "Montenegro",
         "locations": [
          "MNE"
         ],
         "marker": {
          "color": "#FF97FF",
          "size": [
           21
          ],
          "sizemode": "area",
          "sizeref": 0.14400000000000002,
          "symbol": "circle"
         },
         "mode": "markers",
         "name": "Montenegro",
         "showlegend": true,
         "type": "scattergeo"
        },
        {
         "geo": "geo",
         "hovertemplate": "<b>%{hovertext}</b><br><br>economy=Morocco<br>% of female with debit card=%{marker.size}<br>economycode=%{location}<extra></extra>",
         "hovertext": [
          "Morocco"
         ],
         "legendgroup": "Morocco",
         "locations": [
          "MAR"
         ],
         "marker": {
          "color": "#FECB52",
          "size": [
           7.61
          ],
          "sizemode": "area",
          "sizeref": 0.14400000000000002,
          "symbol": "circle"
         },
         "mode": "markers",
         "name": "Morocco",
         "showlegend": true,
         "type": "scattergeo"
        },
        {
         "geo": "geo",
         "hovertemplate": "<b>%{hovertext}</b><br><br>economy=Mozambique<br>% of female with debit card=%{marker.size}<br>economycode=%{location}<extra></extra>",
         "hovertext": [
          "Mozambique"
         ],
         "legendgroup": "Mozambique",
         "locations": [
          "MOZ"
         ],
         "marker": {
          "color": "#636efa",
          "size": [
           11
          ],
          "sizemode": "area",
          "sizeref": 0.14400000000000002,
          "symbol": "circle"
         },
         "mode": "markers",
         "name": "Mozambique",
         "showlegend": true,
         "type": "scattergeo"
        },
        {
         "geo": "geo",
         "hovertemplate": "<b>%{hovertext}</b><br><br>economy=Myanmar<br>% of female with debit card=%{marker.size}<br>economycode=%{location}<extra></extra>",
         "hovertext": [
          "Myanmar"
         ],
         "legendgroup": "Myanmar",
         "locations": [
          "MMR"
         ],
         "marker": {
          "color": "#EF553B",
          "size": [
           2.69
          ],
          "sizemode": "area",
          "sizeref": 0.14400000000000002,
          "symbol": "circle"
         },
         "mode": "markers",
         "name": "Myanmar",
         "showlegend": true,
         "type": "scattergeo"
        },
        {
         "geo": "geo",
         "hovertemplate": "<b>%{hovertext}</b><br><br>economy=Namibia<br>% of female with debit card=%{marker.size}<br>economycode=%{location}<extra></extra>",
         "hovertext": [
          "Namibia"
         ],
         "legendgroup": "Namibia",
         "locations": [
          "NAM"
         ],
         "marker": {
          "color": "#00cc96",
          "size": [
           45.2
          ],
          "sizemode": "area",
          "sizeref": 0.14400000000000002,
          "symbol": "circle"
         },
         "mode": "markers",
         "name": "Namibia",
         "showlegend": true,
         "type": "scattergeo"
        },
        {
         "geo": "geo",
         "hovertemplate": "<b>%{hovertext}</b><br><br>economy=Nepal<br>% of female with debit card=%{marker.size}<br>economycode=%{location}<extra></extra>",
         "hovertext": [
          "Nepal"
         ],
         "legendgroup": "Nepal",
         "locations": [
          "NPL"
         ],
         "marker": {
          "color": "#ab63fa",
          "size": [
           6
          ],
          "sizemode": "area",
          "sizeref": 0.14400000000000002,
          "symbol": "circle"
         },
         "mode": "markers",
         "name": "Nepal",
         "showlegend": true,
         "type": "scattergeo"
        },
        {
         "geo": "geo",
         "hovertemplate": "<b>%{hovertext}</b><br><br>economy=Netherlands<br>% of female with debit card=%{marker.size}<br>economycode=%{location}<extra></extra>",
         "hovertext": [
          "Netherlands"
         ],
         "legendgroup": "Netherlands",
         "locations": [
          "NLD"
         ],
         "marker": {
          "color": "#FFA15A",
          "size": [
           46.6
          ],
          "sizemode": "area",
          "sizeref": 0.14400000000000002,
          "symbol": "circle"
         },
         "mode": "markers",
         "name": "Netherlands",
         "showlegend": true,
         "type": "scattergeo"
        },
        {
         "geo": "geo",
         "hovertemplate": "<b>%{hovertext}</b><br><br>economy=New Zealand<br>% of female with debit card=%{marker.size}<br>economycode=%{location}<extra></extra>",
         "hovertext": [
          "New Zealand"
         ],
         "legendgroup": "New Zealand",
         "locations": [
          "NZL"
         ],
         "marker": {
          "color": "#19d3f3",
          "size": [
           57.6
          ],
          "sizemode": "area",
          "sizeref": 0.14400000000000002,
          "symbol": "circle"
         },
         "mode": "markers",
         "name": "New Zealand",
         "showlegend": true,
         "type": "scattergeo"
        },
        {
         "geo": "geo",
         "hovertemplate": "<b>%{hovertext}</b><br><br>economy=Nicaragua<br>% of female with debit card=%{marker.size}<br>economycode=%{location}<extra></extra>",
         "hovertext": [
          "Nicaragua"
         ],
         "legendgroup": "Nicaragua",
         "locations": [
          "NIC"
         ],
         "marker": {
          "color": "#FF6692",
          "size": [
           5.3
          ],
          "sizemode": "area",
          "sizeref": 0.14400000000000002,
          "symbol": "circle"
         },
         "mode": "markers",
         "name": "Nicaragua",
         "showlegend": true,
         "type": "scattergeo"
        },
        {
         "geo": "geo",
         "hovertemplate": "<b>%{hovertext}</b><br><br>economy=Niger<br>% of female with debit card=%{marker.size}<br>economycode=%{location}<extra></extra>",
         "hovertext": [
          "Niger"
         ],
         "legendgroup": "Niger",
         "locations": [
          "NER"
         ],
         "marker": {
          "color": "#B6E880",
          "size": [
           1.7
          ],
          "sizemode": "area",
          "sizeref": 0.14400000000000002,
          "symbol": "circle"
         },
         "mode": "markers",
         "name": "Niger",
         "showlegend": true,
         "type": "scattergeo"
        },
        {
         "geo": "geo",
         "hovertemplate": "<b>%{hovertext}</b><br><br>economy=Nigeria<br>% of female with debit card=%{marker.size}<br>economycode=%{location}<extra></extra>",
         "hovertext": [
          "Nigeria"
         ],
         "legendgroup": "Nigeria",
         "locations": [
          "NGA"
         ],
         "marker": {
          "color": "#FF97FF",
          "size": [
           14.5
          ],
          "sizemode": "area",
          "sizeref": 0.14400000000000002,
          "symbol": "circle"
         },
         "mode": "markers",
         "name": "Nigeria",
         "showlegend": true,
         "type": "scattergeo"
        },
        {
         "geo": "geo",
         "hovertemplate": "<b>%{hovertext}</b><br><br>economy=Norway<br>% of female with debit card=%{marker.size}<br>economycode=%{location}<extra></extra>",
         "hovertext": [
          "Norway"
         ],
         "legendgroup": "Norway",
         "locations": [
          "NOR"
         ],
         "marker": {
          "color": "#FECB52",
          "size": [
           49.6
          ],
          "sizemode": "area",
          "sizeref": 0.14400000000000002,
          "symbol": "circle"
         },
         "mode": "markers",
         "name": "Norway",
         "showlegend": true,
         "type": "scattergeo"
        },
        {
         "geo": "geo",
         "hovertemplate": "<b>%{hovertext}</b><br><br>economy=Pakistan<br>% of female with debit card=%{marker.size}<br>economycode=%{location}<extra></extra>",
         "hovertext": [
          "Pakistan"
         ],
         "legendgroup": "Pakistan",
         "locations": [
          "PAK"
         ],
         "marker": {
          "color": "#636efa",
          "size": [
           1.62
          ],
          "sizemode": "area",
          "sizeref": 0.14400000000000002,
          "symbol": "circle"
         },
         "mode": "markers",
         "name": "Pakistan",
         "showlegend": true,
         "type": "scattergeo"
        },
        {
         "geo": "geo",
         "hovertemplate": "<b>%{hovertext}</b><br><br>economy=Panama<br>% of female with debit card=%{marker.size}<br>economycode=%{location}<extra></extra>",
         "hovertext": [
          "Panama"
         ],
         "legendgroup": "Panama",
         "locations": [
          "PAN"
         ],
         "marker": {
          "color": "#EF553B",
          "size": [
           15.6
          ],
          "sizemode": "area",
          "sizeref": 0.14400000000000002,
          "symbol": "circle"
         },
         "mode": "markers",
         "name": "Panama",
         "showlegend": true,
         "type": "scattergeo"
        },
        {
         "geo": "geo",
         "hovertemplate": "<b>%{hovertext}</b><br><br>economy=Paraguay<br>% of female with debit card=%{marker.size}<br>economycode=%{location}<extra></extra>",
         "hovertext": [
          "Paraguay"
         ],
         "legendgroup": "Paraguay",
         "locations": [
          "PRY"
         ],
         "marker": {
          "color": "#00cc96",
          "size": [
           8.4
          ],
          "sizemode": "area",
          "sizeref": 0.14400000000000002,
          "symbol": "circle"
         },
         "mode": "markers",
         "name": "Paraguay",
         "showlegend": true,
         "type": "scattergeo"
        },
        {
         "geo": "geo",
         "hovertemplate": "<b>%{hovertext}</b><br><br>economy=Peru<br>% of female with debit card=%{marker.size}<br>economycode=%{location}<extra></extra>",
         "hovertext": [
          "Peru"
         ],
         "legendgroup": "Peru",
         "locations": [
          "PER"
         ],
         "marker": {
          "color": "#ab63fa",
          "size": [
           13.9
          ],
          "sizemode": "area",
          "sizeref": 0.14400000000000002,
          "symbol": "circle"
         },
         "mode": "markers",
         "name": "Peru",
         "showlegend": true,
         "type": "scattergeo"
        },
        {
         "geo": "geo",
         "hovertemplate": "<b>%{hovertext}</b><br><br>economy=Philippines<br>% of female with debit card=%{marker.size}<br>economycode=%{location}<extra></extra>",
         "hovertext": [
          "Philippines"
         ],
         "legendgroup": "Philippines",
         "locations": [
          "PHL"
         ],
         "marker": {
          "color": "#FFA15A",
          "size": [
           12.8
          ],
          "sizemode": "area",
          "sizeref": 0.14400000000000002,
          "symbol": "circle"
         },
         "mode": "markers",
         "name": "Philippines",
         "showlegend": true,
         "type": "scattergeo"
        },
        {
         "geo": "geo",
         "hovertemplate": "<b>%{hovertext}</b><br><br>economy=Poland<br>% of female with debit card=%{marker.size}<br>economycode=%{location}<extra></extra>",
         "hovertext": [
          "Poland"
         ],
         "legendgroup": "Poland",
         "locations": [
          "POL"
         ],
         "marker": {
          "color": "#19d3f3",
          "size": [
           51.2
          ],
          "sizemode": "area",
          "sizeref": 0.14400000000000002,
          "symbol": "circle"
         },
         "mode": "markers",
         "name": "Poland",
         "showlegend": true,
         "type": "scattergeo"
        },
        {
         "geo": "geo",
         "hovertemplate": "<b>%{hovertext}</b><br><br>economy=Portugal<br>% of female with debit card=%{marker.size}<br>economycode=%{location}<extra></extra>",
         "hovertext": [
          "Portugal"
         ],
         "legendgroup": "Portugal",
         "locations": [
          "PRT"
         ],
         "marker": {
          "color": "#FF6692",
          "size": [
           44.81
          ],
          "sizemode": "area",
          "sizeref": 0.14400000000000002,
          "symbol": "circle"
         },
         "mode": "markers",
         "name": "Portugal",
         "showlegend": true,
         "type": "scattergeo"
        },
        {
         "geo": "geo",
         "hovertemplate": "<b>%{hovertext}</b><br><br>economy=Romania<br>% of female with debit card=%{marker.size}<br>economycode=%{location}<extra></extra>",
         "hovertext": [
          "Romania"
         ],
         "legendgroup": "Romania",
         "locations": [
          "ROU"
         ],
         "marker": {
          "color": "#B6E880",
          "size": [
           24.48
          ],
          "sizemode": "area",
          "sizeref": 0.14400000000000002,
          "symbol": "circle"
         },
         "mode": "markers",
         "name": "Romania",
         "showlegend": true,
         "type": "scattergeo"
        },
        {
         "geo": "geo",
         "hovertemplate": "<b>%{hovertext}</b><br><br>economy=Russian Federation<br>% of female with debit card=%{marker.size}<br>economycode=%{location}<extra></extra>",
         "hovertext": [
          "Russian Federation"
         ],
         "legendgroup": "Russian Federation",
         "locations": [
          "RUS"
         ],
         "marker": {
          "color": "#FF97FF",
          "size": [
           36.55
          ],
          "sizemode": "area",
          "sizeref": 0.14400000000000002,
          "symbol": "circle"
         },
         "mode": "markers",
         "name": "Russian Federation",
         "showlegend": true,
         "type": "scattergeo"
        },
        {
         "geo": "geo",
         "hovertemplate": "<b>%{hovertext}</b><br><br>economy=Rwanda<br>% of female with debit card=%{marker.size}<br>economycode=%{location}<extra></extra>",
         "hovertext": [
          "Rwanda"
         ],
         "legendgroup": "Rwanda",
         "locations": [
          "RWA"
         ],
         "marker": {
          "color": "#FECB52",
          "size": [
           2.8
          ],
          "sizemode": "area",
          "sizeref": 0.14400000000000002,
          "symbol": "circle"
         },
         "mode": "markers",
         "name": "Rwanda",
         "showlegend": true,
         "type": "scattergeo"
        },
        {
         "geo": "geo",
         "hovertemplate": "<b>%{hovertext}</b><br><br>economy=Saudi Arabia<br>% of female with debit card=%{marker.size}<br>economycode=%{location}<extra></extra>",
         "hovertext": [
          "Saudi Arabia"
         ],
         "legendgroup": "Saudi Arabia",
         "locations": [
          "SAU"
         ],
         "marker": {
          "color": "#636efa",
          "size": [
           20.12
          ],
          "sizemode": "area",
          "sizeref": 0.14400000000000002,
          "symbol": "circle"
         },
         "mode": "markers",
         "name": "Saudi Arabia",
         "showlegend": true,
         "type": "scattergeo"
        },
        {
         "geo": "geo",
         "hovertemplate": "<b>%{hovertext}</b><br><br>economy=Senegal<br>% of female with debit card=%{marker.size}<br>economycode=%{location}<extra></extra>",
         "hovertext": [
          "Senegal"
         ],
         "legendgroup": "Senegal",
         "locations": [
          "SEN"
         ],
         "marker": {
          "color": "#EF553B",
          "size": [
           4.4
          ],
          "sizemode": "area",
          "sizeref": 0.14400000000000002,
          "symbol": "circle"
         },
         "mode": "markers",
         "name": "Senegal",
         "showlegend": true,
         "type": "scattergeo"
        },
        {
         "geo": "geo",
         "hovertemplate": "<b>%{hovertext}</b><br><br>economy=Serbia<br>% of female with debit card=%{marker.size}<br>economycode=%{location}<extra></extra>",
         "hovertext": [
          "Serbia"
         ],
         "legendgroup": "Serbia",
         "locations": [
          "SRB"
         ],
         "marker": {
          "color": "#00cc96",
          "size": [
           35.4
          ],
          "sizemode": "area",
          "sizeref": 0.14400000000000002,
          "symbol": "circle"
         },
         "mode": "markers",
         "name": "Serbia",
         "showlegend": true,
         "type": "scattergeo"
        },
        {
         "geo": "geo",
         "hovertemplate": "<b>%{hovertext}</b><br><br>economy=Sierra Leone<br>% of female with debit card=%{marker.size}<br>economycode=%{location}<extra></extra>",
         "hovertext": [
          "Sierra Leone"
         ],
         "legendgroup": "Sierra Leone",
         "locations": [
          "SLE"
         ],
         "marker": {
          "color": "#ab63fa",
          "size": [
           0.9
          ],
          "sizemode": "area",
          "sizeref": 0.14400000000000002,
          "symbol": "circle"
         },
         "mode": "markers",
         "name": "Sierra Leone",
         "showlegend": true,
         "type": "scattergeo"
        },
        {
         "geo": "geo",
         "hovertemplate": "<b>%{hovertext}</b><br><br>economy=Singapore<br>% of female with debit card=%{marker.size}<br>economycode=%{location}<extra></extra>",
         "hovertext": [
          "Singapore"
         ],
         "legendgroup": "Singapore",
         "locations": [
          "SGP"
         ],
         "marker": {
          "color": "#FFA15A",
          "size": [
           52.4
          ],
          "sizemode": "area",
          "sizeref": 0.14400000000000002,
          "symbol": "circle"
         },
         "mode": "markers",
         "name": "Singapore",
         "showlegend": true,
         "type": "scattergeo"
        },
        {
         "geo": "geo",
         "hovertemplate": "<b>%{hovertext}</b><br><br>economy=Slovak Republic<br>% of female with debit card=%{marker.size}<br>economycode=%{location}<extra></extra>",
         "hovertext": [
          "Slovak Republic"
         ],
         "legendgroup": "Slovak Republic",
         "locations": [
          "SVK"
         ],
         "marker": {
          "color": "#19d3f3",
          "size": [
           42.9
          ],
          "sizemode": "area",
          "sizeref": 0.14400000000000002,
          "symbol": "circle"
         },
         "mode": "markers",
         "name": "Slovak Republic",
         "showlegend": true,
         "type": "scattergeo"
        },
        {
         "geo": "geo",
         "hovertemplate": "<b>%{hovertext}</b><br><br>economy=Slovenia<br>% of female with debit card=%{marker.size}<br>economycode=%{location}<extra></extra>",
         "hovertext": [
          "Slovenia"
         ],
         "legendgroup": "Slovenia",
         "locations": [
          "SVN"
         ],
         "marker": {
          "color": "#FF6692",
          "size": [
           51.1
          ],
          "sizemode": "area",
          "sizeref": 0.14400000000000002,
          "symbol": "circle"
         },
         "mode": "markers",
         "name": "Slovenia",
         "showlegend": true,
         "type": "scattergeo"
        },
        {
         "geo": "geo",
         "hovertemplate": "<b>%{hovertext}</b><br><br>economy=South Africa<br>% of female with debit card=%{marker.size}<br>economycode=%{location}<extra></extra>",
         "hovertext": [
          "South Africa"
         ],
         "legendgroup": "South Africa",
         "locations": [
          "ZAF"
         ],
         "marker": {
          "color": "#B6E880",
          "size": [
           16.1
          ],
          "sizemode": "area",
          "sizeref": 0.14400000000000002,
          "symbol": "circle"
         },
         "mode": "markers",
         "name": "South Africa",
         "showlegend": true,
         "type": "scattergeo"
        },
        {
         "geo": "geo",
         "hovertemplate": "<b>%{hovertext}</b><br><br>economy=South Sudan<br>% of female with debit card=%{marker.size}<br>economycode=%{location}<extra></extra>",
         "hovertext": [
          "South Sudan"
         ],
         "legendgroup": "South Sudan",
         "locations": [
          "SSD"
         ],
         "marker": {
          "color": "#FF97FF",
          "size": [
           0.3
          ],
          "sizemode": "area",
          "sizeref": 0.14400000000000002,
          "symbol": "circle"
         },
         "mode": "markers",
         "name": "South Sudan",
         "showlegend": true,
         "type": "scattergeo"
        },
        {
         "geo": "geo",
         "hovertemplate": "<b>%{hovertext}</b><br><br>economy=Spain<br>% of female with debit card=%{marker.size}<br>economycode=%{location}<extra></extra>",
         "hovertext": [
          "Spain"
         ],
         "legendgroup": "Spain",
         "locations": [
          "ESP"
         ],
         "marker": {
          "color": "#FECB52",
          "size": [
           42.1
          ],
          "sizemode": "area",
          "sizeref": 0.14400000000000002,
          "symbol": "circle"
         },
         "mode": "markers",
         "name": "Spain",
         "showlegend": true,
         "type": "scattergeo"
        },
        {
         "geo": "geo",
         "hovertemplate": "<b>%{hovertext}</b><br><br>economy=Sri Lanka<br>% of female with debit card=%{marker.size}<br>economycode=%{location}<extra></extra>",
         "hovertext": [
          "Sri Lanka"
         ],
         "legendgroup": "Sri Lanka",
         "locations": [
          "LKA"
         ],
         "marker": {
          "color": "#636efa",
          "size": [
           22.1
          ],
          "sizemode": "area",
          "sizeref": 0.14400000000000002,
          "symbol": "circle"
         },
         "mode": "markers",
         "name": "Sri Lanka",
         "showlegend": true,
         "type": "scattergeo"
        },
        {
         "geo": "geo",
         "hovertemplate": "<b>%{hovertext}</b><br><br>economy=Sweden<br>% of female with debit card=%{marker.size}<br>economycode=%{location}<extra></extra>",
         "hovertext": [
          "Sweden"
         ],
         "legendgroup": "Sweden",
         "locations": [
          "SWE"
         ],
         "marker": {
          "color": "#EF553B",
          "size": [
           51.2
          ],
          "sizemode": "area",
          "sizeref": 0.14400000000000002,
          "symbol": "circle"
         },
         "mode": "markers",
         "name": "Sweden",
         "showlegend": true,
         "type": "scattergeo"
        },
        {
         "geo": "geo",
         "hovertemplate": "<b>%{hovertext}</b><br><br>economy=Switzerland<br>% of female with debit card=%{marker.size}<br>economycode=%{location}<extra></extra>",
         "hovertext": [
          "Switzerland"
         ],
         "legendgroup": "Switzerland",
         "locations": [
          "CHE"
         ],
         "marker": {
          "color": "#00cc96",
          "size": [
           45.6
          ],
          "sizemode": "area",
          "sizeref": 0.14400000000000002,
          "symbol": "circle"
         },
         "mode": "markers",
         "name": "Switzerland",
         "showlegend": true,
         "type": "scattergeo"
        },
        {
         "geo": "geo",
         "hovertemplate": "<b>%{hovertext}</b><br><br>economy=Taiwan, China<br>% of female with debit card=%{marker.size}<br>economycode=%{location}<extra></extra>",
         "hovertext": [
          "Taiwan, China"
         ],
         "legendgroup": "Taiwan, China",
         "locations": [
          "TWN"
         ],
         "marker": {
          "color": "#ab63fa",
          "size": [
           41.5
          ],
          "sizemode": "area",
          "sizeref": 0.14400000000000002,
          "symbol": "circle"
         },
         "mode": "markers",
         "name": "Taiwan, China",
         "showlegend": true,
         "type": "scattergeo"
        },
        {
         "geo": "geo",
         "hovertemplate": "<b>%{hovertext}</b><br><br>economy=Tajikistan<br>% of female with debit card=%{marker.size}<br>economycode=%{location}<extra></extra>",
         "hovertext": [
          "Tajikistan"
         ],
         "legendgroup": "Tajikistan",
         "locations": [
          "TJK"
         ],
         "marker": {
          "color": "#FFA15A",
          "size": [
           12.5
          ],
          "sizemode": "area",
          "sizeref": 0.14400000000000002,
          "symbol": "circle"
         },
         "mode": "markers",
         "name": "Tajikistan",
         "showlegend": true,
         "type": "scattergeo"
        },
        {
         "geo": "geo",
         "hovertemplate": "<b>%{hovertext}</b><br><br>economy=Tanzania<br>% of female with debit card=%{marker.size}<br>economycode=%{location}<extra></extra>",
         "hovertext": [
          "Tanzania"
         ],
         "legendgroup": "Tanzania",
         "locations": [
          "TZA"
         ],
         "marker": {
          "color": "#19d3f3",
          "size": [
           6.6
          ],
          "sizemode": "area",
          "sizeref": 0.14400000000000002,
          "symbol": "circle"
         },
         "mode": "markers",
         "name": "Tanzania",
         "showlegend": true,
         "type": "scattergeo"
        },
        {
         "geo": "geo",
         "hovertemplate": "<b>%{hovertext}</b><br><br>economy=Thailand<br>% of female with debit card=%{marker.size}<br>economycode=%{location}<extra></extra>",
         "hovertext": [
          "Thailand"
         ],
         "legendgroup": "Thailand",
         "locations": [
          "THA"
         ],
         "marker": {
          "color": "#FF6692",
          "size": [
           34.6
          ],
          "sizemode": "area",
          "sizeref": 0.14400000000000002,
          "symbol": "circle"
         },
         "mode": "markers",
         "name": "Thailand",
         "showlegend": true,
         "type": "scattergeo"
        },
        {
         "geo": "geo",
         "hovertemplate": "<b>%{hovertext}</b><br><br>economy=Togo<br>% of female with debit card=%{marker.size}<br>economycode=%{location}<extra></extra>",
         "hovertext": [
          "Togo"
         ],
         "legendgroup": "Togo",
         "locations": [
          "TGO"
         ],
         "marker": {
          "color": "#B6E880",
          "size": [
           4.3
          ],
          "sizemode": "area",
          "sizeref": 0.14400000000000002,
          "symbol": "circle"
         },
         "mode": "markers",
         "name": "Togo",
         "showlegend": true,
         "type": "scattergeo"
        },
        {
         "geo": "geo",
         "hovertemplate": "<b>%{hovertext}</b><br><br>economy=Trinidad and Tobago<br>% of female with debit card=%{marker.size}<br>economycode=%{location}<extra></extra>",
         "hovertext": [
          "Trinidad and Tobago"
         ],
         "legendgroup": "Trinidad and Tobago",
         "locations": [
          "TTO"
         ],
         "marker": {
          "color": "#FF97FF",
          "size": [
           28.77
          ],
          "sizemode": "area",
          "sizeref": 0.14400000000000002,
          "symbol": "circle"
         },
         "mode": "markers",
         "name": "Trinidad and Tobago",
         "showlegend": true,
         "type": "scattergeo"
        },
        {
         "geo": "geo",
         "hovertemplate": "<b>%{hovertext}</b><br><br>economy=Tunisia<br>% of female with debit card=%{marker.size}<br>economycode=%{location}<extra></extra>",
         "hovertext": [
          "Tunisia"
         ],
         "legendgroup": "Tunisia",
         "locations": [
          "TUN"
         ],
         "marker": {
          "color": "#FECB52",
          "size": [
           10.69
          ],
          "sizemode": "area",
          "sizeref": 0.14400000000000002,
          "symbol": "circle"
         },
         "mode": "markers",
         "name": "Tunisia",
         "showlegend": true,
         "type": "scattergeo"
        },
        {
         "geo": "geo",
         "hovertemplate": "<b>%{hovertext}</b><br><br>economy=Turkey<br>% of female with debit card=%{marker.size}<br>economycode=%{location}<extra></extra>",
         "hovertext": [
          "Turkey"
         ],
         "legendgroup": "Turkey",
         "locations": [
          "TUR"
         ],
         "marker": {
          "color": "#636efa",
          "size": [
           29.9
          ],
          "sizemode": "area",
          "sizeref": 0.14400000000000002,
          "symbol": "circle"
         },
         "mode": "markers",
         "name": "Turkey",
         "showlegend": true,
         "type": "scattergeo"
        },
        {
         "geo": "geo",
         "hovertemplate": "<b>%{hovertext}</b><br><br>economy=Turkmenistan<br>% of female with debit card=%{marker.size}<br>economycode=%{location}<extra></extra>",
         "hovertext": [
          "Turkmenistan"
         ],
         "legendgroup": "Turkmenistan",
         "locations": [
          "TKM"
         ],
         "marker": {
          "color": "#EF553B",
          "size": [
           18.1
          ],
          "sizemode": "area",
          "sizeref": 0.14400000000000002,
          "symbol": "circle"
         },
         "mode": "markers",
         "name": "Turkmenistan",
         "showlegend": true,
         "type": "scattergeo"
        },
        {
         "geo": "geo",
         "hovertemplate": "<b>%{hovertext}</b><br><br>economy=Uganda<br>% of female with debit card=%{marker.size}<br>economycode=%{location}<extra></extra>",
         "hovertext": [
          "Uganda"
         ],
         "legendgroup": "Uganda",
         "locations": [
          "UGA"
         ],
         "marker": {
          "color": "#00cc96",
          "size": [
           8.2
          ],
          "sizemode": "area",
          "sizeref": 0.14400000000000002,
          "symbol": "circle"
         },
         "mode": "markers",
         "name": "Uganda",
         "showlegend": true,
         "type": "scattergeo"
        },
        {
         "geo": "geo",
         "hovertemplate": "<b>%{hovertext}</b><br><br>economy=Ukraine<br>% of female with debit card=%{marker.size}<br>economycode=%{location}<extra></extra>",
         "hovertext": [
          "Ukraine"
         ],
         "legendgroup": "Ukraine",
         "locations": [
          "UKR"
         ],
         "marker": {
          "color": "#ab63fa",
          "size": [
           32.1
          ],
          "sizemode": "area",
          "sizeref": 0.14400000000000002,
          "symbol": "circle"
         },
         "mode": "markers",
         "name": "Ukraine",
         "showlegend": true,
         "type": "scattergeo"
        },
        {
         "geo": "geo",
         "hovertemplate": "<b>%{hovertext}</b><br><br>economy=United Arab Emirates<br>% of female with debit card=%{marker.size}<br>economycode=%{location}<extra></extra>",
         "hovertext": [
          "United Arab Emirates"
         ],
         "legendgroup": "United Arab Emirates",
         "locations": [
          "ARE"
         ],
         "marker": {
          "color": "#FFA15A",
          "size": [
           19.74
          ],
          "sizemode": "area",
          "sizeref": 0.14400000000000002,
          "symbol": "circle"
         },
         "mode": "markers",
         "name": "United Arab Emirates",
         "showlegend": true,
         "type": "scattergeo"
        },
        {
         "geo": "geo",
         "hovertemplate": "<b>%{hovertext}</b><br><br>economy=United Kingdom<br>% of female with debit card=%{marker.size}<br>economycode=%{location}<extra></extra>",
         "hovertext": [
          "United Kingdom"
         ],
         "legendgroup": "United Kingdom",
         "locations": [
          "GBR"
         ],
         "marker": {
          "color": "#19d3f3",
          "size": [
           47.3
          ],
          "sizemode": "area",
          "sizeref": 0.14400000000000002,
          "symbol": "circle"
         },
         "mode": "markers",
         "name": "United Kingdom",
         "showlegend": true,
         "type": "scattergeo"
        },
        {
         "geo": "geo",
         "hovertemplate": "<b>%{hovertext}</b><br><br>economy=United States<br>% of female with debit card=%{marker.size}<br>economycode=%{location}<extra></extra>",
         "hovertext": [
          "United States"
         ],
         "legendgroup": "United States",
         "locations": [
          "USA"
         ],
         "marker": {
          "color": "#FF6692",
          "size": [
           39.6
          ],
          "sizemode": "area",
          "sizeref": 0.14400000000000002,
          "symbol": "circle"
         },
         "mode": "markers",
         "name": "United States",
         "showlegend": true,
         "type": "scattergeo"
        },
        {
         "geo": "geo",
         "hovertemplate": "<b>%{hovertext}</b><br><br>economy=Uruguay<br>% of female with debit card=%{marker.size}<br>economycode=%{location}<extra></extra>",
         "hovertext": [
          "Uruguay"
         ],
         "legendgroup": "Uruguay",
         "locations": [
          "URY"
         ],
         "marker": {
          "color": "#B6E880",
          "size": [
           30.9
          ],
          "sizemode": "area",
          "sizeref": 0.14400000000000002,
          "symbol": "circle"
         },
         "mode": "markers",
         "name": "Uruguay",
         "showlegend": true,
         "type": "scattergeo"
        },
        {
         "geo": "geo",
         "hovertemplate": "<b>%{hovertext}</b><br><br>economy=Uzbekistan<br>% of female with debit card=%{marker.size}<br>economycode=%{location}<extra></extra>",
         "hovertext": [
          "Uzbekistan"
         ],
         "legendgroup": "Uzbekistan",
         "locations": [
          "UZB"
         ],
         "marker": {
          "color": "#FF97FF",
          "size": [
           16.1
          ],
          "sizemode": "area",
          "sizeref": 0.14400000000000002,
          "symbol": "circle"
         },
         "mode": "markers",
         "name": "Uzbekistan",
         "showlegend": true,
         "type": "scattergeo"
        },
        {
         "geo": "geo",
         "hovertemplate": "<b>%{hovertext}</b><br><br>economy=Venezuela, RB<br>% of female with debit card=%{marker.size}<br>economycode=%{location}<extra></extra>",
         "hovertext": [
          "Venezuela, RB"
         ],
         "legendgroup": "Venezuela, RB",
         "locations": [
          "VEN"
         ],
         "marker": {
          "color": "#FECB52",
          "size": [
           41.6
          ],
          "sizemode": "area",
          "sizeref": 0.14400000000000002,
          "symbol": "circle"
         },
         "mode": "markers",
         "name": "Venezuela, RB",
         "showlegend": true,
         "type": "scattergeo"
        },
        {
         "geo": "geo",
         "hovertemplate": "<b>%{hovertext}</b><br><br>economy=Vietnam<br>% of female with debit card=%{marker.size}<br>economycode=%{location}<extra></extra>",
         "hovertext": [
          "Vietnam"
         ],
         "legendgroup": "Vietnam",
         "locations": [
          "VNM"
         ],
         "marker": {
          "color": "#636efa",
          "size": [
           16.47
          ],
          "sizemode": "area",
          "sizeref": 0.14400000000000002,
          "symbol": "circle"
         },
         "mode": "markers",
         "name": "Vietnam",
         "showlegend": true,
         "type": "scattergeo"
        },
        {
         "geo": "geo",
         "hovertemplate": "<b>%{hovertext}</b><br><br>economy=West Bank and Gaza<br>% of female with debit card=%{marker.size}<br>economycode=%{location}<extra></extra>",
         "hovertext": [
          "West Bank and Gaza"
         ],
         "legendgroup": "West Bank and Gaza",
         "locations": [
          "PSE"
         ],
         "marker": {
          "color": "#EF553B",
          "size": [
           7.3
          ],
          "sizemode": "area",
          "sizeref": 0.14400000000000002,
          "symbol": "circle"
         },
         "mode": "markers",
         "name": "West Bank and Gaza",
         "showlegend": true,
         "type": "scattergeo"
        },
        {
         "geo": "geo",
         "hovertemplate": "<b>%{hovertext}</b><br><br>economy=Zambia<br>% of female with debit card=%{marker.size}<br>economycode=%{location}<extra></extra>",
         "hovertext": [
          "Zambia"
         ],
         "legendgroup": "Zambia",
         "locations": [
          "ZMB"
         ],
         "marker": {
          "color": "#00cc96",
          "size": [
           10.5
          ],
          "sizemode": "area",
          "sizeref": 0.14400000000000002,
          "symbol": "circle"
         },
         "mode": "markers",
         "name": "Zambia",
         "showlegend": true,
         "type": "scattergeo"
        },
        {
         "geo": "geo",
         "hovertemplate": "<b>%{hovertext}</b><br><br>economy=Zimbabwe<br>% of female with debit card=%{marker.size}<br>economycode=%{location}<extra></extra>",
         "hovertext": [
          "Zimbabwe"
         ],
         "legendgroup": "Zimbabwe",
         "locations": [
          "ZWE"
         ],
         "marker": {
          "color": "#ab63fa",
          "size": [
           11.8
          ],
          "sizemode": "area",
          "sizeref": 0.14400000000000002,
          "symbol": "circle"
         },
         "mode": "markers",
         "name": "Zimbabwe",
         "showlegend": true,
         "type": "scattergeo"
        }
       ],
       "layout": {
        "geo": {
         "center": {},
         "domain": {
          "x": [
           0,
           1
          ],
          "y": [
           0,
           1
          ]
         }
        },
        "height": 400,
        "legend": {
         "itemsizing": "constant",
         "title": {
          "text": "economy"
         },
         "tracegroupgap": 0
        },
        "margin": {
         "t": 60
        },
        "template": {
         "data": {
          "bar": [
           {
            "error_x": {
             "color": "#2a3f5f"
            },
            "error_y": {
             "color": "#2a3f5f"
            },
            "marker": {
             "line": {
              "color": "#E5ECF6",
              "width": 0.5
             },
             "pattern": {
              "fillmode": "overlay",
              "size": 10,
              "solidity": 0.2
             }
            },
            "type": "bar"
           }
          ],
          "barpolar": [
           {
            "marker": {
             "line": {
              "color": "#E5ECF6",
              "width": 0.5
             },
             "pattern": {
              "fillmode": "overlay",
              "size": 10,
              "solidity": 0.2
             }
            },
            "type": "barpolar"
           }
          ],
          "carpet": [
           {
            "aaxis": {
             "endlinecolor": "#2a3f5f",
             "gridcolor": "white",
             "linecolor": "white",
             "minorgridcolor": "white",
             "startlinecolor": "#2a3f5f"
            },
            "baxis": {
             "endlinecolor": "#2a3f5f",
             "gridcolor": "white",
             "linecolor": "white",
             "minorgridcolor": "white",
             "startlinecolor": "#2a3f5f"
            },
            "type": "carpet"
           }
          ],
          "choropleth": [
           {
            "colorbar": {
             "outlinewidth": 0,
             "ticks": ""
            },
            "type": "choropleth"
           }
          ],
          "contour": [
           {
            "colorbar": {
             "outlinewidth": 0,
             "ticks": ""
            },
            "colorscale": [
             [
              0,
              "#0d0887"
             ],
             [
              0.1111111111111111,
              "#46039f"
             ],
             [
              0.2222222222222222,
              "#7201a8"
             ],
             [
              0.3333333333333333,
              "#9c179e"
             ],
             [
              0.4444444444444444,
              "#bd3786"
             ],
             [
              0.5555555555555556,
              "#d8576b"
             ],
             [
              0.6666666666666666,
              "#ed7953"
             ],
             [
              0.7777777777777778,
              "#fb9f3a"
             ],
             [
              0.8888888888888888,
              "#fdca26"
             ],
             [
              1,
              "#f0f921"
             ]
            ],
            "type": "contour"
           }
          ],
          "contourcarpet": [
           {
            "colorbar": {
             "outlinewidth": 0,
             "ticks": ""
            },
            "type": "contourcarpet"
           }
          ],
          "heatmap": [
           {
            "colorbar": {
             "outlinewidth": 0,
             "ticks": ""
            },
            "colorscale": [
             [
              0,
              "#0d0887"
             ],
             [
              0.1111111111111111,
              "#46039f"
             ],
             [
              0.2222222222222222,
              "#7201a8"
             ],
             [
              0.3333333333333333,
              "#9c179e"
             ],
             [
              0.4444444444444444,
              "#bd3786"
             ],
             [
              0.5555555555555556,
              "#d8576b"
             ],
             [
              0.6666666666666666,
              "#ed7953"
             ],
             [
              0.7777777777777778,
              "#fb9f3a"
             ],
             [
              0.8888888888888888,
              "#fdca26"
             ],
             [
              1,
              "#f0f921"
             ]
            ],
            "type": "heatmap"
           }
          ],
          "heatmapgl": [
           {
            "colorbar": {
             "outlinewidth": 0,
             "ticks": ""
            },
            "colorscale": [
             [
              0,
              "#0d0887"
             ],
             [
              0.1111111111111111,
              "#46039f"
             ],
             [
              0.2222222222222222,
              "#7201a8"
             ],
             [
              0.3333333333333333,
              "#9c179e"
             ],
             [
              0.4444444444444444,
              "#bd3786"
             ],
             [
              0.5555555555555556,
              "#d8576b"
             ],
             [
              0.6666666666666666,
              "#ed7953"
             ],
             [
              0.7777777777777778,
              "#fb9f3a"
             ],
             [
              0.8888888888888888,
              "#fdca26"
             ],
             [
              1,
              "#f0f921"
             ]
            ],
            "type": "heatmapgl"
           }
          ],
          "histogram": [
           {
            "marker": {
             "pattern": {
              "fillmode": "overlay",
              "size": 10,
              "solidity": 0.2
             }
            },
            "type": "histogram"
           }
          ],
          "histogram2d": [
           {
            "colorbar": {
             "outlinewidth": 0,
             "ticks": ""
            },
            "colorscale": [
             [
              0,
              "#0d0887"
             ],
             [
              0.1111111111111111,
              "#46039f"
             ],
             [
              0.2222222222222222,
              "#7201a8"
             ],
             [
              0.3333333333333333,
              "#9c179e"
             ],
             [
              0.4444444444444444,
              "#bd3786"
             ],
             [
              0.5555555555555556,
              "#d8576b"
             ],
             [
              0.6666666666666666,
              "#ed7953"
             ],
             [
              0.7777777777777778,
              "#fb9f3a"
             ],
             [
              0.8888888888888888,
              "#fdca26"
             ],
             [
              1,
              "#f0f921"
             ]
            ],
            "type": "histogram2d"
           }
          ],
          "histogram2dcontour": [
           {
            "colorbar": {
             "outlinewidth": 0,
             "ticks": ""
            },
            "colorscale": [
             [
              0,
              "#0d0887"
             ],
             [
              0.1111111111111111,
              "#46039f"
             ],
             [
              0.2222222222222222,
              "#7201a8"
             ],
             [
              0.3333333333333333,
              "#9c179e"
             ],
             [
              0.4444444444444444,
              "#bd3786"
             ],
             [
              0.5555555555555556,
              "#d8576b"
             ],
             [
              0.6666666666666666,
              "#ed7953"
             ],
             [
              0.7777777777777778,
              "#fb9f3a"
             ],
             [
              0.8888888888888888,
              "#fdca26"
             ],
             [
              1,
              "#f0f921"
             ]
            ],
            "type": "histogram2dcontour"
           }
          ],
          "mesh3d": [
           {
            "colorbar": {
             "outlinewidth": 0,
             "ticks": ""
            },
            "type": "mesh3d"
           }
          ],
          "parcoords": [
           {
            "line": {
             "colorbar": {
              "outlinewidth": 0,
              "ticks": ""
             }
            },
            "type": "parcoords"
           }
          ],
          "pie": [
           {
            "automargin": true,
            "type": "pie"
           }
          ],
          "scatter": [
           {
            "marker": {
             "colorbar": {
              "outlinewidth": 0,
              "ticks": ""
             }
            },
            "type": "scatter"
           }
          ],
          "scatter3d": [
           {
            "line": {
             "colorbar": {
              "outlinewidth": 0,
              "ticks": ""
             }
            },
            "marker": {
             "colorbar": {
              "outlinewidth": 0,
              "ticks": ""
             }
            },
            "type": "scatter3d"
           }
          ],
          "scattercarpet": [
           {
            "marker": {
             "colorbar": {
              "outlinewidth": 0,
              "ticks": ""
             }
            },
            "type": "scattercarpet"
           }
          ],
          "scattergeo": [
           {
            "marker": {
             "colorbar": {
              "outlinewidth": 0,
              "ticks": ""
             }
            },
            "type": "scattergeo"
           }
          ],
          "scattergl": [
           {
            "marker": {
             "colorbar": {
              "outlinewidth": 0,
              "ticks": ""
             }
            },
            "type": "scattergl"
           }
          ],
          "scattermapbox": [
           {
            "marker": {
             "colorbar": {
              "outlinewidth": 0,
              "ticks": ""
             }
            },
            "type": "scattermapbox"
           }
          ],
          "scatterpolar": [
           {
            "marker": {
             "colorbar": {
              "outlinewidth": 0,
              "ticks": ""
             }
            },
            "type": "scatterpolar"
           }
          ],
          "scatterpolargl": [
           {
            "marker": {
             "colorbar": {
              "outlinewidth": 0,
              "ticks": ""
             }
            },
            "type": "scatterpolargl"
           }
          ],
          "scatterternary": [
           {
            "marker": {
             "colorbar": {
              "outlinewidth": 0,
              "ticks": ""
             }
            },
            "type": "scatterternary"
           }
          ],
          "surface": [
           {
            "colorbar": {
             "outlinewidth": 0,
             "ticks": ""
            },
            "colorscale": [
             [
              0,
              "#0d0887"
             ],
             [
              0.1111111111111111,
              "#46039f"
             ],
             [
              0.2222222222222222,
              "#7201a8"
             ],
             [
              0.3333333333333333,
              "#9c179e"
             ],
             [
              0.4444444444444444,
              "#bd3786"
             ],
             [
              0.5555555555555556,
              "#d8576b"
             ],
             [
              0.6666666666666666,
              "#ed7953"
             ],
             [
              0.7777777777777778,
              "#fb9f3a"
             ],
             [
              0.8888888888888888,
              "#fdca26"
             ],
             [
              1,
              "#f0f921"
             ]
            ],
            "type": "surface"
           }
          ],
          "table": [
           {
            "cells": {
             "fill": {
              "color": "#EBF0F8"
             },
             "line": {
              "color": "white"
             }
            },
            "header": {
             "fill": {
              "color": "#C8D4E3"
             },
             "line": {
              "color": "white"
             }
            },
            "type": "table"
           }
          ]
         },
         "layout": {
          "annotationdefaults": {
           "arrowcolor": "#2a3f5f",
           "arrowhead": 0,
           "arrowwidth": 1
          },
          "autotypenumbers": "strict",
          "coloraxis": {
           "colorbar": {
            "outlinewidth": 0,
            "ticks": ""
           }
          },
          "colorscale": {
           "diverging": [
            [
             0,
             "#8e0152"
            ],
            [
             0.1,
             "#c51b7d"
            ],
            [
             0.2,
             "#de77ae"
            ],
            [
             0.3,
             "#f1b6da"
            ],
            [
             0.4,
             "#fde0ef"
            ],
            [
             0.5,
             "#f7f7f7"
            ],
            [
             0.6,
             "#e6f5d0"
            ],
            [
             0.7,
             "#b8e186"
            ],
            [
             0.8,
             "#7fbc41"
            ],
            [
             0.9,
             "#4d9221"
            ],
            [
             1,
             "#276419"
            ]
           ],
           "sequential": [
            [
             0,
             "#0d0887"
            ],
            [
             0.1111111111111111,
             "#46039f"
            ],
            [
             0.2222222222222222,
             "#7201a8"
            ],
            [
             0.3333333333333333,
             "#9c179e"
            ],
            [
             0.4444444444444444,
             "#bd3786"
            ],
            [
             0.5555555555555556,
             "#d8576b"
            ],
            [
             0.6666666666666666,
             "#ed7953"
            ],
            [
             0.7777777777777778,
             "#fb9f3a"
            ],
            [
             0.8888888888888888,
             "#fdca26"
            ],
            [
             1,
             "#f0f921"
            ]
           ],
           "sequentialminus": [
            [
             0,
             "#0d0887"
            ],
            [
             0.1111111111111111,
             "#46039f"
            ],
            [
             0.2222222222222222,
             "#7201a8"
            ],
            [
             0.3333333333333333,
             "#9c179e"
            ],
            [
             0.4444444444444444,
             "#bd3786"
            ],
            [
             0.5555555555555556,
             "#d8576b"
            ],
            [
             0.6666666666666666,
             "#ed7953"
            ],
            [
             0.7777777777777778,
             "#fb9f3a"
            ],
            [
             0.8888888888888888,
             "#fdca26"
            ],
            [
             1,
             "#f0f921"
            ]
           ]
          },
          "colorway": [
           "#636efa",
           "#EF553B",
           "#00cc96",
           "#ab63fa",
           "#FFA15A",
           "#19d3f3",
           "#FF6692",
           "#B6E880",
           "#FF97FF",
           "#FECB52"
          ],
          "font": {
           "color": "#2a3f5f"
          },
          "geo": {
           "bgcolor": "white",
           "lakecolor": "white",
           "landcolor": "#E5ECF6",
           "showlakes": true,
           "showland": true,
           "subunitcolor": "white"
          },
          "hoverlabel": {
           "align": "left"
          },
          "hovermode": "closest",
          "mapbox": {
           "style": "light"
          },
          "paper_bgcolor": "white",
          "plot_bgcolor": "#E5ECF6",
          "polar": {
           "angularaxis": {
            "gridcolor": "white",
            "linecolor": "white",
            "ticks": ""
           },
           "bgcolor": "#E5ECF6",
           "radialaxis": {
            "gridcolor": "white",
            "linecolor": "white",
            "ticks": ""
           }
          },
          "scene": {
           "xaxis": {
            "backgroundcolor": "#E5ECF6",
            "gridcolor": "white",
            "gridwidth": 2,
            "linecolor": "white",
            "showbackground": true,
            "ticks": "",
            "zerolinecolor": "white"
           },
           "yaxis": {
            "backgroundcolor": "#E5ECF6",
            "gridcolor": "white",
            "gridwidth": 2,
            "linecolor": "white",
            "showbackground": true,
            "ticks": "",
            "zerolinecolor": "white"
           },
           "zaxis": {
            "backgroundcolor": "#E5ECF6",
            "gridcolor": "white",
            "gridwidth": 2,
            "linecolor": "white",
            "showbackground": true,
            "ticks": "",
            "zerolinecolor": "white"
           }
          },
          "shapedefaults": {
           "line": {
            "color": "#2a3f5f"
           }
          },
          "ternary": {
           "aaxis": {
            "gridcolor": "white",
            "linecolor": "white",
            "ticks": ""
           },
           "baxis": {
            "gridcolor": "white",
            "linecolor": "white",
            "ticks": ""
           },
           "bgcolor": "#E5ECF6",
           "caxis": {
            "gridcolor": "white",
            "linecolor": "white",
            "ticks": ""
           }
          },
          "title": {
           "x": 0.05
          },
          "xaxis": {
           "automargin": true,
           "gridcolor": "white",
           "linecolor": "white",
           "ticks": "",
           "title": {
            "standoff": 15
           },
           "zerolinecolor": "white",
           "zerolinewidth": 2
          },
          "yaxis": {
           "automargin": true,
           "gridcolor": "white",
           "linecolor": "white",
           "ticks": "",
           "title": {
            "standoff": 15
           },
           "zerolinecolor": "white",
           "zerolinewidth": 2
          }
         }
        },
        "width": 1000
       }
      },
      "text/html": [
       "<div>                            <div id=\"1653ebd1-658c-4848-bb5a-bc389d6b52c0\" class=\"plotly-graph-div\" style=\"height:400px; width:1000px;\"></div>            <script type=\"text/javascript\">                require([\"plotly\"], function(Plotly) {                    window.PLOTLYENV=window.PLOTLYENV || {};                                    if (document.getElementById(\"1653ebd1-658c-4848-bb5a-bc389d6b52c0\")) {                    Plotly.newPlot(                        \"1653ebd1-658c-4848-bb5a-bc389d6b52c0\",                        [{\"geo\":\"geo\",\"hovertemplate\":\"<b>%{hovertext}</b><br><br>economy=Afghanistan<br>% of female with debit card=%{marker.size}<br>economycode=%{location}<extra></extra>\",\"hovertext\":[\"Afghanistan\"],\"legendgroup\":\"Afghanistan\",\"locations\":[\"AFG\"],\"marker\":{\"color\":\"#636efa\",\"size\":[0.7],\"sizemode\":\"area\",\"sizeref\":0.14400000000000002,\"symbol\":\"circle\"},\"mode\":\"markers\",\"name\":\"Afghanistan\",\"showlegend\":true,\"type\":\"scattergeo\"},{\"geo\":\"geo\",\"hovertemplate\":\"<b>%{hovertext}</b><br><br>economy=Albania<br>% of female with debit card=%{marker.size}<br>economycode=%{location}<extra></extra>\",\"hovertext\":[\"Albania\"],\"legendgroup\":\"Albania\",\"locations\":[\"ALB\"],\"marker\":{\"color\":\"#EF553B\",\"size\":[15.2],\"sizemode\":\"area\",\"sizeref\":0.14400000000000002,\"symbol\":\"circle\"},\"mode\":\"markers\",\"name\":\"Albania\",\"showlegend\":true,\"type\":\"scattergeo\"},{\"geo\":\"geo\",\"hovertemplate\":\"<b>%{hovertext}</b><br><br>economy=Algeria<br>% of female with debit card=%{marker.size}<br>economycode=%{location}<extra></extra>\",\"hovertext\":[\"Algeria\"],\"legendgroup\":\"Algeria\",\"locations\":[\"DZA\"],\"marker\":{\"color\":\"#00cc96\",\"size\":[8.17],\"sizemode\":\"area\",\"sizeref\":0.14400000000000002,\"symbol\":\"circle\"},\"mode\":\"markers\",\"name\":\"Algeria\",\"showlegend\":true,\"type\":\"scattergeo\"},{\"geo\":\"geo\",\"hovertemplate\":\"<b>%{hovertext}</b><br><br>economy=Argentina<br>% of female with debit card=%{marker.size}<br>economycode=%{location}<extra></extra>\",\"hovertext\":[\"Argentina\"],\"legendgroup\":\"Argentina\",\"locations\":[\"ARG\"],\"marker\":{\"color\":\"#ab63fa\",\"size\":[26.7],\"sizemode\":\"area\",\"sizeref\":0.14400000000000002,\"symbol\":\"circle\"},\"mode\":\"markers\",\"name\":\"Argentina\",\"showlegend\":true,\"type\":\"scattergeo\"},{\"geo\":\"geo\",\"hovertemplate\":\"<b>%{hovertext}</b><br><br>economy=Armenia<br>% of female with debit card=%{marker.size}<br>economycode=%{location}<extra></extra>\",\"hovertext\":[\"Armenia\"],\"legendgroup\":\"Armenia\",\"locations\":[\"ARM\"],\"marker\":{\"color\":\"#FFA15A\",\"size\":[12.9],\"sizemode\":\"area\",\"sizeref\":0.14400000000000002,\"symbol\":\"circle\"},\"mode\":\"markers\",\"name\":\"Armenia\",\"showlegend\":true,\"type\":\"scattergeo\"},{\"geo\":\"geo\",\"hovertemplate\":\"<b>%{hovertext}</b><br><br>economy=Australia<br>% of female with debit card=%{marker.size}<br>economycode=%{location}<extra></extra>\",\"hovertext\":[\"Australia\"],\"legendgroup\":\"Australia\",\"locations\":[\"AUS\"],\"marker\":{\"color\":\"#19d3f3\",\"size\":[50.6],\"sizemode\":\"area\",\"sizeref\":0.14400000000000002,\"symbol\":\"circle\"},\"mode\":\"markers\",\"name\":\"Australia\",\"showlegend\":true,\"type\":\"scattergeo\"},{\"geo\":\"geo\",\"hovertemplate\":\"<b>%{hovertext}</b><br><br>economy=Austria<br>% of female with debit card=%{marker.size}<br>economycode=%{location}<extra></extra>\",\"hovertext\":[\"Austria\"],\"legendgroup\":\"Austria\",\"locations\":[\"AUT\"],\"marker\":{\"color\":\"#FF6692\",\"size\":[45.2],\"sizemode\":\"area\",\"sizeref\":0.14400000000000002,\"symbol\":\"circle\"},\"mode\":\"markers\",\"name\":\"Austria\",\"showlegend\":true,\"type\":\"scattergeo\"},{\"geo\":\"geo\",\"hovertemplate\":\"<b>%{hovertext}</b><br><br>economy=Azerbaijan<br>% of female with debit card=%{marker.size}<br>economycode=%{location}<extra></extra>\",\"hovertext\":[\"Azerbaijan\"],\"legendgroup\":\"Azerbaijan\",\"locations\":[\"AZE\"],\"marker\":{\"color\":\"#B6E880\",\"size\":[18.4],\"sizemode\":\"area\",\"sizeref\":0.14400000000000002,\"symbol\":\"circle\"},\"mode\":\"markers\",\"name\":\"Azerbaijan\",\"showlegend\":true,\"type\":\"scattergeo\"},{\"geo\":\"geo\",\"hovertemplate\":\"<b>%{hovertext}</b><br><br>economy=Bahrain<br>% of female with debit card=%{marker.size}<br>economycode=%{location}<extra></extra>\",\"hovertext\":[\"Bahrain\"],\"legendgroup\":\"Bahrain\",\"locations\":[\"BHR\"],\"marker\":{\"color\":\"#FF97FF\",\"size\":[29.06],\"sizemode\":\"area\",\"sizeref\":0.14400000000000002,\"symbol\":\"circle\"},\"mode\":\"markers\",\"name\":\"Bahrain\",\"showlegend\":true,\"type\":\"scattergeo\"},{\"geo\":\"geo\",\"hovertemplate\":\"<b>%{hovertext}</b><br><br>economy=Bangladesh<br>% of female with debit card=%{marker.size}<br>economycode=%{location}<extra></extra>\",\"hovertext\":[\"Bangladesh\"],\"legendgroup\":\"Bangladesh\",\"locations\":[\"BGD\"],\"marker\":{\"color\":\"#FECB52\",\"size\":[1.9],\"sizemode\":\"area\",\"sizeref\":0.14400000000000002,\"symbol\":\"circle\"},\"mode\":\"markers\",\"name\":\"Bangladesh\",\"showlegend\":true,\"type\":\"scattergeo\"},{\"geo\":\"geo\",\"hovertemplate\":\"<b>%{hovertext}</b><br><br>economy=Belarus<br>% of female with debit card=%{marker.size}<br>economycode=%{location}<extra></extra>\",\"hovertext\":[\"Belarus\"],\"legendgroup\":\"Belarus\",\"locations\":[\"BLR\"],\"marker\":{\"color\":\"#636efa\",\"size\":[44.73],\"sizemode\":\"area\",\"sizeref\":0.14400000000000002,\"symbol\":\"circle\"},\"mode\":\"markers\",\"name\":\"Belarus\",\"showlegend\":true,\"type\":\"scattergeo\"},{\"geo\":\"geo\",\"hovertemplate\":\"<b>%{hovertext}</b><br><br>economy=Belgium<br>% of female with debit card=%{marker.size}<br>economycode=%{location}<extra></extra>\",\"hovertext\":[\"Belgium\"],\"legendgroup\":\"Belgium\",\"locations\":[\"BEL\"],\"marker\":{\"color\":\"#EF553B\",\"size\":[49.85],\"sizemode\":\"area\",\"sizeref\":0.14400000000000002,\"symbol\":\"circle\"},\"mode\":\"markers\",\"name\":\"Belgium\",\"showlegend\":true,\"type\":\"scattergeo\"},{\"geo\":\"geo\",\"hovertemplate\":\"<b>%{hovertext}</b><br><br>economy=Benin<br>% of female with debit card=%{marker.size}<br>economycode=%{location}<extra></extra>\",\"hovertext\":[\"Benin\"],\"legendgroup\":\"Benin\",\"locations\":[\"BEN\"],\"marker\":{\"color\":\"#00cc96\",\"size\":[4.0],\"sizemode\":\"area\",\"sizeref\":0.14400000000000002,\"symbol\":\"circle\"},\"mode\":\"markers\",\"name\":\"Benin\",\"showlegend\":true,\"type\":\"scattergeo\"},{\"geo\":\"geo\",\"hovertemplate\":\"<b>%{hovertext}</b><br><br>economy=Bolivia<br>% of female with debit card=%{marker.size}<br>economycode=%{location}<extra></extra>\",\"hovertext\":[\"Bolivia\"],\"legendgroup\":\"Bolivia\",\"locations\":[\"BOL\"],\"marker\":{\"color\":\"#ab63fa\",\"size\":[15.5],\"sizemode\":\"area\",\"sizeref\":0.14400000000000002,\"symbol\":\"circle\"},\"mode\":\"markers\",\"name\":\"Bolivia\",\"showlegend\":true,\"type\":\"scattergeo\"},{\"geo\":\"geo\",\"hovertemplate\":\"<b>%{hovertext}</b><br><br>economy=Bosnia and Herzegovina<br>% of female with debit card=%{marker.size}<br>economycode=%{location}<extra></extra>\",\"hovertext\":[\"Bosnia and Herzegovina\"],\"legendgroup\":\"Bosnia and Herzegovina\",\"locations\":[\"BIH\"],\"marker\":{\"color\":\"#FFA15A\",\"size\":[22.2],\"sizemode\":\"area\",\"sizeref\":0.14400000000000002,\"symbol\":\"circle\"},\"mode\":\"markers\",\"name\":\"Bosnia and Herzegovina\",\"showlegend\":true,\"type\":\"scattergeo\"},{\"geo\":\"geo\",\"hovertemplate\":\"<b>%{hovertext}</b><br><br>economy=Botswana<br>% of female with debit card=%{marker.size}<br>economycode=%{location}<extra></extra>\",\"hovertext\":[\"Botswana\"],\"legendgroup\":\"Botswana\",\"locations\":[\"BWA\"],\"marker\":{\"color\":\"#19d3f3\",\"size\":[17.8],\"sizemode\":\"area\",\"sizeref\":0.14400000000000002,\"symbol\":\"circle\"},\"mode\":\"markers\",\"name\":\"Botswana\",\"showlegend\":true,\"type\":\"scattergeo\"},{\"geo\":\"geo\",\"hovertemplate\":\"<b>%{hovertext}</b><br><br>economy=Brazil<br>% of female with debit card=%{marker.size}<br>economycode=%{location}<extra></extra>\",\"hovertext\":[\"Brazil\"],\"legendgroup\":\"Brazil\",\"locations\":[\"BRA\"],\"marker\":{\"color\":\"#FF6692\",\"size\":[34.3],\"sizemode\":\"area\",\"sizeref\":0.14400000000000002,\"symbol\":\"circle\"},\"mode\":\"markers\",\"name\":\"Brazil\",\"showlegend\":true,\"type\":\"scattergeo\"},{\"geo\":\"geo\",\"hovertemplate\":\"<b>%{hovertext}</b><br><br>economy=Bulgaria<br>% of female with debit card=%{marker.size}<br>economycode=%{location}<extra></extra>\",\"hovertext\":[\"Bulgaria\"],\"legendgroup\":\"Bulgaria\",\"locations\":[\"BGR\"],\"marker\":{\"color\":\"#B6E880\",\"size\":[39.7],\"sizemode\":\"area\",\"sizeref\":0.14400000000000002,\"symbol\":\"circle\"},\"mode\":\"markers\",\"name\":\"Bulgaria\",\"showlegend\":true,\"type\":\"scattergeo\"},{\"geo\":\"geo\",\"hovertemplate\":\"<b>%{hovertext}</b><br><br>economy=Burkina Faso<br>% of female with debit card=%{marker.size}<br>economycode=%{location}<extra></extra>\",\"hovertext\":[\"Burkina Faso\"],\"legendgroup\":\"Burkina Faso\",\"locations\":[\"BFA\"],\"marker\":{\"color\":\"#FF97FF\",\"size\":[4.3],\"sizemode\":\"area\",\"sizeref\":0.14400000000000002,\"symbol\":\"circle\"},\"mode\":\"markers\",\"name\":\"Burkina Faso\",\"showlegend\":true,\"type\":\"scattergeo\"},{\"geo\":\"geo\",\"hovertemplate\":\"<b>%{hovertext}</b><br><br>economy=Cambodia<br>% of female with debit card=%{marker.size}<br>economycode=%{location}<extra></extra>\",\"hovertext\":[\"Cambodia\"],\"legendgroup\":\"Cambodia\",\"locations\":[\"KHM\"],\"marker\":{\"color\":\"#FECB52\",\"size\":[4.81],\"sizemode\":\"area\",\"sizeref\":0.14400000000000002,\"symbol\":\"circle\"},\"mode\":\"markers\",\"name\":\"Cambodia\",\"showlegend\":true,\"type\":\"scattergeo\"},{\"geo\":\"geo\",\"hovertemplate\":\"<b>%{hovertext}</b><br><br>economy=Cameroon<br>% of female with debit card=%{marker.size}<br>economycode=%{location}<extra></extra>\",\"hovertext\":[\"Cameroon\"],\"legendgroup\":\"Cameroon\",\"locations\":[\"CMR\"],\"marker\":{\"color\":\"#636efa\",\"size\":[5.3],\"sizemode\":\"area\",\"sizeref\":0.14400000000000002,\"symbol\":\"circle\"},\"mode\":\"markers\",\"name\":\"Cameroon\",\"showlegend\":true,\"type\":\"scattergeo\"},{\"geo\":\"geo\",\"hovertemplate\":\"<b>%{hovertext}</b><br><br>economy=Canada<br>% of female with debit card=%{marker.size}<br>economycode=%{location}<extra></extra>\",\"hovertext\":[\"Canada\"],\"legendgroup\":\"Canada\",\"locations\":[\"CAN\"],\"marker\":{\"color\":\"#EF553B\",\"size\":[47.86],\"sizemode\":\"area\",\"sizeref\":0.14400000000000002,\"symbol\":\"circle\"},\"mode\":\"markers\",\"name\":\"Canada\",\"showlegend\":true,\"type\":\"scattergeo\"},{\"geo\":\"geo\",\"hovertemplate\":\"<b>%{hovertext}</b><br><br>economy=Central African Republic<br>% of female with debit card=%{marker.size}<br>economycode=%{location}<extra></extra>\",\"hovertext\":[\"Central African Republic\"],\"legendgroup\":\"Central African Republic\",\"locations\":[\"CAF\"],\"marker\":{\"color\":\"#00cc96\",\"size\":[3.0],\"sizemode\":\"area\",\"sizeref\":0.14400000000000002,\"symbol\":\"circle\"},\"mode\":\"markers\",\"name\":\"Central African Republic\",\"showlegend\":true,\"type\":\"scattergeo\"},{\"geo\":\"geo\",\"hovertemplate\":\"<b>%{hovertext}</b><br><br>economy=Chad<br>% of female with debit card=%{marker.size}<br>economycode=%{location}<extra></extra>\",\"hovertext\":[\"Chad\"],\"legendgroup\":\"Chad\",\"locations\":[\"TCD\"],\"marker\":{\"color\":\"#ab63fa\",\"size\":[0.7],\"sizemode\":\"area\",\"sizeref\":0.14400000000000002,\"symbol\":\"circle\"},\"mode\":\"markers\",\"name\":\"Chad\",\"showlegend\":true,\"type\":\"scattergeo\"},{\"geo\":\"geo\",\"hovertemplate\":\"<b>%{hovertext}</b><br><br>economy=Chile<br>% of female with debit card=%{marker.size}<br>economycode=%{location}<extra></extra>\",\"hovertext\":[\"Chile\"],\"legendgroup\":\"Chile\",\"locations\":[\"CHL\"],\"marker\":{\"color\":\"#FFA15A\",\"size\":[32.4],\"sizemode\":\"area\",\"sizeref\":0.14400000000000002,\"symbol\":\"circle\"},\"mode\":\"markers\",\"name\":\"Chile\",\"showlegend\":true,\"type\":\"scattergeo\"},{\"geo\":\"geo\",\"hovertemplate\":\"<b>%{hovertext}</b><br><br>economy=China<br>% of female with debit card=%{marker.size}<br>economycode=%{location}<extra></extra>\",\"hovertext\":[\"China\"],\"legendgroup\":\"China\",\"locations\":[\"CHN\"],\"marker\":{\"color\":\"#19d3f3\",\"size\":[29.45],\"sizemode\":\"area\",\"sizeref\":0.14400000000000002,\"symbol\":\"circle\"},\"mode\":\"markers\",\"name\":\"China\",\"showlegend\":true,\"type\":\"scattergeo\"},{\"geo\":\"geo\",\"hovertemplate\":\"<b>%{hovertext}</b><br><br>economy=Colombia<br>% of female with debit card=%{marker.size}<br>economycode=%{location}<extra></extra>\",\"hovertext\":[\"Colombia\"],\"legendgroup\":\"Colombia\",\"locations\":[\"COL\"],\"marker\":{\"color\":\"#FF6692\",\"size\":[11.8],\"sizemode\":\"area\",\"sizeref\":0.14400000000000002,\"symbol\":\"circle\"},\"mode\":\"markers\",\"name\":\"Colombia\",\"showlegend\":true,\"type\":\"scattergeo\"},{\"geo\":\"geo\",\"hovertemplate\":\"<b>%{hovertext}</b><br><br>economy=Congo, Dem. Rep.<br>% of female with debit card=%{marker.size}<br>economycode=%{location}<extra></extra>\",\"hovertext\":[\"Congo, Dem. Rep.\"],\"legendgroup\":\"Congo, Dem. Rep.\",\"locations\":[\"COD\"],\"marker\":{\"color\":\"#B6E880\",\"size\":[3.8],\"sizemode\":\"area\",\"sizeref\":0.14400000000000002,\"symbol\":\"circle\"},\"mode\":\"markers\",\"name\":\"Congo, Dem. Rep.\",\"showlegend\":true,\"type\":\"scattergeo\"},{\"geo\":\"geo\",\"hovertemplate\":\"<b>%{hovertext}</b><br><br>economy=Congo, Rep.<br>% of female with debit card=%{marker.size}<br>economycode=%{location}<extra></extra>\",\"hovertext\":[\"Congo, Rep.\"],\"legendgroup\":\"Congo, Rep.\",\"locations\":[\"COG\"],\"marker\":{\"color\":\"#FF97FF\",\"size\":[6.9],\"sizemode\":\"area\",\"sizeref\":0.14400000000000002,\"symbol\":\"circle\"},\"mode\":\"markers\",\"name\":\"Congo, Rep.\",\"showlegend\":true,\"type\":\"scattergeo\"},{\"geo\":\"geo\",\"hovertemplate\":\"<b>%{hovertext}</b><br><br>economy=Costa Rica<br>% of female with debit card=%{marker.size}<br>economycode=%{location}<extra></extra>\",\"hovertext\":[\"Costa Rica\"],\"legendgroup\":\"Costa Rica\",\"locations\":[\"CRI\"],\"marker\":{\"color\":\"#FECB52\",\"size\":[26.0],\"sizemode\":\"area\",\"sizeref\":0.14400000000000002,\"symbol\":\"circle\"},\"mode\":\"markers\",\"name\":\"Costa Rica\",\"showlegend\":true,\"type\":\"scattergeo\"},{\"geo\":\"geo\",\"hovertemplate\":\"<b>%{hovertext}</b><br><br>economy=Cote d'Ivoire<br>% of female with debit card=%{marker.size}<br>economycode=%{location}<extra></extra>\",\"hovertext\":[\"Cote d'Ivoire\"],\"legendgroup\":\"Cote d'Ivoire\",\"locations\":[\"CIV\"],\"marker\":{\"color\":\"#636efa\",\"size\":[2.3],\"sizemode\":\"area\",\"sizeref\":0.14400000000000002,\"symbol\":\"circle\"},\"mode\":\"markers\",\"name\":\"Cote d'Ivoire\",\"showlegend\":true,\"type\":\"scattergeo\"},{\"geo\":\"geo\",\"hovertemplate\":\"<b>%{hovertext}</b><br><br>economy=Croatia<br>% of female with debit card=%{marker.size}<br>economycode=%{location}<extra></extra>\",\"hovertext\":[\"Croatia\"],\"legendgroup\":\"Croatia\",\"locations\":[\"HRV\"],\"marker\":{\"color\":\"#EF553B\",\"size\":[34.7],\"sizemode\":\"area\",\"sizeref\":0.14400000000000002,\"symbol\":\"circle\"},\"mode\":\"markers\",\"name\":\"Croatia\",\"showlegend\":true,\"type\":\"scattergeo\"},{\"geo\":\"geo\",\"hovertemplate\":\"<b>%{hovertext}</b><br><br>economy=Cyprus<br>% of female with debit card=%{marker.size}<br>economycode=%{location}<extra></extra>\",\"hovertext\":[\"Cyprus\"],\"legendgroup\":\"Cyprus\",\"locations\":[\"CYP\"],\"marker\":{\"color\":\"#00cc96\",\"size\":[33.24],\"sizemode\":\"area\",\"sizeref\":0.14400000000000002,\"symbol\":\"circle\"},\"mode\":\"markers\",\"name\":\"Cyprus\",\"showlegend\":true,\"type\":\"scattergeo\"},{\"geo\":\"geo\",\"hovertemplate\":\"<b>%{hovertext}</b><br><br>economy=Czech Republic<br>% of female with debit card=%{marker.size}<br>economycode=%{location}<extra></extra>\",\"hovertext\":[\"Czech Republic\"],\"legendgroup\":\"Czech Republic\",\"locations\":[\"CZE\"],\"marker\":{\"color\":\"#ab63fa\",\"size\":[41.5],\"sizemode\":\"area\",\"sizeref\":0.14400000000000002,\"symbol\":\"circle\"},\"mode\":\"markers\",\"name\":\"Czech Republic\",\"showlegend\":true,\"type\":\"scattergeo\"},{\"geo\":\"geo\",\"hovertemplate\":\"<b>%{hovertext}</b><br><br>economy=Denmark<br>% of female with debit card=%{marker.size}<br>economycode=%{location}<extra></extra>\",\"hovertext\":[\"Denmark\"],\"legendgroup\":\"Denmark\",\"locations\":[\"DNK\"],\"marker\":{\"color\":\"#FFA15A\",\"size\":[50.6],\"sizemode\":\"area\",\"sizeref\":0.14400000000000002,\"symbol\":\"circle\"},\"mode\":\"markers\",\"name\":\"Denmark\",\"showlegend\":true,\"type\":\"scattergeo\"},{\"geo\":\"geo\",\"hovertemplate\":\"<b>%{hovertext}</b><br><br>economy=Dominican Republic<br>% of female with debit card=%{marker.size}<br>economycode=%{location}<extra></extra>\",\"hovertext\":[\"Dominican Republic\"],\"legendgroup\":\"Dominican Republic\",\"locations\":[\"DOM\"],\"marker\":{\"color\":\"#19d3f3\",\"size\":[14.0],\"sizemode\":\"area\",\"sizeref\":0.14400000000000002,\"symbol\":\"circle\"},\"mode\":\"markers\",\"name\":\"Dominican Republic\",\"showlegend\":true,\"type\":\"scattergeo\"},{\"geo\":\"geo\",\"hovertemplate\":\"<b>%{hovertext}</b><br><br>economy=Ecuador<br>% of female with debit card=%{marker.size}<br>economycode=%{location}<extra></extra>\",\"hovertext\":[\"Ecuador\"],\"legendgroup\":\"Ecuador\",\"locations\":[\"ECU\"],\"marker\":{\"color\":\"#FF6692\",\"size\":[12.2],\"sizemode\":\"area\",\"sizeref\":0.14400000000000002,\"symbol\":\"circle\"},\"mode\":\"markers\",\"name\":\"Ecuador\",\"showlegend\":true,\"type\":\"scattergeo\"},{\"geo\":\"geo\",\"hovertemplate\":\"<b>%{hovertext}</b><br><br>economy=Egypt, Arab Rep.<br>% of female with debit card=%{marker.size}<br>economycode=%{location}<extra></extra>\",\"hovertext\":[\"Egypt, Arab Rep.\"],\"legendgroup\":\"Egypt, Arab Rep.\",\"locations\":[\"EGY\"],\"marker\":{\"color\":\"#B6E880\",\"size\":[11.2],\"sizemode\":\"area\",\"sizeref\":0.14400000000000002,\"symbol\":\"circle\"},\"mode\":\"markers\",\"name\":\"Egypt, Arab Rep.\",\"showlegend\":true,\"type\":\"scattergeo\"},{\"geo\":\"geo\",\"hovertemplate\":\"<b>%{hovertext}</b><br><br>economy=El Salvador<br>% of female with debit card=%{marker.size}<br>economycode=%{location}<extra></extra>\",\"hovertext\":[\"El Salvador\"],\"legendgroup\":\"El Salvador\",\"locations\":[\"SLV\"],\"marker\":{\"color\":\"#FF97FF\",\"size\":[8.1],\"sizemode\":\"area\",\"sizeref\":0.14400000000000002,\"symbol\":\"circle\"},\"mode\":\"markers\",\"name\":\"El Salvador\",\"showlegend\":true,\"type\":\"scattergeo\"},{\"geo\":\"geo\",\"hovertemplate\":\"<b>%{hovertext}</b><br><br>economy=Estonia<br>% of female with debit card=%{marker.size}<br>economycode=%{location}<extra></extra>\",\"hovertext\":[\"Estonia\"],\"legendgroup\":\"Estonia\",\"locations\":[\"EST\"],\"marker\":{\"color\":\"#FECB52\",\"size\":[47.1],\"sizemode\":\"area\",\"sizeref\":0.14400000000000002,\"symbol\":\"circle\"},\"mode\":\"markers\",\"name\":\"Estonia\",\"showlegend\":true,\"type\":\"scattergeo\"},{\"geo\":\"geo\",\"hovertemplate\":\"<b>%{hovertext}</b><br><br>economy=Ethiopia<br>% of female with debit card=%{marker.size}<br>economycode=%{location}<extra></extra>\",\"hovertext\":[\"Ethiopia\"],\"legendgroup\":\"Ethiopia\",\"locations\":[\"ETH\"],\"marker\":{\"color\":\"#636efa\",\"size\":[3.5],\"sizemode\":\"area\",\"sizeref\":0.14400000000000002,\"symbol\":\"circle\"},\"mode\":\"markers\",\"name\":\"Ethiopia\",\"showlegend\":true,\"type\":\"scattergeo\"},{\"geo\":\"geo\",\"hovertemplate\":\"<b>%{hovertext}</b><br><br>economy=Finland<br>% of female with debit card=%{marker.size}<br>economycode=%{location}<extra></extra>\",\"hovertext\":[\"Finland\"],\"legendgroup\":\"Finland\",\"locations\":[\"FIN\"],\"marker\":{\"color\":\"#EF553B\",\"size\":[52.3],\"sizemode\":\"area\",\"sizeref\":0.14400000000000002,\"symbol\":\"circle\"},\"mode\":\"markers\",\"name\":\"Finland\",\"showlegend\":true,\"type\":\"scattergeo\"},{\"geo\":\"geo\",\"hovertemplate\":\"<b>%{hovertext}</b><br><br>economy=France<br>% of female with debit card=%{marker.size}<br>economycode=%{location}<extra></extra>\",\"hovertext\":[\"France\"],\"legendgroup\":\"France\",\"locations\":[\"FRA\"],\"marker\":{\"color\":\"#00cc96\",\"size\":[45.4],\"sizemode\":\"area\",\"sizeref\":0.14400000000000002,\"symbol\":\"circle\"},\"mode\":\"markers\",\"name\":\"France\",\"showlegend\":true,\"type\":\"scattergeo\"},{\"geo\":\"geo\",\"hovertemplate\":\"<b>%{hovertext}</b><br><br>economy=Gabon<br>% of female with debit card=%{marker.size}<br>economycode=%{location}<extra></extra>\",\"hovertext\":[\"Gabon\"],\"legendgroup\":\"Gabon\",\"locations\":[\"GAB\"],\"marker\":{\"color\":\"#ab63fa\",\"size\":[8.9],\"sizemode\":\"area\",\"sizeref\":0.14400000000000002,\"symbol\":\"circle\"},\"mode\":\"markers\",\"name\":\"Gabon\",\"showlegend\":true,\"type\":\"scattergeo\"},{\"geo\":\"geo\",\"hovertemplate\":\"<b>%{hovertext}</b><br><br>economy=Georgia<br>% of female with debit card=%{marker.size}<br>economycode=%{location}<extra></extra>\",\"hovertext\":[\"Georgia\"],\"legendgroup\":\"Georgia\",\"locations\":[\"GEO\"],\"marker\":{\"color\":\"#FFA15A\",\"size\":[25.8],\"sizemode\":\"area\",\"sizeref\":0.14400000000000002,\"symbol\":\"circle\"},\"mode\":\"markers\",\"name\":\"Georgia\",\"showlegend\":true,\"type\":\"scattergeo\"},{\"geo\":\"geo\",\"hovertemplate\":\"<b>%{hovertext}</b><br><br>economy=Germany<br>% of female with debit card=%{marker.size}<br>economycode=%{location}<extra></extra>\",\"hovertext\":[\"Germany\"],\"legendgroup\":\"Germany\",\"locations\":[\"DEU\"],\"marker\":{\"color\":\"#19d3f3\",\"size\":[46.4],\"sizemode\":\"area\",\"sizeref\":0.14400000000000002,\"symbol\":\"circle\"},\"mode\":\"markers\",\"name\":\"Germany\",\"showlegend\":true,\"type\":\"scattergeo\"},{\"geo\":\"geo\",\"hovertemplate\":\"<b>%{hovertext}</b><br><br>economy=Ghana<br>% of female with debit card=%{marker.size}<br>economycode=%{location}<extra></extra>\",\"hovertext\":[\"Ghana\"],\"legendgroup\":\"Ghana\",\"locations\":[\"GHA\"],\"marker\":{\"color\":\"#FF6692\",\"size\":[7.0],\"sizemode\":\"area\",\"sizeref\":0.14400000000000002,\"symbol\":\"circle\"},\"mode\":\"markers\",\"name\":\"Ghana\",\"showlegend\":true,\"type\":\"scattergeo\"},{\"geo\":\"geo\",\"hovertemplate\":\"<b>%{hovertext}</b><br><br>economy=Greece<br>% of female with debit card=%{marker.size}<br>economycode=%{location}<extra></extra>\",\"hovertext\":[\"Greece\"],\"legendgroup\":\"Greece\",\"locations\":[\"GRC\"],\"marker\":{\"color\":\"#B6E880\",\"size\":[36.7],\"sizemode\":\"area\",\"sizeref\":0.14400000000000002,\"symbol\":\"circle\"},\"mode\":\"markers\",\"name\":\"Greece\",\"showlegend\":true,\"type\":\"scattergeo\"},{\"geo\":\"geo\",\"hovertemplate\":\"<b>%{hovertext}</b><br><br>economy=Guatemala<br>% of female with debit card=%{marker.size}<br>economycode=%{location}<extra></extra>\",\"hovertext\":[\"Guatemala\"],\"legendgroup\":\"Guatemala\",\"locations\":[\"GTM\"],\"marker\":{\"color\":\"#FF97FF\",\"size\":[7.0],\"sizemode\":\"area\",\"sizeref\":0.14400000000000002,\"symbol\":\"circle\"},\"mode\":\"markers\",\"name\":\"Guatemala\",\"showlegend\":true,\"type\":\"scattergeo\"},{\"geo\":\"geo\",\"hovertemplate\":\"<b>%{hovertext}</b><br><br>economy=Guinea<br>% of female with debit card=%{marker.size}<br>economycode=%{location}<extra></extra>\",\"hovertext\":[\"Guinea\"],\"legendgroup\":\"Guinea\",\"locations\":[\"GIN\"],\"marker\":{\"color\":\"#FECB52\",\"size\":[3.9],\"sizemode\":\"area\",\"sizeref\":0.14400000000000002,\"symbol\":\"circle\"},\"mode\":\"markers\",\"name\":\"Guinea\",\"showlegend\":true,\"type\":\"scattergeo\"},{\"geo\":\"geo\",\"hovertemplate\":\"<b>%{hovertext}</b><br><br>economy=Haiti<br>% of female with debit card=%{marker.size}<br>economycode=%{location}<extra></extra>\",\"hovertext\":[\"Haiti\"],\"legendgroup\":\"Haiti\",\"locations\":[\"HTI\"],\"marker\":{\"color\":\"#636efa\",\"size\":[5.36],\"sizemode\":\"area\",\"sizeref\":0.14400000000000002,\"symbol\":\"circle\"},\"mode\":\"markers\",\"name\":\"Haiti\",\"showlegend\":true,\"type\":\"scattergeo\"},{\"geo\":\"geo\",\"hovertemplate\":\"<b>%{hovertext}</b><br><br>economy=Honduras<br>% of female with debit card=%{marker.size}<br>economycode=%{location}<extra></extra>\",\"hovertext\":[\"Honduras\"],\"legendgroup\":\"Honduras\",\"locations\":[\"HND\"],\"marker\":{\"color\":\"#EF553B\",\"size\":[8.0],\"sizemode\":\"area\",\"sizeref\":0.14400000000000002,\"symbol\":\"circle\"},\"mode\":\"markers\",\"name\":\"Honduras\",\"showlegend\":true,\"type\":\"scattergeo\"},{\"geo\":\"geo\",\"hovertemplate\":\"<b>%{hovertext}</b><br><br>economy=Hong Kong SAR, China<br>% of female with debit card=%{marker.size}<br>economycode=%{location}<extra></extra>\",\"hovertext\":[\"Hong Kong SAR, China\"],\"legendgroup\":\"Hong Kong SAR, China\",\"locations\":[\"HKG\"],\"marker\":{\"color\":\"#00cc96\",\"size\":[45.98],\"sizemode\":\"area\",\"sizeref\":0.14400000000000002,\"symbol\":\"circle\"},\"mode\":\"markers\",\"name\":\"Hong Kong SAR, China\",\"showlegend\":true,\"type\":\"scattergeo\"},{\"geo\":\"geo\",\"hovertemplate\":\"<b>%{hovertext}</b><br><br>economy=Hungary<br>% of female with debit card=%{marker.size}<br>economycode=%{location}<extra></extra>\",\"hovertext\":[\"Hungary\"],\"legendgroup\":\"Hungary\",\"locations\":[\"HUN\"],\"marker\":{\"color\":\"#ab63fa\",\"size\":[38.7],\"sizemode\":\"area\",\"sizeref\":0.14400000000000002,\"symbol\":\"circle\"},\"mode\":\"markers\",\"name\":\"Hungary\",\"showlegend\":true,\"type\":\"scattergeo\"},{\"geo\":\"geo\",\"hovertemplate\":\"<b>%{hovertext}</b><br><br>economy=India<br>% of female with debit card=%{marker.size}<br>economycode=%{location}<extra></extra>\",\"hovertext\":[\"India\"],\"legendgroup\":\"India\",\"locations\":[\"IND\"],\"marker\":{\"color\":\"#FFA15A\",\"size\":[12.23],\"sizemode\":\"area\",\"sizeref\":0.14400000000000002,\"symbol\":\"circle\"},\"mode\":\"markers\",\"name\":\"India\",\"showlegend\":true,\"type\":\"scattergeo\"},{\"geo\":\"geo\",\"hovertemplate\":\"<b>%{hovertext}</b><br><br>economy=Indonesia<br>% of female with debit card=%{marker.size}<br>economycode=%{location}<extra></extra>\",\"hovertext\":[\"Indonesia\"],\"legendgroup\":\"Indonesia\",\"locations\":[\"IDN\"],\"marker\":{\"color\":\"#19d3f3\",\"size\":[22.4],\"sizemode\":\"area\",\"sizeref\":0.14400000000000002,\"symbol\":\"circle\"},\"mode\":\"markers\",\"name\":\"Indonesia\",\"showlegend\":true,\"type\":\"scattergeo\"},{\"geo\":\"geo\",\"hovertemplate\":\"<b>%{hovertext}</b><br><br>economy=Iran, Islamic Rep.<br>% of female with debit card=%{marker.size}<br>economycode=%{location}<extra></extra>\",\"hovertext\":[\"Iran, Islamic Rep.\"],\"legendgroup\":\"Iran, Islamic Rep.\",\"locations\":[\"IRN\"],\"marker\":{\"color\":\"#FF6692\",\"size\":[40.64],\"sizemode\":\"area\",\"sizeref\":0.14400000000000002,\"symbol\":\"circle\"},\"mode\":\"markers\",\"name\":\"Iran, Islamic Rep.\",\"showlegend\":true,\"type\":\"scattergeo\"},{\"geo\":\"geo\",\"hovertemplate\":\"<b>%{hovertext}</b><br><br>economy=Iraq<br>% of female with debit card=%{marker.size}<br>economycode=%{location}<extra></extra>\",\"hovertext\":[\"Iraq\"],\"legendgroup\":\"Iraq\",\"locations\":[\"IRQ\"],\"marker\":{\"color\":\"#B6E880\",\"size\":[1.8],\"sizemode\":\"area\",\"sizeref\":0.14400000000000002,\"symbol\":\"circle\"},\"mode\":\"markers\",\"name\":\"Iraq\",\"showlegend\":true,\"type\":\"scattergeo\"},{\"geo\":\"geo\",\"hovertemplate\":\"<b>%{hovertext}</b><br><br>economy=Ireland<br>% of female with debit card=%{marker.size}<br>economycode=%{location}<extra></extra>\",\"hovertext\":[\"Ireland\"],\"legendgroup\":\"Ireland\",\"locations\":[\"IRL\"],\"marker\":{\"color\":\"#FF97FF\",\"size\":[47.0],\"sizemode\":\"area\",\"sizeref\":0.14400000000000002,\"symbol\":\"circle\"},\"mode\":\"markers\",\"name\":\"Ireland\",\"showlegend\":true,\"type\":\"scattergeo\"},{\"geo\":\"geo\",\"hovertemplate\":\"<b>%{hovertext}</b><br><br>economy=Israel<br>% of female with debit card=%{marker.size}<br>economycode=%{location}<extra></extra>\",\"hovertext\":[\"Israel\"],\"legendgroup\":\"Israel\",\"locations\":[\"ISR\"],\"marker\":{\"color\":\"#FECB52\",\"size\":[16.4],\"sizemode\":\"area\",\"sizeref\":0.14400000000000002,\"symbol\":\"circle\"},\"mode\":\"markers\",\"name\":\"Israel\",\"showlegend\":true,\"type\":\"scattergeo\"},{\"geo\":\"geo\",\"hovertemplate\":\"<b>%{hovertext}</b><br><br>economy=Italy<br>% of female with debit card=%{marker.size}<br>economycode=%{location}<extra></extra>\",\"hovertext\":[\"Italy\"],\"legendgroup\":\"Italy\",\"locations\":[\"ITA\"],\"marker\":{\"color\":\"#636efa\",\"size\":[42.9],\"sizemode\":\"area\",\"sizeref\":0.14400000000000002,\"symbol\":\"circle\"},\"mode\":\"markers\",\"name\":\"Italy\",\"showlegend\":true,\"type\":\"scattergeo\"},{\"geo\":\"geo\",\"hovertemplate\":\"<b>%{hovertext}</b><br><br>economy=Japan<br>% of female with debit card=%{marker.size}<br>economycode=%{location}<extra></extra>\",\"hovertext\":[\"Japan\"],\"legendgroup\":\"Japan\",\"locations\":[\"JPN\"],\"marker\":{\"color\":\"#EF553B\",\"size\":[47.36],\"sizemode\":\"area\",\"sizeref\":0.14400000000000002,\"symbol\":\"circle\"},\"mode\":\"markers\",\"name\":\"Japan\",\"showlegend\":true,\"type\":\"scattergeo\"},{\"geo\":\"geo\",\"hovertemplate\":\"<b>%{hovertext}</b><br><br>economy=Jordan<br>% of female with debit card=%{marker.size}<br>economycode=%{location}<extra></extra>\",\"hovertext\":[\"Jordan\"],\"legendgroup\":\"Jordan\",\"locations\":[\"JOR\"],\"marker\":{\"color\":\"#00cc96\",\"size\":[10.47],\"sizemode\":\"area\",\"sizeref\":0.14400000000000002,\"symbol\":\"circle\"},\"mode\":\"markers\",\"name\":\"Jordan\",\"showlegend\":true,\"type\":\"scattergeo\"},{\"geo\":\"geo\",\"hovertemplate\":\"<b>%{hovertext}</b><br><br>economy=Kazakhstan<br>% of female with debit card=%{marker.size}<br>economycode=%{location}<extra></extra>\",\"hovertext\":[\"Kazakhstan\"],\"legendgroup\":\"Kazakhstan\",\"locations\":[\"KAZ\"],\"marker\":{\"color\":\"#ab63fa\",\"size\":[25.0],\"sizemode\":\"area\",\"sizeref\":0.14400000000000002,\"symbol\":\"circle\"},\"mode\":\"markers\",\"name\":\"Kazakhstan\",\"showlegend\":true,\"type\":\"scattergeo\"},{\"geo\":\"geo\",\"hovertemplate\":\"<b>%{hovertext}</b><br><br>economy=Kenya<br>% of female with debit card=%{marker.size}<br>economycode=%{location}<extra></extra>\",\"hovertext\":[\"Kenya\"],\"legendgroup\":\"Kenya\",\"locations\":[\"KEN\"],\"marker\":{\"color\":\"#FFA15A\",\"size\":[17.0],\"sizemode\":\"area\",\"sizeref\":0.14400000000000002,\"symbol\":\"circle\"},\"mode\":\"markers\",\"name\":\"Kenya\",\"showlegend\":true,\"type\":\"scattergeo\"},{\"geo\":\"geo\",\"hovertemplate\":\"<b>%{hovertext}</b><br><br>economy=Korea, Rep.<br>% of female with debit card=%{marker.size}<br>economycode=%{location}<extra></extra>\",\"hovertext\":[\"Korea, Rep.\"],\"legendgroup\":\"Korea, Rep.\",\"locations\":[\"KOR\"],\"marker\":{\"color\":\"#19d3f3\",\"size\":[33.4],\"sizemode\":\"area\",\"sizeref\":0.14400000000000002,\"symbol\":\"circle\"},\"mode\":\"markers\",\"name\":\"Korea, Rep.\",\"showlegend\":true,\"type\":\"scattergeo\"},{\"geo\":\"geo\",\"hovertemplate\":\"<b>%{hovertext}</b><br><br>economy=Kosovo<br>% of female with debit card=%{marker.size}<br>economycode=%{location}<extra></extra>\",\"hovertext\":[\"Kosovo\"],\"legendgroup\":\"Kosovo\",\"locations\":[\"XKX\"],\"marker\":{\"color\":\"#FF6692\",\"size\":[18.5],\"sizemode\":\"area\",\"sizeref\":0.14400000000000002,\"symbol\":\"circle\"},\"mode\":\"markers\",\"name\":\"Kosovo\",\"showlegend\":true,\"type\":\"scattergeo\"},{\"geo\":\"geo\",\"hovertemplate\":\"<b>%{hovertext}</b><br><br>economy=Kuwait<br>% of female with debit card=%{marker.size}<br>economycode=%{location}<extra></extra>\",\"hovertext\":[\"Kuwait\"],\"legendgroup\":\"Kuwait\",\"locations\":[\"KWT\"],\"marker\":{\"color\":\"#B6E880\",\"size\":[24.3],\"sizemode\":\"area\",\"sizeref\":0.14400000000000002,\"symbol\":\"circle\"},\"mode\":\"markers\",\"name\":\"Kuwait\",\"showlegend\":true,\"type\":\"scattergeo\"},{\"geo\":\"geo\",\"hovertemplate\":\"<b>%{hovertext}</b><br><br>economy=Kyrgyz Republic<br>% of female with debit card=%{marker.size}<br>economycode=%{location}<extra></extra>\",\"hovertext\":[\"Kyrgyz Republic\"],\"legendgroup\":\"Kyrgyz Republic\",\"locations\":[\"KGZ\"],\"marker\":{\"color\":\"#FF97FF\",\"size\":[15.4],\"sizemode\":\"area\",\"sizeref\":0.14400000000000002,\"symbol\":\"circle\"},\"mode\":\"markers\",\"name\":\"Kyrgyz Republic\",\"showlegend\":true,\"type\":\"scattergeo\"},{\"geo\":\"geo\",\"hovertemplate\":\"<b>%{hovertext}</b><br><br>economy=Lao PDR<br>% of female with debit card=%{marker.size}<br>economycode=%{location}<extra></extra>\",\"hovertext\":[\"Lao PDR\"],\"legendgroup\":\"Lao PDR\",\"locations\":[\"LAO\"],\"marker\":{\"color\":\"#FECB52\",\"size\":[9.4],\"sizemode\":\"area\",\"sizeref\":0.14400000000000002,\"symbol\":\"circle\"},\"mode\":\"markers\",\"name\":\"Lao PDR\",\"showlegend\":true,\"type\":\"scattergeo\"},{\"geo\":\"geo\",\"hovertemplate\":\"<b>%{hovertext}</b><br><br>economy=Latvia<br>% of female with debit card=%{marker.size}<br>economycode=%{location}<extra></extra>\",\"hovertext\":[\"Latvia\"],\"legendgroup\":\"Latvia\",\"locations\":[\"LVA\"],\"marker\":{\"color\":\"#636efa\",\"size\":[57.39],\"sizemode\":\"area\",\"sizeref\":0.14400000000000002,\"symbol\":\"circle\"},\"mode\":\"markers\",\"name\":\"Latvia\",\"showlegend\":true,\"type\":\"scattergeo\"},{\"geo\":\"geo\",\"hovertemplate\":\"<b>%{hovertext}</b><br><br>economy=Lebanon<br>% of female with debit card=%{marker.size}<br>economycode=%{location}<extra></extra>\",\"hovertext\":[\"Lebanon\"],\"legendgroup\":\"Lebanon\",\"locations\":[\"LBN\"],\"marker\":{\"color\":\"#EF553B\",\"size\":[16.5],\"sizemode\":\"area\",\"sizeref\":0.14400000000000002,\"symbol\":\"circle\"},\"mode\":\"markers\",\"name\":\"Lebanon\",\"showlegend\":true,\"type\":\"scattergeo\"},{\"geo\":\"geo\",\"hovertemplate\":\"<b>%{hovertext}</b><br><br>economy=Lesotho<br>% of female with debit card=%{marker.size}<br>economycode=%{location}<extra></extra>\",\"hovertext\":[\"Lesotho\"],\"legendgroup\":\"Lesotho\",\"locations\":[\"LSO\"],\"marker\":{\"color\":\"#00cc96\",\"size\":[13.6],\"sizemode\":\"area\",\"sizeref\":0.14400000000000002,\"symbol\":\"circle\"},\"mode\":\"markers\",\"name\":\"Lesotho\",\"showlegend\":true,\"type\":\"scattergeo\"},{\"geo\":\"geo\",\"hovertemplate\":\"<b>%{hovertext}</b><br><br>economy=Liberia<br>% of female with debit card=%{marker.size}<br>economycode=%{location}<extra></extra>\",\"hovertext\":[\"Liberia\"],\"legendgroup\":\"Liberia\",\"locations\":[\"LBR\"],\"marker\":{\"color\":\"#ab63fa\",\"size\":[1.6],\"sizemode\":\"area\",\"sizeref\":0.14400000000000002,\"symbol\":\"circle\"},\"mode\":\"markers\",\"name\":\"Liberia\",\"showlegend\":true,\"type\":\"scattergeo\"},{\"geo\":\"geo\",\"hovertemplate\":\"<b>%{hovertext}</b><br><br>economy=Libya<br>% of female with debit card=%{marker.size}<br>economycode=%{location}<extra></extra>\",\"hovertext\":[\"Libya\"],\"legendgroup\":\"Libya\",\"locations\":[\"LBY\"],\"marker\":{\"color\":\"#FFA15A\",\"size\":[7.58],\"sizemode\":\"area\",\"sizeref\":0.14400000000000002,\"symbol\":\"circle\"},\"mode\":\"markers\",\"name\":\"Libya\",\"showlegend\":true,\"type\":\"scattergeo\"},{\"geo\":\"geo\",\"hovertemplate\":\"<b>%{hovertext}</b><br><br>economy=Lithuania<br>% of female with debit card=%{marker.size}<br>economycode=%{location}<extra></extra>\",\"hovertext\":[\"Lithuania\"],\"legendgroup\":\"Lithuania\",\"locations\":[\"LTU\"],\"marker\":{\"color\":\"#19d3f3\",\"size\":[30.0],\"sizemode\":\"area\",\"sizeref\":0.14400000000000002,\"symbol\":\"circle\"},\"mode\":\"markers\",\"name\":\"Lithuania\",\"showlegend\":true,\"type\":\"scattergeo\"},{\"geo\":\"geo\",\"hovertemplate\":\"<b>%{hovertext}</b><br><br>economy=Luxembourg<br>% of female with debit card=%{marker.size}<br>economycode=%{location}<extra></extra>\",\"hovertext\":[\"Luxembourg\"],\"legendgroup\":\"Luxembourg\",\"locations\":[\"LUX\"],\"marker\":{\"color\":\"#FF6692\",\"size\":[42.3],\"sizemode\":\"area\",\"sizeref\":0.14400000000000002,\"symbol\":\"circle\"},\"mode\":\"markers\",\"name\":\"Luxembourg\",\"showlegend\":true,\"type\":\"scattergeo\"},{\"geo\":\"geo\",\"hovertemplate\":\"<b>%{hovertext}</b><br><br>economy=Macedonia, FYR<br>% of female with debit card=%{marker.size}<br>economycode=%{location}<extra></extra>\",\"hovertext\":[\"Macedonia, FYR\"],\"legendgroup\":\"Macedonia, FYR\",\"locations\":[\"MKD\"],\"marker\":{\"color\":\"#B6E880\",\"size\":[31.65],\"sizemode\":\"area\",\"sizeref\":0.14400000000000002,\"symbol\":\"circle\"},\"mode\":\"markers\",\"name\":\"Macedonia, FYR\",\"showlegend\":true,\"type\":\"scattergeo\"},{\"geo\":\"geo\",\"hovertemplate\":\"<b>%{hovertext}</b><br><br>economy=Madagascar<br>% of female with debit card=%{marker.size}<br>economycode=%{location}<extra></extra>\",\"hovertext\":[\"Madagascar\"],\"legendgroup\":\"Madagascar\",\"locations\":[\"MDG\"],\"marker\":{\"color\":\"#FF97FF\",\"size\":[2.1],\"sizemode\":\"area\",\"sizeref\":0.14400000000000002,\"symbol\":\"circle\"},\"mode\":\"markers\",\"name\":\"Madagascar\",\"showlegend\":true,\"type\":\"scattergeo\"},{\"geo\":\"geo\",\"hovertemplate\":\"<b>%{hovertext}</b><br><br>economy=Malawi<br>% of female with debit card=%{marker.size}<br>economycode=%{location}<extra></extra>\",\"hovertext\":[\"Malawi\"],\"legendgroup\":\"Malawi\",\"locations\":[\"MWI\"],\"marker\":{\"color\":\"#FECB52\",\"size\":[5.9],\"sizemode\":\"area\",\"sizeref\":0.14400000000000002,\"symbol\":\"circle\"},\"mode\":\"markers\",\"name\":\"Malawi\",\"showlegend\":true,\"type\":\"scattergeo\"},{\"geo\":\"geo\",\"hovertemplate\":\"<b>%{hovertext}</b><br><br>economy=Malaysia<br>% of female with debit card=%{marker.size}<br>economycode=%{location}<extra></extra>\",\"hovertext\":[\"Malaysia\"],\"legendgroup\":\"Malaysia\",\"locations\":[\"MYS\"],\"marker\":{\"color\":\"#636efa\",\"size\":[34.36],\"sizemode\":\"area\",\"sizeref\":0.14400000000000002,\"symbol\":\"circle\"},\"mode\":\"markers\",\"name\":\"Malaysia\",\"showlegend\":true,\"type\":\"scattergeo\"},{\"geo\":\"geo\",\"hovertemplate\":\"<b>%{hovertext}</b><br><br>economy=Mali<br>% of female with debit card=%{marker.size}<br>economycode=%{location}<extra></extra>\",\"hovertext\":[\"Mali\"],\"legendgroup\":\"Mali\",\"locations\":[\"MLI\"],\"marker\":{\"color\":\"#EF553B\",\"size\":[2.5],\"sizemode\":\"area\",\"sizeref\":0.14400000000000002,\"symbol\":\"circle\"},\"mode\":\"markers\",\"name\":\"Mali\",\"showlegend\":true,\"type\":\"scattergeo\"},{\"geo\":\"geo\",\"hovertemplate\":\"<b>%{hovertext}</b><br><br>economy=Malta<br>% of female with debit card=%{marker.size}<br>economycode=%{location}<extra></extra>\",\"hovertext\":[\"Malta\"],\"legendgroup\":\"Malta\",\"locations\":[\"MLT\"],\"marker\":{\"color\":\"#00cc96\",\"size\":[46.66],\"sizemode\":\"area\",\"sizeref\":0.14400000000000002,\"symbol\":\"circle\"},\"mode\":\"markers\",\"name\":\"Malta\",\"showlegend\":true,\"type\":\"scattergeo\"},{\"geo\":\"geo\",\"hovertemplate\":\"<b>%{hovertext}</b><br><br>economy=Mauritania<br>% of female with debit card=%{marker.size}<br>economycode=%{location}<extra></extra>\",\"hovertext\":[\"Mauritania\"],\"legendgroup\":\"Mauritania\",\"locations\":[\"MRT\"],\"marker\":{\"color\":\"#ab63fa\",\"size\":[4.0],\"sizemode\":\"area\",\"sizeref\":0.14400000000000002,\"symbol\":\"circle\"},\"mode\":\"markers\",\"name\":\"Mauritania\",\"showlegend\":true,\"type\":\"scattergeo\"},{\"geo\":\"geo\",\"hovertemplate\":\"<b>%{hovertext}</b><br><br>economy=Mauritius<br>% of female with debit card=%{marker.size}<br>economycode=%{location}<extra></extra>\",\"hovertext\":[\"Mauritius\"],\"legendgroup\":\"Mauritius\",\"locations\":[\"MUS\"],\"marker\":{\"color\":\"#FFA15A\",\"size\":[36.5],\"sizemode\":\"area\",\"sizeref\":0.14400000000000002,\"symbol\":\"circle\"},\"mode\":\"markers\",\"name\":\"Mauritius\",\"showlegend\":true,\"type\":\"scattergeo\"},{\"geo\":\"geo\",\"hovertemplate\":\"<b>%{hovertext}</b><br><br>economy=Mexico<br>% of female with debit card=%{marker.size}<br>economycode=%{location}<extra></extra>\",\"hovertext\":[\"Mexico\"],\"legendgroup\":\"Mexico\",\"locations\":[\"MEX\"],\"marker\":{\"color\":\"#19d3f3\",\"size\":[11.0],\"sizemode\":\"area\",\"sizeref\":0.14400000000000002,\"symbol\":\"circle\"},\"mode\":\"markers\",\"name\":\"Mexico\",\"showlegend\":true,\"type\":\"scattergeo\"},{\"geo\":\"geo\",\"hovertemplate\":\"<b>%{hovertext}</b><br><br>economy=Moldova<br>% of female with debit card=%{marker.size}<br>economycode=%{location}<extra></extra>\",\"hovertext\":[\"Moldova\"],\"legendgroup\":\"Moldova\",\"locations\":[\"MDA\"],\"marker\":{\"color\":\"#FF6692\",\"size\":[14.6],\"sizemode\":\"area\",\"sizeref\":0.14400000000000002,\"symbol\":\"circle\"},\"mode\":\"markers\",\"name\":\"Moldova\",\"showlegend\":true,\"type\":\"scattergeo\"},{\"geo\":\"geo\",\"hovertemplate\":\"<b>%{hovertext}</b><br><br>economy=Mongolia<br>% of female with debit card=%{marker.size}<br>economycode=%{location}<extra></extra>\",\"hovertext\":[\"Mongolia\"],\"legendgroup\":\"Mongolia\",\"locations\":[\"MNG\"],\"marker\":{\"color\":\"#B6E880\",\"size\":[45.6],\"sizemode\":\"area\",\"sizeref\":0.14400000000000002,\"symbol\":\"circle\"},\"mode\":\"markers\",\"name\":\"Mongolia\",\"showlegend\":true,\"type\":\"scattergeo\"},{\"geo\":\"geo\",\"hovertemplate\":\"<b>%{hovertext}</b><br><br>economy=Montenegro<br>% of female with debit card=%{marker.size}<br>economycode=%{location}<extra></extra>\",\"hovertext\":[\"Montenegro\"],\"legendgroup\":\"Montenegro\",\"locations\":[\"MNE\"],\"marker\":{\"color\":\"#FF97FF\",\"size\":[21.0],\"sizemode\":\"area\",\"sizeref\":0.14400000000000002,\"symbol\":\"circle\"},\"mode\":\"markers\",\"name\":\"Montenegro\",\"showlegend\":true,\"type\":\"scattergeo\"},{\"geo\":\"geo\",\"hovertemplate\":\"<b>%{hovertext}</b><br><br>economy=Morocco<br>% of female with debit card=%{marker.size}<br>economycode=%{location}<extra></extra>\",\"hovertext\":[\"Morocco\"],\"legendgroup\":\"Morocco\",\"locations\":[\"MAR\"],\"marker\":{\"color\":\"#FECB52\",\"size\":[7.61],\"sizemode\":\"area\",\"sizeref\":0.14400000000000002,\"symbol\":\"circle\"},\"mode\":\"markers\",\"name\":\"Morocco\",\"showlegend\":true,\"type\":\"scattergeo\"},{\"geo\":\"geo\",\"hovertemplate\":\"<b>%{hovertext}</b><br><br>economy=Mozambique<br>% of female with debit card=%{marker.size}<br>economycode=%{location}<extra></extra>\",\"hovertext\":[\"Mozambique\"],\"legendgroup\":\"Mozambique\",\"locations\":[\"MOZ\"],\"marker\":{\"color\":\"#636efa\",\"size\":[11.0],\"sizemode\":\"area\",\"sizeref\":0.14400000000000002,\"symbol\":\"circle\"},\"mode\":\"markers\",\"name\":\"Mozambique\",\"showlegend\":true,\"type\":\"scattergeo\"},{\"geo\":\"geo\",\"hovertemplate\":\"<b>%{hovertext}</b><br><br>economy=Myanmar<br>% of female with debit card=%{marker.size}<br>economycode=%{location}<extra></extra>\",\"hovertext\":[\"Myanmar\"],\"legendgroup\":\"Myanmar\",\"locations\":[\"MMR\"],\"marker\":{\"color\":\"#EF553B\",\"size\":[2.69],\"sizemode\":\"area\",\"sizeref\":0.14400000000000002,\"symbol\":\"circle\"},\"mode\":\"markers\",\"name\":\"Myanmar\",\"showlegend\":true,\"type\":\"scattergeo\"},{\"geo\":\"geo\",\"hovertemplate\":\"<b>%{hovertext}</b><br><br>economy=Namibia<br>% of female with debit card=%{marker.size}<br>economycode=%{location}<extra></extra>\",\"hovertext\":[\"Namibia\"],\"legendgroup\":\"Namibia\",\"locations\":[\"NAM\"],\"marker\":{\"color\":\"#00cc96\",\"size\":[45.2],\"sizemode\":\"area\",\"sizeref\":0.14400000000000002,\"symbol\":\"circle\"},\"mode\":\"markers\",\"name\":\"Namibia\",\"showlegend\":true,\"type\":\"scattergeo\"},{\"geo\":\"geo\",\"hovertemplate\":\"<b>%{hovertext}</b><br><br>economy=Nepal<br>% of female with debit card=%{marker.size}<br>economycode=%{location}<extra></extra>\",\"hovertext\":[\"Nepal\"],\"legendgroup\":\"Nepal\",\"locations\":[\"NPL\"],\"marker\":{\"color\":\"#ab63fa\",\"size\":[6.0],\"sizemode\":\"area\",\"sizeref\":0.14400000000000002,\"symbol\":\"circle\"},\"mode\":\"markers\",\"name\":\"Nepal\",\"showlegend\":true,\"type\":\"scattergeo\"},{\"geo\":\"geo\",\"hovertemplate\":\"<b>%{hovertext}</b><br><br>economy=Netherlands<br>% of female with debit card=%{marker.size}<br>economycode=%{location}<extra></extra>\",\"hovertext\":[\"Netherlands\"],\"legendgroup\":\"Netherlands\",\"locations\":[\"NLD\"],\"marker\":{\"color\":\"#FFA15A\",\"size\":[46.6],\"sizemode\":\"area\",\"sizeref\":0.14400000000000002,\"symbol\":\"circle\"},\"mode\":\"markers\",\"name\":\"Netherlands\",\"showlegend\":true,\"type\":\"scattergeo\"},{\"geo\":\"geo\",\"hovertemplate\":\"<b>%{hovertext}</b><br><br>economy=New Zealand<br>% of female with debit card=%{marker.size}<br>economycode=%{location}<extra></extra>\",\"hovertext\":[\"New Zealand\"],\"legendgroup\":\"New Zealand\",\"locations\":[\"NZL\"],\"marker\":{\"color\":\"#19d3f3\",\"size\":[57.6],\"sizemode\":\"area\",\"sizeref\":0.14400000000000002,\"symbol\":\"circle\"},\"mode\":\"markers\",\"name\":\"New Zealand\",\"showlegend\":true,\"type\":\"scattergeo\"},{\"geo\":\"geo\",\"hovertemplate\":\"<b>%{hovertext}</b><br><br>economy=Nicaragua<br>% of female with debit card=%{marker.size}<br>economycode=%{location}<extra></extra>\",\"hovertext\":[\"Nicaragua\"],\"legendgroup\":\"Nicaragua\",\"locations\":[\"NIC\"],\"marker\":{\"color\":\"#FF6692\",\"size\":[5.3],\"sizemode\":\"area\",\"sizeref\":0.14400000000000002,\"symbol\":\"circle\"},\"mode\":\"markers\",\"name\":\"Nicaragua\",\"showlegend\":true,\"type\":\"scattergeo\"},{\"geo\":\"geo\",\"hovertemplate\":\"<b>%{hovertext}</b><br><br>economy=Niger<br>% of female with debit card=%{marker.size}<br>economycode=%{location}<extra></extra>\",\"hovertext\":[\"Niger\"],\"legendgroup\":\"Niger\",\"locations\":[\"NER\"],\"marker\":{\"color\":\"#B6E880\",\"size\":[1.7],\"sizemode\":\"area\",\"sizeref\":0.14400000000000002,\"symbol\":\"circle\"},\"mode\":\"markers\",\"name\":\"Niger\",\"showlegend\":true,\"type\":\"scattergeo\"},{\"geo\":\"geo\",\"hovertemplate\":\"<b>%{hovertext}</b><br><br>economy=Nigeria<br>% of female with debit card=%{marker.size}<br>economycode=%{location}<extra></extra>\",\"hovertext\":[\"Nigeria\"],\"legendgroup\":\"Nigeria\",\"locations\":[\"NGA\"],\"marker\":{\"color\":\"#FF97FF\",\"size\":[14.5],\"sizemode\":\"area\",\"sizeref\":0.14400000000000002,\"symbol\":\"circle\"},\"mode\":\"markers\",\"name\":\"Nigeria\",\"showlegend\":true,\"type\":\"scattergeo\"},{\"geo\":\"geo\",\"hovertemplate\":\"<b>%{hovertext}</b><br><br>economy=Norway<br>% of female with debit card=%{marker.size}<br>economycode=%{location}<extra></extra>\",\"hovertext\":[\"Norway\"],\"legendgroup\":\"Norway\",\"locations\":[\"NOR\"],\"marker\":{\"color\":\"#FECB52\",\"size\":[49.6],\"sizemode\":\"area\",\"sizeref\":0.14400000000000002,\"symbol\":\"circle\"},\"mode\":\"markers\",\"name\":\"Norway\",\"showlegend\":true,\"type\":\"scattergeo\"},{\"geo\":\"geo\",\"hovertemplate\":\"<b>%{hovertext}</b><br><br>economy=Pakistan<br>% of female with debit card=%{marker.size}<br>economycode=%{location}<extra></extra>\",\"hovertext\":[\"Pakistan\"],\"legendgroup\":\"Pakistan\",\"locations\":[\"PAK\"],\"marker\":{\"color\":\"#636efa\",\"size\":[1.62],\"sizemode\":\"area\",\"sizeref\":0.14400000000000002,\"symbol\":\"circle\"},\"mode\":\"markers\",\"name\":\"Pakistan\",\"showlegend\":true,\"type\":\"scattergeo\"},{\"geo\":\"geo\",\"hovertemplate\":\"<b>%{hovertext}</b><br><br>economy=Panama<br>% of female with debit card=%{marker.size}<br>economycode=%{location}<extra></extra>\",\"hovertext\":[\"Panama\"],\"legendgroup\":\"Panama\",\"locations\":[\"PAN\"],\"marker\":{\"color\":\"#EF553B\",\"size\":[15.6],\"sizemode\":\"area\",\"sizeref\":0.14400000000000002,\"symbol\":\"circle\"},\"mode\":\"markers\",\"name\":\"Panama\",\"showlegend\":true,\"type\":\"scattergeo\"},{\"geo\":\"geo\",\"hovertemplate\":\"<b>%{hovertext}</b><br><br>economy=Paraguay<br>% of female with debit card=%{marker.size}<br>economycode=%{location}<extra></extra>\",\"hovertext\":[\"Paraguay\"],\"legendgroup\":\"Paraguay\",\"locations\":[\"PRY\"],\"marker\":{\"color\":\"#00cc96\",\"size\":[8.4],\"sizemode\":\"area\",\"sizeref\":0.14400000000000002,\"symbol\":\"circle\"},\"mode\":\"markers\",\"name\":\"Paraguay\",\"showlegend\":true,\"type\":\"scattergeo\"},{\"geo\":\"geo\",\"hovertemplate\":\"<b>%{hovertext}</b><br><br>economy=Peru<br>% of female with debit card=%{marker.size}<br>economycode=%{location}<extra></extra>\",\"hovertext\":[\"Peru\"],\"legendgroup\":\"Peru\",\"locations\":[\"PER\"],\"marker\":{\"color\":\"#ab63fa\",\"size\":[13.9],\"sizemode\":\"area\",\"sizeref\":0.14400000000000002,\"symbol\":\"circle\"},\"mode\":\"markers\",\"name\":\"Peru\",\"showlegend\":true,\"type\":\"scattergeo\"},{\"geo\":\"geo\",\"hovertemplate\":\"<b>%{hovertext}</b><br><br>economy=Philippines<br>% of female with debit card=%{marker.size}<br>economycode=%{location}<extra></extra>\",\"hovertext\":[\"Philippines\"],\"legendgroup\":\"Philippines\",\"locations\":[\"PHL\"],\"marker\":{\"color\":\"#FFA15A\",\"size\":[12.8],\"sizemode\":\"area\",\"sizeref\":0.14400000000000002,\"symbol\":\"circle\"},\"mode\":\"markers\",\"name\":\"Philippines\",\"showlegend\":true,\"type\":\"scattergeo\"},{\"geo\":\"geo\",\"hovertemplate\":\"<b>%{hovertext}</b><br><br>economy=Poland<br>% of female with debit card=%{marker.size}<br>economycode=%{location}<extra></extra>\",\"hovertext\":[\"Poland\"],\"legendgroup\":\"Poland\",\"locations\":[\"POL\"],\"marker\":{\"color\":\"#19d3f3\",\"size\":[51.2],\"sizemode\":\"area\",\"sizeref\":0.14400000000000002,\"symbol\":\"circle\"},\"mode\":\"markers\",\"name\":\"Poland\",\"showlegend\":true,\"type\":\"scattergeo\"},{\"geo\":\"geo\",\"hovertemplate\":\"<b>%{hovertext}</b><br><br>economy=Portugal<br>% of female with debit card=%{marker.size}<br>economycode=%{location}<extra></extra>\",\"hovertext\":[\"Portugal\"],\"legendgroup\":\"Portugal\",\"locations\":[\"PRT\"],\"marker\":{\"color\":\"#FF6692\",\"size\":[44.81],\"sizemode\":\"area\",\"sizeref\":0.14400000000000002,\"symbol\":\"circle\"},\"mode\":\"markers\",\"name\":\"Portugal\",\"showlegend\":true,\"type\":\"scattergeo\"},{\"geo\":\"geo\",\"hovertemplate\":\"<b>%{hovertext}</b><br><br>economy=Romania<br>% of female with debit card=%{marker.size}<br>economycode=%{location}<extra></extra>\",\"hovertext\":[\"Romania\"],\"legendgroup\":\"Romania\",\"locations\":[\"ROU\"],\"marker\":{\"color\":\"#B6E880\",\"size\":[24.48],\"sizemode\":\"area\",\"sizeref\":0.14400000000000002,\"symbol\":\"circle\"},\"mode\":\"markers\",\"name\":\"Romania\",\"showlegend\":true,\"type\":\"scattergeo\"},{\"geo\":\"geo\",\"hovertemplate\":\"<b>%{hovertext}</b><br><br>economy=Russian Federation<br>% of female with debit card=%{marker.size}<br>economycode=%{location}<extra></extra>\",\"hovertext\":[\"Russian Federation\"],\"legendgroup\":\"Russian Federation\",\"locations\":[\"RUS\"],\"marker\":{\"color\":\"#FF97FF\",\"size\":[36.55],\"sizemode\":\"area\",\"sizeref\":0.14400000000000002,\"symbol\":\"circle\"},\"mode\":\"markers\",\"name\":\"Russian Federation\",\"showlegend\":true,\"type\":\"scattergeo\"},{\"geo\":\"geo\",\"hovertemplate\":\"<b>%{hovertext}</b><br><br>economy=Rwanda<br>% of female with debit card=%{marker.size}<br>economycode=%{location}<extra></extra>\",\"hovertext\":[\"Rwanda\"],\"legendgroup\":\"Rwanda\",\"locations\":[\"RWA\"],\"marker\":{\"color\":\"#FECB52\",\"size\":[2.8],\"sizemode\":\"area\",\"sizeref\":0.14400000000000002,\"symbol\":\"circle\"},\"mode\":\"markers\",\"name\":\"Rwanda\",\"showlegend\":true,\"type\":\"scattergeo\"},{\"geo\":\"geo\",\"hovertemplate\":\"<b>%{hovertext}</b><br><br>economy=Saudi Arabia<br>% of female with debit card=%{marker.size}<br>economycode=%{location}<extra></extra>\",\"hovertext\":[\"Saudi Arabia\"],\"legendgroup\":\"Saudi Arabia\",\"locations\":[\"SAU\"],\"marker\":{\"color\":\"#636efa\",\"size\":[20.12],\"sizemode\":\"area\",\"sizeref\":0.14400000000000002,\"symbol\":\"circle\"},\"mode\":\"markers\",\"name\":\"Saudi Arabia\",\"showlegend\":true,\"type\":\"scattergeo\"},{\"geo\":\"geo\",\"hovertemplate\":\"<b>%{hovertext}</b><br><br>economy=Senegal<br>% of female with debit card=%{marker.size}<br>economycode=%{location}<extra></extra>\",\"hovertext\":[\"Senegal\"],\"legendgroup\":\"Senegal\",\"locations\":[\"SEN\"],\"marker\":{\"color\":\"#EF553B\",\"size\":[4.4],\"sizemode\":\"area\",\"sizeref\":0.14400000000000002,\"symbol\":\"circle\"},\"mode\":\"markers\",\"name\":\"Senegal\",\"showlegend\":true,\"type\":\"scattergeo\"},{\"geo\":\"geo\",\"hovertemplate\":\"<b>%{hovertext}</b><br><br>economy=Serbia<br>% of female with debit card=%{marker.size}<br>economycode=%{location}<extra></extra>\",\"hovertext\":[\"Serbia\"],\"legendgroup\":\"Serbia\",\"locations\":[\"SRB\"],\"marker\":{\"color\":\"#00cc96\",\"size\":[35.4],\"sizemode\":\"area\",\"sizeref\":0.14400000000000002,\"symbol\":\"circle\"},\"mode\":\"markers\",\"name\":\"Serbia\",\"showlegend\":true,\"type\":\"scattergeo\"},{\"geo\":\"geo\",\"hovertemplate\":\"<b>%{hovertext}</b><br><br>economy=Sierra Leone<br>% of female with debit card=%{marker.size}<br>economycode=%{location}<extra></extra>\",\"hovertext\":[\"Sierra Leone\"],\"legendgroup\":\"Sierra Leone\",\"locations\":[\"SLE\"],\"marker\":{\"color\":\"#ab63fa\",\"size\":[0.9],\"sizemode\":\"area\",\"sizeref\":0.14400000000000002,\"symbol\":\"circle\"},\"mode\":\"markers\",\"name\":\"Sierra Leone\",\"showlegend\":true,\"type\":\"scattergeo\"},{\"geo\":\"geo\",\"hovertemplate\":\"<b>%{hovertext}</b><br><br>economy=Singapore<br>% of female with debit card=%{marker.size}<br>economycode=%{location}<extra></extra>\",\"hovertext\":[\"Singapore\"],\"legendgroup\":\"Singapore\",\"locations\":[\"SGP\"],\"marker\":{\"color\":\"#FFA15A\",\"size\":[52.4],\"sizemode\":\"area\",\"sizeref\":0.14400000000000002,\"symbol\":\"circle\"},\"mode\":\"markers\",\"name\":\"Singapore\",\"showlegend\":true,\"type\":\"scattergeo\"},{\"geo\":\"geo\",\"hovertemplate\":\"<b>%{hovertext}</b><br><br>economy=Slovak Republic<br>% of female with debit card=%{marker.size}<br>economycode=%{location}<extra></extra>\",\"hovertext\":[\"Slovak Republic\"],\"legendgroup\":\"Slovak Republic\",\"locations\":[\"SVK\"],\"marker\":{\"color\":\"#19d3f3\",\"size\":[42.9],\"sizemode\":\"area\",\"sizeref\":0.14400000000000002,\"symbol\":\"circle\"},\"mode\":\"markers\",\"name\":\"Slovak Republic\",\"showlegend\":true,\"type\":\"scattergeo\"},{\"geo\":\"geo\",\"hovertemplate\":\"<b>%{hovertext}</b><br><br>economy=Slovenia<br>% of female with debit card=%{marker.size}<br>economycode=%{location}<extra></extra>\",\"hovertext\":[\"Slovenia\"],\"legendgroup\":\"Slovenia\",\"locations\":[\"SVN\"],\"marker\":{\"color\":\"#FF6692\",\"size\":[51.1],\"sizemode\":\"area\",\"sizeref\":0.14400000000000002,\"symbol\":\"circle\"},\"mode\":\"markers\",\"name\":\"Slovenia\",\"showlegend\":true,\"type\":\"scattergeo\"},{\"geo\":\"geo\",\"hovertemplate\":\"<b>%{hovertext}</b><br><br>economy=South Africa<br>% of female with debit card=%{marker.size}<br>economycode=%{location}<extra></extra>\",\"hovertext\":[\"South Africa\"],\"legendgroup\":\"South Africa\",\"locations\":[\"ZAF\"],\"marker\":{\"color\":\"#B6E880\",\"size\":[16.1],\"sizemode\":\"area\",\"sizeref\":0.14400000000000002,\"symbol\":\"circle\"},\"mode\":\"markers\",\"name\":\"South Africa\",\"showlegend\":true,\"type\":\"scattergeo\"},{\"geo\":\"geo\",\"hovertemplate\":\"<b>%{hovertext}</b><br><br>economy=South Sudan<br>% of female with debit card=%{marker.size}<br>economycode=%{location}<extra></extra>\",\"hovertext\":[\"South Sudan\"],\"legendgroup\":\"South Sudan\",\"locations\":[\"SSD\"],\"marker\":{\"color\":\"#FF97FF\",\"size\":[0.3],\"sizemode\":\"area\",\"sizeref\":0.14400000000000002,\"symbol\":\"circle\"},\"mode\":\"markers\",\"name\":\"South Sudan\",\"showlegend\":true,\"type\":\"scattergeo\"},{\"geo\":\"geo\",\"hovertemplate\":\"<b>%{hovertext}</b><br><br>economy=Spain<br>% of female with debit card=%{marker.size}<br>economycode=%{location}<extra></extra>\",\"hovertext\":[\"Spain\"],\"legendgroup\":\"Spain\",\"locations\":[\"ESP\"],\"marker\":{\"color\":\"#FECB52\",\"size\":[42.1],\"sizemode\":\"area\",\"sizeref\":0.14400000000000002,\"symbol\":\"circle\"},\"mode\":\"markers\",\"name\":\"Spain\",\"showlegend\":true,\"type\":\"scattergeo\"},{\"geo\":\"geo\",\"hovertemplate\":\"<b>%{hovertext}</b><br><br>economy=Sri Lanka<br>% of female with debit card=%{marker.size}<br>economycode=%{location}<extra></extra>\",\"hovertext\":[\"Sri Lanka\"],\"legendgroup\":\"Sri Lanka\",\"locations\":[\"LKA\"],\"marker\":{\"color\":\"#636efa\",\"size\":[22.1],\"sizemode\":\"area\",\"sizeref\":0.14400000000000002,\"symbol\":\"circle\"},\"mode\":\"markers\",\"name\":\"Sri Lanka\",\"showlegend\":true,\"type\":\"scattergeo\"},{\"geo\":\"geo\",\"hovertemplate\":\"<b>%{hovertext}</b><br><br>economy=Sweden<br>% of female with debit card=%{marker.size}<br>economycode=%{location}<extra></extra>\",\"hovertext\":[\"Sweden\"],\"legendgroup\":\"Sweden\",\"locations\":[\"SWE\"],\"marker\":{\"color\":\"#EF553B\",\"size\":[51.2],\"sizemode\":\"area\",\"sizeref\":0.14400000000000002,\"symbol\":\"circle\"},\"mode\":\"markers\",\"name\":\"Sweden\",\"showlegend\":true,\"type\":\"scattergeo\"},{\"geo\":\"geo\",\"hovertemplate\":\"<b>%{hovertext}</b><br><br>economy=Switzerland<br>% of female with debit card=%{marker.size}<br>economycode=%{location}<extra></extra>\",\"hovertext\":[\"Switzerland\"],\"legendgroup\":\"Switzerland\",\"locations\":[\"CHE\"],\"marker\":{\"color\":\"#00cc96\",\"size\":[45.6],\"sizemode\":\"area\",\"sizeref\":0.14400000000000002,\"symbol\":\"circle\"},\"mode\":\"markers\",\"name\":\"Switzerland\",\"showlegend\":true,\"type\":\"scattergeo\"},{\"geo\":\"geo\",\"hovertemplate\":\"<b>%{hovertext}</b><br><br>economy=Taiwan, China<br>% of female with debit card=%{marker.size}<br>economycode=%{location}<extra></extra>\",\"hovertext\":[\"Taiwan, China\"],\"legendgroup\":\"Taiwan, China\",\"locations\":[\"TWN\"],\"marker\":{\"color\":\"#ab63fa\",\"size\":[41.5],\"sizemode\":\"area\",\"sizeref\":0.14400000000000002,\"symbol\":\"circle\"},\"mode\":\"markers\",\"name\":\"Taiwan, China\",\"showlegend\":true,\"type\":\"scattergeo\"},{\"geo\":\"geo\",\"hovertemplate\":\"<b>%{hovertext}</b><br><br>economy=Tajikistan<br>% of female with debit card=%{marker.size}<br>economycode=%{location}<extra></extra>\",\"hovertext\":[\"Tajikistan\"],\"legendgroup\":\"Tajikistan\",\"locations\":[\"TJK\"],\"marker\":{\"color\":\"#FFA15A\",\"size\":[12.5],\"sizemode\":\"area\",\"sizeref\":0.14400000000000002,\"symbol\":\"circle\"},\"mode\":\"markers\",\"name\":\"Tajikistan\",\"showlegend\":true,\"type\":\"scattergeo\"},{\"geo\":\"geo\",\"hovertemplate\":\"<b>%{hovertext}</b><br><br>economy=Tanzania<br>% of female with debit card=%{marker.size}<br>economycode=%{location}<extra></extra>\",\"hovertext\":[\"Tanzania\"],\"legendgroup\":\"Tanzania\",\"locations\":[\"TZA\"],\"marker\":{\"color\":\"#19d3f3\",\"size\":[6.6],\"sizemode\":\"area\",\"sizeref\":0.14400000000000002,\"symbol\":\"circle\"},\"mode\":\"markers\",\"name\":\"Tanzania\",\"showlegend\":true,\"type\":\"scattergeo\"},{\"geo\":\"geo\",\"hovertemplate\":\"<b>%{hovertext}</b><br><br>economy=Thailand<br>% of female with debit card=%{marker.size}<br>economycode=%{location}<extra></extra>\",\"hovertext\":[\"Thailand\"],\"legendgroup\":\"Thailand\",\"locations\":[\"THA\"],\"marker\":{\"color\":\"#FF6692\",\"size\":[34.6],\"sizemode\":\"area\",\"sizeref\":0.14400000000000002,\"symbol\":\"circle\"},\"mode\":\"markers\",\"name\":\"Thailand\",\"showlegend\":true,\"type\":\"scattergeo\"},{\"geo\":\"geo\",\"hovertemplate\":\"<b>%{hovertext}</b><br><br>economy=Togo<br>% of female with debit card=%{marker.size}<br>economycode=%{location}<extra></extra>\",\"hovertext\":[\"Togo\"],\"legendgroup\":\"Togo\",\"locations\":[\"TGO\"],\"marker\":{\"color\":\"#B6E880\",\"size\":[4.3],\"sizemode\":\"area\",\"sizeref\":0.14400000000000002,\"symbol\":\"circle\"},\"mode\":\"markers\",\"name\":\"Togo\",\"showlegend\":true,\"type\":\"scattergeo\"},{\"geo\":\"geo\",\"hovertemplate\":\"<b>%{hovertext}</b><br><br>economy=Trinidad and Tobago<br>% of female with debit card=%{marker.size}<br>economycode=%{location}<extra></extra>\",\"hovertext\":[\"Trinidad and Tobago\"],\"legendgroup\":\"Trinidad and Tobago\",\"locations\":[\"TTO\"],\"marker\":{\"color\":\"#FF97FF\",\"size\":[28.77],\"sizemode\":\"area\",\"sizeref\":0.14400000000000002,\"symbol\":\"circle\"},\"mode\":\"markers\",\"name\":\"Trinidad and Tobago\",\"showlegend\":true,\"type\":\"scattergeo\"},{\"geo\":\"geo\",\"hovertemplate\":\"<b>%{hovertext}</b><br><br>economy=Tunisia<br>% of female with debit card=%{marker.size}<br>economycode=%{location}<extra></extra>\",\"hovertext\":[\"Tunisia\"],\"legendgroup\":\"Tunisia\",\"locations\":[\"TUN\"],\"marker\":{\"color\":\"#FECB52\",\"size\":[10.69],\"sizemode\":\"area\",\"sizeref\":0.14400000000000002,\"symbol\":\"circle\"},\"mode\":\"markers\",\"name\":\"Tunisia\",\"showlegend\":true,\"type\":\"scattergeo\"},{\"geo\":\"geo\",\"hovertemplate\":\"<b>%{hovertext}</b><br><br>economy=Turkey<br>% of female with debit card=%{marker.size}<br>economycode=%{location}<extra></extra>\",\"hovertext\":[\"Turkey\"],\"legendgroup\":\"Turkey\",\"locations\":[\"TUR\"],\"marker\":{\"color\":\"#636efa\",\"size\":[29.9],\"sizemode\":\"area\",\"sizeref\":0.14400000000000002,\"symbol\":\"circle\"},\"mode\":\"markers\",\"name\":\"Turkey\",\"showlegend\":true,\"type\":\"scattergeo\"},{\"geo\":\"geo\",\"hovertemplate\":\"<b>%{hovertext}</b><br><br>economy=Turkmenistan<br>% of female with debit card=%{marker.size}<br>economycode=%{location}<extra></extra>\",\"hovertext\":[\"Turkmenistan\"],\"legendgroup\":\"Turkmenistan\",\"locations\":[\"TKM\"],\"marker\":{\"color\":\"#EF553B\",\"size\":[18.1],\"sizemode\":\"area\",\"sizeref\":0.14400000000000002,\"symbol\":\"circle\"},\"mode\":\"markers\",\"name\":\"Turkmenistan\",\"showlegend\":true,\"type\":\"scattergeo\"},{\"geo\":\"geo\",\"hovertemplate\":\"<b>%{hovertext}</b><br><br>economy=Uganda<br>% of female with debit card=%{marker.size}<br>economycode=%{location}<extra></extra>\",\"hovertext\":[\"Uganda\"],\"legendgroup\":\"Uganda\",\"locations\":[\"UGA\"],\"marker\":{\"color\":\"#00cc96\",\"size\":[8.2],\"sizemode\":\"area\",\"sizeref\":0.14400000000000002,\"symbol\":\"circle\"},\"mode\":\"markers\",\"name\":\"Uganda\",\"showlegend\":true,\"type\":\"scattergeo\"},{\"geo\":\"geo\",\"hovertemplate\":\"<b>%{hovertext}</b><br><br>economy=Ukraine<br>% of female with debit card=%{marker.size}<br>economycode=%{location}<extra></extra>\",\"hovertext\":[\"Ukraine\"],\"legendgroup\":\"Ukraine\",\"locations\":[\"UKR\"],\"marker\":{\"color\":\"#ab63fa\",\"size\":[32.1],\"sizemode\":\"area\",\"sizeref\":0.14400000000000002,\"symbol\":\"circle\"},\"mode\":\"markers\",\"name\":\"Ukraine\",\"showlegend\":true,\"type\":\"scattergeo\"},{\"geo\":\"geo\",\"hovertemplate\":\"<b>%{hovertext}</b><br><br>economy=United Arab Emirates<br>% of female with debit card=%{marker.size}<br>economycode=%{location}<extra></extra>\",\"hovertext\":[\"United Arab Emirates\"],\"legendgroup\":\"United Arab Emirates\",\"locations\":[\"ARE\"],\"marker\":{\"color\":\"#FFA15A\",\"size\":[19.74],\"sizemode\":\"area\",\"sizeref\":0.14400000000000002,\"symbol\":\"circle\"},\"mode\":\"markers\",\"name\":\"United Arab Emirates\",\"showlegend\":true,\"type\":\"scattergeo\"},{\"geo\":\"geo\",\"hovertemplate\":\"<b>%{hovertext}</b><br><br>economy=United Kingdom<br>% of female with debit card=%{marker.size}<br>economycode=%{location}<extra></extra>\",\"hovertext\":[\"United Kingdom\"],\"legendgroup\":\"United Kingdom\",\"locations\":[\"GBR\"],\"marker\":{\"color\":\"#19d3f3\",\"size\":[47.3],\"sizemode\":\"area\",\"sizeref\":0.14400000000000002,\"symbol\":\"circle\"},\"mode\":\"markers\",\"name\":\"United Kingdom\",\"showlegend\":true,\"type\":\"scattergeo\"},{\"geo\":\"geo\",\"hovertemplate\":\"<b>%{hovertext}</b><br><br>economy=United States<br>% of female with debit card=%{marker.size}<br>economycode=%{location}<extra></extra>\",\"hovertext\":[\"United States\"],\"legendgroup\":\"United States\",\"locations\":[\"USA\"],\"marker\":{\"color\":\"#FF6692\",\"size\":[39.6],\"sizemode\":\"area\",\"sizeref\":0.14400000000000002,\"symbol\":\"circle\"},\"mode\":\"markers\",\"name\":\"United States\",\"showlegend\":true,\"type\":\"scattergeo\"},{\"geo\":\"geo\",\"hovertemplate\":\"<b>%{hovertext}</b><br><br>economy=Uruguay<br>% of female with debit card=%{marker.size}<br>economycode=%{location}<extra></extra>\",\"hovertext\":[\"Uruguay\"],\"legendgroup\":\"Uruguay\",\"locations\":[\"URY\"],\"marker\":{\"color\":\"#B6E880\",\"size\":[30.9],\"sizemode\":\"area\",\"sizeref\":0.14400000000000002,\"symbol\":\"circle\"},\"mode\":\"markers\",\"name\":\"Uruguay\",\"showlegend\":true,\"type\":\"scattergeo\"},{\"geo\":\"geo\",\"hovertemplate\":\"<b>%{hovertext}</b><br><br>economy=Uzbekistan<br>% of female with debit card=%{marker.size}<br>economycode=%{location}<extra></extra>\",\"hovertext\":[\"Uzbekistan\"],\"legendgroup\":\"Uzbekistan\",\"locations\":[\"UZB\"],\"marker\":{\"color\":\"#FF97FF\",\"size\":[16.1],\"sizemode\":\"area\",\"sizeref\":0.14400000000000002,\"symbol\":\"circle\"},\"mode\":\"markers\",\"name\":\"Uzbekistan\",\"showlegend\":true,\"type\":\"scattergeo\"},{\"geo\":\"geo\",\"hovertemplate\":\"<b>%{hovertext}</b><br><br>economy=Venezuela, RB<br>% of female with debit card=%{marker.size}<br>economycode=%{location}<extra></extra>\",\"hovertext\":[\"Venezuela, RB\"],\"legendgroup\":\"Venezuela, RB\",\"locations\":[\"VEN\"],\"marker\":{\"color\":\"#FECB52\",\"size\":[41.6],\"sizemode\":\"area\",\"sizeref\":0.14400000000000002,\"symbol\":\"circle\"},\"mode\":\"markers\",\"name\":\"Venezuela, RB\",\"showlegend\":true,\"type\":\"scattergeo\"},{\"geo\":\"geo\",\"hovertemplate\":\"<b>%{hovertext}</b><br><br>economy=Vietnam<br>% of female with debit card=%{marker.size}<br>economycode=%{location}<extra></extra>\",\"hovertext\":[\"Vietnam\"],\"legendgroup\":\"Vietnam\",\"locations\":[\"VNM\"],\"marker\":{\"color\":\"#636efa\",\"size\":[16.47],\"sizemode\":\"area\",\"sizeref\":0.14400000000000002,\"symbol\":\"circle\"},\"mode\":\"markers\",\"name\":\"Vietnam\",\"showlegend\":true,\"type\":\"scattergeo\"},{\"geo\":\"geo\",\"hovertemplate\":\"<b>%{hovertext}</b><br><br>economy=West Bank and Gaza<br>% of female with debit card=%{marker.size}<br>economycode=%{location}<extra></extra>\",\"hovertext\":[\"West Bank and Gaza\"],\"legendgroup\":\"West Bank and Gaza\",\"locations\":[\"PSE\"],\"marker\":{\"color\":\"#EF553B\",\"size\":[7.3],\"sizemode\":\"area\",\"sizeref\":0.14400000000000002,\"symbol\":\"circle\"},\"mode\":\"markers\",\"name\":\"West Bank and Gaza\",\"showlegend\":true,\"type\":\"scattergeo\"},{\"geo\":\"geo\",\"hovertemplate\":\"<b>%{hovertext}</b><br><br>economy=Zambia<br>% of female with debit card=%{marker.size}<br>economycode=%{location}<extra></extra>\",\"hovertext\":[\"Zambia\"],\"legendgroup\":\"Zambia\",\"locations\":[\"ZMB\"],\"marker\":{\"color\":\"#00cc96\",\"size\":[10.5],\"sizemode\":\"area\",\"sizeref\":0.14400000000000002,\"symbol\":\"circle\"},\"mode\":\"markers\",\"name\":\"Zambia\",\"showlegend\":true,\"type\":\"scattergeo\"},{\"geo\":\"geo\",\"hovertemplate\":\"<b>%{hovertext}</b><br><br>economy=Zimbabwe<br>% of female with debit card=%{marker.size}<br>economycode=%{location}<extra></extra>\",\"hovertext\":[\"Zimbabwe\"],\"legendgroup\":\"Zimbabwe\",\"locations\":[\"ZWE\"],\"marker\":{\"color\":\"#ab63fa\",\"size\":[11.8],\"sizemode\":\"area\",\"sizeref\":0.14400000000000002,\"symbol\":\"circle\"},\"mode\":\"markers\",\"name\":\"Zimbabwe\",\"showlegend\":true,\"type\":\"scattergeo\"}],                        {\"geo\":{\"center\":{},\"domain\":{\"x\":[0.0,1.0],\"y\":[0.0,1.0]}},\"height\":400,\"legend\":{\"itemsizing\":\"constant\",\"title\":{\"text\":\"economy\"},\"tracegroupgap\":0},\"margin\":{\"t\":60},\"template\":{\"data\":{\"bar\":[{\"error_x\":{\"color\":\"#2a3f5f\"},\"error_y\":{\"color\":\"#2a3f5f\"},\"marker\":{\"line\":{\"color\":\"#E5ECF6\",\"width\":0.5},\"pattern\":{\"fillmode\":\"overlay\",\"size\":10,\"solidity\":0.2}},\"type\":\"bar\"}],\"barpolar\":[{\"marker\":{\"line\":{\"color\":\"#E5ECF6\",\"width\":0.5},\"pattern\":{\"fillmode\":\"overlay\",\"size\":10,\"solidity\":0.2}},\"type\":\"barpolar\"}],\"carpet\":[{\"aaxis\":{\"endlinecolor\":\"#2a3f5f\",\"gridcolor\":\"white\",\"linecolor\":\"white\",\"minorgridcolor\":\"white\",\"startlinecolor\":\"#2a3f5f\"},\"baxis\":{\"endlinecolor\":\"#2a3f5f\",\"gridcolor\":\"white\",\"linecolor\":\"white\",\"minorgridcolor\":\"white\",\"startlinecolor\":\"#2a3f5f\"},\"type\":\"carpet\"}],\"choropleth\":[{\"colorbar\":{\"outlinewidth\":0,\"ticks\":\"\"},\"type\":\"choropleth\"}],\"contour\":[{\"colorbar\":{\"outlinewidth\":0,\"ticks\":\"\"},\"colorscale\":[[0.0,\"#0d0887\"],[0.1111111111111111,\"#46039f\"],[0.2222222222222222,\"#7201a8\"],[0.3333333333333333,\"#9c179e\"],[0.4444444444444444,\"#bd3786\"],[0.5555555555555556,\"#d8576b\"],[0.6666666666666666,\"#ed7953\"],[0.7777777777777778,\"#fb9f3a\"],[0.8888888888888888,\"#fdca26\"],[1.0,\"#f0f921\"]],\"type\":\"contour\"}],\"contourcarpet\":[{\"colorbar\":{\"outlinewidth\":0,\"ticks\":\"\"},\"type\":\"contourcarpet\"}],\"heatmap\":[{\"colorbar\":{\"outlinewidth\":0,\"ticks\":\"\"},\"colorscale\":[[0.0,\"#0d0887\"],[0.1111111111111111,\"#46039f\"],[0.2222222222222222,\"#7201a8\"],[0.3333333333333333,\"#9c179e\"],[0.4444444444444444,\"#bd3786\"],[0.5555555555555556,\"#d8576b\"],[0.6666666666666666,\"#ed7953\"],[0.7777777777777778,\"#fb9f3a\"],[0.8888888888888888,\"#fdca26\"],[1.0,\"#f0f921\"]],\"type\":\"heatmap\"}],\"heatmapgl\":[{\"colorbar\":{\"outlinewidth\":0,\"ticks\":\"\"},\"colorscale\":[[0.0,\"#0d0887\"],[0.1111111111111111,\"#46039f\"],[0.2222222222222222,\"#7201a8\"],[0.3333333333333333,\"#9c179e\"],[0.4444444444444444,\"#bd3786\"],[0.5555555555555556,\"#d8576b\"],[0.6666666666666666,\"#ed7953\"],[0.7777777777777778,\"#fb9f3a\"],[0.8888888888888888,\"#fdca26\"],[1.0,\"#f0f921\"]],\"type\":\"heatmapgl\"}],\"histogram\":[{\"marker\":{\"pattern\":{\"fillmode\":\"overlay\",\"size\":10,\"solidity\":0.2}},\"type\":\"histogram\"}],\"histogram2d\":[{\"colorbar\":{\"outlinewidth\":0,\"ticks\":\"\"},\"colorscale\":[[0.0,\"#0d0887\"],[0.1111111111111111,\"#46039f\"],[0.2222222222222222,\"#7201a8\"],[0.3333333333333333,\"#9c179e\"],[0.4444444444444444,\"#bd3786\"],[0.5555555555555556,\"#d8576b\"],[0.6666666666666666,\"#ed7953\"],[0.7777777777777778,\"#fb9f3a\"],[0.8888888888888888,\"#fdca26\"],[1.0,\"#f0f921\"]],\"type\":\"histogram2d\"}],\"histogram2dcontour\":[{\"colorbar\":{\"outlinewidth\":0,\"ticks\":\"\"},\"colorscale\":[[0.0,\"#0d0887\"],[0.1111111111111111,\"#46039f\"],[0.2222222222222222,\"#7201a8\"],[0.3333333333333333,\"#9c179e\"],[0.4444444444444444,\"#bd3786\"],[0.5555555555555556,\"#d8576b\"],[0.6666666666666666,\"#ed7953\"],[0.7777777777777778,\"#fb9f3a\"],[0.8888888888888888,\"#fdca26\"],[1.0,\"#f0f921\"]],\"type\":\"histogram2dcontour\"}],\"mesh3d\":[{\"colorbar\":{\"outlinewidth\":0,\"ticks\":\"\"},\"type\":\"mesh3d\"}],\"parcoords\":[{\"line\":{\"colorbar\":{\"outlinewidth\":0,\"ticks\":\"\"}},\"type\":\"parcoords\"}],\"pie\":[{\"automargin\":true,\"type\":\"pie\"}],\"scatter\":[{\"marker\":{\"colorbar\":{\"outlinewidth\":0,\"ticks\":\"\"}},\"type\":\"scatter\"}],\"scatter3d\":[{\"line\":{\"colorbar\":{\"outlinewidth\":0,\"ticks\":\"\"}},\"marker\":{\"colorbar\":{\"outlinewidth\":0,\"ticks\":\"\"}},\"type\":\"scatter3d\"}],\"scattercarpet\":[{\"marker\":{\"colorbar\":{\"outlinewidth\":0,\"ticks\":\"\"}},\"type\":\"scattercarpet\"}],\"scattergeo\":[{\"marker\":{\"colorbar\":{\"outlinewidth\":0,\"ticks\":\"\"}},\"type\":\"scattergeo\"}],\"scattergl\":[{\"marker\":{\"colorbar\":{\"outlinewidth\":0,\"ticks\":\"\"}},\"type\":\"scattergl\"}],\"scattermapbox\":[{\"marker\":{\"colorbar\":{\"outlinewidth\":0,\"ticks\":\"\"}},\"type\":\"scattermapbox\"}],\"scatterpolar\":[{\"marker\":{\"colorbar\":{\"outlinewidth\":0,\"ticks\":\"\"}},\"type\":\"scatterpolar\"}],\"scatterpolargl\":[{\"marker\":{\"colorbar\":{\"outlinewidth\":0,\"ticks\":\"\"}},\"type\":\"scatterpolargl\"}],\"scatterternary\":[{\"marker\":{\"colorbar\":{\"outlinewidth\":0,\"ticks\":\"\"}},\"type\":\"scatterternary\"}],\"surface\":[{\"colorbar\":{\"outlinewidth\":0,\"ticks\":\"\"},\"colorscale\":[[0.0,\"#0d0887\"],[0.1111111111111111,\"#46039f\"],[0.2222222222222222,\"#7201a8\"],[0.3333333333333333,\"#9c179e\"],[0.4444444444444444,\"#bd3786\"],[0.5555555555555556,\"#d8576b\"],[0.6666666666666666,\"#ed7953\"],[0.7777777777777778,\"#fb9f3a\"],[0.8888888888888888,\"#fdca26\"],[1.0,\"#f0f921\"]],\"type\":\"surface\"}],\"table\":[{\"cells\":{\"fill\":{\"color\":\"#EBF0F8\"},\"line\":{\"color\":\"white\"}},\"header\":{\"fill\":{\"color\":\"#C8D4E3\"},\"line\":{\"color\":\"white\"}},\"type\":\"table\"}]},\"layout\":{\"annotationdefaults\":{\"arrowcolor\":\"#2a3f5f\",\"arrowhead\":0,\"arrowwidth\":1},\"autotypenumbers\":\"strict\",\"coloraxis\":{\"colorbar\":{\"outlinewidth\":0,\"ticks\":\"\"}},\"colorscale\":{\"diverging\":[[0,\"#8e0152\"],[0.1,\"#c51b7d\"],[0.2,\"#de77ae\"],[0.3,\"#f1b6da\"],[0.4,\"#fde0ef\"],[0.5,\"#f7f7f7\"],[0.6,\"#e6f5d0\"],[0.7,\"#b8e186\"],[0.8,\"#7fbc41\"],[0.9,\"#4d9221\"],[1,\"#276419\"]],\"sequential\":[[0.0,\"#0d0887\"],[0.1111111111111111,\"#46039f\"],[0.2222222222222222,\"#7201a8\"],[0.3333333333333333,\"#9c179e\"],[0.4444444444444444,\"#bd3786\"],[0.5555555555555556,\"#d8576b\"],[0.6666666666666666,\"#ed7953\"],[0.7777777777777778,\"#fb9f3a\"],[0.8888888888888888,\"#fdca26\"],[1.0,\"#f0f921\"]],\"sequentialminus\":[[0.0,\"#0d0887\"],[0.1111111111111111,\"#46039f\"],[0.2222222222222222,\"#7201a8\"],[0.3333333333333333,\"#9c179e\"],[0.4444444444444444,\"#bd3786\"],[0.5555555555555556,\"#d8576b\"],[0.6666666666666666,\"#ed7953\"],[0.7777777777777778,\"#fb9f3a\"],[0.8888888888888888,\"#fdca26\"],[1.0,\"#f0f921\"]]},\"colorway\":[\"#636efa\",\"#EF553B\",\"#00cc96\",\"#ab63fa\",\"#FFA15A\",\"#19d3f3\",\"#FF6692\",\"#B6E880\",\"#FF97FF\",\"#FECB52\"],\"font\":{\"color\":\"#2a3f5f\"},\"geo\":{\"bgcolor\":\"white\",\"lakecolor\":\"white\",\"landcolor\":\"#E5ECF6\",\"showlakes\":true,\"showland\":true,\"subunitcolor\":\"white\"},\"hoverlabel\":{\"align\":\"left\"},\"hovermode\":\"closest\",\"mapbox\":{\"style\":\"light\"},\"paper_bgcolor\":\"white\",\"plot_bgcolor\":\"#E5ECF6\",\"polar\":{\"angularaxis\":{\"gridcolor\":\"white\",\"linecolor\":\"white\",\"ticks\":\"\"},\"bgcolor\":\"#E5ECF6\",\"radialaxis\":{\"gridcolor\":\"white\",\"linecolor\":\"white\",\"ticks\":\"\"}},\"scene\":{\"xaxis\":{\"backgroundcolor\":\"#E5ECF6\",\"gridcolor\":\"white\",\"gridwidth\":2,\"linecolor\":\"white\",\"showbackground\":true,\"ticks\":\"\",\"zerolinecolor\":\"white\"},\"yaxis\":{\"backgroundcolor\":\"#E5ECF6\",\"gridcolor\":\"white\",\"gridwidth\":2,\"linecolor\":\"white\",\"showbackground\":true,\"ticks\":\"\",\"zerolinecolor\":\"white\"},\"zaxis\":{\"backgroundcolor\":\"#E5ECF6\",\"gridcolor\":\"white\",\"gridwidth\":2,\"linecolor\":\"white\",\"showbackground\":true,\"ticks\":\"\",\"zerolinecolor\":\"white\"}},\"shapedefaults\":{\"line\":{\"color\":\"#2a3f5f\"}},\"ternary\":{\"aaxis\":{\"gridcolor\":\"white\",\"linecolor\":\"white\",\"ticks\":\"\"},\"baxis\":{\"gridcolor\":\"white\",\"linecolor\":\"white\",\"ticks\":\"\"},\"bgcolor\":\"#E5ECF6\",\"caxis\":{\"gridcolor\":\"white\",\"linecolor\":\"white\",\"ticks\":\"\"}},\"title\":{\"x\":0.05},\"xaxis\":{\"automargin\":true,\"gridcolor\":\"white\",\"linecolor\":\"white\",\"ticks\":\"\",\"title\":{\"standoff\":15},\"zerolinecolor\":\"white\",\"zerolinewidth\":2},\"yaxis\":{\"automargin\":true,\"gridcolor\":\"white\",\"linecolor\":\"white\",\"ticks\":\"\",\"title\":{\"standoff\":15},\"zerolinecolor\":\"white\",\"zerolinewidth\":2}}},\"width\":1000},                        {\"responsive\": true}                    ).then(function(){\n",
       "                            \n",
       "var gd = document.getElementById('1653ebd1-658c-4848-bb5a-bc389d6b52c0');\n",
       "var x = new MutationObserver(function (mutations, observer) {{\n",
       "        var display = window.getComputedStyle(gd).display;\n",
       "        if (!display || display === 'none') {{\n",
       "            console.log([gd, 'removed!']);\n",
       "            Plotly.purge(gd);\n",
       "            observer.disconnect();\n",
       "        }}\n",
       "}});\n",
       "\n",
       "// Listen for the removal of the full notebook cells\n",
       "var notebookContainer = gd.closest('#notebook-container');\n",
       "if (notebookContainer) {{\n",
       "    x.observe(notebookContainer, {childList: true});\n",
       "}}\n",
       "\n",
       "// Listen for the clearing of the current output cell\n",
       "var outputEl = gd.closest('.output');\n",
       "if (outputEl) {{\n",
       "    x.observe(outputEl, {childList: true});\n",
       "}}\n",
       "\n",
       "                        })                };                });            </script>        </div>"
      ]
     },
     "metadata": {},
     "output_type": "display_data"
    }
   ],
   "source": [
    "fig = px.scatter_geo(\n",
    "    grouped_data2,\n",
    "    locations=\"economycode\",\n",
    "    color=\"economy\",\n",
    "    size=\"% of female with debit card\",\n",
    "    hover_name=\"economy\",\n",
    "    width=1000,\n",
    "    height=400)\n",
    "\n",
    "fig.show()"
   ]
  },
  {
   "cell_type": "code",
   "execution_count": 28,
   "metadata": {},
   "outputs": [
    {
     "data": {
      "application/vnd.plotly.v1+json": {
       "config": {
        "plotlyServerURL": "https://plot.ly"
       },
       "data": [
        {
         "geo": "geo",
         "hovertemplate": "<b>%{hovertext}</b><br><br>economy=Afghanistan<br>% of male with debit card=%{marker.size}<br>economycode=%{location}<extra></extra>",
         "hovertext": [
          "Afghanistan"
         ],
         "legendgroup": "Afghanistan",
         "locations": [
          "AFG"
         ],
         "marker": {
          "color": "#636efa",
          "size": [
           2.1
          ],
          "sizemode": "area",
          "sizeref": 0.1635,
          "symbol": "circle"
         },
         "mode": "markers",
         "name": "Afghanistan",
         "showlegend": true,
         "type": "scattergeo"
        },
        {
         "geo": "geo",
         "hovertemplate": "<b>%{hovertext}</b><br><br>economy=Albania<br>% of male with debit card=%{marker.size}<br>economycode=%{location}<extra></extra>",
         "hovertext": [
          "Albania"
         ],
         "legendgroup": "Albania",
         "locations": [
          "ALB"
         ],
         "marker": {
          "color": "#EF553B",
          "size": [
           12.6
          ],
          "sizemode": "area",
          "sizeref": 0.1635,
          "symbol": "circle"
         },
         "mode": "markers",
         "name": "Albania",
         "showlegend": true,
         "type": "scattergeo"
        },
        {
         "geo": "geo",
         "hovertemplate": "<b>%{hovertext}</b><br><br>economy=Algeria<br>% of male with debit card=%{marker.size}<br>economycode=%{location}<extra></extra>",
         "hovertext": [
          "Algeria"
         ],
         "legendgroup": "Algeria",
         "locations": [
          "DZA"
         ],
         "marker": {
          "color": "#00cc96",
          "size": [
           16.14
          ],
          "sizemode": "area",
          "sizeref": 0.1635,
          "symbol": "circle"
         },
         "mode": "markers",
         "name": "Algeria",
         "showlegend": true,
         "type": "scattergeo"
        },
        {
         "geo": "geo",
         "hovertemplate": "<b>%{hovertext}</b><br><br>economy=Argentina<br>% of male with debit card=%{marker.size}<br>economycode=%{location}<extra></extra>",
         "hovertext": [
          "Argentina"
         ],
         "legendgroup": "Argentina",
         "locations": [
          "ARG"
         ],
         "marker": {
          "color": "#ab63fa",
          "size": [
           19.5
          ],
          "sizemode": "area",
          "sizeref": 0.1635,
          "symbol": "circle"
         },
         "mode": "markers",
         "name": "Argentina",
         "showlegend": true,
         "type": "scattergeo"
        },
        {
         "geo": "geo",
         "hovertemplate": "<b>%{hovertext}</b><br><br>economy=Armenia<br>% of male with debit card=%{marker.size}<br>economycode=%{location}<extra></extra>",
         "hovertext": [
          "Armenia"
         ],
         "legendgroup": "Armenia",
         "locations": [
          "ARM"
         ],
         "marker": {
          "color": "#FFA15A",
          "size": [
           13.5
          ],
          "sizemode": "area",
          "sizeref": 0.1635,
          "symbol": "circle"
         },
         "mode": "markers",
         "name": "Armenia",
         "showlegend": true,
         "type": "scattergeo"
        },
        {
         "geo": "geo",
         "hovertemplate": "<b>%{hovertext}</b><br><br>economy=Australia<br>% of male with debit card=%{marker.size}<br>economycode=%{location}<extra></extra>",
         "hovertext": [
          "Australia"
         ],
         "legendgroup": "Australia",
         "locations": [
          "AUS"
         ],
         "marker": {
          "color": "#19d3f3",
          "size": [
           39.88
          ],
          "sizemode": "area",
          "sizeref": 0.1635,
          "symbol": "circle"
         },
         "mode": "markers",
         "name": "Australia",
         "showlegend": true,
         "type": "scattergeo"
        },
        {
         "geo": "geo",
         "hovertemplate": "<b>%{hovertext}</b><br><br>economy=Austria<br>% of male with debit card=%{marker.size}<br>economycode=%{location}<extra></extra>",
         "hovertext": [
          "Austria"
         ],
         "legendgroup": "Austria",
         "locations": [
          "AUT"
         ],
         "marker": {
          "color": "#FF6692",
          "size": [
           43
          ],
          "sizemode": "area",
          "sizeref": 0.1635,
          "symbol": "circle"
         },
         "mode": "markers",
         "name": "Austria",
         "showlegend": true,
         "type": "scattergeo"
        },
        {
         "geo": "geo",
         "hovertemplate": "<b>%{hovertext}</b><br><br>economy=Azerbaijan<br>% of male with debit card=%{marker.size}<br>economycode=%{location}<extra></extra>",
         "hovertext": [
          "Azerbaijan"
         ],
         "legendgroup": "Azerbaijan",
         "locations": [
          "AZE"
         ],
         "marker": {
          "color": "#B6E880",
          "size": [
           16.3
          ],
          "sizemode": "area",
          "sizeref": 0.1635,
          "symbol": "circle"
         },
         "mode": "markers",
         "name": "Azerbaijan",
         "showlegend": true,
         "type": "scattergeo"
        },
        {
         "geo": "geo",
         "hovertemplate": "<b>%{hovertext}</b><br><br>economy=Bahrain<br>% of male with debit card=%{marker.size}<br>economycode=%{location}<extra></extra>",
         "hovertext": [
          "Bahrain"
         ],
         "legendgroup": "Bahrain",
         "locations": [
          "BHR"
         ],
         "marker": {
          "color": "#FF97FF",
          "size": [
           56.51
          ],
          "sizemode": "area",
          "sizeref": 0.1635,
          "symbol": "circle"
         },
         "mode": "markers",
         "name": "Bahrain",
         "showlegend": true,
         "type": "scattergeo"
        },
        {
         "geo": "geo",
         "hovertemplate": "<b>%{hovertext}</b><br><br>economy=Bangladesh<br>% of male with debit card=%{marker.size}<br>economycode=%{location}<extra></extra>",
         "hovertext": [
          "Bangladesh"
         ],
         "legendgroup": "Bangladesh",
         "locations": [
          "BGD"
         ],
         "marker": {
          "color": "#FECB52",
          "size": [
           5
          ],
          "sizemode": "area",
          "sizeref": 0.1635,
          "symbol": "circle"
         },
         "mode": "markers",
         "name": "Bangladesh",
         "showlegend": true,
         "type": "scattergeo"
        },
        {
         "geo": "geo",
         "hovertemplate": "<b>%{hovertext}</b><br><br>economy=Belarus<br>% of male with debit card=%{marker.size}<br>economycode=%{location}<extra></extra>",
         "hovertext": [
          "Belarus"
         ],
         "legendgroup": "Belarus",
         "locations": [
          "BLR"
         ],
         "marker": {
          "color": "#636efa",
          "size": [
           30.77
          ],
          "sizemode": "area",
          "sizeref": 0.1635,
          "symbol": "circle"
         },
         "mode": "markers",
         "name": "Belarus",
         "showlegend": true,
         "type": "scattergeo"
        },
        {
         "geo": "geo",
         "hovertemplate": "<b>%{hovertext}</b><br><br>economy=Belgium<br>% of male with debit card=%{marker.size}<br>economycode=%{location}<extra></extra>",
         "hovertext": [
          "Belgium"
         ],
         "legendgroup": "Belgium",
         "locations": [
          "BEL"
         ],
         "marker": {
          "color": "#EF553B",
          "size": [
           46.05
          ],
          "sizemode": "area",
          "sizeref": 0.1635,
          "symbol": "circle"
         },
         "mode": "markers",
         "name": "Belgium",
         "showlegend": true,
         "type": "scattergeo"
        },
        {
         "geo": "geo",
         "hovertemplate": "<b>%{hovertext}</b><br><br>economy=Benin<br>% of male with debit card=%{marker.size}<br>economycode=%{location}<extra></extra>",
         "hovertext": [
          "Benin"
         ],
         "legendgroup": "Benin",
         "locations": [
          "BEN"
         ],
         "marker": {
          "color": "#00cc96",
          "size": [
           8.3
          ],
          "sizemode": "area",
          "sizeref": 0.1635,
          "symbol": "circle"
         },
         "mode": "markers",
         "name": "Benin",
         "showlegend": true,
         "type": "scattergeo"
        },
        {
         "geo": "geo",
         "hovertemplate": "<b>%{hovertext}</b><br><br>economy=Bolivia<br>% of male with debit card=%{marker.size}<br>economycode=%{location}<extra></extra>",
         "hovertext": [
          "Bolivia"
         ],
         "legendgroup": "Bolivia",
         "locations": [
          "BOL"
         ],
         "marker": {
          "color": "#ab63fa",
          "size": [
           12.5
          ],
          "sizemode": "area",
          "sizeref": 0.1635,
          "symbol": "circle"
         },
         "mode": "markers",
         "name": "Bolivia",
         "showlegend": true,
         "type": "scattergeo"
        },
        {
         "geo": "geo",
         "hovertemplate": "<b>%{hovertext}</b><br><br>economy=Bosnia and Herzegovina<br>% of male with debit card=%{marker.size}<br>economycode=%{location}<extra></extra>",
         "hovertext": [
          "Bosnia and Herzegovina"
         ],
         "legendgroup": "Bosnia and Herzegovina",
         "locations": [
          "BIH"
         ],
         "marker": {
          "color": "#FFA15A",
          "size": [
           21.8
          ],
          "sizemode": "area",
          "sizeref": 0.1635,
          "symbol": "circle"
         },
         "mode": "markers",
         "name": "Bosnia and Herzegovina",
         "showlegend": true,
         "type": "scattergeo"
        },
        {
         "geo": "geo",
         "hovertemplate": "<b>%{hovertext}</b><br><br>economy=Botswana<br>% of male with debit card=%{marker.size}<br>economycode=%{location}<extra></extra>",
         "hovertext": [
          "Botswana"
         ],
         "legendgroup": "Botswana",
         "locations": [
          "BWA"
         ],
         "marker": {
          "color": "#19d3f3",
          "size": [
           13.5
          ],
          "sizemode": "area",
          "sizeref": 0.1635,
          "symbol": "circle"
         },
         "mode": "markers",
         "name": "Botswana",
         "showlegend": true,
         "type": "scattergeo"
        },
        {
         "geo": "geo",
         "hovertemplate": "<b>%{hovertext}</b><br><br>economy=Brazil<br>% of male with debit card=%{marker.size}<br>economycode=%{location}<extra></extra>",
         "hovertext": [
          "Brazil"
         ],
         "legendgroup": "Brazil",
         "locations": [
          "BRA"
         ],
         "marker": {
          "color": "#FF6692",
          "size": [
           25.1
          ],
          "sizemode": "area",
          "sizeref": 0.1635,
          "symbol": "circle"
         },
         "mode": "markers",
         "name": "Brazil",
         "showlegend": true,
         "type": "scattergeo"
        },
        {
         "geo": "geo",
         "hovertemplate": "<b>%{hovertext}</b><br><br>economy=Bulgaria<br>% of male with debit card=%{marker.size}<br>economycode=%{location}<extra></extra>",
         "hovertext": [
          "Bulgaria"
         ],
         "legendgroup": "Bulgaria",
         "locations": [
          "BGR"
         ],
         "marker": {
          "color": "#B6E880",
          "size": [
           30
          ],
          "sizemode": "area",
          "sizeref": 0.1635,
          "symbol": "circle"
         },
         "mode": "markers",
         "name": "Bulgaria",
         "showlegend": true,
         "type": "scattergeo"
        },
        {
         "geo": "geo",
         "hovertemplate": "<b>%{hovertext}</b><br><br>economy=Burkina Faso<br>% of male with debit card=%{marker.size}<br>economycode=%{location}<extra></extra>",
         "hovertext": [
          "Burkina Faso"
         ],
         "legendgroup": "Burkina Faso",
         "locations": [
          "BFA"
         ],
         "marker": {
          "color": "#FF97FF",
          "size": [
           13.3
          ],
          "sizemode": "area",
          "sizeref": 0.1635,
          "symbol": "circle"
         },
         "mode": "markers",
         "name": "Burkina Faso",
         "showlegend": true,
         "type": "scattergeo"
        },
        {
         "geo": "geo",
         "hovertemplate": "<b>%{hovertext}</b><br><br>economy=Cambodia<br>% of male with debit card=%{marker.size}<br>economycode=%{location}<extra></extra>",
         "hovertext": [
          "Cambodia"
         ],
         "legendgroup": "Cambodia",
         "locations": [
          "KHM"
         ],
         "marker": {
          "color": "#FECB52",
          "size": [
           3.25
          ],
          "sizemode": "area",
          "sizeref": 0.1635,
          "symbol": "circle"
         },
         "mode": "markers",
         "name": "Cambodia",
         "showlegend": true,
         "type": "scattergeo"
        },
        {
         "geo": "geo",
         "hovertemplate": "<b>%{hovertext}</b><br><br>economy=Cameroon<br>% of male with debit card=%{marker.size}<br>economycode=%{location}<extra></extra>",
         "hovertext": [
          "Cameroon"
         ],
         "legendgroup": "Cameroon",
         "locations": [
          "CMR"
         ],
         "marker": {
          "color": "#636efa",
          "size": [
           6.8
          ],
          "sizemode": "area",
          "sizeref": 0.1635,
          "symbol": "circle"
         },
         "mode": "markers",
         "name": "Cameroon",
         "showlegend": true,
         "type": "scattergeo"
        },
        {
         "geo": "geo",
         "hovertemplate": "<b>%{hovertext}</b><br><br>economy=Canada<br>% of male with debit card=%{marker.size}<br>economycode=%{location}<extra></extra>",
         "hovertext": [
          "Canada"
         ],
         "legendgroup": "Canada",
         "locations": [
          "CAN"
         ],
         "marker": {
          "color": "#EF553B",
          "size": [
           47.66
          ],
          "sizemode": "area",
          "sizeref": 0.1635,
          "symbol": "circle"
         },
         "mode": "markers",
         "name": "Canada",
         "showlegend": true,
         "type": "scattergeo"
        },
        {
         "geo": "geo",
         "hovertemplate": "<b>%{hovertext}</b><br><br>economy=Central African Republic<br>% of male with debit card=%{marker.size}<br>economycode=%{location}<extra></extra>",
         "hovertext": [
          "Central African Republic"
         ],
         "legendgroup": "Central African Republic",
         "locations": [
          "CAF"
         ],
         "marker": {
          "color": "#00cc96",
          "size": [
           3.1
          ],
          "sizemode": "area",
          "sizeref": 0.1635,
          "symbol": "circle"
         },
         "mode": "markers",
         "name": "Central African Republic",
         "showlegend": true,
         "type": "scattergeo"
        },
        {
         "geo": "geo",
         "hovertemplate": "<b>%{hovertext}</b><br><br>economy=Chad<br>% of male with debit card=%{marker.size}<br>economycode=%{location}<extra></extra>",
         "hovertext": [
          "Chad"
         ],
         "legendgroup": "Chad",
         "locations": [
          "TCD"
         ],
         "marker": {
          "color": "#ab63fa",
          "size": [
           4.9
          ],
          "sizemode": "area",
          "sizeref": 0.1635,
          "symbol": "circle"
         },
         "mode": "markers",
         "name": "Chad",
         "showlegend": true,
         "type": "scattergeo"
        },
        {
         "geo": "geo",
         "hovertemplate": "<b>%{hovertext}</b><br><br>economy=Chile<br>% of male with debit card=%{marker.size}<br>economycode=%{location}<extra></extra>",
         "hovertext": [
          "Chile"
         ],
         "legendgroup": "Chile",
         "locations": [
          "CHL"
         ],
         "marker": {
          "color": "#FFA15A",
          "size": [
           20.58
          ],
          "sizemode": "area",
          "sizeref": 0.1635,
          "symbol": "circle"
         },
         "mode": "markers",
         "name": "Chile",
         "showlegend": true,
         "type": "scattergeo"
        },
        {
         "geo": "geo",
         "hovertemplate": "<b>%{hovertext}</b><br><br>economy=China<br>% of male with debit card=%{marker.size}<br>economycode=%{location}<extra></extra>",
         "hovertext": [
          "China"
         ],
         "legendgroup": "China",
         "locations": [
          "CHN"
         ],
         "marker": {
          "color": "#19d3f3",
          "size": [
           29.03
          ],
          "sizemode": "area",
          "sizeref": 0.1635,
          "symbol": "circle"
         },
         "mode": "markers",
         "name": "China",
         "showlegend": true,
         "type": "scattergeo"
        },
        {
         "geo": "geo",
         "hovertemplate": "<b>%{hovertext}</b><br><br>economy=Colombia<br>% of male with debit card=%{marker.size}<br>economycode=%{location}<extra></extra>",
         "hovertext": [
          "Colombia"
         ],
         "legendgroup": "Colombia",
         "locations": [
          "COL"
         ],
         "marker": {
          "color": "#FF6692",
          "size": [
           11.1
          ],
          "sizemode": "area",
          "sizeref": 0.1635,
          "symbol": "circle"
         },
         "mode": "markers",
         "name": "Colombia",
         "showlegend": true,
         "type": "scattergeo"
        },
        {
         "geo": "geo",
         "hovertemplate": "<b>%{hovertext}</b><br><br>economy=Congo, Dem. Rep.<br>% of male with debit card=%{marker.size}<br>economycode=%{location}<extra></extra>",
         "hovertext": [
          "Congo, Dem. Rep."
         ],
         "legendgroup": "Congo, Dem. Rep.",
         "locations": [
          "COD"
         ],
         "marker": {
          "color": "#B6E880",
          "size": [
           4.6
          ],
          "sizemode": "area",
          "sizeref": 0.1635,
          "symbol": "circle"
         },
         "mode": "markers",
         "name": "Congo, Dem. Rep.",
         "showlegend": true,
         "type": "scattergeo"
        },
        {
         "geo": "geo",
         "hovertemplate": "<b>%{hovertext}</b><br><br>economy=Congo, Rep.<br>% of male with debit card=%{marker.size}<br>economycode=%{location}<extra></extra>",
         "hovertext": [
          "Congo, Rep."
         ],
         "legendgroup": "Congo, Rep.",
         "locations": [
          "COG"
         ],
         "marker": {
          "color": "#FF97FF",
          "size": [
           8.9
          ],
          "sizemode": "area",
          "sizeref": 0.1635,
          "symbol": "circle"
         },
         "mode": "markers",
         "name": "Congo, Rep.",
         "showlegend": true,
         "type": "scattergeo"
        },
        {
         "geo": "geo",
         "hovertemplate": "<b>%{hovertext}</b><br><br>economy=Costa Rica<br>% of male with debit card=%{marker.size}<br>economycode=%{location}<extra></extra>",
         "hovertext": [
          "Costa Rica"
         ],
         "legendgroup": "Costa Rica",
         "locations": [
          "CRI"
         ],
         "marker": {
          "color": "#FECB52",
          "size": [
           23.1
          ],
          "sizemode": "area",
          "sizeref": 0.1635,
          "symbol": "circle"
         },
         "mode": "markers",
         "name": "Costa Rica",
         "showlegend": true,
         "type": "scattergeo"
        },
        {
         "geo": "geo",
         "hovertemplate": "<b>%{hovertext}</b><br><br>economy=Cote d'Ivoire<br>% of male with debit card=%{marker.size}<br>economycode=%{location}<extra></extra>",
         "hovertext": [
          "Cote d'Ivoire"
         ],
         "legendgroup": "Cote d'Ivoire",
         "locations": [
          "CIV"
         ],
         "marker": {
          "color": "#636efa",
          "size": [
           8.1
          ],
          "sizemode": "area",
          "sizeref": 0.1635,
          "symbol": "circle"
         },
         "mode": "markers",
         "name": "Cote d'Ivoire",
         "showlegend": true,
         "type": "scattergeo"
        },
        {
         "geo": "geo",
         "hovertemplate": "<b>%{hovertext}</b><br><br>economy=Croatia<br>% of male with debit card=%{marker.size}<br>economycode=%{location}<extra></extra>",
         "hovertext": [
          "Croatia"
         ],
         "legendgroup": "Croatia",
         "locations": [
          "HRV"
         ],
         "marker": {
          "color": "#EF553B",
          "size": [
           35.4
          ],
          "sizemode": "area",
          "sizeref": 0.1635,
          "symbol": "circle"
         },
         "mode": "markers",
         "name": "Croatia",
         "showlegend": true,
         "type": "scattergeo"
        },
        {
         "geo": "geo",
         "hovertemplate": "<b>%{hovertext}</b><br><br>economy=Cyprus<br>% of male with debit card=%{marker.size}<br>economycode=%{location}<extra></extra>",
         "hovertext": [
          "Cyprus"
         ],
         "legendgroup": "Cyprus",
         "locations": [
          "CYP"
         ],
         "marker": {
          "color": "#00cc96",
          "size": [
           30.69
          ],
          "sizemode": "area",
          "sizeref": 0.1635,
          "symbol": "circle"
         },
         "mode": "markers",
         "name": "Cyprus",
         "showlegend": true,
         "type": "scattergeo"
        },
        {
         "geo": "geo",
         "hovertemplate": "<b>%{hovertext}</b><br><br>economy=Czech Republic<br>% of male with debit card=%{marker.size}<br>economycode=%{location}<extra></extra>",
         "hovertext": [
          "Czech Republic"
         ],
         "legendgroup": "Czech Republic",
         "locations": [
          "CZE"
         ],
         "marker": {
          "color": "#ab63fa",
          "size": [
           36
          ],
          "sizemode": "area",
          "sizeref": 0.1635,
          "symbol": "circle"
         },
         "mode": "markers",
         "name": "Czech Republic",
         "showlegend": true,
         "type": "scattergeo"
        },
        {
         "geo": "geo",
         "hovertemplate": "<b>%{hovertext}</b><br><br>economy=Denmark<br>% of male with debit card=%{marker.size}<br>economycode=%{location}<extra></extra>",
         "hovertext": [
          "Denmark"
         ],
         "legendgroup": "Denmark",
         "locations": [
          "DNK"
         ],
         "marker": {
          "color": "#FFA15A",
          "size": [
           46.9
          ],
          "sizemode": "area",
          "sizeref": 0.1635,
          "symbol": "circle"
         },
         "mode": "markers",
         "name": "Denmark",
         "showlegend": true,
         "type": "scattergeo"
        },
        {
         "geo": "geo",
         "hovertemplate": "<b>%{hovertext}</b><br><br>economy=Dominican Republic<br>% of male with debit card=%{marker.size}<br>economycode=%{location}<extra></extra>",
         "hovertext": [
          "Dominican Republic"
         ],
         "legendgroup": "Dominican Republic",
         "locations": [
          "DOM"
         ],
         "marker": {
          "color": "#19d3f3",
          "size": [
           13.8
          ],
          "sizemode": "area",
          "sizeref": 0.1635,
          "symbol": "circle"
         },
         "mode": "markers",
         "name": "Dominican Republic",
         "showlegend": true,
         "type": "scattergeo"
        },
        {
         "geo": "geo",
         "hovertemplate": "<b>%{hovertext}</b><br><br>economy=Ecuador<br>% of male with debit card=%{marker.size}<br>economycode=%{location}<extra></extra>",
         "hovertext": [
          "Ecuador"
         ],
         "legendgroup": "Ecuador",
         "locations": [
          "ECU"
         ],
         "marker": {
          "color": "#FF6692",
          "size": [
           14.7
          ],
          "sizemode": "area",
          "sizeref": 0.1635,
          "symbol": "circle"
         },
         "mode": "markers",
         "name": "Ecuador",
         "showlegend": true,
         "type": "scattergeo"
        },
        {
         "geo": "geo",
         "hovertemplate": "<b>%{hovertext}</b><br><br>economy=Egypt, Arab Rep.<br>% of male with debit card=%{marker.size}<br>economycode=%{location}<extra></extra>",
         "hovertext": [
          "Egypt, Arab Rep."
         ],
         "legendgroup": "Egypt, Arab Rep.",
         "locations": [
          "EGY"
         ],
         "marker": {
          "color": "#B6E880",
          "size": [
           18.2
          ],
          "sizemode": "area",
          "sizeref": 0.1635,
          "symbol": "circle"
         },
         "mode": "markers",
         "name": "Egypt, Arab Rep.",
         "showlegend": true,
         "type": "scattergeo"
        },
        {
         "geo": "geo",
         "hovertemplate": "<b>%{hovertext}</b><br><br>economy=El Salvador<br>% of male with debit card=%{marker.size}<br>economycode=%{location}<extra></extra>",
         "hovertext": [
          "El Salvador"
         ],
         "legendgroup": "El Salvador",
         "locations": [
          "SLV"
         ],
         "marker": {
          "color": "#FF97FF",
          "size": [
           12
          ],
          "sizemode": "area",
          "sizeref": 0.1635,
          "symbol": "circle"
         },
         "mode": "markers",
         "name": "El Salvador",
         "showlegend": true,
         "type": "scattergeo"
        },
        {
         "geo": "geo",
         "hovertemplate": "<b>%{hovertext}</b><br><br>economy=Estonia<br>% of male with debit card=%{marker.size}<br>economycode=%{location}<extra></extra>",
         "hovertext": [
          "Estonia"
         ],
         "legendgroup": "Estonia",
         "locations": [
          "EST"
         ],
         "marker": {
          "color": "#FECB52",
          "size": [
           44.7
          ],
          "sizemode": "area",
          "sizeref": 0.1635,
          "symbol": "circle"
         },
         "mode": "markers",
         "name": "Estonia",
         "showlegend": true,
         "type": "scattergeo"
        },
        {
         "geo": "geo",
         "hovertemplate": "<b>%{hovertext}</b><br><br>economy=Ethiopia<br>% of male with debit card=%{marker.size}<br>economycode=%{location}<extra></extra>",
         "hovertext": [
          "Ethiopia"
         ],
         "legendgroup": "Ethiopia",
         "locations": [
          "ETH"
         ],
         "marker": {
          "color": "#636efa",
          "size": [
           4.6
          ],
          "sizemode": "area",
          "sizeref": 0.1635,
          "symbol": "circle"
         },
         "mode": "markers",
         "name": "Ethiopia",
         "showlegend": true,
         "type": "scattergeo"
        },
        {
         "geo": "geo",
         "hovertemplate": "<b>%{hovertext}</b><br><br>economy=Finland<br>% of male with debit card=%{marker.size}<br>economycode=%{location}<extra></extra>",
         "hovertext": [
          "Finland"
         ],
         "legendgroup": "Finland",
         "locations": [
          "FIN"
         ],
         "marker": {
          "color": "#EF553B",
          "size": [
           45.9
          ],
          "sizemode": "area",
          "sizeref": 0.1635,
          "symbol": "circle"
         },
         "mode": "markers",
         "name": "Finland",
         "showlegend": true,
         "type": "scattergeo"
        },
        {
         "geo": "geo",
         "hovertemplate": "<b>%{hovertext}</b><br><br>economy=France<br>% of male with debit card=%{marker.size}<br>economycode=%{location}<extra></extra>",
         "hovertext": [
          "France"
         ],
         "legendgroup": "France",
         "locations": [
          "FRA"
         ],
         "marker": {
          "color": "#00cc96",
          "size": [
           41.6
          ],
          "sizemode": "area",
          "sizeref": 0.1635,
          "symbol": "circle"
         },
         "mode": "markers",
         "name": "France",
         "showlegend": true,
         "type": "scattergeo"
        },
        {
         "geo": "geo",
         "hovertemplate": "<b>%{hovertext}</b><br><br>economy=Gabon<br>% of male with debit card=%{marker.size}<br>economycode=%{location}<extra></extra>",
         "hovertext": [
          "Gabon"
         ],
         "legendgroup": "Gabon",
         "locations": [
          "GAB"
         ],
         "marker": {
          "color": "#ab63fa",
          "size": [
           14.5
          ],
          "sizemode": "area",
          "sizeref": 0.1635,
          "symbol": "circle"
         },
         "mode": "markers",
         "name": "Gabon",
         "showlegend": true,
         "type": "scattergeo"
        },
        {
         "geo": "geo",
         "hovertemplate": "<b>%{hovertext}</b><br><br>economy=Georgia<br>% of male with debit card=%{marker.size}<br>economycode=%{location}<extra></extra>",
         "hovertext": [
          "Georgia"
         ],
         "legendgroup": "Georgia",
         "locations": [
          "GEO"
         ],
         "marker": {
          "color": "#FFA15A",
          "size": [
           19.3
          ],
          "sizemode": "area",
          "sizeref": 0.1635,
          "symbol": "circle"
         },
         "mode": "markers",
         "name": "Georgia",
         "showlegend": true,
         "type": "scattergeo"
        },
        {
         "geo": "geo",
         "hovertemplate": "<b>%{hovertext}</b><br><br>economy=Germany<br>% of male with debit card=%{marker.size}<br>economycode=%{location}<extra></extra>",
         "hovertext": [
          "Germany"
         ],
         "legendgroup": "Germany",
         "locations": [
          "DEU"
         ],
         "marker": {
          "color": "#19d3f3",
          "size": [
           45
          ],
          "sizemode": "area",
          "sizeref": 0.1635,
          "symbol": "circle"
         },
         "mode": "markers",
         "name": "Germany",
         "showlegend": true,
         "type": "scattergeo"
        },
        {
         "geo": "geo",
         "hovertemplate": "<b>%{hovertext}</b><br><br>economy=Ghana<br>% of male with debit card=%{marker.size}<br>economycode=%{location}<extra></extra>",
         "hovertext": [
          "Ghana"
         ],
         "legendgroup": "Ghana",
         "locations": [
          "GHA"
         ],
         "marker": {
          "color": "#FF6692",
          "size": [
           15.8
          ],
          "sizemode": "area",
          "sizeref": 0.1635,
          "symbol": "circle"
         },
         "mode": "markers",
         "name": "Ghana",
         "showlegend": true,
         "type": "scattergeo"
        },
        {
         "geo": "geo",
         "hovertemplate": "<b>%{hovertext}</b><br><br>economy=Greece<br>% of male with debit card=%{marker.size}<br>economycode=%{location}<extra></extra>",
         "hovertext": [
          "Greece"
         ],
         "legendgroup": "Greece",
         "locations": [
          "GRC"
         ],
         "marker": {
          "color": "#B6E880",
          "size": [
           37
          ],
          "sizemode": "area",
          "sizeref": 0.1635,
          "symbol": "circle"
         },
         "mode": "markers",
         "name": "Greece",
         "showlegend": true,
         "type": "scattergeo"
        },
        {
         "geo": "geo",
         "hovertemplate": "<b>%{hovertext}</b><br><br>economy=Guatemala<br>% of male with debit card=%{marker.size}<br>economycode=%{location}<extra></extra>",
         "hovertext": [
          "Guatemala"
         ],
         "legendgroup": "Guatemala",
         "locations": [
          "GTM"
         ],
         "marker": {
          "color": "#FF97FF",
          "size": [
           7.1
          ],
          "sizemode": "area",
          "sizeref": 0.1635,
          "symbol": "circle"
         },
         "mode": "markers",
         "name": "Guatemala",
         "showlegend": true,
         "type": "scattergeo"
        },
        {
         "geo": "geo",
         "hovertemplate": "<b>%{hovertext}</b><br><br>economy=Guinea<br>% of male with debit card=%{marker.size}<br>economycode=%{location}<extra></extra>",
         "hovertext": [
          "Guinea"
         ],
         "legendgroup": "Guinea",
         "locations": [
          "GIN"
         ],
         "marker": {
          "color": "#FECB52",
          "size": [
           4.8
          ],
          "sizemode": "area",
          "sizeref": 0.1635,
          "symbol": "circle"
         },
         "mode": "markers",
         "name": "Guinea",
         "showlegend": true,
         "type": "scattergeo"
        },
        {
         "geo": "geo",
         "hovertemplate": "<b>%{hovertext}</b><br><br>economy=Haiti<br>% of male with debit card=%{marker.size}<br>economycode=%{location}<extra></extra>",
         "hovertext": [
          "Haiti"
         ],
         "legendgroup": "Haiti",
         "locations": [
          "HTI"
         ],
         "marker": {
          "color": "#636efa",
          "size": [
           6.75
          ],
          "sizemode": "area",
          "sizeref": 0.1635,
          "symbol": "circle"
         },
         "mode": "markers",
         "name": "Haiti",
         "showlegend": true,
         "type": "scattergeo"
        },
        {
         "geo": "geo",
         "hovertemplate": "<b>%{hovertext}</b><br><br>economy=Honduras<br>% of male with debit card=%{marker.size}<br>economycode=%{location}<extra></extra>",
         "hovertext": [
          "Honduras"
         ],
         "legendgroup": "Honduras",
         "locations": [
          "HND"
         ],
         "marker": {
          "color": "#EF553B",
          "size": [
           8.2
          ],
          "sizemode": "area",
          "sizeref": 0.1635,
          "symbol": "circle"
         },
         "mode": "markers",
         "name": "Honduras",
         "showlegend": true,
         "type": "scattergeo"
        },
        {
         "geo": "geo",
         "hovertemplate": "<b>%{hovertext}</b><br><br>economy=Hong Kong SAR, China<br>% of male with debit card=%{marker.size}<br>economycode=%{location}<extra></extra>",
         "hovertext": [
          "Hong Kong SAR, China"
         ],
         "legendgroup": "Hong Kong SAR, China",
         "locations": [
          "HKG"
         ],
         "marker": {
          "color": "#00cc96",
          "size": [
           37.84
          ],
          "sizemode": "area",
          "sizeref": 0.1635,
          "symbol": "circle"
         },
         "mode": "markers",
         "name": "Hong Kong SAR, China",
         "showlegend": true,
         "type": "scattergeo"
        },
        {
         "geo": "geo",
         "hovertemplate": "<b>%{hovertext}</b><br><br>economy=Hungary<br>% of male with debit card=%{marker.size}<br>economycode=%{location}<extra></extra>",
         "hovertext": [
          "Hungary"
         ],
         "legendgroup": "Hungary",
         "locations": [
          "HUN"
         ],
         "marker": {
          "color": "#ab63fa",
          "size": [
           27.9
          ],
          "sizemode": "area",
          "sizeref": 0.1635,
          "symbol": "circle"
         },
         "mode": "markers",
         "name": "Hungary",
         "showlegend": true,
         "type": "scattergeo"
        },
        {
         "geo": "geo",
         "hovertemplate": "<b>%{hovertext}</b><br><br>economy=India<br>% of male with debit card=%{marker.size}<br>economycode=%{location}<extra></extra>",
         "hovertext": [
          "India"
         ],
         "legendgroup": "India",
         "locations": [
          "IND"
         ],
         "marker": {
          "color": "#FFA15A",
          "size": [
           19.2
          ],
          "sizemode": "area",
          "sizeref": 0.1635,
          "symbol": "circle"
         },
         "mode": "markers",
         "name": "India",
         "showlegend": true,
         "type": "scattergeo"
        },
        {
         "geo": "geo",
         "hovertemplate": "<b>%{hovertext}</b><br><br>economy=Indonesia<br>% of male with debit card=%{marker.size}<br>economycode=%{location}<extra></extra>",
         "hovertext": [
          "Indonesia"
         ],
         "legendgroup": "Indonesia",
         "locations": [
          "IDN"
         ],
         "marker": {
          "color": "#19d3f3",
          "size": [
           13.6
          ],
          "sizemode": "area",
          "sizeref": 0.1635,
          "symbol": "circle"
         },
         "mode": "markers",
         "name": "Indonesia",
         "showlegend": true,
         "type": "scattergeo"
        },
        {
         "geo": "geo",
         "hovertemplate": "<b>%{hovertext}</b><br><br>economy=Iran, Islamic Rep.<br>% of male with debit card=%{marker.size}<br>economycode=%{location}<extra></extra>",
         "hovertext": [
          "Iran, Islamic Rep."
         ],
         "legendgroup": "Iran, Islamic Rep.",
         "locations": [
          "IRN"
         ],
         "marker": {
          "color": "#FF6692",
          "size": [
           42.33
          ],
          "sizemode": "area",
          "sizeref": 0.1635,
          "symbol": "circle"
         },
         "mode": "markers",
         "name": "Iran, Islamic Rep.",
         "showlegend": true,
         "type": "scattergeo"
        },
        {
         "geo": "geo",
         "hovertemplate": "<b>%{hovertext}</b><br><br>economy=Iraq<br>% of male with debit card=%{marker.size}<br>economycode=%{location}<extra></extra>",
         "hovertext": [
          "Iraq"
         ],
         "legendgroup": "Iraq",
         "locations": [
          "IRQ"
         ],
         "marker": {
          "color": "#B6E880",
          "size": [
           6.2
          ],
          "sizemode": "area",
          "sizeref": 0.1635,
          "symbol": "circle"
         },
         "mode": "markers",
         "name": "Iraq",
         "showlegend": true,
         "type": "scattergeo"
        },
        {
         "geo": "geo",
         "hovertemplate": "<b>%{hovertext}</b><br><br>economy=Ireland<br>% of male with debit card=%{marker.size}<br>economycode=%{location}<extra></extra>",
         "hovertext": [
          "Ireland"
         ],
         "legendgroup": "Ireland",
         "locations": [
          "IRL"
         ],
         "marker": {
          "color": "#FF97FF",
          "size": [
           39.5
          ],
          "sizemode": "area",
          "sizeref": 0.1635,
          "symbol": "circle"
         },
         "mode": "markers",
         "name": "Ireland",
         "showlegend": true,
         "type": "scattergeo"
        },
        {
         "geo": "geo",
         "hovertemplate": "<b>%{hovertext}</b><br><br>economy=Israel<br>% of male with debit card=%{marker.size}<br>economycode=%{location}<extra></extra>",
         "hovertext": [
          "Israel"
         ],
         "legendgroup": "Israel",
         "locations": [
          "ISR"
         ],
         "marker": {
          "color": "#FECB52",
          "size": [
           14.8
          ],
          "sizemode": "area",
          "sizeref": 0.1635,
          "symbol": "circle"
         },
         "mode": "markers",
         "name": "Israel",
         "showlegend": true,
         "type": "scattergeo"
        },
        {
         "geo": "geo",
         "hovertemplate": "<b>%{hovertext}</b><br><br>economy=Italy<br>% of male with debit card=%{marker.size}<br>economycode=%{location}<extra></extra>",
         "hovertext": [
          "Italy"
         ],
         "legendgroup": "Italy",
         "locations": [
          "ITA"
         ],
         "marker": {
          "color": "#636efa",
          "size": [
           44.6
          ],
          "sizemode": "area",
          "sizeref": 0.1635,
          "symbol": "circle"
         },
         "mode": "markers",
         "name": "Italy",
         "showlegend": true,
         "type": "scattergeo"
        },
        {
         "geo": "geo",
         "hovertemplate": "<b>%{hovertext}</b><br><br>economy=Japan<br>% of male with debit card=%{marker.size}<br>economycode=%{location}<extra></extra>",
         "hovertext": [
          "Japan"
         ],
         "legendgroup": "Japan",
         "locations": [
          "JPN"
         ],
         "marker": {
          "color": "#EF553B",
          "size": [
           41.49
          ],
          "sizemode": "area",
          "sizeref": 0.1635,
          "symbol": "circle"
         },
         "mode": "markers",
         "name": "Japan",
         "showlegend": true,
         "type": "scattergeo"
        },
        {
         "geo": "geo",
         "hovertemplate": "<b>%{hovertext}</b><br><br>economy=Jordan<br>% of male with debit card=%{marker.size}<br>economycode=%{location}<extra></extra>",
         "hovertext": [
          "Jordan"
         ],
         "legendgroup": "Jordan",
         "locations": [
          "JOR"
         ],
         "marker": {
          "color": "#00cc96",
          "size": [
           19.37
          ],
          "sizemode": "area",
          "sizeref": 0.1635,
          "symbol": "circle"
         },
         "mode": "markers",
         "name": "Jordan",
         "showlegend": true,
         "type": "scattergeo"
        },
        {
         "geo": "geo",
         "hovertemplate": "<b>%{hovertext}</b><br><br>economy=Kazakhstan<br>% of male with debit card=%{marker.size}<br>economycode=%{location}<extra></extra>",
         "hovertext": [
          "Kazakhstan"
         ],
         "legendgroup": "Kazakhstan",
         "locations": [
          "KAZ"
         ],
         "marker": {
          "color": "#ab63fa",
          "size": [
           20.3
          ],
          "sizemode": "area",
          "sizeref": 0.1635,
          "symbol": "circle"
         },
         "mode": "markers",
         "name": "Kazakhstan",
         "showlegend": true,
         "type": "scattergeo"
        },
        {
         "geo": "geo",
         "hovertemplate": "<b>%{hovertext}</b><br><br>economy=Kenya<br>% of male with debit card=%{marker.size}<br>economycode=%{location}<extra></extra>",
         "hovertext": [
          "Kenya"
         ],
         "legendgroup": "Kenya",
         "locations": [
          "KEN"
         ],
         "marker": {
          "color": "#FFA15A",
          "size": [
           21
          ],
          "sizemode": "area",
          "sizeref": 0.1635,
          "symbol": "circle"
         },
         "mode": "markers",
         "name": "Kenya",
         "showlegend": true,
         "type": "scattergeo"
        },
        {
         "geo": "geo",
         "hovertemplate": "<b>%{hovertext}</b><br><br>economy=Korea, Rep.<br>% of male with debit card=%{marker.size}<br>economycode=%{location}<extra></extra>",
         "hovertext": [
          "Korea, Rep."
         ],
         "legendgroup": "Korea, Rep.",
         "locations": [
          "KOR"
         ],
         "marker": {
          "color": "#19d3f3",
          "size": [
           42
          ],
          "sizemode": "area",
          "sizeref": 0.1635,
          "symbol": "circle"
         },
         "mode": "markers",
         "name": "Korea, Rep.",
         "showlegend": true,
         "type": "scattergeo"
        },
        {
         "geo": "geo",
         "hovertemplate": "<b>%{hovertext}</b><br><br>economy=Kosovo<br>% of male with debit card=%{marker.size}<br>economycode=%{location}<extra></extra>",
         "hovertext": [
          "Kosovo"
         ],
         "legendgroup": "Kosovo",
         "locations": [
          "XKX"
         ],
         "marker": {
          "color": "#FF6692",
          "size": [
           25.5
          ],
          "sizemode": "area",
          "sizeref": 0.1635,
          "symbol": "circle"
         },
         "mode": "markers",
         "name": "Kosovo",
         "showlegend": true,
         "type": "scattergeo"
        },
        {
         "geo": "geo",
         "hovertemplate": "<b>%{hovertext}</b><br><br>economy=Kuwait<br>% of male with debit card=%{marker.size}<br>economycode=%{location}<extra></extra>",
         "hovertext": [
          "Kuwait"
         ],
         "legendgroup": "Kuwait",
         "locations": [
          "KWT"
         ],
         "marker": {
          "color": "#B6E880",
          "size": [
           57.8
          ],
          "sizemode": "area",
          "sizeref": 0.1635,
          "symbol": "circle"
         },
         "mode": "markers",
         "name": "Kuwait",
         "showlegend": true,
         "type": "scattergeo"
        },
        {
         "geo": "geo",
         "hovertemplate": "<b>%{hovertext}</b><br><br>economy=Kyrgyz Republic<br>% of male with debit card=%{marker.size}<br>economycode=%{location}<extra></extra>",
         "hovertext": [
          "Kyrgyz Republic"
         ],
         "legendgroup": "Kyrgyz Republic",
         "locations": [
          "KGZ"
         ],
         "marker": {
          "color": "#FF97FF",
          "size": [
           8
          ],
          "sizemode": "area",
          "sizeref": 0.1635,
          "symbol": "circle"
         },
         "mode": "markers",
         "name": "Kyrgyz Republic",
         "showlegend": true,
         "type": "scattergeo"
        },
        {
         "geo": "geo",
         "hovertemplate": "<b>%{hovertext}</b><br><br>economy=Lao PDR<br>% of male with debit card=%{marker.size}<br>economycode=%{location}<extra></extra>",
         "hovertext": [
          "Lao PDR"
         ],
         "legendgroup": "Lao PDR",
         "locations": [
          "LAO"
         ],
         "marker": {
          "color": "#FECB52",
          "size": [
           6.2
          ],
          "sizemode": "area",
          "sizeref": 0.1635,
          "symbol": "circle"
         },
         "mode": "markers",
         "name": "Lao PDR",
         "showlegend": true,
         "type": "scattergeo"
        },
        {
         "geo": "geo",
         "hovertemplate": "<b>%{hovertext}</b><br><br>economy=Latvia<br>% of male with debit card=%{marker.size}<br>economycode=%{location}<extra></extra>",
         "hovertext": [
          "Latvia"
         ],
         "legendgroup": "Latvia",
         "locations": [
          "LVA"
         ],
         "marker": {
          "color": "#636efa",
          "size": [
           30.14
          ],
          "sizemode": "area",
          "sizeref": 0.1635,
          "symbol": "circle"
         },
         "mode": "markers",
         "name": "Latvia",
         "showlegend": true,
         "type": "scattergeo"
        },
        {
         "geo": "geo",
         "hovertemplate": "<b>%{hovertext}</b><br><br>economy=Lebanon<br>% of male with debit card=%{marker.size}<br>economycode=%{location}<extra></extra>",
         "hovertext": [
          "Lebanon"
         ],
         "legendgroup": "Lebanon",
         "locations": [
          "LBN"
         ],
         "marker": {
          "color": "#EF553B",
          "size": [
           25
          ],
          "sizemode": "area",
          "sizeref": 0.1635,
          "symbol": "circle"
         },
         "mode": "markers",
         "name": "Lebanon",
         "showlegend": true,
         "type": "scattergeo"
        },
        {
         "geo": "geo",
         "hovertemplate": "<b>%{hovertext}</b><br><br>economy=Lesotho<br>% of male with debit card=%{marker.size}<br>economycode=%{location}<extra></extra>",
         "hovertext": [
          "Lesotho"
         ],
         "legendgroup": "Lesotho",
         "locations": [
          "LSO"
         ],
         "marker": {
          "color": "#00cc96",
          "size": [
           10.1
          ],
          "sizemode": "area",
          "sizeref": 0.1635,
          "symbol": "circle"
         },
         "mode": "markers",
         "name": "Lesotho",
         "showlegend": true,
         "type": "scattergeo"
        },
        {
         "geo": "geo",
         "hovertemplate": "<b>%{hovertext}</b><br><br>economy=Liberia<br>% of male with debit card=%{marker.size}<br>economycode=%{location}<extra></extra>",
         "hovertext": [
          "Liberia"
         ],
         "legendgroup": "Liberia",
         "locations": [
          "LBR"
         ],
         "marker": {
          "color": "#ab63fa",
          "size": [
           2.6
          ],
          "sizemode": "area",
          "sizeref": 0.1635,
          "symbol": "circle"
         },
         "mode": "markers",
         "name": "Liberia",
         "showlegend": true,
         "type": "scattergeo"
        },
        {
         "geo": "geo",
         "hovertemplate": "<b>%{hovertext}</b><br><br>economy=Libya<br>% of male with debit card=%{marker.size}<br>economycode=%{location}<extra></extra>",
         "hovertext": [
          "Libya"
         ],
         "legendgroup": "Libya",
         "locations": [
          "LBY"
         ],
         "marker": {
          "color": "#FFA15A",
          "size": [
           21.86
          ],
          "sizemode": "area",
          "sizeref": 0.1635,
          "symbol": "circle"
         },
         "mode": "markers",
         "name": "Libya",
         "showlegend": true,
         "type": "scattergeo"
        },
        {
         "geo": "geo",
         "hovertemplate": "<b>%{hovertext}</b><br><br>economy=Lithuania<br>% of male with debit card=%{marker.size}<br>economycode=%{location}<extra></extra>",
         "hovertext": [
          "Lithuania"
         ],
         "legendgroup": "Lithuania",
         "locations": [
          "LTU"
         ],
         "marker": {
          "color": "#19d3f3",
          "size": [
           27.7
          ],
          "sizemode": "area",
          "sizeref": 0.1635,
          "symbol": "circle"
         },
         "mode": "markers",
         "name": "Lithuania",
         "showlegend": true,
         "type": "scattergeo"
        },
        {
         "geo": "geo",
         "hovertemplate": "<b>%{hovertext}</b><br><br>economy=Luxembourg<br>% of male with debit card=%{marker.size}<br>economycode=%{location}<extra></extra>",
         "hovertext": [
          "Luxembourg"
         ],
         "legendgroup": "Luxembourg",
         "locations": [
          "LUX"
         ],
         "marker": {
          "color": "#FF6692",
          "size": [
           48.3
          ],
          "sizemode": "area",
          "sizeref": 0.1635,
          "symbol": "circle"
         },
         "mode": "markers",
         "name": "Luxembourg",
         "showlegend": true,
         "type": "scattergeo"
        },
        {
         "geo": "geo",
         "hovertemplate": "<b>%{hovertext}</b><br><br>economy=Macedonia, FYR<br>% of male with debit card=%{marker.size}<br>economycode=%{location}<extra></extra>",
         "hovertext": [
          "Macedonia, FYR"
         ],
         "legendgroup": "Macedonia, FYR",
         "locations": [
          "MKD"
         ],
         "marker": {
          "color": "#B6E880",
          "size": [
           26.69
          ],
          "sizemode": "area",
          "sizeref": 0.1635,
          "symbol": "circle"
         },
         "mode": "markers",
         "name": "Macedonia, FYR",
         "showlegend": true,
         "type": "scattergeo"
        },
        {
         "geo": "geo",
         "hovertemplate": "<b>%{hovertext}</b><br><br>economy=Madagascar<br>% of male with debit card=%{marker.size}<br>economycode=%{location}<extra></extra>",
         "hovertext": [
          "Madagascar"
         ],
         "legendgroup": "Madagascar",
         "locations": [
          "MDG"
         ],
         "marker": {
          "color": "#FF97FF",
          "size": [
           2.3
          ],
          "sizemode": "area",
          "sizeref": 0.1635,
          "symbol": "circle"
         },
         "mode": "markers",
         "name": "Madagascar",
         "showlegend": true,
         "type": "scattergeo"
        },
        {
         "geo": "geo",
         "hovertemplate": "<b>%{hovertext}</b><br><br>economy=Malawi<br>% of male with debit card=%{marker.size}<br>economycode=%{location}<extra></extra>",
         "hovertext": [
          "Malawi"
         ],
         "legendgroup": "Malawi",
         "locations": [
          "MWI"
         ],
         "marker": {
          "color": "#FECB52",
          "size": [
           6.2
          ],
          "sizemode": "area",
          "sizeref": 0.1635,
          "symbol": "circle"
         },
         "mode": "markers",
         "name": "Malawi",
         "showlegend": true,
         "type": "scattergeo"
        },
        {
         "geo": "geo",
         "hovertemplate": "<b>%{hovertext}</b><br><br>economy=Malaysia<br>% of male with debit card=%{marker.size}<br>economycode=%{location}<extra></extra>",
         "hovertext": [
          "Malaysia"
         ],
         "legendgroup": "Malaysia",
         "locations": [
          "MYS"
         ],
         "marker": {
          "color": "#636efa",
          "size": [
           41.04
          ],
          "sizemode": "area",
          "sizeref": 0.1635,
          "symbol": "circle"
         },
         "mode": "markers",
         "name": "Malaysia",
         "showlegend": true,
         "type": "scattergeo"
        },
        {
         "geo": "geo",
         "hovertemplate": "<b>%{hovertext}</b><br><br>economy=Mali<br>% of male with debit card=%{marker.size}<br>economycode=%{location}<extra></extra>",
         "hovertext": [
          "Mali"
         ],
         "legendgroup": "Mali",
         "locations": [
          "MLI"
         ],
         "marker": {
          "color": "#EF553B",
          "size": [
           7.6
          ],
          "sizemode": "area",
          "sizeref": 0.1635,
          "symbol": "circle"
         },
         "mode": "markers",
         "name": "Mali",
         "showlegend": true,
         "type": "scattergeo"
        },
        {
         "geo": "geo",
         "hovertemplate": "<b>%{hovertext}</b><br><br>economy=Malta<br>% of male with debit card=%{marker.size}<br>economycode=%{location}<extra></extra>",
         "hovertext": [
          "Malta"
         ],
         "legendgroup": "Malta",
         "locations": [
          "MLT"
         ],
         "marker": {
          "color": "#00cc96",
          "size": [
           40.98
          ],
          "sizemode": "area",
          "sizeref": 0.1635,
          "symbol": "circle"
         },
         "mode": "markers",
         "name": "Malta",
         "showlegend": true,
         "type": "scattergeo"
        },
        {
         "geo": "geo",
         "hovertemplate": "<b>%{hovertext}</b><br><br>economy=Mauritania<br>% of male with debit card=%{marker.size}<br>economycode=%{location}<extra></extra>",
         "hovertext": [
          "Mauritania"
         ],
         "legendgroup": "Mauritania",
         "locations": [
          "MRT"
         ],
         "marker": {
          "color": "#ab63fa",
          "size": [
           12.9
          ],
          "sizemode": "area",
          "sizeref": 0.1635,
          "symbol": "circle"
         },
         "mode": "markers",
         "name": "Mauritania",
         "showlegend": true,
         "type": "scattergeo"
        },
        {
         "geo": "geo",
         "hovertemplate": "<b>%{hovertext}</b><br><br>economy=Mauritius<br>% of male with debit card=%{marker.size}<br>economycode=%{location}<extra></extra>",
         "hovertext": [
          "Mauritius"
         ],
         "legendgroup": "Mauritius",
         "locations": [
          "MUS"
         ],
         "marker": {
          "color": "#FFA15A",
          "size": [
           40.3
          ],
          "sizemode": "area",
          "sizeref": 0.1635,
          "symbol": "circle"
         },
         "mode": "markers",
         "name": "Mauritius",
         "showlegend": true,
         "type": "scattergeo"
        },
        {
         "geo": "geo",
         "hovertemplate": "<b>%{hovertext}</b><br><br>economy=Mexico<br>% of male with debit card=%{marker.size}<br>economycode=%{location}<extra></extra>",
         "hovertext": [
          "Mexico"
         ],
         "legendgroup": "Mexico",
         "locations": [
          "MEX"
         ],
         "marker": {
          "color": "#19d3f3",
          "size": [
           11.5
          ],
          "sizemode": "area",
          "sizeref": 0.1635,
          "symbol": "circle"
         },
         "mode": "markers",
         "name": "Mexico",
         "showlegend": true,
         "type": "scattergeo"
        },
        {
         "geo": "geo",
         "hovertemplate": "<b>%{hovertext}</b><br><br>economy=Moldova<br>% of male with debit card=%{marker.size}<br>economycode=%{location}<extra></extra>",
         "hovertext": [
          "Moldova"
         ],
         "legendgroup": "Moldova",
         "locations": [
          "MDA"
         ],
         "marker": {
          "color": "#FF6692",
          "size": [
           10.5
          ],
          "sizemode": "area",
          "sizeref": 0.1635,
          "symbol": "circle"
         },
         "mode": "markers",
         "name": "Moldova",
         "showlegend": true,
         "type": "scattergeo"
        },
        {
         "geo": "geo",
         "hovertemplate": "<b>%{hovertext}</b><br><br>economy=Mongolia<br>% of male with debit card=%{marker.size}<br>economycode=%{location}<extra></extra>",
         "hovertext": [
          "Mongolia"
         ],
         "legendgroup": "Mongolia",
         "locations": [
          "MNG"
         ],
         "marker": {
          "color": "#B6E880",
          "size": [
           30
          ],
          "sizemode": "area",
          "sizeref": 0.1635,
          "symbol": "circle"
         },
         "mode": "markers",
         "name": "Mongolia",
         "showlegend": true,
         "type": "scattergeo"
        },
        {
         "geo": "geo",
         "hovertemplate": "<b>%{hovertext}</b><br><br>economy=Montenegro<br>% of male with debit card=%{marker.size}<br>economycode=%{location}<extra></extra>",
         "hovertext": [
          "Montenegro"
         ],
         "legendgroup": "Montenegro",
         "locations": [
          "MNE"
         ],
         "marker": {
          "color": "#FF97FF",
          "size": [
           21.1
          ],
          "sizemode": "area",
          "sizeref": 0.1635,
          "symbol": "circle"
         },
         "mode": "markers",
         "name": "Montenegro",
         "showlegend": true,
         "type": "scattergeo"
        },
        {
         "geo": "geo",
         "hovertemplate": "<b>%{hovertext}</b><br><br>economy=Morocco<br>% of male with debit card=%{marker.size}<br>economycode=%{location}<extra></extra>",
         "hovertext": [
          "Morocco"
         ],
         "legendgroup": "Morocco",
         "locations": [
          "MAR"
         ],
         "marker": {
          "color": "#FECB52",
          "size": [
           15.79
          ],
          "sizemode": "area",
          "sizeref": 0.1635,
          "symbol": "circle"
         },
         "mode": "markers",
         "name": "Morocco",
         "showlegend": true,
         "type": "scattergeo"
        },
        {
         "geo": "geo",
         "hovertemplate": "<b>%{hovertext}</b><br><br>economy=Mozambique<br>% of male with debit card=%{marker.size}<br>economycode=%{location}<extra></extra>",
         "hovertext": [
          "Mozambique"
         ],
         "legendgroup": "Mozambique",
         "locations": [
          "MOZ"
         ],
         "marker": {
          "color": "#636efa",
          "size": [
           16.1
          ],
          "sizemode": "area",
          "sizeref": 0.1635,
          "symbol": "circle"
         },
         "mode": "markers",
         "name": "Mozambique",
         "showlegend": true,
         "type": "scattergeo"
        },
        {
         "geo": "geo",
         "hovertemplate": "<b>%{hovertext}</b><br><br>economy=Myanmar<br>% of male with debit card=%{marker.size}<br>economycode=%{location}<extra></extra>",
         "hovertext": [
          "Myanmar"
         ],
         "legendgroup": "Myanmar",
         "locations": [
          "MMR"
         ],
         "marker": {
          "color": "#EF553B",
          "size": [
           1.81
          ],
          "sizemode": "area",
          "sizeref": 0.1635,
          "symbol": "circle"
         },
         "mode": "markers",
         "name": "Myanmar",
         "showlegend": true,
         "type": "scattergeo"
        },
        {
         "geo": "geo",
         "hovertemplate": "<b>%{hovertext}</b><br><br>economy=Namibia<br>% of male with debit card=%{marker.size}<br>economycode=%{location}<extra></extra>",
         "hovertext": [
          "Namibia"
         ],
         "legendgroup": "Namibia",
         "locations": [
          "NAM"
         ],
         "marker": {
          "color": "#00cc96",
          "size": [
           22.9
          ],
          "sizemode": "area",
          "sizeref": 0.1635,
          "symbol": "circle"
         },
         "mode": "markers",
         "name": "Namibia",
         "showlegend": true,
         "type": "scattergeo"
        },
        {
         "geo": "geo",
         "hovertemplate": "<b>%{hovertext}</b><br><br>economy=Nepal<br>% of male with debit card=%{marker.size}<br>economycode=%{location}<extra></extra>",
         "hovertext": [
          "Nepal"
         ],
         "legendgroup": "Nepal",
         "locations": [
          "NPL"
         ],
         "marker": {
          "color": "#ab63fa",
          "size": [
           6
          ],
          "sizemode": "area",
          "sizeref": 0.1635,
          "symbol": "circle"
         },
         "mode": "markers",
         "name": "Nepal",
         "showlegend": true,
         "type": "scattergeo"
        },
        {
         "geo": "geo",
         "hovertemplate": "<b>%{hovertext}</b><br><br>economy=Netherlands<br>% of male with debit card=%{marker.size}<br>economycode=%{location}<extra></extra>",
         "hovertext": [
          "Netherlands"
         ],
         "legendgroup": "Netherlands",
         "locations": [
          "NLD"
         ],
         "marker": {
          "color": "#FFA15A",
          "size": [
           52.1
          ],
          "sizemode": "area",
          "sizeref": 0.1635,
          "symbol": "circle"
         },
         "mode": "markers",
         "name": "Netherlands",
         "showlegend": true,
         "type": "scattergeo"
        },
        {
         "geo": "geo",
         "hovertemplate": "<b>%{hovertext}</b><br><br>economy=New Zealand<br>% of male with debit card=%{marker.size}<br>economycode=%{location}<extra></extra>",
         "hovertext": [
          "New Zealand"
         ],
         "legendgroup": "New Zealand",
         "locations": [
          "NZL"
         ],
         "marker": {
          "color": "#19d3f3",
          "size": [
           39.2
          ],
          "sizemode": "area",
          "sizeref": 0.1635,
          "symbol": "circle"
         },
         "mode": "markers",
         "name": "New Zealand",
         "showlegend": true,
         "type": "scattergeo"
        },
        {
         "geo": "geo",
         "hovertemplate": "<b>%{hovertext}</b><br><br>economy=Nicaragua<br>% of male with debit card=%{marker.size}<br>economycode=%{location}<extra></extra>",
         "hovertext": [
          "Nicaragua"
         ],
         "legendgroup": "Nicaragua",
         "locations": [
          "NIC"
         ],
         "marker": {
          "color": "#FF6692",
          "size": [
           9.4
          ],
          "sizemode": "area",
          "sizeref": 0.1635,
          "symbol": "circle"
         },
         "mode": "markers",
         "name": "Nicaragua",
         "showlegend": true,
         "type": "scattergeo"
        },
        {
         "geo": "geo",
         "hovertemplate": "<b>%{hovertext}</b><br><br>economy=Niger<br>% of male with debit card=%{marker.size}<br>economycode=%{location}<extra></extra>",
         "hovertext": [
          "Niger"
         ],
         "legendgroup": "Niger",
         "locations": [
          "NER"
         ],
         "marker": {
          "color": "#B6E880",
          "size": [
           3.6
          ],
          "sizemode": "area",
          "sizeref": 0.1635,
          "symbol": "circle"
         },
         "mode": "markers",
         "name": "Niger",
         "showlegend": true,
         "type": "scattergeo"
        },
        {
         "geo": "geo",
         "hovertemplate": "<b>%{hovertext}</b><br><br>economy=Nigeria<br>% of male with debit card=%{marker.size}<br>economycode=%{location}<extra></extra>",
         "hovertext": [
          "Nigeria"
         ],
         "legendgroup": "Nigeria",
         "locations": [
          "NGA"
         ],
         "marker": {
          "color": "#FF97FF",
          "size": [
           30.9
          ],
          "sizemode": "area",
          "sizeref": 0.1635,
          "symbol": "circle"
         },
         "mode": "markers",
         "name": "Nigeria",
         "showlegend": true,
         "type": "scattergeo"
        },
        {
         "geo": "geo",
         "hovertemplate": "<b>%{hovertext}</b><br><br>economy=Norway<br>% of male with debit card=%{marker.size}<br>economycode=%{location}<extra></extra>",
         "hovertext": [
          "Norway"
         ],
         "legendgroup": "Norway",
         "locations": [
          "NOR"
         ],
         "marker": {
          "color": "#FECB52",
          "size": [
           49
          ],
          "sizemode": "area",
          "sizeref": 0.1635,
          "symbol": "circle"
         },
         "mode": "markers",
         "name": "Norway",
         "showlegend": true,
         "type": "scattergeo"
        },
        {
         "geo": "geo",
         "hovertemplate": "<b>%{hovertext}</b><br><br>economy=Pakistan<br>% of male with debit card=%{marker.size}<br>economycode=%{location}<extra></extra>",
         "hovertext": [
          "Pakistan"
         ],
         "legendgroup": "Pakistan",
         "locations": [
          "PAK"
         ],
         "marker": {
          "color": "#636efa",
          "size": [
           8
          ],
          "sizemode": "area",
          "sizeref": 0.1635,
          "symbol": "circle"
         },
         "mode": "markers",
         "name": "Pakistan",
         "showlegend": true,
         "type": "scattergeo"
        },
        {
         "geo": "geo",
         "hovertemplate": "<b>%{hovertext}</b><br><br>economy=Panama<br>% of male with debit card=%{marker.size}<br>economycode=%{location}<extra></extra>",
         "hovertext": [
          "Panama"
         ],
         "legendgroup": "Panama",
         "locations": [
          "PAN"
         ],
         "marker": {
          "color": "#EF553B",
          "size": [
           12.2
          ],
          "sizemode": "area",
          "sizeref": 0.1635,
          "symbol": "circle"
         },
         "mode": "markers",
         "name": "Panama",
         "showlegend": true,
         "type": "scattergeo"
        },
        {
         "geo": "geo",
         "hovertemplate": "<b>%{hovertext}</b><br><br>economy=Paraguay<br>% of male with debit card=%{marker.size}<br>economycode=%{location}<extra></extra>",
         "hovertext": [
          "Paraguay"
         ],
         "legendgroup": "Paraguay",
         "locations": [
          "PRY"
         ],
         "marker": {
          "color": "#00cc96",
          "size": [
           8.7
          ],
          "sizemode": "area",
          "sizeref": 0.1635,
          "symbol": "circle"
         },
         "mode": "markers",
         "name": "Paraguay",
         "showlegend": true,
         "type": "scattergeo"
        },
        {
         "geo": "geo",
         "hovertemplate": "<b>%{hovertext}</b><br><br>economy=Peru<br>% of male with debit card=%{marker.size}<br>economycode=%{location}<extra></extra>",
         "hovertext": [
          "Peru"
         ],
         "legendgroup": "Peru",
         "locations": [
          "PER"
         ],
         "marker": {
          "color": "#ab63fa",
          "size": [
           14
          ],
          "sizemode": "area",
          "sizeref": 0.1635,
          "symbol": "circle"
         },
         "mode": "markers",
         "name": "Peru",
         "showlegend": true,
         "type": "scattergeo"
        },
        {
         "geo": "geo",
         "hovertemplate": "<b>%{hovertext}</b><br><br>economy=Philippines<br>% of male with debit card=%{marker.size}<br>economycode=%{location}<extra></extra>",
         "hovertext": [
          "Philippines"
         ],
         "legendgroup": "Philippines",
         "locations": [
          "PHL"
         ],
         "marker": {
          "color": "#FFA15A",
          "size": [
           10.6
          ],
          "sizemode": "area",
          "sizeref": 0.1635,
          "symbol": "circle"
         },
         "mode": "markers",
         "name": "Philippines",
         "showlegend": true,
         "type": "scattergeo"
        },
        {
         "geo": "geo",
         "hovertemplate": "<b>%{hovertext}</b><br><br>economy=Poland<br>% of male with debit card=%{marker.size}<br>economycode=%{location}<extra></extra>",
         "hovertext": [
          "Poland"
         ],
         "legendgroup": "Poland",
         "locations": [
          "POL"
         ],
         "marker": {
          "color": "#19d3f3",
          "size": [
           31.2
          ],
          "sizemode": "area",
          "sizeref": 0.1635,
          "symbol": "circle"
         },
         "mode": "markers",
         "name": "Poland",
         "showlegend": true,
         "type": "scattergeo"
        },
        {
         "geo": "geo",
         "hovertemplate": "<b>%{hovertext}</b><br><br>economy=Portugal<br>% of male with debit card=%{marker.size}<br>economycode=%{location}<extra></extra>",
         "hovertext": [
          "Portugal"
         ],
         "legendgroup": "Portugal",
         "locations": [
          "PRT"
         ],
         "marker": {
          "color": "#FF6692",
          "size": [
           43.81
          ],
          "sizemode": "area",
          "sizeref": 0.1635,
          "symbol": "circle"
         },
         "mode": "markers",
         "name": "Portugal",
         "showlegend": true,
         "type": "scattergeo"
        },
        {
         "geo": "geo",
         "hovertemplate": "<b>%{hovertext}</b><br><br>economy=Romania<br>% of male with debit card=%{marker.size}<br>economycode=%{location}<extra></extra>",
         "hovertext": [
          "Romania"
         ],
         "legendgroup": "Romania",
         "locations": [
          "ROU"
         ],
         "marker": {
          "color": "#B6E880",
          "size": [
           21.88
          ],
          "sizemode": "area",
          "sizeref": 0.1635,
          "symbol": "circle"
         },
         "mode": "markers",
         "name": "Romania",
         "showlegend": true,
         "type": "scattergeo"
        },
        {
         "geo": "geo",
         "hovertemplate": "<b>%{hovertext}</b><br><br>economy=Russian Federation<br>% of male with debit card=%{marker.size}<br>economycode=%{location}<extra></extra>",
         "hovertext": [
          "Russian Federation"
         ],
         "legendgroup": "Russian Federation",
         "locations": [
          "RUS"
         ],
         "marker": {
          "color": "#FF97FF",
          "size": [
           19.3
          ],
          "sizemode": "area",
          "sizeref": 0.1635,
          "symbol": "circle"
         },
         "mode": "markers",
         "name": "Russian Federation",
         "showlegend": true,
         "type": "scattergeo"
        },
        {
         "geo": "geo",
         "hovertemplate": "<b>%{hovertext}</b><br><br>economy=Rwanda<br>% of male with debit card=%{marker.size}<br>economycode=%{location}<extra></extra>",
         "hovertext": [
          "Rwanda"
         ],
         "legendgroup": "Rwanda",
         "locations": [
          "RWA"
         ],
         "marker": {
          "color": "#FECB52",
          "size": [
           3.3
          ],
          "sizemode": "area",
          "sizeref": 0.1635,
          "symbol": "circle"
         },
         "mode": "markers",
         "name": "Rwanda",
         "showlegend": true,
         "type": "scattergeo"
        },
        {
         "geo": "geo",
         "hovertemplate": "<b>%{hovertext}</b><br><br>economy=Saudi Arabia<br>% of male with debit card=%{marker.size}<br>economycode=%{location}<extra></extra>",
         "hovertext": [
          "Saudi Arabia"
         ],
         "legendgroup": "Saudi Arabia",
         "locations": [
          "SAU"
         ],
         "marker": {
          "color": "#636efa",
          "size": [
           49.75
          ],
          "sizemode": "area",
          "sizeref": 0.1635,
          "symbol": "circle"
         },
         "mode": "markers",
         "name": "Saudi Arabia",
         "showlegend": true,
         "type": "scattergeo"
        },
        {
         "geo": "geo",
         "hovertemplate": "<b>%{hovertext}</b><br><br>economy=Senegal<br>% of male with debit card=%{marker.size}<br>economycode=%{location}<extra></extra>",
         "hovertext": [
          "Senegal"
         ],
         "legendgroup": "Senegal",
         "locations": [
          "SEN"
         ],
         "marker": {
          "color": "#EF553B",
          "size": [
           9
          ],
          "sizemode": "area",
          "sizeref": 0.1635,
          "symbol": "circle"
         },
         "mode": "markers",
         "name": "Senegal",
         "showlegend": true,
         "type": "scattergeo"
        },
        {
         "geo": "geo",
         "hovertemplate": "<b>%{hovertext}</b><br><br>economy=Serbia<br>% of male with debit card=%{marker.size}<br>economycode=%{location}<extra></extra>",
         "hovertext": [
          "Serbia"
         ],
         "legendgroup": "Serbia",
         "locations": [
          "SRB"
         ],
         "marker": {
          "color": "#00cc96",
          "size": [
           31.2
          ],
          "sizemode": "area",
          "sizeref": 0.1635,
          "symbol": "circle"
         },
         "mode": "markers",
         "name": "Serbia",
         "showlegend": true,
         "type": "scattergeo"
        },
        {
         "geo": "geo",
         "hovertemplate": "<b>%{hovertext}</b><br><br>economy=Sierra Leone<br>% of male with debit card=%{marker.size}<br>economycode=%{location}<extra></extra>",
         "hovertext": [
          "Sierra Leone"
         ],
         "legendgroup": "Sierra Leone",
         "locations": [
          "SLE"
         ],
         "marker": {
          "color": "#ab63fa",
          "size": [
           0.8
          ],
          "sizemode": "area",
          "sizeref": 0.1635,
          "symbol": "circle"
         },
         "mode": "markers",
         "name": "Sierra Leone",
         "showlegend": true,
         "type": "scattergeo"
        },
        {
         "geo": "geo",
         "hovertemplate": "<b>%{hovertext}</b><br><br>economy=Singapore<br>% of male with debit card=%{marker.size}<br>economycode=%{location}<extra></extra>",
         "hovertext": [
          "Singapore"
         ],
         "legendgroup": "Singapore",
         "locations": [
          "SGP"
         ],
         "marker": {
          "color": "#FFA15A",
          "size": [
           40.1
          ],
          "sizemode": "area",
          "sizeref": 0.1635,
          "symbol": "circle"
         },
         "mode": "markers",
         "name": "Singapore",
         "showlegend": true,
         "type": "scattergeo"
        },
        {
         "geo": "geo",
         "hovertemplate": "<b>%{hovertext}</b><br><br>economy=Slovak Republic<br>% of male with debit card=%{marker.size}<br>economycode=%{location}<extra></extra>",
         "hovertext": [
          "Slovak Republic"
         ],
         "legendgroup": "Slovak Republic",
         "locations": [
          "SVK"
         ],
         "marker": {
          "color": "#19d3f3",
          "size": [
           34.1
          ],
          "sizemode": "area",
          "sizeref": 0.1635,
          "symbol": "circle"
         },
         "mode": "markers",
         "name": "Slovak Republic",
         "showlegend": true,
         "type": "scattergeo"
        },
        {
         "geo": "geo",
         "hovertemplate": "<b>%{hovertext}</b><br><br>economy=Slovenia<br>% of male with debit card=%{marker.size}<br>economycode=%{location}<extra></extra>",
         "hovertext": [
          "Slovenia"
         ],
         "legendgroup": "Slovenia",
         "locations": [
          "SVN"
         ],
         "marker": {
          "color": "#FF6692",
          "size": [
           43.8
          ],
          "sizemode": "area",
          "sizeref": 0.1635,
          "symbol": "circle"
         },
         "mode": "markers",
         "name": "Slovenia",
         "showlegend": true,
         "type": "scattergeo"
        },
        {
         "geo": "geo",
         "hovertemplate": "<b>%{hovertext}</b><br><br>economy=South Africa<br>% of male with debit card=%{marker.size}<br>economycode=%{location}<extra></extra>",
         "hovertext": [
          "South Africa"
         ],
         "legendgroup": "South Africa",
         "locations": [
          "ZAF"
         ],
         "marker": {
          "color": "#B6E880",
          "size": [
           20.6
          ],
          "sizemode": "area",
          "sizeref": 0.1635,
          "symbol": "circle"
         },
         "mode": "markers",
         "name": "South Africa",
         "showlegend": true,
         "type": "scattergeo"
        },
        {
         "geo": "geo",
         "hovertemplate": "<b>%{hovertext}</b><br><br>economy=South Sudan<br>% of male with debit card=%{marker.size}<br>economycode=%{location}<extra></extra>",
         "hovertext": [
          "South Sudan"
         ],
         "legendgroup": "South Sudan",
         "locations": [
          "SSD"
         ],
         "marker": {
          "color": "#FF97FF",
          "size": [
           2.4
          ],
          "sizemode": "area",
          "sizeref": 0.1635,
          "symbol": "circle"
         },
         "mode": "markers",
         "name": "South Sudan",
         "showlegend": true,
         "type": "scattergeo"
        },
        {
         "geo": "geo",
         "hovertemplate": "<b>%{hovertext}</b><br><br>economy=Spain<br>% of male with debit card=%{marker.size}<br>economycode=%{location}<extra></extra>",
         "hovertext": [
          "Spain"
         ],
         "legendgroup": "Spain",
         "locations": [
          "ESP"
         ],
         "marker": {
          "color": "#FECB52",
          "size": [
           45.4
          ],
          "sizemode": "area",
          "sizeref": 0.1635,
          "symbol": "circle"
         },
         "mode": "markers",
         "name": "Spain",
         "showlegend": true,
         "type": "scattergeo"
        },
        {
         "geo": "geo",
         "hovertemplate": "<b>%{hovertext}</b><br><br>economy=Sri Lanka<br>% of male with debit card=%{marker.size}<br>economycode=%{location}<extra></extra>",
         "hovertext": [
          "Sri Lanka"
         ],
         "legendgroup": "Sri Lanka",
         "locations": [
          "LKA"
         ],
         "marker": {
          "color": "#636efa",
          "size": [
           16.12
          ],
          "sizemode": "area",
          "sizeref": 0.1635,
          "symbol": "circle"
         },
         "mode": "markers",
         "name": "Sri Lanka",
         "showlegend": true,
         "type": "scattergeo"
        },
        {
         "geo": "geo",
         "hovertemplate": "<b>%{hovertext}</b><br><br>economy=Sweden<br>% of male with debit card=%{marker.size}<br>economycode=%{location}<extra></extra>",
         "hovertext": [
          "Sweden"
         ],
         "legendgroup": "Sweden",
         "locations": [
          "SWE"
         ],
         "marker": {
          "color": "#EF553B",
          "size": [
           47
          ],
          "sizemode": "area",
          "sizeref": 0.1635,
          "symbol": "circle"
         },
         "mode": "markers",
         "name": "Sweden",
         "showlegend": true,
         "type": "scattergeo"
        },
        {
         "geo": "geo",
         "hovertemplate": "<b>%{hovertext}</b><br><br>economy=Switzerland<br>% of male with debit card=%{marker.size}<br>economycode=%{location}<extra></extra>",
         "hovertext": [
          "Switzerland"
         ],
         "legendgroup": "Switzerland",
         "locations": [
          "CHE"
         ],
         "marker": {
          "color": "#00cc96",
          "size": [
           43.1
          ],
          "sizemode": "area",
          "sizeref": 0.1635,
          "symbol": "circle"
         },
         "mode": "markers",
         "name": "Switzerland",
         "showlegend": true,
         "type": "scattergeo"
        },
        {
         "geo": "geo",
         "hovertemplate": "<b>%{hovertext}</b><br><br>economy=Taiwan, China<br>% of male with debit card=%{marker.size}<br>economycode=%{location}<extra></extra>",
         "hovertext": [
          "Taiwan, China"
         ],
         "legendgroup": "Taiwan, China",
         "locations": [
          "TWN"
         ],
         "marker": {
          "color": "#ab63fa",
          "size": [
           36.3
          ],
          "sizemode": "area",
          "sizeref": 0.1635,
          "symbol": "circle"
         },
         "mode": "markers",
         "name": "Taiwan, China",
         "showlegend": true,
         "type": "scattergeo"
        },
        {
         "geo": "geo",
         "hovertemplate": "<b>%{hovertext}</b><br><br>economy=Tajikistan<br>% of male with debit card=%{marker.size}<br>economycode=%{location}<extra></extra>",
         "hovertext": [
          "Tajikistan"
         ],
         "legendgroup": "Tajikistan",
         "locations": [
          "TJK"
         ],
         "marker": {
          "color": "#FFA15A",
          "size": [
           7.4
          ],
          "sizemode": "area",
          "sizeref": 0.1635,
          "symbol": "circle"
         },
         "mode": "markers",
         "name": "Tajikistan",
         "showlegend": true,
         "type": "scattergeo"
        },
        {
         "geo": "geo",
         "hovertemplate": "<b>%{hovertext}</b><br><br>economy=Tanzania<br>% of male with debit card=%{marker.size}<br>economycode=%{location}<extra></extra>",
         "hovertext": [
          "Tanzania"
         ],
         "legendgroup": "Tanzania",
         "locations": [
          "TZA"
         ],
         "marker": {
          "color": "#19d3f3",
          "size": [
           9.7
          ],
          "sizemode": "area",
          "sizeref": 0.1635,
          "symbol": "circle"
         },
         "mode": "markers",
         "name": "Tanzania",
         "showlegend": true,
         "type": "scattergeo"
        },
        {
         "geo": "geo",
         "hovertemplate": "<b>%{hovertext}</b><br><br>economy=Thailand<br>% of male with debit card=%{marker.size}<br>economycode=%{location}<extra></extra>",
         "hovertext": [
          "Thailand"
         ],
         "legendgroup": "Thailand",
         "locations": [
          "THA"
         ],
         "marker": {
          "color": "#FF6692",
          "size": [
           21.5
          ],
          "sizemode": "area",
          "sizeref": 0.1635,
          "symbol": "circle"
         },
         "mode": "markers",
         "name": "Thailand",
         "showlegend": true,
         "type": "scattergeo"
        },
        {
         "geo": "geo",
         "hovertemplate": "<b>%{hovertext}</b><br><br>economy=Togo<br>% of male with debit card=%{marker.size}<br>economycode=%{location}<extra></extra>",
         "hovertext": [
          "Togo"
         ],
         "legendgroup": "Togo",
         "locations": [
          "TGO"
         ],
         "marker": {
          "color": "#B6E880",
          "size": [
           10.4
          ],
          "sizemode": "area",
          "sizeref": 0.1635,
          "symbol": "circle"
         },
         "mode": "markers",
         "name": "Togo",
         "showlegend": true,
         "type": "scattergeo"
        },
        {
         "geo": "geo",
         "hovertemplate": "<b>%{hovertext}</b><br><br>economy=Trinidad and Tobago<br>% of male with debit card=%{marker.size}<br>economycode=%{location}<extra></extra>",
         "hovertext": [
          "Trinidad and Tobago"
         ],
         "legendgroup": "Trinidad and Tobago",
         "locations": [
          "TTO"
         ],
         "marker": {
          "color": "#FF97FF",
          "size": [
           28.97
          ],
          "sizemode": "area",
          "sizeref": 0.1635,
          "symbol": "circle"
         },
         "mode": "markers",
         "name": "Trinidad and Tobago",
         "showlegend": true,
         "type": "scattergeo"
        },
        {
         "geo": "geo",
         "hovertemplate": "<b>%{hovertext}</b><br><br>economy=Tunisia<br>% of male with debit card=%{marker.size}<br>economycode=%{location}<extra></extra>",
         "hovertext": [
          "Tunisia"
         ],
         "legendgroup": "Tunisia",
         "locations": [
          "TUN"
         ],
         "marker": {
          "color": "#FECB52",
          "size": [
           16.28
          ],
          "sizemode": "area",
          "sizeref": 0.1635,
          "symbol": "circle"
         },
         "mode": "markers",
         "name": "Tunisia",
         "showlegend": true,
         "type": "scattergeo"
        },
        {
         "geo": "geo",
         "hovertemplate": "<b>%{hovertext}</b><br><br>economy=Turkey<br>% of male with debit card=%{marker.size}<br>economycode=%{location}<extra></extra>",
         "hovertext": [
          "Turkey"
         ],
         "legendgroup": "Turkey",
         "locations": [
          "TUR"
         ],
         "marker": {
          "color": "#636efa",
          "size": [
           41.6
          ],
          "sizemode": "area",
          "sizeref": 0.1635,
          "symbol": "circle"
         },
         "mode": "markers",
         "name": "Turkey",
         "showlegend": true,
         "type": "scattergeo"
        },
        {
         "geo": "geo",
         "hovertemplate": "<b>%{hovertext}</b><br><br>economy=Turkmenistan<br>% of male with debit card=%{marker.size}<br>economycode=%{location}<extra></extra>",
         "hovertext": [
          "Turkmenistan"
         ],
         "legendgroup": "Turkmenistan",
         "locations": [
          "TKM"
         ],
         "marker": {
          "color": "#EF553B",
          "size": [
           23.8
          ],
          "sizemode": "area",
          "sizeref": 0.1635,
          "symbol": "circle"
         },
         "mode": "markers",
         "name": "Turkmenistan",
         "showlegend": true,
         "type": "scattergeo"
        },
        {
         "geo": "geo",
         "hovertemplate": "<b>%{hovertext}</b><br><br>economy=Uganda<br>% of male with debit card=%{marker.size}<br>economycode=%{location}<extra></extra>",
         "hovertext": [
          "Uganda"
         ],
         "legendgroup": "Uganda",
         "locations": [
          "UGA"
         ],
         "marker": {
          "color": "#00cc96",
          "size": [
           11.7
          ],
          "sizemode": "area",
          "sizeref": 0.1635,
          "symbol": "circle"
         },
         "mode": "markers",
         "name": "Uganda",
         "showlegend": true,
         "type": "scattergeo"
        },
        {
         "geo": "geo",
         "hovertemplate": "<b>%{hovertext}</b><br><br>economy=Ukraine<br>% of male with debit card=%{marker.size}<br>economycode=%{location}<extra></extra>",
         "hovertext": [
          "Ukraine"
         ],
         "legendgroup": "Ukraine",
         "locations": [
          "UKR"
         ],
         "marker": {
          "color": "#ab63fa",
          "size": [
           18.5
          ],
          "sizemode": "area",
          "sizeref": 0.1635,
          "symbol": "circle"
         },
         "mode": "markers",
         "name": "Ukraine",
         "showlegend": true,
         "type": "scattergeo"
        },
        {
         "geo": "geo",
         "hovertemplate": "<b>%{hovertext}</b><br><br>economy=United Arab Emirates<br>% of male with debit card=%{marker.size}<br>economycode=%{location}<extra></extra>",
         "hovertext": [
          "United Arab Emirates"
         ],
         "legendgroup": "United Arab Emirates",
         "locations": [
          "ARE"
         ],
         "marker": {
          "color": "#FFA15A",
          "size": [
           65.4
          ],
          "sizemode": "area",
          "sizeref": 0.1635,
          "symbol": "circle"
         },
         "mode": "markers",
         "name": "United Arab Emirates",
         "showlegend": true,
         "type": "scattergeo"
        },
        {
         "geo": "geo",
         "hovertemplate": "<b>%{hovertext}</b><br><br>economy=United Kingdom<br>% of male with debit card=%{marker.size}<br>economycode=%{location}<extra></extra>",
         "hovertext": [
          "United Kingdom"
         ],
         "legendgroup": "United Kingdom",
         "locations": [
          "GBR"
         ],
         "marker": {
          "color": "#19d3f3",
          "size": [
           45.9
          ],
          "sizemode": "area",
          "sizeref": 0.1635,
          "symbol": "circle"
         },
         "mode": "markers",
         "name": "United Kingdom",
         "showlegend": true,
         "type": "scattergeo"
        },
        {
         "geo": "geo",
         "hovertemplate": "<b>%{hovertext}</b><br><br>economy=United States<br>% of male with debit card=%{marker.size}<br>economycode=%{location}<extra></extra>",
         "hovertext": [
          "United States"
         ],
         "legendgroup": "United States",
         "locations": [
          "USA"
         ],
         "marker": {
          "color": "#FF6692",
          "size": [
           41
          ],
          "sizemode": "area",
          "sizeref": 0.1635,
          "symbol": "circle"
         },
         "mode": "markers",
         "name": "United States",
         "showlegend": true,
         "type": "scattergeo"
        },
        {
         "geo": "geo",
         "hovertemplate": "<b>%{hovertext}</b><br><br>economy=Uruguay<br>% of male with debit card=%{marker.size}<br>economycode=%{location}<extra></extra>",
         "hovertext": [
          "Uruguay"
         ],
         "legendgroup": "Uruguay",
         "locations": [
          "URY"
         ],
         "marker": {
          "color": "#B6E880",
          "size": [
           23.4
          ],
          "sizemode": "area",
          "sizeref": 0.1635,
          "symbol": "circle"
         },
         "mode": "markers",
         "name": "Uruguay",
         "showlegend": true,
         "type": "scattergeo"
        },
        {
         "geo": "geo",
         "hovertemplate": "<b>%{hovertext}</b><br><br>economy=Uzbekistan<br>% of male with debit card=%{marker.size}<br>economycode=%{location}<extra></extra>",
         "hovertext": [
          "Uzbekistan"
         ],
         "legendgroup": "Uzbekistan",
         "locations": [
          "UZB"
         ],
         "marker": {
          "color": "#FF97FF",
          "size": [
           11.4
          ],
          "sizemode": "area",
          "sizeref": 0.1635,
          "symbol": "circle"
         },
         "mode": "markers",
         "name": "Uzbekistan",
         "showlegend": true,
         "type": "scattergeo"
        },
        {
         "geo": "geo",
         "hovertemplate": "<b>%{hovertext}</b><br><br>economy=Venezuela, RB<br>% of male with debit card=%{marker.size}<br>economycode=%{location}<extra></extra>",
         "hovertext": [
          "Venezuela, RB"
         ],
         "legendgroup": "Venezuela, RB",
         "locations": [
          "VEN"
         ],
         "marker": {
          "color": "#FECB52",
          "size": [
           26.9
          ],
          "sizemode": "area",
          "sizeref": 0.1635,
          "symbol": "circle"
         },
         "mode": "markers",
         "name": "Venezuela, RB",
         "showlegend": true,
         "type": "scattergeo"
        },
        {
         "geo": "geo",
         "hovertemplate": "<b>%{hovertext}</b><br><br>economy=Vietnam<br>% of male with debit card=%{marker.size}<br>economycode=%{location}<extra></extra>",
         "hovertext": [
          "Vietnam"
         ],
         "legendgroup": "Vietnam",
         "locations": [
          "VNM"
         ],
         "marker": {
          "color": "#636efa",
          "size": [
           12.18
          ],
          "sizemode": "area",
          "sizeref": 0.1635,
          "symbol": "circle"
         },
         "mode": "markers",
         "name": "Vietnam",
         "showlegend": true,
         "type": "scattergeo"
        },
        {
         "geo": "geo",
         "hovertemplate": "<b>%{hovertext}</b><br><br>economy=West Bank and Gaza<br>% of male with debit card=%{marker.size}<br>economycode=%{location}<extra></extra>",
         "hovertext": [
          "West Bank and Gaza"
         ],
         "legendgroup": "West Bank and Gaza",
         "locations": [
          "PSE"
         ],
         "marker": {
          "color": "#EF553B",
          "size": [
           11.6
          ],
          "sizemode": "area",
          "sizeref": 0.1635,
          "symbol": "circle"
         },
         "mode": "markers",
         "name": "West Bank and Gaza",
         "showlegend": true,
         "type": "scattergeo"
        },
        {
         "geo": "geo",
         "hovertemplate": "<b>%{hovertext}</b><br><br>economy=Zambia<br>% of male with debit card=%{marker.size}<br>economycode=%{location}<extra></extra>",
         "hovertext": [
          "Zambia"
         ],
         "legendgroup": "Zambia",
         "locations": [
          "ZMB"
         ],
         "marker": {
          "color": "#00cc96",
          "size": [
           12.7
          ],
          "sizemode": "area",
          "sizeref": 0.1635,
          "symbol": "circle"
         },
         "mode": "markers",
         "name": "Zambia",
         "showlegend": true,
         "type": "scattergeo"
        },
        {
         "geo": "geo",
         "hovertemplate": "<b>%{hovertext}</b><br><br>economy=Zimbabwe<br>% of male with debit card=%{marker.size}<br>economycode=%{location}<extra></extra>",
         "hovertext": [
          "Zimbabwe"
         ],
         "legendgroup": "Zimbabwe",
         "locations": [
          "ZWE"
         ],
         "marker": {
          "color": "#ab63fa",
          "size": [
           13.1
          ],
          "sizemode": "area",
          "sizeref": 0.1635,
          "symbol": "circle"
         },
         "mode": "markers",
         "name": "Zimbabwe",
         "showlegend": true,
         "type": "scattergeo"
        }
       ],
       "layout": {
        "geo": {
         "center": {},
         "domain": {
          "x": [
           0,
           1
          ],
          "y": [
           0,
           1
          ]
         }
        },
        "legend": {
         "itemsizing": "constant",
         "title": {
          "text": "economy"
         },
         "tracegroupgap": 0
        },
        "margin": {
         "t": 60
        },
        "template": {
         "data": {
          "bar": [
           {
            "error_x": {
             "color": "#2a3f5f"
            },
            "error_y": {
             "color": "#2a3f5f"
            },
            "marker": {
             "line": {
              "color": "#E5ECF6",
              "width": 0.5
             },
             "pattern": {
              "fillmode": "overlay",
              "size": 10,
              "solidity": 0.2
             }
            },
            "type": "bar"
           }
          ],
          "barpolar": [
           {
            "marker": {
             "line": {
              "color": "#E5ECF6",
              "width": 0.5
             },
             "pattern": {
              "fillmode": "overlay",
              "size": 10,
              "solidity": 0.2
             }
            },
            "type": "barpolar"
           }
          ],
          "carpet": [
           {
            "aaxis": {
             "endlinecolor": "#2a3f5f",
             "gridcolor": "white",
             "linecolor": "white",
             "minorgridcolor": "white",
             "startlinecolor": "#2a3f5f"
            },
            "baxis": {
             "endlinecolor": "#2a3f5f",
             "gridcolor": "white",
             "linecolor": "white",
             "minorgridcolor": "white",
             "startlinecolor": "#2a3f5f"
            },
            "type": "carpet"
           }
          ],
          "choropleth": [
           {
            "colorbar": {
             "outlinewidth": 0,
             "ticks": ""
            },
            "type": "choropleth"
           }
          ],
          "contour": [
           {
            "colorbar": {
             "outlinewidth": 0,
             "ticks": ""
            },
            "colorscale": [
             [
              0,
              "#0d0887"
             ],
             [
              0.1111111111111111,
              "#46039f"
             ],
             [
              0.2222222222222222,
              "#7201a8"
             ],
             [
              0.3333333333333333,
              "#9c179e"
             ],
             [
              0.4444444444444444,
              "#bd3786"
             ],
             [
              0.5555555555555556,
              "#d8576b"
             ],
             [
              0.6666666666666666,
              "#ed7953"
             ],
             [
              0.7777777777777778,
              "#fb9f3a"
             ],
             [
              0.8888888888888888,
              "#fdca26"
             ],
             [
              1,
              "#f0f921"
             ]
            ],
            "type": "contour"
           }
          ],
          "contourcarpet": [
           {
            "colorbar": {
             "outlinewidth": 0,
             "ticks": ""
            },
            "type": "contourcarpet"
           }
          ],
          "heatmap": [
           {
            "colorbar": {
             "outlinewidth": 0,
             "ticks": ""
            },
            "colorscale": [
             [
              0,
              "#0d0887"
             ],
             [
              0.1111111111111111,
              "#46039f"
             ],
             [
              0.2222222222222222,
              "#7201a8"
             ],
             [
              0.3333333333333333,
              "#9c179e"
             ],
             [
              0.4444444444444444,
              "#bd3786"
             ],
             [
              0.5555555555555556,
              "#d8576b"
             ],
             [
              0.6666666666666666,
              "#ed7953"
             ],
             [
              0.7777777777777778,
              "#fb9f3a"
             ],
             [
              0.8888888888888888,
              "#fdca26"
             ],
             [
              1,
              "#f0f921"
             ]
            ],
            "type": "heatmap"
           }
          ],
          "heatmapgl": [
           {
            "colorbar": {
             "outlinewidth": 0,
             "ticks": ""
            },
            "colorscale": [
             [
              0,
              "#0d0887"
             ],
             [
              0.1111111111111111,
              "#46039f"
             ],
             [
              0.2222222222222222,
              "#7201a8"
             ],
             [
              0.3333333333333333,
              "#9c179e"
             ],
             [
              0.4444444444444444,
              "#bd3786"
             ],
             [
              0.5555555555555556,
              "#d8576b"
             ],
             [
              0.6666666666666666,
              "#ed7953"
             ],
             [
              0.7777777777777778,
              "#fb9f3a"
             ],
             [
              0.8888888888888888,
              "#fdca26"
             ],
             [
              1,
              "#f0f921"
             ]
            ],
            "type": "heatmapgl"
           }
          ],
          "histogram": [
           {
            "marker": {
             "pattern": {
              "fillmode": "overlay",
              "size": 10,
              "solidity": 0.2
             }
            },
            "type": "histogram"
           }
          ],
          "histogram2d": [
           {
            "colorbar": {
             "outlinewidth": 0,
             "ticks": ""
            },
            "colorscale": [
             [
              0,
              "#0d0887"
             ],
             [
              0.1111111111111111,
              "#46039f"
             ],
             [
              0.2222222222222222,
              "#7201a8"
             ],
             [
              0.3333333333333333,
              "#9c179e"
             ],
             [
              0.4444444444444444,
              "#bd3786"
             ],
             [
              0.5555555555555556,
              "#d8576b"
             ],
             [
              0.6666666666666666,
              "#ed7953"
             ],
             [
              0.7777777777777778,
              "#fb9f3a"
             ],
             [
              0.8888888888888888,
              "#fdca26"
             ],
             [
              1,
              "#f0f921"
             ]
            ],
            "type": "histogram2d"
           }
          ],
          "histogram2dcontour": [
           {
            "colorbar": {
             "outlinewidth": 0,
             "ticks": ""
            },
            "colorscale": [
             [
              0,
              "#0d0887"
             ],
             [
              0.1111111111111111,
              "#46039f"
             ],
             [
              0.2222222222222222,
              "#7201a8"
             ],
             [
              0.3333333333333333,
              "#9c179e"
             ],
             [
              0.4444444444444444,
              "#bd3786"
             ],
             [
              0.5555555555555556,
              "#d8576b"
             ],
             [
              0.6666666666666666,
              "#ed7953"
             ],
             [
              0.7777777777777778,
              "#fb9f3a"
             ],
             [
              0.8888888888888888,
              "#fdca26"
             ],
             [
              1,
              "#f0f921"
             ]
            ],
            "type": "histogram2dcontour"
           }
          ],
          "mesh3d": [
           {
            "colorbar": {
             "outlinewidth": 0,
             "ticks": ""
            },
            "type": "mesh3d"
           }
          ],
          "parcoords": [
           {
            "line": {
             "colorbar": {
              "outlinewidth": 0,
              "ticks": ""
             }
            },
            "type": "parcoords"
           }
          ],
          "pie": [
           {
            "automargin": true,
            "type": "pie"
           }
          ],
          "scatter": [
           {
            "marker": {
             "colorbar": {
              "outlinewidth": 0,
              "ticks": ""
             }
            },
            "type": "scatter"
           }
          ],
          "scatter3d": [
           {
            "line": {
             "colorbar": {
              "outlinewidth": 0,
              "ticks": ""
             }
            },
            "marker": {
             "colorbar": {
              "outlinewidth": 0,
              "ticks": ""
             }
            },
            "type": "scatter3d"
           }
          ],
          "scattercarpet": [
           {
            "marker": {
             "colorbar": {
              "outlinewidth": 0,
              "ticks": ""
             }
            },
            "type": "scattercarpet"
           }
          ],
          "scattergeo": [
           {
            "marker": {
             "colorbar": {
              "outlinewidth": 0,
              "ticks": ""
             }
            },
            "type": "scattergeo"
           }
          ],
          "scattergl": [
           {
            "marker": {
             "colorbar": {
              "outlinewidth": 0,
              "ticks": ""
             }
            },
            "type": "scattergl"
           }
          ],
          "scattermapbox": [
           {
            "marker": {
             "colorbar": {
              "outlinewidth": 0,
              "ticks": ""
             }
            },
            "type": "scattermapbox"
           }
          ],
          "scatterpolar": [
           {
            "marker": {
             "colorbar": {
              "outlinewidth": 0,
              "ticks": ""
             }
            },
            "type": "scatterpolar"
           }
          ],
          "scatterpolargl": [
           {
            "marker": {
             "colorbar": {
              "outlinewidth": 0,
              "ticks": ""
             }
            },
            "type": "scatterpolargl"
           }
          ],
          "scatterternary": [
           {
            "marker": {
             "colorbar": {
              "outlinewidth": 0,
              "ticks": ""
             }
            },
            "type": "scatterternary"
           }
          ],
          "surface": [
           {
            "colorbar": {
             "outlinewidth": 0,
             "ticks": ""
            },
            "colorscale": [
             [
              0,
              "#0d0887"
             ],
             [
              0.1111111111111111,
              "#46039f"
             ],
             [
              0.2222222222222222,
              "#7201a8"
             ],
             [
              0.3333333333333333,
              "#9c179e"
             ],
             [
              0.4444444444444444,
              "#bd3786"
             ],
             [
              0.5555555555555556,
              "#d8576b"
             ],
             [
              0.6666666666666666,
              "#ed7953"
             ],
             [
              0.7777777777777778,
              "#fb9f3a"
             ],
             [
              0.8888888888888888,
              "#fdca26"
             ],
             [
              1,
              "#f0f921"
             ]
            ],
            "type": "surface"
           }
          ],
          "table": [
           {
            "cells": {
             "fill": {
              "color": "#EBF0F8"
             },
             "line": {
              "color": "white"
             }
            },
            "header": {
             "fill": {
              "color": "#C8D4E3"
             },
             "line": {
              "color": "white"
             }
            },
            "type": "table"
           }
          ]
         },
         "layout": {
          "annotationdefaults": {
           "arrowcolor": "#2a3f5f",
           "arrowhead": 0,
           "arrowwidth": 1
          },
          "autotypenumbers": "strict",
          "coloraxis": {
           "colorbar": {
            "outlinewidth": 0,
            "ticks": ""
           }
          },
          "colorscale": {
           "diverging": [
            [
             0,
             "#8e0152"
            ],
            [
             0.1,
             "#c51b7d"
            ],
            [
             0.2,
             "#de77ae"
            ],
            [
             0.3,
             "#f1b6da"
            ],
            [
             0.4,
             "#fde0ef"
            ],
            [
             0.5,
             "#f7f7f7"
            ],
            [
             0.6,
             "#e6f5d0"
            ],
            [
             0.7,
             "#b8e186"
            ],
            [
             0.8,
             "#7fbc41"
            ],
            [
             0.9,
             "#4d9221"
            ],
            [
             1,
             "#276419"
            ]
           ],
           "sequential": [
            [
             0,
             "#0d0887"
            ],
            [
             0.1111111111111111,
             "#46039f"
            ],
            [
             0.2222222222222222,
             "#7201a8"
            ],
            [
             0.3333333333333333,
             "#9c179e"
            ],
            [
             0.4444444444444444,
             "#bd3786"
            ],
            [
             0.5555555555555556,
             "#d8576b"
            ],
            [
             0.6666666666666666,
             "#ed7953"
            ],
            [
             0.7777777777777778,
             "#fb9f3a"
            ],
            [
             0.8888888888888888,
             "#fdca26"
            ],
            [
             1,
             "#f0f921"
            ]
           ],
           "sequentialminus": [
            [
             0,
             "#0d0887"
            ],
            [
             0.1111111111111111,
             "#46039f"
            ],
            [
             0.2222222222222222,
             "#7201a8"
            ],
            [
             0.3333333333333333,
             "#9c179e"
            ],
            [
             0.4444444444444444,
             "#bd3786"
            ],
            [
             0.5555555555555556,
             "#d8576b"
            ],
            [
             0.6666666666666666,
             "#ed7953"
            ],
            [
             0.7777777777777778,
             "#fb9f3a"
            ],
            [
             0.8888888888888888,
             "#fdca26"
            ],
            [
             1,
             "#f0f921"
            ]
           ]
          },
          "colorway": [
           "#636efa",
           "#EF553B",
           "#00cc96",
           "#ab63fa",
           "#FFA15A",
           "#19d3f3",
           "#FF6692",
           "#B6E880",
           "#FF97FF",
           "#FECB52"
          ],
          "font": {
           "color": "#2a3f5f"
          },
          "geo": {
           "bgcolor": "white",
           "lakecolor": "white",
           "landcolor": "#E5ECF6",
           "showlakes": true,
           "showland": true,
           "subunitcolor": "white"
          },
          "hoverlabel": {
           "align": "left"
          },
          "hovermode": "closest",
          "mapbox": {
           "style": "light"
          },
          "paper_bgcolor": "white",
          "plot_bgcolor": "#E5ECF6",
          "polar": {
           "angularaxis": {
            "gridcolor": "white",
            "linecolor": "white",
            "ticks": ""
           },
           "bgcolor": "#E5ECF6",
           "radialaxis": {
            "gridcolor": "white",
            "linecolor": "white",
            "ticks": ""
           }
          },
          "scene": {
           "xaxis": {
            "backgroundcolor": "#E5ECF6",
            "gridcolor": "white",
            "gridwidth": 2,
            "linecolor": "white",
            "showbackground": true,
            "ticks": "",
            "zerolinecolor": "white"
           },
           "yaxis": {
            "backgroundcolor": "#E5ECF6",
            "gridcolor": "white",
            "gridwidth": 2,
            "linecolor": "white",
            "showbackground": true,
            "ticks": "",
            "zerolinecolor": "white"
           },
           "zaxis": {
            "backgroundcolor": "#E5ECF6",
            "gridcolor": "white",
            "gridwidth": 2,
            "linecolor": "white",
            "showbackground": true,
            "ticks": "",
            "zerolinecolor": "white"
           }
          },
          "shapedefaults": {
           "line": {
            "color": "#2a3f5f"
           }
          },
          "ternary": {
           "aaxis": {
            "gridcolor": "white",
            "linecolor": "white",
            "ticks": ""
           },
           "baxis": {
            "gridcolor": "white",
            "linecolor": "white",
            "ticks": ""
           },
           "bgcolor": "#E5ECF6",
           "caxis": {
            "gridcolor": "white",
            "linecolor": "white",
            "ticks": ""
           }
          },
          "title": {
           "x": 0.05
          },
          "xaxis": {
           "automargin": true,
           "gridcolor": "white",
           "linecolor": "white",
           "ticks": "",
           "title": {
            "standoff": 15
           },
           "zerolinecolor": "white",
           "zerolinewidth": 2
          },
          "yaxis": {
           "automargin": true,
           "gridcolor": "white",
           "linecolor": "white",
           "ticks": "",
           "title": {
            "standoff": 15
           },
           "zerolinecolor": "white",
           "zerolinewidth": 2
          }
         }
        }
       }
      },
      "text/html": [
       "<div>                            <div id=\"e186deba-610c-4c08-a7e0-1495fcbda068\" class=\"plotly-graph-div\" style=\"height:525px; width:100%;\"></div>            <script type=\"text/javascript\">                require([\"plotly\"], function(Plotly) {                    window.PLOTLYENV=window.PLOTLYENV || {};                                    if (document.getElementById(\"e186deba-610c-4c08-a7e0-1495fcbda068\")) {                    Plotly.newPlot(                        \"e186deba-610c-4c08-a7e0-1495fcbda068\",                        [{\"geo\":\"geo\",\"hovertemplate\":\"<b>%{hovertext}</b><br><br>economy=Afghanistan<br>% of male with debit card=%{marker.size}<br>economycode=%{location}<extra></extra>\",\"hovertext\":[\"Afghanistan\"],\"legendgroup\":\"Afghanistan\",\"locations\":[\"AFG\"],\"marker\":{\"color\":\"#636efa\",\"size\":[2.1],\"sizemode\":\"area\",\"sizeref\":0.1635,\"symbol\":\"circle\"},\"mode\":\"markers\",\"name\":\"Afghanistan\",\"showlegend\":true,\"type\":\"scattergeo\"},{\"geo\":\"geo\",\"hovertemplate\":\"<b>%{hovertext}</b><br><br>economy=Albania<br>% of male with debit card=%{marker.size}<br>economycode=%{location}<extra></extra>\",\"hovertext\":[\"Albania\"],\"legendgroup\":\"Albania\",\"locations\":[\"ALB\"],\"marker\":{\"color\":\"#EF553B\",\"size\":[12.6],\"sizemode\":\"area\",\"sizeref\":0.1635,\"symbol\":\"circle\"},\"mode\":\"markers\",\"name\":\"Albania\",\"showlegend\":true,\"type\":\"scattergeo\"},{\"geo\":\"geo\",\"hovertemplate\":\"<b>%{hovertext}</b><br><br>economy=Algeria<br>% of male with debit card=%{marker.size}<br>economycode=%{location}<extra></extra>\",\"hovertext\":[\"Algeria\"],\"legendgroup\":\"Algeria\",\"locations\":[\"DZA\"],\"marker\":{\"color\":\"#00cc96\",\"size\":[16.14],\"sizemode\":\"area\",\"sizeref\":0.1635,\"symbol\":\"circle\"},\"mode\":\"markers\",\"name\":\"Algeria\",\"showlegend\":true,\"type\":\"scattergeo\"},{\"geo\":\"geo\",\"hovertemplate\":\"<b>%{hovertext}</b><br><br>economy=Argentina<br>% of male with debit card=%{marker.size}<br>economycode=%{location}<extra></extra>\",\"hovertext\":[\"Argentina\"],\"legendgroup\":\"Argentina\",\"locations\":[\"ARG\"],\"marker\":{\"color\":\"#ab63fa\",\"size\":[19.5],\"sizemode\":\"area\",\"sizeref\":0.1635,\"symbol\":\"circle\"},\"mode\":\"markers\",\"name\":\"Argentina\",\"showlegend\":true,\"type\":\"scattergeo\"},{\"geo\":\"geo\",\"hovertemplate\":\"<b>%{hovertext}</b><br><br>economy=Armenia<br>% of male with debit card=%{marker.size}<br>economycode=%{location}<extra></extra>\",\"hovertext\":[\"Armenia\"],\"legendgroup\":\"Armenia\",\"locations\":[\"ARM\"],\"marker\":{\"color\":\"#FFA15A\",\"size\":[13.5],\"sizemode\":\"area\",\"sizeref\":0.1635,\"symbol\":\"circle\"},\"mode\":\"markers\",\"name\":\"Armenia\",\"showlegend\":true,\"type\":\"scattergeo\"},{\"geo\":\"geo\",\"hovertemplate\":\"<b>%{hovertext}</b><br><br>economy=Australia<br>% of male with debit card=%{marker.size}<br>economycode=%{location}<extra></extra>\",\"hovertext\":[\"Australia\"],\"legendgroup\":\"Australia\",\"locations\":[\"AUS\"],\"marker\":{\"color\":\"#19d3f3\",\"size\":[39.88],\"sizemode\":\"area\",\"sizeref\":0.1635,\"symbol\":\"circle\"},\"mode\":\"markers\",\"name\":\"Australia\",\"showlegend\":true,\"type\":\"scattergeo\"},{\"geo\":\"geo\",\"hovertemplate\":\"<b>%{hovertext}</b><br><br>economy=Austria<br>% of male with debit card=%{marker.size}<br>economycode=%{location}<extra></extra>\",\"hovertext\":[\"Austria\"],\"legendgroup\":\"Austria\",\"locations\":[\"AUT\"],\"marker\":{\"color\":\"#FF6692\",\"size\":[43.0],\"sizemode\":\"area\",\"sizeref\":0.1635,\"symbol\":\"circle\"},\"mode\":\"markers\",\"name\":\"Austria\",\"showlegend\":true,\"type\":\"scattergeo\"},{\"geo\":\"geo\",\"hovertemplate\":\"<b>%{hovertext}</b><br><br>economy=Azerbaijan<br>% of male with debit card=%{marker.size}<br>economycode=%{location}<extra></extra>\",\"hovertext\":[\"Azerbaijan\"],\"legendgroup\":\"Azerbaijan\",\"locations\":[\"AZE\"],\"marker\":{\"color\":\"#B6E880\",\"size\":[16.3],\"sizemode\":\"area\",\"sizeref\":0.1635,\"symbol\":\"circle\"},\"mode\":\"markers\",\"name\":\"Azerbaijan\",\"showlegend\":true,\"type\":\"scattergeo\"},{\"geo\":\"geo\",\"hovertemplate\":\"<b>%{hovertext}</b><br><br>economy=Bahrain<br>% of male with debit card=%{marker.size}<br>economycode=%{location}<extra></extra>\",\"hovertext\":[\"Bahrain\"],\"legendgroup\":\"Bahrain\",\"locations\":[\"BHR\"],\"marker\":{\"color\":\"#FF97FF\",\"size\":[56.51],\"sizemode\":\"area\",\"sizeref\":0.1635,\"symbol\":\"circle\"},\"mode\":\"markers\",\"name\":\"Bahrain\",\"showlegend\":true,\"type\":\"scattergeo\"},{\"geo\":\"geo\",\"hovertemplate\":\"<b>%{hovertext}</b><br><br>economy=Bangladesh<br>% of male with debit card=%{marker.size}<br>economycode=%{location}<extra></extra>\",\"hovertext\":[\"Bangladesh\"],\"legendgroup\":\"Bangladesh\",\"locations\":[\"BGD\"],\"marker\":{\"color\":\"#FECB52\",\"size\":[5.0],\"sizemode\":\"area\",\"sizeref\":0.1635,\"symbol\":\"circle\"},\"mode\":\"markers\",\"name\":\"Bangladesh\",\"showlegend\":true,\"type\":\"scattergeo\"},{\"geo\":\"geo\",\"hovertemplate\":\"<b>%{hovertext}</b><br><br>economy=Belarus<br>% of male with debit card=%{marker.size}<br>economycode=%{location}<extra></extra>\",\"hovertext\":[\"Belarus\"],\"legendgroup\":\"Belarus\",\"locations\":[\"BLR\"],\"marker\":{\"color\":\"#636efa\",\"size\":[30.77],\"sizemode\":\"area\",\"sizeref\":0.1635,\"symbol\":\"circle\"},\"mode\":\"markers\",\"name\":\"Belarus\",\"showlegend\":true,\"type\":\"scattergeo\"},{\"geo\":\"geo\",\"hovertemplate\":\"<b>%{hovertext}</b><br><br>economy=Belgium<br>% of male with debit card=%{marker.size}<br>economycode=%{location}<extra></extra>\",\"hovertext\":[\"Belgium\"],\"legendgroup\":\"Belgium\",\"locations\":[\"BEL\"],\"marker\":{\"color\":\"#EF553B\",\"size\":[46.05],\"sizemode\":\"area\",\"sizeref\":0.1635,\"symbol\":\"circle\"},\"mode\":\"markers\",\"name\":\"Belgium\",\"showlegend\":true,\"type\":\"scattergeo\"},{\"geo\":\"geo\",\"hovertemplate\":\"<b>%{hovertext}</b><br><br>economy=Benin<br>% of male with debit card=%{marker.size}<br>economycode=%{location}<extra></extra>\",\"hovertext\":[\"Benin\"],\"legendgroup\":\"Benin\",\"locations\":[\"BEN\"],\"marker\":{\"color\":\"#00cc96\",\"size\":[8.3],\"sizemode\":\"area\",\"sizeref\":0.1635,\"symbol\":\"circle\"},\"mode\":\"markers\",\"name\":\"Benin\",\"showlegend\":true,\"type\":\"scattergeo\"},{\"geo\":\"geo\",\"hovertemplate\":\"<b>%{hovertext}</b><br><br>economy=Bolivia<br>% of male with debit card=%{marker.size}<br>economycode=%{location}<extra></extra>\",\"hovertext\":[\"Bolivia\"],\"legendgroup\":\"Bolivia\",\"locations\":[\"BOL\"],\"marker\":{\"color\":\"#ab63fa\",\"size\":[12.5],\"sizemode\":\"area\",\"sizeref\":0.1635,\"symbol\":\"circle\"},\"mode\":\"markers\",\"name\":\"Bolivia\",\"showlegend\":true,\"type\":\"scattergeo\"},{\"geo\":\"geo\",\"hovertemplate\":\"<b>%{hovertext}</b><br><br>economy=Bosnia and Herzegovina<br>% of male with debit card=%{marker.size}<br>economycode=%{location}<extra></extra>\",\"hovertext\":[\"Bosnia and Herzegovina\"],\"legendgroup\":\"Bosnia and Herzegovina\",\"locations\":[\"BIH\"],\"marker\":{\"color\":\"#FFA15A\",\"size\":[21.8],\"sizemode\":\"area\",\"sizeref\":0.1635,\"symbol\":\"circle\"},\"mode\":\"markers\",\"name\":\"Bosnia and Herzegovina\",\"showlegend\":true,\"type\":\"scattergeo\"},{\"geo\":\"geo\",\"hovertemplate\":\"<b>%{hovertext}</b><br><br>economy=Botswana<br>% of male with debit card=%{marker.size}<br>economycode=%{location}<extra></extra>\",\"hovertext\":[\"Botswana\"],\"legendgroup\":\"Botswana\",\"locations\":[\"BWA\"],\"marker\":{\"color\":\"#19d3f3\",\"size\":[13.5],\"sizemode\":\"area\",\"sizeref\":0.1635,\"symbol\":\"circle\"},\"mode\":\"markers\",\"name\":\"Botswana\",\"showlegend\":true,\"type\":\"scattergeo\"},{\"geo\":\"geo\",\"hovertemplate\":\"<b>%{hovertext}</b><br><br>economy=Brazil<br>% of male with debit card=%{marker.size}<br>economycode=%{location}<extra></extra>\",\"hovertext\":[\"Brazil\"],\"legendgroup\":\"Brazil\",\"locations\":[\"BRA\"],\"marker\":{\"color\":\"#FF6692\",\"size\":[25.1],\"sizemode\":\"area\",\"sizeref\":0.1635,\"symbol\":\"circle\"},\"mode\":\"markers\",\"name\":\"Brazil\",\"showlegend\":true,\"type\":\"scattergeo\"},{\"geo\":\"geo\",\"hovertemplate\":\"<b>%{hovertext}</b><br><br>economy=Bulgaria<br>% of male with debit card=%{marker.size}<br>economycode=%{location}<extra></extra>\",\"hovertext\":[\"Bulgaria\"],\"legendgroup\":\"Bulgaria\",\"locations\":[\"BGR\"],\"marker\":{\"color\":\"#B6E880\",\"size\":[30.0],\"sizemode\":\"area\",\"sizeref\":0.1635,\"symbol\":\"circle\"},\"mode\":\"markers\",\"name\":\"Bulgaria\",\"showlegend\":true,\"type\":\"scattergeo\"},{\"geo\":\"geo\",\"hovertemplate\":\"<b>%{hovertext}</b><br><br>economy=Burkina Faso<br>% of male with debit card=%{marker.size}<br>economycode=%{location}<extra></extra>\",\"hovertext\":[\"Burkina Faso\"],\"legendgroup\":\"Burkina Faso\",\"locations\":[\"BFA\"],\"marker\":{\"color\":\"#FF97FF\",\"size\":[13.3],\"sizemode\":\"area\",\"sizeref\":0.1635,\"symbol\":\"circle\"},\"mode\":\"markers\",\"name\":\"Burkina Faso\",\"showlegend\":true,\"type\":\"scattergeo\"},{\"geo\":\"geo\",\"hovertemplate\":\"<b>%{hovertext}</b><br><br>economy=Cambodia<br>% of male with debit card=%{marker.size}<br>economycode=%{location}<extra></extra>\",\"hovertext\":[\"Cambodia\"],\"legendgroup\":\"Cambodia\",\"locations\":[\"KHM\"],\"marker\":{\"color\":\"#FECB52\",\"size\":[3.25],\"sizemode\":\"area\",\"sizeref\":0.1635,\"symbol\":\"circle\"},\"mode\":\"markers\",\"name\":\"Cambodia\",\"showlegend\":true,\"type\":\"scattergeo\"},{\"geo\":\"geo\",\"hovertemplate\":\"<b>%{hovertext}</b><br><br>economy=Cameroon<br>% of male with debit card=%{marker.size}<br>economycode=%{location}<extra></extra>\",\"hovertext\":[\"Cameroon\"],\"legendgroup\":\"Cameroon\",\"locations\":[\"CMR\"],\"marker\":{\"color\":\"#636efa\",\"size\":[6.8],\"sizemode\":\"area\",\"sizeref\":0.1635,\"symbol\":\"circle\"},\"mode\":\"markers\",\"name\":\"Cameroon\",\"showlegend\":true,\"type\":\"scattergeo\"},{\"geo\":\"geo\",\"hovertemplate\":\"<b>%{hovertext}</b><br><br>economy=Canada<br>% of male with debit card=%{marker.size}<br>economycode=%{location}<extra></extra>\",\"hovertext\":[\"Canada\"],\"legendgroup\":\"Canada\",\"locations\":[\"CAN\"],\"marker\":{\"color\":\"#EF553B\",\"size\":[47.66],\"sizemode\":\"area\",\"sizeref\":0.1635,\"symbol\":\"circle\"},\"mode\":\"markers\",\"name\":\"Canada\",\"showlegend\":true,\"type\":\"scattergeo\"},{\"geo\":\"geo\",\"hovertemplate\":\"<b>%{hovertext}</b><br><br>economy=Central African Republic<br>% of male with debit card=%{marker.size}<br>economycode=%{location}<extra></extra>\",\"hovertext\":[\"Central African Republic\"],\"legendgroup\":\"Central African Republic\",\"locations\":[\"CAF\"],\"marker\":{\"color\":\"#00cc96\",\"size\":[3.1],\"sizemode\":\"area\",\"sizeref\":0.1635,\"symbol\":\"circle\"},\"mode\":\"markers\",\"name\":\"Central African Republic\",\"showlegend\":true,\"type\":\"scattergeo\"},{\"geo\":\"geo\",\"hovertemplate\":\"<b>%{hovertext}</b><br><br>economy=Chad<br>% of male with debit card=%{marker.size}<br>economycode=%{location}<extra></extra>\",\"hovertext\":[\"Chad\"],\"legendgroup\":\"Chad\",\"locations\":[\"TCD\"],\"marker\":{\"color\":\"#ab63fa\",\"size\":[4.9],\"sizemode\":\"area\",\"sizeref\":0.1635,\"symbol\":\"circle\"},\"mode\":\"markers\",\"name\":\"Chad\",\"showlegend\":true,\"type\":\"scattergeo\"},{\"geo\":\"geo\",\"hovertemplate\":\"<b>%{hovertext}</b><br><br>economy=Chile<br>% of male with debit card=%{marker.size}<br>economycode=%{location}<extra></extra>\",\"hovertext\":[\"Chile\"],\"legendgroup\":\"Chile\",\"locations\":[\"CHL\"],\"marker\":{\"color\":\"#FFA15A\",\"size\":[20.58],\"sizemode\":\"area\",\"sizeref\":0.1635,\"symbol\":\"circle\"},\"mode\":\"markers\",\"name\":\"Chile\",\"showlegend\":true,\"type\":\"scattergeo\"},{\"geo\":\"geo\",\"hovertemplate\":\"<b>%{hovertext}</b><br><br>economy=China<br>% of male with debit card=%{marker.size}<br>economycode=%{location}<extra></extra>\",\"hovertext\":[\"China\"],\"legendgroup\":\"China\",\"locations\":[\"CHN\"],\"marker\":{\"color\":\"#19d3f3\",\"size\":[29.03],\"sizemode\":\"area\",\"sizeref\":0.1635,\"symbol\":\"circle\"},\"mode\":\"markers\",\"name\":\"China\",\"showlegend\":true,\"type\":\"scattergeo\"},{\"geo\":\"geo\",\"hovertemplate\":\"<b>%{hovertext}</b><br><br>economy=Colombia<br>% of male with debit card=%{marker.size}<br>economycode=%{location}<extra></extra>\",\"hovertext\":[\"Colombia\"],\"legendgroup\":\"Colombia\",\"locations\":[\"COL\"],\"marker\":{\"color\":\"#FF6692\",\"size\":[11.1],\"sizemode\":\"area\",\"sizeref\":0.1635,\"symbol\":\"circle\"},\"mode\":\"markers\",\"name\":\"Colombia\",\"showlegend\":true,\"type\":\"scattergeo\"},{\"geo\":\"geo\",\"hovertemplate\":\"<b>%{hovertext}</b><br><br>economy=Congo, Dem. Rep.<br>% of male with debit card=%{marker.size}<br>economycode=%{location}<extra></extra>\",\"hovertext\":[\"Congo, Dem. Rep.\"],\"legendgroup\":\"Congo, Dem. Rep.\",\"locations\":[\"COD\"],\"marker\":{\"color\":\"#B6E880\",\"size\":[4.6],\"sizemode\":\"area\",\"sizeref\":0.1635,\"symbol\":\"circle\"},\"mode\":\"markers\",\"name\":\"Congo, Dem. Rep.\",\"showlegend\":true,\"type\":\"scattergeo\"},{\"geo\":\"geo\",\"hovertemplate\":\"<b>%{hovertext}</b><br><br>economy=Congo, Rep.<br>% of male with debit card=%{marker.size}<br>economycode=%{location}<extra></extra>\",\"hovertext\":[\"Congo, Rep.\"],\"legendgroup\":\"Congo, Rep.\",\"locations\":[\"COG\"],\"marker\":{\"color\":\"#FF97FF\",\"size\":[8.9],\"sizemode\":\"area\",\"sizeref\":0.1635,\"symbol\":\"circle\"},\"mode\":\"markers\",\"name\":\"Congo, Rep.\",\"showlegend\":true,\"type\":\"scattergeo\"},{\"geo\":\"geo\",\"hovertemplate\":\"<b>%{hovertext}</b><br><br>economy=Costa Rica<br>% of male with debit card=%{marker.size}<br>economycode=%{location}<extra></extra>\",\"hovertext\":[\"Costa Rica\"],\"legendgroup\":\"Costa Rica\",\"locations\":[\"CRI\"],\"marker\":{\"color\":\"#FECB52\",\"size\":[23.1],\"sizemode\":\"area\",\"sizeref\":0.1635,\"symbol\":\"circle\"},\"mode\":\"markers\",\"name\":\"Costa Rica\",\"showlegend\":true,\"type\":\"scattergeo\"},{\"geo\":\"geo\",\"hovertemplate\":\"<b>%{hovertext}</b><br><br>economy=Cote d'Ivoire<br>% of male with debit card=%{marker.size}<br>economycode=%{location}<extra></extra>\",\"hovertext\":[\"Cote d'Ivoire\"],\"legendgroup\":\"Cote d'Ivoire\",\"locations\":[\"CIV\"],\"marker\":{\"color\":\"#636efa\",\"size\":[8.1],\"sizemode\":\"area\",\"sizeref\":0.1635,\"symbol\":\"circle\"},\"mode\":\"markers\",\"name\":\"Cote d'Ivoire\",\"showlegend\":true,\"type\":\"scattergeo\"},{\"geo\":\"geo\",\"hovertemplate\":\"<b>%{hovertext}</b><br><br>economy=Croatia<br>% of male with debit card=%{marker.size}<br>economycode=%{location}<extra></extra>\",\"hovertext\":[\"Croatia\"],\"legendgroup\":\"Croatia\",\"locations\":[\"HRV\"],\"marker\":{\"color\":\"#EF553B\",\"size\":[35.4],\"sizemode\":\"area\",\"sizeref\":0.1635,\"symbol\":\"circle\"},\"mode\":\"markers\",\"name\":\"Croatia\",\"showlegend\":true,\"type\":\"scattergeo\"},{\"geo\":\"geo\",\"hovertemplate\":\"<b>%{hovertext}</b><br><br>economy=Cyprus<br>% of male with debit card=%{marker.size}<br>economycode=%{location}<extra></extra>\",\"hovertext\":[\"Cyprus\"],\"legendgroup\":\"Cyprus\",\"locations\":[\"CYP\"],\"marker\":{\"color\":\"#00cc96\",\"size\":[30.69],\"sizemode\":\"area\",\"sizeref\":0.1635,\"symbol\":\"circle\"},\"mode\":\"markers\",\"name\":\"Cyprus\",\"showlegend\":true,\"type\":\"scattergeo\"},{\"geo\":\"geo\",\"hovertemplate\":\"<b>%{hovertext}</b><br><br>economy=Czech Republic<br>% of male with debit card=%{marker.size}<br>economycode=%{location}<extra></extra>\",\"hovertext\":[\"Czech Republic\"],\"legendgroup\":\"Czech Republic\",\"locations\":[\"CZE\"],\"marker\":{\"color\":\"#ab63fa\",\"size\":[36.0],\"sizemode\":\"area\",\"sizeref\":0.1635,\"symbol\":\"circle\"},\"mode\":\"markers\",\"name\":\"Czech Republic\",\"showlegend\":true,\"type\":\"scattergeo\"},{\"geo\":\"geo\",\"hovertemplate\":\"<b>%{hovertext}</b><br><br>economy=Denmark<br>% of male with debit card=%{marker.size}<br>economycode=%{location}<extra></extra>\",\"hovertext\":[\"Denmark\"],\"legendgroup\":\"Denmark\",\"locations\":[\"DNK\"],\"marker\":{\"color\":\"#FFA15A\",\"size\":[46.9],\"sizemode\":\"area\",\"sizeref\":0.1635,\"symbol\":\"circle\"},\"mode\":\"markers\",\"name\":\"Denmark\",\"showlegend\":true,\"type\":\"scattergeo\"},{\"geo\":\"geo\",\"hovertemplate\":\"<b>%{hovertext}</b><br><br>economy=Dominican Republic<br>% of male with debit card=%{marker.size}<br>economycode=%{location}<extra></extra>\",\"hovertext\":[\"Dominican Republic\"],\"legendgroup\":\"Dominican Republic\",\"locations\":[\"DOM\"],\"marker\":{\"color\":\"#19d3f3\",\"size\":[13.8],\"sizemode\":\"area\",\"sizeref\":0.1635,\"symbol\":\"circle\"},\"mode\":\"markers\",\"name\":\"Dominican Republic\",\"showlegend\":true,\"type\":\"scattergeo\"},{\"geo\":\"geo\",\"hovertemplate\":\"<b>%{hovertext}</b><br><br>economy=Ecuador<br>% of male with debit card=%{marker.size}<br>economycode=%{location}<extra></extra>\",\"hovertext\":[\"Ecuador\"],\"legendgroup\":\"Ecuador\",\"locations\":[\"ECU\"],\"marker\":{\"color\":\"#FF6692\",\"size\":[14.7],\"sizemode\":\"area\",\"sizeref\":0.1635,\"symbol\":\"circle\"},\"mode\":\"markers\",\"name\":\"Ecuador\",\"showlegend\":true,\"type\":\"scattergeo\"},{\"geo\":\"geo\",\"hovertemplate\":\"<b>%{hovertext}</b><br><br>economy=Egypt, Arab Rep.<br>% of male with debit card=%{marker.size}<br>economycode=%{location}<extra></extra>\",\"hovertext\":[\"Egypt, Arab Rep.\"],\"legendgroup\":\"Egypt, Arab Rep.\",\"locations\":[\"EGY\"],\"marker\":{\"color\":\"#B6E880\",\"size\":[18.2],\"sizemode\":\"area\",\"sizeref\":0.1635,\"symbol\":\"circle\"},\"mode\":\"markers\",\"name\":\"Egypt, Arab Rep.\",\"showlegend\":true,\"type\":\"scattergeo\"},{\"geo\":\"geo\",\"hovertemplate\":\"<b>%{hovertext}</b><br><br>economy=El Salvador<br>% of male with debit card=%{marker.size}<br>economycode=%{location}<extra></extra>\",\"hovertext\":[\"El Salvador\"],\"legendgroup\":\"El Salvador\",\"locations\":[\"SLV\"],\"marker\":{\"color\":\"#FF97FF\",\"size\":[12.0],\"sizemode\":\"area\",\"sizeref\":0.1635,\"symbol\":\"circle\"},\"mode\":\"markers\",\"name\":\"El Salvador\",\"showlegend\":true,\"type\":\"scattergeo\"},{\"geo\":\"geo\",\"hovertemplate\":\"<b>%{hovertext}</b><br><br>economy=Estonia<br>% of male with debit card=%{marker.size}<br>economycode=%{location}<extra></extra>\",\"hovertext\":[\"Estonia\"],\"legendgroup\":\"Estonia\",\"locations\":[\"EST\"],\"marker\":{\"color\":\"#FECB52\",\"size\":[44.7],\"sizemode\":\"area\",\"sizeref\":0.1635,\"symbol\":\"circle\"},\"mode\":\"markers\",\"name\":\"Estonia\",\"showlegend\":true,\"type\":\"scattergeo\"},{\"geo\":\"geo\",\"hovertemplate\":\"<b>%{hovertext}</b><br><br>economy=Ethiopia<br>% of male with debit card=%{marker.size}<br>economycode=%{location}<extra></extra>\",\"hovertext\":[\"Ethiopia\"],\"legendgroup\":\"Ethiopia\",\"locations\":[\"ETH\"],\"marker\":{\"color\":\"#636efa\",\"size\":[4.6],\"sizemode\":\"area\",\"sizeref\":0.1635,\"symbol\":\"circle\"},\"mode\":\"markers\",\"name\":\"Ethiopia\",\"showlegend\":true,\"type\":\"scattergeo\"},{\"geo\":\"geo\",\"hovertemplate\":\"<b>%{hovertext}</b><br><br>economy=Finland<br>% of male with debit card=%{marker.size}<br>economycode=%{location}<extra></extra>\",\"hovertext\":[\"Finland\"],\"legendgroup\":\"Finland\",\"locations\":[\"FIN\"],\"marker\":{\"color\":\"#EF553B\",\"size\":[45.9],\"sizemode\":\"area\",\"sizeref\":0.1635,\"symbol\":\"circle\"},\"mode\":\"markers\",\"name\":\"Finland\",\"showlegend\":true,\"type\":\"scattergeo\"},{\"geo\":\"geo\",\"hovertemplate\":\"<b>%{hovertext}</b><br><br>economy=France<br>% of male with debit card=%{marker.size}<br>economycode=%{location}<extra></extra>\",\"hovertext\":[\"France\"],\"legendgroup\":\"France\",\"locations\":[\"FRA\"],\"marker\":{\"color\":\"#00cc96\",\"size\":[41.6],\"sizemode\":\"area\",\"sizeref\":0.1635,\"symbol\":\"circle\"},\"mode\":\"markers\",\"name\":\"France\",\"showlegend\":true,\"type\":\"scattergeo\"},{\"geo\":\"geo\",\"hovertemplate\":\"<b>%{hovertext}</b><br><br>economy=Gabon<br>% of male with debit card=%{marker.size}<br>economycode=%{location}<extra></extra>\",\"hovertext\":[\"Gabon\"],\"legendgroup\":\"Gabon\",\"locations\":[\"GAB\"],\"marker\":{\"color\":\"#ab63fa\",\"size\":[14.5],\"sizemode\":\"area\",\"sizeref\":0.1635,\"symbol\":\"circle\"},\"mode\":\"markers\",\"name\":\"Gabon\",\"showlegend\":true,\"type\":\"scattergeo\"},{\"geo\":\"geo\",\"hovertemplate\":\"<b>%{hovertext}</b><br><br>economy=Georgia<br>% of male with debit card=%{marker.size}<br>economycode=%{location}<extra></extra>\",\"hovertext\":[\"Georgia\"],\"legendgroup\":\"Georgia\",\"locations\":[\"GEO\"],\"marker\":{\"color\":\"#FFA15A\",\"size\":[19.3],\"sizemode\":\"area\",\"sizeref\":0.1635,\"symbol\":\"circle\"},\"mode\":\"markers\",\"name\":\"Georgia\",\"showlegend\":true,\"type\":\"scattergeo\"},{\"geo\":\"geo\",\"hovertemplate\":\"<b>%{hovertext}</b><br><br>economy=Germany<br>% of male with debit card=%{marker.size}<br>economycode=%{location}<extra></extra>\",\"hovertext\":[\"Germany\"],\"legendgroup\":\"Germany\",\"locations\":[\"DEU\"],\"marker\":{\"color\":\"#19d3f3\",\"size\":[45.0],\"sizemode\":\"area\",\"sizeref\":0.1635,\"symbol\":\"circle\"},\"mode\":\"markers\",\"name\":\"Germany\",\"showlegend\":true,\"type\":\"scattergeo\"},{\"geo\":\"geo\",\"hovertemplate\":\"<b>%{hovertext}</b><br><br>economy=Ghana<br>% of male with debit card=%{marker.size}<br>economycode=%{location}<extra></extra>\",\"hovertext\":[\"Ghana\"],\"legendgroup\":\"Ghana\",\"locations\":[\"GHA\"],\"marker\":{\"color\":\"#FF6692\",\"size\":[15.8],\"sizemode\":\"area\",\"sizeref\":0.1635,\"symbol\":\"circle\"},\"mode\":\"markers\",\"name\":\"Ghana\",\"showlegend\":true,\"type\":\"scattergeo\"},{\"geo\":\"geo\",\"hovertemplate\":\"<b>%{hovertext}</b><br><br>economy=Greece<br>% of male with debit card=%{marker.size}<br>economycode=%{location}<extra></extra>\",\"hovertext\":[\"Greece\"],\"legendgroup\":\"Greece\",\"locations\":[\"GRC\"],\"marker\":{\"color\":\"#B6E880\",\"size\":[37.0],\"sizemode\":\"area\",\"sizeref\":0.1635,\"symbol\":\"circle\"},\"mode\":\"markers\",\"name\":\"Greece\",\"showlegend\":true,\"type\":\"scattergeo\"},{\"geo\":\"geo\",\"hovertemplate\":\"<b>%{hovertext}</b><br><br>economy=Guatemala<br>% of male with debit card=%{marker.size}<br>economycode=%{location}<extra></extra>\",\"hovertext\":[\"Guatemala\"],\"legendgroup\":\"Guatemala\",\"locations\":[\"GTM\"],\"marker\":{\"color\":\"#FF97FF\",\"size\":[7.1],\"sizemode\":\"area\",\"sizeref\":0.1635,\"symbol\":\"circle\"},\"mode\":\"markers\",\"name\":\"Guatemala\",\"showlegend\":true,\"type\":\"scattergeo\"},{\"geo\":\"geo\",\"hovertemplate\":\"<b>%{hovertext}</b><br><br>economy=Guinea<br>% of male with debit card=%{marker.size}<br>economycode=%{location}<extra></extra>\",\"hovertext\":[\"Guinea\"],\"legendgroup\":\"Guinea\",\"locations\":[\"GIN\"],\"marker\":{\"color\":\"#FECB52\",\"size\":[4.8],\"sizemode\":\"area\",\"sizeref\":0.1635,\"symbol\":\"circle\"},\"mode\":\"markers\",\"name\":\"Guinea\",\"showlegend\":true,\"type\":\"scattergeo\"},{\"geo\":\"geo\",\"hovertemplate\":\"<b>%{hovertext}</b><br><br>economy=Haiti<br>% of male with debit card=%{marker.size}<br>economycode=%{location}<extra></extra>\",\"hovertext\":[\"Haiti\"],\"legendgroup\":\"Haiti\",\"locations\":[\"HTI\"],\"marker\":{\"color\":\"#636efa\",\"size\":[6.75],\"sizemode\":\"area\",\"sizeref\":0.1635,\"symbol\":\"circle\"},\"mode\":\"markers\",\"name\":\"Haiti\",\"showlegend\":true,\"type\":\"scattergeo\"},{\"geo\":\"geo\",\"hovertemplate\":\"<b>%{hovertext}</b><br><br>economy=Honduras<br>% of male with debit card=%{marker.size}<br>economycode=%{location}<extra></extra>\",\"hovertext\":[\"Honduras\"],\"legendgroup\":\"Honduras\",\"locations\":[\"HND\"],\"marker\":{\"color\":\"#EF553B\",\"size\":[8.2],\"sizemode\":\"area\",\"sizeref\":0.1635,\"symbol\":\"circle\"},\"mode\":\"markers\",\"name\":\"Honduras\",\"showlegend\":true,\"type\":\"scattergeo\"},{\"geo\":\"geo\",\"hovertemplate\":\"<b>%{hovertext}</b><br><br>economy=Hong Kong SAR, China<br>% of male with debit card=%{marker.size}<br>economycode=%{location}<extra></extra>\",\"hovertext\":[\"Hong Kong SAR, China\"],\"legendgroup\":\"Hong Kong SAR, China\",\"locations\":[\"HKG\"],\"marker\":{\"color\":\"#00cc96\",\"size\":[37.84],\"sizemode\":\"area\",\"sizeref\":0.1635,\"symbol\":\"circle\"},\"mode\":\"markers\",\"name\":\"Hong Kong SAR, China\",\"showlegend\":true,\"type\":\"scattergeo\"},{\"geo\":\"geo\",\"hovertemplate\":\"<b>%{hovertext}</b><br><br>economy=Hungary<br>% of male with debit card=%{marker.size}<br>economycode=%{location}<extra></extra>\",\"hovertext\":[\"Hungary\"],\"legendgroup\":\"Hungary\",\"locations\":[\"HUN\"],\"marker\":{\"color\":\"#ab63fa\",\"size\":[27.9],\"sizemode\":\"area\",\"sizeref\":0.1635,\"symbol\":\"circle\"},\"mode\":\"markers\",\"name\":\"Hungary\",\"showlegend\":true,\"type\":\"scattergeo\"},{\"geo\":\"geo\",\"hovertemplate\":\"<b>%{hovertext}</b><br><br>economy=India<br>% of male with debit card=%{marker.size}<br>economycode=%{location}<extra></extra>\",\"hovertext\":[\"India\"],\"legendgroup\":\"India\",\"locations\":[\"IND\"],\"marker\":{\"color\":\"#FFA15A\",\"size\":[19.2],\"sizemode\":\"area\",\"sizeref\":0.1635,\"symbol\":\"circle\"},\"mode\":\"markers\",\"name\":\"India\",\"showlegend\":true,\"type\":\"scattergeo\"},{\"geo\":\"geo\",\"hovertemplate\":\"<b>%{hovertext}</b><br><br>economy=Indonesia<br>% of male with debit card=%{marker.size}<br>economycode=%{location}<extra></extra>\",\"hovertext\":[\"Indonesia\"],\"legendgroup\":\"Indonesia\",\"locations\":[\"IDN\"],\"marker\":{\"color\":\"#19d3f3\",\"size\":[13.6],\"sizemode\":\"area\",\"sizeref\":0.1635,\"symbol\":\"circle\"},\"mode\":\"markers\",\"name\":\"Indonesia\",\"showlegend\":true,\"type\":\"scattergeo\"},{\"geo\":\"geo\",\"hovertemplate\":\"<b>%{hovertext}</b><br><br>economy=Iran, Islamic Rep.<br>% of male with debit card=%{marker.size}<br>economycode=%{location}<extra></extra>\",\"hovertext\":[\"Iran, Islamic Rep.\"],\"legendgroup\":\"Iran, Islamic Rep.\",\"locations\":[\"IRN\"],\"marker\":{\"color\":\"#FF6692\",\"size\":[42.33],\"sizemode\":\"area\",\"sizeref\":0.1635,\"symbol\":\"circle\"},\"mode\":\"markers\",\"name\":\"Iran, Islamic Rep.\",\"showlegend\":true,\"type\":\"scattergeo\"},{\"geo\":\"geo\",\"hovertemplate\":\"<b>%{hovertext}</b><br><br>economy=Iraq<br>% of male with debit card=%{marker.size}<br>economycode=%{location}<extra></extra>\",\"hovertext\":[\"Iraq\"],\"legendgroup\":\"Iraq\",\"locations\":[\"IRQ\"],\"marker\":{\"color\":\"#B6E880\",\"size\":[6.2],\"sizemode\":\"area\",\"sizeref\":0.1635,\"symbol\":\"circle\"},\"mode\":\"markers\",\"name\":\"Iraq\",\"showlegend\":true,\"type\":\"scattergeo\"},{\"geo\":\"geo\",\"hovertemplate\":\"<b>%{hovertext}</b><br><br>economy=Ireland<br>% of male with debit card=%{marker.size}<br>economycode=%{location}<extra></extra>\",\"hovertext\":[\"Ireland\"],\"legendgroup\":\"Ireland\",\"locations\":[\"IRL\"],\"marker\":{\"color\":\"#FF97FF\",\"size\":[39.5],\"sizemode\":\"area\",\"sizeref\":0.1635,\"symbol\":\"circle\"},\"mode\":\"markers\",\"name\":\"Ireland\",\"showlegend\":true,\"type\":\"scattergeo\"},{\"geo\":\"geo\",\"hovertemplate\":\"<b>%{hovertext}</b><br><br>economy=Israel<br>% of male with debit card=%{marker.size}<br>economycode=%{location}<extra></extra>\",\"hovertext\":[\"Israel\"],\"legendgroup\":\"Israel\",\"locations\":[\"ISR\"],\"marker\":{\"color\":\"#FECB52\",\"size\":[14.8],\"sizemode\":\"area\",\"sizeref\":0.1635,\"symbol\":\"circle\"},\"mode\":\"markers\",\"name\":\"Israel\",\"showlegend\":true,\"type\":\"scattergeo\"},{\"geo\":\"geo\",\"hovertemplate\":\"<b>%{hovertext}</b><br><br>economy=Italy<br>% of male with debit card=%{marker.size}<br>economycode=%{location}<extra></extra>\",\"hovertext\":[\"Italy\"],\"legendgroup\":\"Italy\",\"locations\":[\"ITA\"],\"marker\":{\"color\":\"#636efa\",\"size\":[44.6],\"sizemode\":\"area\",\"sizeref\":0.1635,\"symbol\":\"circle\"},\"mode\":\"markers\",\"name\":\"Italy\",\"showlegend\":true,\"type\":\"scattergeo\"},{\"geo\":\"geo\",\"hovertemplate\":\"<b>%{hovertext}</b><br><br>economy=Japan<br>% of male with debit card=%{marker.size}<br>economycode=%{location}<extra></extra>\",\"hovertext\":[\"Japan\"],\"legendgroup\":\"Japan\",\"locations\":[\"JPN\"],\"marker\":{\"color\":\"#EF553B\",\"size\":[41.49],\"sizemode\":\"area\",\"sizeref\":0.1635,\"symbol\":\"circle\"},\"mode\":\"markers\",\"name\":\"Japan\",\"showlegend\":true,\"type\":\"scattergeo\"},{\"geo\":\"geo\",\"hovertemplate\":\"<b>%{hovertext}</b><br><br>economy=Jordan<br>% of male with debit card=%{marker.size}<br>economycode=%{location}<extra></extra>\",\"hovertext\":[\"Jordan\"],\"legendgroup\":\"Jordan\",\"locations\":[\"JOR\"],\"marker\":{\"color\":\"#00cc96\",\"size\":[19.37],\"sizemode\":\"area\",\"sizeref\":0.1635,\"symbol\":\"circle\"},\"mode\":\"markers\",\"name\":\"Jordan\",\"showlegend\":true,\"type\":\"scattergeo\"},{\"geo\":\"geo\",\"hovertemplate\":\"<b>%{hovertext}</b><br><br>economy=Kazakhstan<br>% of male with debit card=%{marker.size}<br>economycode=%{location}<extra></extra>\",\"hovertext\":[\"Kazakhstan\"],\"legendgroup\":\"Kazakhstan\",\"locations\":[\"KAZ\"],\"marker\":{\"color\":\"#ab63fa\",\"size\":[20.3],\"sizemode\":\"area\",\"sizeref\":0.1635,\"symbol\":\"circle\"},\"mode\":\"markers\",\"name\":\"Kazakhstan\",\"showlegend\":true,\"type\":\"scattergeo\"},{\"geo\":\"geo\",\"hovertemplate\":\"<b>%{hovertext}</b><br><br>economy=Kenya<br>% of male with debit card=%{marker.size}<br>economycode=%{location}<extra></extra>\",\"hovertext\":[\"Kenya\"],\"legendgroup\":\"Kenya\",\"locations\":[\"KEN\"],\"marker\":{\"color\":\"#FFA15A\",\"size\":[21.0],\"sizemode\":\"area\",\"sizeref\":0.1635,\"symbol\":\"circle\"},\"mode\":\"markers\",\"name\":\"Kenya\",\"showlegend\":true,\"type\":\"scattergeo\"},{\"geo\":\"geo\",\"hovertemplate\":\"<b>%{hovertext}</b><br><br>economy=Korea, Rep.<br>% of male with debit card=%{marker.size}<br>economycode=%{location}<extra></extra>\",\"hovertext\":[\"Korea, Rep.\"],\"legendgroup\":\"Korea, Rep.\",\"locations\":[\"KOR\"],\"marker\":{\"color\":\"#19d3f3\",\"size\":[42.0],\"sizemode\":\"area\",\"sizeref\":0.1635,\"symbol\":\"circle\"},\"mode\":\"markers\",\"name\":\"Korea, Rep.\",\"showlegend\":true,\"type\":\"scattergeo\"},{\"geo\":\"geo\",\"hovertemplate\":\"<b>%{hovertext}</b><br><br>economy=Kosovo<br>% of male with debit card=%{marker.size}<br>economycode=%{location}<extra></extra>\",\"hovertext\":[\"Kosovo\"],\"legendgroup\":\"Kosovo\",\"locations\":[\"XKX\"],\"marker\":{\"color\":\"#FF6692\",\"size\":[25.5],\"sizemode\":\"area\",\"sizeref\":0.1635,\"symbol\":\"circle\"},\"mode\":\"markers\",\"name\":\"Kosovo\",\"showlegend\":true,\"type\":\"scattergeo\"},{\"geo\":\"geo\",\"hovertemplate\":\"<b>%{hovertext}</b><br><br>economy=Kuwait<br>% of male with debit card=%{marker.size}<br>economycode=%{location}<extra></extra>\",\"hovertext\":[\"Kuwait\"],\"legendgroup\":\"Kuwait\",\"locations\":[\"KWT\"],\"marker\":{\"color\":\"#B6E880\",\"size\":[57.8],\"sizemode\":\"area\",\"sizeref\":0.1635,\"symbol\":\"circle\"},\"mode\":\"markers\",\"name\":\"Kuwait\",\"showlegend\":true,\"type\":\"scattergeo\"},{\"geo\":\"geo\",\"hovertemplate\":\"<b>%{hovertext}</b><br><br>economy=Kyrgyz Republic<br>% of male with debit card=%{marker.size}<br>economycode=%{location}<extra></extra>\",\"hovertext\":[\"Kyrgyz Republic\"],\"legendgroup\":\"Kyrgyz Republic\",\"locations\":[\"KGZ\"],\"marker\":{\"color\":\"#FF97FF\",\"size\":[8.0],\"sizemode\":\"area\",\"sizeref\":0.1635,\"symbol\":\"circle\"},\"mode\":\"markers\",\"name\":\"Kyrgyz Republic\",\"showlegend\":true,\"type\":\"scattergeo\"},{\"geo\":\"geo\",\"hovertemplate\":\"<b>%{hovertext}</b><br><br>economy=Lao PDR<br>% of male with debit card=%{marker.size}<br>economycode=%{location}<extra></extra>\",\"hovertext\":[\"Lao PDR\"],\"legendgroup\":\"Lao PDR\",\"locations\":[\"LAO\"],\"marker\":{\"color\":\"#FECB52\",\"size\":[6.2],\"sizemode\":\"area\",\"sizeref\":0.1635,\"symbol\":\"circle\"},\"mode\":\"markers\",\"name\":\"Lao PDR\",\"showlegend\":true,\"type\":\"scattergeo\"},{\"geo\":\"geo\",\"hovertemplate\":\"<b>%{hovertext}</b><br><br>economy=Latvia<br>% of male with debit card=%{marker.size}<br>economycode=%{location}<extra></extra>\",\"hovertext\":[\"Latvia\"],\"legendgroup\":\"Latvia\",\"locations\":[\"LVA\"],\"marker\":{\"color\":\"#636efa\",\"size\":[30.14],\"sizemode\":\"area\",\"sizeref\":0.1635,\"symbol\":\"circle\"},\"mode\":\"markers\",\"name\":\"Latvia\",\"showlegend\":true,\"type\":\"scattergeo\"},{\"geo\":\"geo\",\"hovertemplate\":\"<b>%{hovertext}</b><br><br>economy=Lebanon<br>% of male with debit card=%{marker.size}<br>economycode=%{location}<extra></extra>\",\"hovertext\":[\"Lebanon\"],\"legendgroup\":\"Lebanon\",\"locations\":[\"LBN\"],\"marker\":{\"color\":\"#EF553B\",\"size\":[25.0],\"sizemode\":\"area\",\"sizeref\":0.1635,\"symbol\":\"circle\"},\"mode\":\"markers\",\"name\":\"Lebanon\",\"showlegend\":true,\"type\":\"scattergeo\"},{\"geo\":\"geo\",\"hovertemplate\":\"<b>%{hovertext}</b><br><br>economy=Lesotho<br>% of male with debit card=%{marker.size}<br>economycode=%{location}<extra></extra>\",\"hovertext\":[\"Lesotho\"],\"legendgroup\":\"Lesotho\",\"locations\":[\"LSO\"],\"marker\":{\"color\":\"#00cc96\",\"size\":[10.1],\"sizemode\":\"area\",\"sizeref\":0.1635,\"symbol\":\"circle\"},\"mode\":\"markers\",\"name\":\"Lesotho\",\"showlegend\":true,\"type\":\"scattergeo\"},{\"geo\":\"geo\",\"hovertemplate\":\"<b>%{hovertext}</b><br><br>economy=Liberia<br>% of male with debit card=%{marker.size}<br>economycode=%{location}<extra></extra>\",\"hovertext\":[\"Liberia\"],\"legendgroup\":\"Liberia\",\"locations\":[\"LBR\"],\"marker\":{\"color\":\"#ab63fa\",\"size\":[2.6],\"sizemode\":\"area\",\"sizeref\":0.1635,\"symbol\":\"circle\"},\"mode\":\"markers\",\"name\":\"Liberia\",\"showlegend\":true,\"type\":\"scattergeo\"},{\"geo\":\"geo\",\"hovertemplate\":\"<b>%{hovertext}</b><br><br>economy=Libya<br>% of male with debit card=%{marker.size}<br>economycode=%{location}<extra></extra>\",\"hovertext\":[\"Libya\"],\"legendgroup\":\"Libya\",\"locations\":[\"LBY\"],\"marker\":{\"color\":\"#FFA15A\",\"size\":[21.86],\"sizemode\":\"area\",\"sizeref\":0.1635,\"symbol\":\"circle\"},\"mode\":\"markers\",\"name\":\"Libya\",\"showlegend\":true,\"type\":\"scattergeo\"},{\"geo\":\"geo\",\"hovertemplate\":\"<b>%{hovertext}</b><br><br>economy=Lithuania<br>% of male with debit card=%{marker.size}<br>economycode=%{location}<extra></extra>\",\"hovertext\":[\"Lithuania\"],\"legendgroup\":\"Lithuania\",\"locations\":[\"LTU\"],\"marker\":{\"color\":\"#19d3f3\",\"size\":[27.7],\"sizemode\":\"area\",\"sizeref\":0.1635,\"symbol\":\"circle\"},\"mode\":\"markers\",\"name\":\"Lithuania\",\"showlegend\":true,\"type\":\"scattergeo\"},{\"geo\":\"geo\",\"hovertemplate\":\"<b>%{hovertext}</b><br><br>economy=Luxembourg<br>% of male with debit card=%{marker.size}<br>economycode=%{location}<extra></extra>\",\"hovertext\":[\"Luxembourg\"],\"legendgroup\":\"Luxembourg\",\"locations\":[\"LUX\"],\"marker\":{\"color\":\"#FF6692\",\"size\":[48.3],\"sizemode\":\"area\",\"sizeref\":0.1635,\"symbol\":\"circle\"},\"mode\":\"markers\",\"name\":\"Luxembourg\",\"showlegend\":true,\"type\":\"scattergeo\"},{\"geo\":\"geo\",\"hovertemplate\":\"<b>%{hovertext}</b><br><br>economy=Macedonia, FYR<br>% of male with debit card=%{marker.size}<br>economycode=%{location}<extra></extra>\",\"hovertext\":[\"Macedonia, FYR\"],\"legendgroup\":\"Macedonia, FYR\",\"locations\":[\"MKD\"],\"marker\":{\"color\":\"#B6E880\",\"size\":[26.69],\"sizemode\":\"area\",\"sizeref\":0.1635,\"symbol\":\"circle\"},\"mode\":\"markers\",\"name\":\"Macedonia, FYR\",\"showlegend\":true,\"type\":\"scattergeo\"},{\"geo\":\"geo\",\"hovertemplate\":\"<b>%{hovertext}</b><br><br>economy=Madagascar<br>% of male with debit card=%{marker.size}<br>economycode=%{location}<extra></extra>\",\"hovertext\":[\"Madagascar\"],\"legendgroup\":\"Madagascar\",\"locations\":[\"MDG\"],\"marker\":{\"color\":\"#FF97FF\",\"size\":[2.3],\"sizemode\":\"area\",\"sizeref\":0.1635,\"symbol\":\"circle\"},\"mode\":\"markers\",\"name\":\"Madagascar\",\"showlegend\":true,\"type\":\"scattergeo\"},{\"geo\":\"geo\",\"hovertemplate\":\"<b>%{hovertext}</b><br><br>economy=Malawi<br>% of male with debit card=%{marker.size}<br>economycode=%{location}<extra></extra>\",\"hovertext\":[\"Malawi\"],\"legendgroup\":\"Malawi\",\"locations\":[\"MWI\"],\"marker\":{\"color\":\"#FECB52\",\"size\":[6.2],\"sizemode\":\"area\",\"sizeref\":0.1635,\"symbol\":\"circle\"},\"mode\":\"markers\",\"name\":\"Malawi\",\"showlegend\":true,\"type\":\"scattergeo\"},{\"geo\":\"geo\",\"hovertemplate\":\"<b>%{hovertext}</b><br><br>economy=Malaysia<br>% of male with debit card=%{marker.size}<br>economycode=%{location}<extra></extra>\",\"hovertext\":[\"Malaysia\"],\"legendgroup\":\"Malaysia\",\"locations\":[\"MYS\"],\"marker\":{\"color\":\"#636efa\",\"size\":[41.04],\"sizemode\":\"area\",\"sizeref\":0.1635,\"symbol\":\"circle\"},\"mode\":\"markers\",\"name\":\"Malaysia\",\"showlegend\":true,\"type\":\"scattergeo\"},{\"geo\":\"geo\",\"hovertemplate\":\"<b>%{hovertext}</b><br><br>economy=Mali<br>% of male with debit card=%{marker.size}<br>economycode=%{location}<extra></extra>\",\"hovertext\":[\"Mali\"],\"legendgroup\":\"Mali\",\"locations\":[\"MLI\"],\"marker\":{\"color\":\"#EF553B\",\"size\":[7.6],\"sizemode\":\"area\",\"sizeref\":0.1635,\"symbol\":\"circle\"},\"mode\":\"markers\",\"name\":\"Mali\",\"showlegend\":true,\"type\":\"scattergeo\"},{\"geo\":\"geo\",\"hovertemplate\":\"<b>%{hovertext}</b><br><br>economy=Malta<br>% of male with debit card=%{marker.size}<br>economycode=%{location}<extra></extra>\",\"hovertext\":[\"Malta\"],\"legendgroup\":\"Malta\",\"locations\":[\"MLT\"],\"marker\":{\"color\":\"#00cc96\",\"size\":[40.98],\"sizemode\":\"area\",\"sizeref\":0.1635,\"symbol\":\"circle\"},\"mode\":\"markers\",\"name\":\"Malta\",\"showlegend\":true,\"type\":\"scattergeo\"},{\"geo\":\"geo\",\"hovertemplate\":\"<b>%{hovertext}</b><br><br>economy=Mauritania<br>% of male with debit card=%{marker.size}<br>economycode=%{location}<extra></extra>\",\"hovertext\":[\"Mauritania\"],\"legendgroup\":\"Mauritania\",\"locations\":[\"MRT\"],\"marker\":{\"color\":\"#ab63fa\",\"size\":[12.9],\"sizemode\":\"area\",\"sizeref\":0.1635,\"symbol\":\"circle\"},\"mode\":\"markers\",\"name\":\"Mauritania\",\"showlegend\":true,\"type\":\"scattergeo\"},{\"geo\":\"geo\",\"hovertemplate\":\"<b>%{hovertext}</b><br><br>economy=Mauritius<br>% of male with debit card=%{marker.size}<br>economycode=%{location}<extra></extra>\",\"hovertext\":[\"Mauritius\"],\"legendgroup\":\"Mauritius\",\"locations\":[\"MUS\"],\"marker\":{\"color\":\"#FFA15A\",\"size\":[40.3],\"sizemode\":\"area\",\"sizeref\":0.1635,\"symbol\":\"circle\"},\"mode\":\"markers\",\"name\":\"Mauritius\",\"showlegend\":true,\"type\":\"scattergeo\"},{\"geo\":\"geo\",\"hovertemplate\":\"<b>%{hovertext}</b><br><br>economy=Mexico<br>% of male with debit card=%{marker.size}<br>economycode=%{location}<extra></extra>\",\"hovertext\":[\"Mexico\"],\"legendgroup\":\"Mexico\",\"locations\":[\"MEX\"],\"marker\":{\"color\":\"#19d3f3\",\"size\":[11.5],\"sizemode\":\"area\",\"sizeref\":0.1635,\"symbol\":\"circle\"},\"mode\":\"markers\",\"name\":\"Mexico\",\"showlegend\":true,\"type\":\"scattergeo\"},{\"geo\":\"geo\",\"hovertemplate\":\"<b>%{hovertext}</b><br><br>economy=Moldova<br>% of male with debit card=%{marker.size}<br>economycode=%{location}<extra></extra>\",\"hovertext\":[\"Moldova\"],\"legendgroup\":\"Moldova\",\"locations\":[\"MDA\"],\"marker\":{\"color\":\"#FF6692\",\"size\":[10.5],\"sizemode\":\"area\",\"sizeref\":0.1635,\"symbol\":\"circle\"},\"mode\":\"markers\",\"name\":\"Moldova\",\"showlegend\":true,\"type\":\"scattergeo\"},{\"geo\":\"geo\",\"hovertemplate\":\"<b>%{hovertext}</b><br><br>economy=Mongolia<br>% of male with debit card=%{marker.size}<br>economycode=%{location}<extra></extra>\",\"hovertext\":[\"Mongolia\"],\"legendgroup\":\"Mongolia\",\"locations\":[\"MNG\"],\"marker\":{\"color\":\"#B6E880\",\"size\":[30.0],\"sizemode\":\"area\",\"sizeref\":0.1635,\"symbol\":\"circle\"},\"mode\":\"markers\",\"name\":\"Mongolia\",\"showlegend\":true,\"type\":\"scattergeo\"},{\"geo\":\"geo\",\"hovertemplate\":\"<b>%{hovertext}</b><br><br>economy=Montenegro<br>% of male with debit card=%{marker.size}<br>economycode=%{location}<extra></extra>\",\"hovertext\":[\"Montenegro\"],\"legendgroup\":\"Montenegro\",\"locations\":[\"MNE\"],\"marker\":{\"color\":\"#FF97FF\",\"size\":[21.1],\"sizemode\":\"area\",\"sizeref\":0.1635,\"symbol\":\"circle\"},\"mode\":\"markers\",\"name\":\"Montenegro\",\"showlegend\":true,\"type\":\"scattergeo\"},{\"geo\":\"geo\",\"hovertemplate\":\"<b>%{hovertext}</b><br><br>economy=Morocco<br>% of male with debit card=%{marker.size}<br>economycode=%{location}<extra></extra>\",\"hovertext\":[\"Morocco\"],\"legendgroup\":\"Morocco\",\"locations\":[\"MAR\"],\"marker\":{\"color\":\"#FECB52\",\"size\":[15.79],\"sizemode\":\"area\",\"sizeref\":0.1635,\"symbol\":\"circle\"},\"mode\":\"markers\",\"name\":\"Morocco\",\"showlegend\":true,\"type\":\"scattergeo\"},{\"geo\":\"geo\",\"hovertemplate\":\"<b>%{hovertext}</b><br><br>economy=Mozambique<br>% of male with debit card=%{marker.size}<br>economycode=%{location}<extra></extra>\",\"hovertext\":[\"Mozambique\"],\"legendgroup\":\"Mozambique\",\"locations\":[\"MOZ\"],\"marker\":{\"color\":\"#636efa\",\"size\":[16.1],\"sizemode\":\"area\",\"sizeref\":0.1635,\"symbol\":\"circle\"},\"mode\":\"markers\",\"name\":\"Mozambique\",\"showlegend\":true,\"type\":\"scattergeo\"},{\"geo\":\"geo\",\"hovertemplate\":\"<b>%{hovertext}</b><br><br>economy=Myanmar<br>% of male with debit card=%{marker.size}<br>economycode=%{location}<extra></extra>\",\"hovertext\":[\"Myanmar\"],\"legendgroup\":\"Myanmar\",\"locations\":[\"MMR\"],\"marker\":{\"color\":\"#EF553B\",\"size\":[1.81],\"sizemode\":\"area\",\"sizeref\":0.1635,\"symbol\":\"circle\"},\"mode\":\"markers\",\"name\":\"Myanmar\",\"showlegend\":true,\"type\":\"scattergeo\"},{\"geo\":\"geo\",\"hovertemplate\":\"<b>%{hovertext}</b><br><br>economy=Namibia<br>% of male with debit card=%{marker.size}<br>economycode=%{location}<extra></extra>\",\"hovertext\":[\"Namibia\"],\"legendgroup\":\"Namibia\",\"locations\":[\"NAM\"],\"marker\":{\"color\":\"#00cc96\",\"size\":[22.9],\"sizemode\":\"area\",\"sizeref\":0.1635,\"symbol\":\"circle\"},\"mode\":\"markers\",\"name\":\"Namibia\",\"showlegend\":true,\"type\":\"scattergeo\"},{\"geo\":\"geo\",\"hovertemplate\":\"<b>%{hovertext}</b><br><br>economy=Nepal<br>% of male with debit card=%{marker.size}<br>economycode=%{location}<extra></extra>\",\"hovertext\":[\"Nepal\"],\"legendgroup\":\"Nepal\",\"locations\":[\"NPL\"],\"marker\":{\"color\":\"#ab63fa\",\"size\":[6.0],\"sizemode\":\"area\",\"sizeref\":0.1635,\"symbol\":\"circle\"},\"mode\":\"markers\",\"name\":\"Nepal\",\"showlegend\":true,\"type\":\"scattergeo\"},{\"geo\":\"geo\",\"hovertemplate\":\"<b>%{hovertext}</b><br><br>economy=Netherlands<br>% of male with debit card=%{marker.size}<br>economycode=%{location}<extra></extra>\",\"hovertext\":[\"Netherlands\"],\"legendgroup\":\"Netherlands\",\"locations\":[\"NLD\"],\"marker\":{\"color\":\"#FFA15A\",\"size\":[52.1],\"sizemode\":\"area\",\"sizeref\":0.1635,\"symbol\":\"circle\"},\"mode\":\"markers\",\"name\":\"Netherlands\",\"showlegend\":true,\"type\":\"scattergeo\"},{\"geo\":\"geo\",\"hovertemplate\":\"<b>%{hovertext}</b><br><br>economy=New Zealand<br>% of male with debit card=%{marker.size}<br>economycode=%{location}<extra></extra>\",\"hovertext\":[\"New Zealand\"],\"legendgroup\":\"New Zealand\",\"locations\":[\"NZL\"],\"marker\":{\"color\":\"#19d3f3\",\"size\":[39.2],\"sizemode\":\"area\",\"sizeref\":0.1635,\"symbol\":\"circle\"},\"mode\":\"markers\",\"name\":\"New Zealand\",\"showlegend\":true,\"type\":\"scattergeo\"},{\"geo\":\"geo\",\"hovertemplate\":\"<b>%{hovertext}</b><br><br>economy=Nicaragua<br>% of male with debit card=%{marker.size}<br>economycode=%{location}<extra></extra>\",\"hovertext\":[\"Nicaragua\"],\"legendgroup\":\"Nicaragua\",\"locations\":[\"NIC\"],\"marker\":{\"color\":\"#FF6692\",\"size\":[9.4],\"sizemode\":\"area\",\"sizeref\":0.1635,\"symbol\":\"circle\"},\"mode\":\"markers\",\"name\":\"Nicaragua\",\"showlegend\":true,\"type\":\"scattergeo\"},{\"geo\":\"geo\",\"hovertemplate\":\"<b>%{hovertext}</b><br><br>economy=Niger<br>% of male with debit card=%{marker.size}<br>economycode=%{location}<extra></extra>\",\"hovertext\":[\"Niger\"],\"legendgroup\":\"Niger\",\"locations\":[\"NER\"],\"marker\":{\"color\":\"#B6E880\",\"size\":[3.6],\"sizemode\":\"area\",\"sizeref\":0.1635,\"symbol\":\"circle\"},\"mode\":\"markers\",\"name\":\"Niger\",\"showlegend\":true,\"type\":\"scattergeo\"},{\"geo\":\"geo\",\"hovertemplate\":\"<b>%{hovertext}</b><br><br>economy=Nigeria<br>% of male with debit card=%{marker.size}<br>economycode=%{location}<extra></extra>\",\"hovertext\":[\"Nigeria\"],\"legendgroup\":\"Nigeria\",\"locations\":[\"NGA\"],\"marker\":{\"color\":\"#FF97FF\",\"size\":[30.9],\"sizemode\":\"area\",\"sizeref\":0.1635,\"symbol\":\"circle\"},\"mode\":\"markers\",\"name\":\"Nigeria\",\"showlegend\":true,\"type\":\"scattergeo\"},{\"geo\":\"geo\",\"hovertemplate\":\"<b>%{hovertext}</b><br><br>economy=Norway<br>% of male with debit card=%{marker.size}<br>economycode=%{location}<extra></extra>\",\"hovertext\":[\"Norway\"],\"legendgroup\":\"Norway\",\"locations\":[\"NOR\"],\"marker\":{\"color\":\"#FECB52\",\"size\":[49.0],\"sizemode\":\"area\",\"sizeref\":0.1635,\"symbol\":\"circle\"},\"mode\":\"markers\",\"name\":\"Norway\",\"showlegend\":true,\"type\":\"scattergeo\"},{\"geo\":\"geo\",\"hovertemplate\":\"<b>%{hovertext}</b><br><br>economy=Pakistan<br>% of male with debit card=%{marker.size}<br>economycode=%{location}<extra></extra>\",\"hovertext\":[\"Pakistan\"],\"legendgroup\":\"Pakistan\",\"locations\":[\"PAK\"],\"marker\":{\"color\":\"#636efa\",\"size\":[8.0],\"sizemode\":\"area\",\"sizeref\":0.1635,\"symbol\":\"circle\"},\"mode\":\"markers\",\"name\":\"Pakistan\",\"showlegend\":true,\"type\":\"scattergeo\"},{\"geo\":\"geo\",\"hovertemplate\":\"<b>%{hovertext}</b><br><br>economy=Panama<br>% of male with debit card=%{marker.size}<br>economycode=%{location}<extra></extra>\",\"hovertext\":[\"Panama\"],\"legendgroup\":\"Panama\",\"locations\":[\"PAN\"],\"marker\":{\"color\":\"#EF553B\",\"size\":[12.2],\"sizemode\":\"area\",\"sizeref\":0.1635,\"symbol\":\"circle\"},\"mode\":\"markers\",\"name\":\"Panama\",\"showlegend\":true,\"type\":\"scattergeo\"},{\"geo\":\"geo\",\"hovertemplate\":\"<b>%{hovertext}</b><br><br>economy=Paraguay<br>% of male with debit card=%{marker.size}<br>economycode=%{location}<extra></extra>\",\"hovertext\":[\"Paraguay\"],\"legendgroup\":\"Paraguay\",\"locations\":[\"PRY\"],\"marker\":{\"color\":\"#00cc96\",\"size\":[8.7],\"sizemode\":\"area\",\"sizeref\":0.1635,\"symbol\":\"circle\"},\"mode\":\"markers\",\"name\":\"Paraguay\",\"showlegend\":true,\"type\":\"scattergeo\"},{\"geo\":\"geo\",\"hovertemplate\":\"<b>%{hovertext}</b><br><br>economy=Peru<br>% of male with debit card=%{marker.size}<br>economycode=%{location}<extra></extra>\",\"hovertext\":[\"Peru\"],\"legendgroup\":\"Peru\",\"locations\":[\"PER\"],\"marker\":{\"color\":\"#ab63fa\",\"size\":[14.0],\"sizemode\":\"area\",\"sizeref\":0.1635,\"symbol\":\"circle\"},\"mode\":\"markers\",\"name\":\"Peru\",\"showlegend\":true,\"type\":\"scattergeo\"},{\"geo\":\"geo\",\"hovertemplate\":\"<b>%{hovertext}</b><br><br>economy=Philippines<br>% of male with debit card=%{marker.size}<br>economycode=%{location}<extra></extra>\",\"hovertext\":[\"Philippines\"],\"legendgroup\":\"Philippines\",\"locations\":[\"PHL\"],\"marker\":{\"color\":\"#FFA15A\",\"size\":[10.6],\"sizemode\":\"area\",\"sizeref\":0.1635,\"symbol\":\"circle\"},\"mode\":\"markers\",\"name\":\"Philippines\",\"showlegend\":true,\"type\":\"scattergeo\"},{\"geo\":\"geo\",\"hovertemplate\":\"<b>%{hovertext}</b><br><br>economy=Poland<br>% of male with debit card=%{marker.size}<br>economycode=%{location}<extra></extra>\",\"hovertext\":[\"Poland\"],\"legendgroup\":\"Poland\",\"locations\":[\"POL\"],\"marker\":{\"color\":\"#19d3f3\",\"size\":[31.2],\"sizemode\":\"area\",\"sizeref\":0.1635,\"symbol\":\"circle\"},\"mode\":\"markers\",\"name\":\"Poland\",\"showlegend\":true,\"type\":\"scattergeo\"},{\"geo\":\"geo\",\"hovertemplate\":\"<b>%{hovertext}</b><br><br>economy=Portugal<br>% of male with debit card=%{marker.size}<br>economycode=%{location}<extra></extra>\",\"hovertext\":[\"Portugal\"],\"legendgroup\":\"Portugal\",\"locations\":[\"PRT\"],\"marker\":{\"color\":\"#FF6692\",\"size\":[43.81],\"sizemode\":\"area\",\"sizeref\":0.1635,\"symbol\":\"circle\"},\"mode\":\"markers\",\"name\":\"Portugal\",\"showlegend\":true,\"type\":\"scattergeo\"},{\"geo\":\"geo\",\"hovertemplate\":\"<b>%{hovertext}</b><br><br>economy=Romania<br>% of male with debit card=%{marker.size}<br>economycode=%{location}<extra></extra>\",\"hovertext\":[\"Romania\"],\"legendgroup\":\"Romania\",\"locations\":[\"ROU\"],\"marker\":{\"color\":\"#B6E880\",\"size\":[21.88],\"sizemode\":\"area\",\"sizeref\":0.1635,\"symbol\":\"circle\"},\"mode\":\"markers\",\"name\":\"Romania\",\"showlegend\":true,\"type\":\"scattergeo\"},{\"geo\":\"geo\",\"hovertemplate\":\"<b>%{hovertext}</b><br><br>economy=Russian Federation<br>% of male with debit card=%{marker.size}<br>economycode=%{location}<extra></extra>\",\"hovertext\":[\"Russian Federation\"],\"legendgroup\":\"Russian Federation\",\"locations\":[\"RUS\"],\"marker\":{\"color\":\"#FF97FF\",\"size\":[19.3],\"sizemode\":\"area\",\"sizeref\":0.1635,\"symbol\":\"circle\"},\"mode\":\"markers\",\"name\":\"Russian Federation\",\"showlegend\":true,\"type\":\"scattergeo\"},{\"geo\":\"geo\",\"hovertemplate\":\"<b>%{hovertext}</b><br><br>economy=Rwanda<br>% of male with debit card=%{marker.size}<br>economycode=%{location}<extra></extra>\",\"hovertext\":[\"Rwanda\"],\"legendgroup\":\"Rwanda\",\"locations\":[\"RWA\"],\"marker\":{\"color\":\"#FECB52\",\"size\":[3.3],\"sizemode\":\"area\",\"sizeref\":0.1635,\"symbol\":\"circle\"},\"mode\":\"markers\",\"name\":\"Rwanda\",\"showlegend\":true,\"type\":\"scattergeo\"},{\"geo\":\"geo\",\"hovertemplate\":\"<b>%{hovertext}</b><br><br>economy=Saudi Arabia<br>% of male with debit card=%{marker.size}<br>economycode=%{location}<extra></extra>\",\"hovertext\":[\"Saudi Arabia\"],\"legendgroup\":\"Saudi Arabia\",\"locations\":[\"SAU\"],\"marker\":{\"color\":\"#636efa\",\"size\":[49.75],\"sizemode\":\"area\",\"sizeref\":0.1635,\"symbol\":\"circle\"},\"mode\":\"markers\",\"name\":\"Saudi Arabia\",\"showlegend\":true,\"type\":\"scattergeo\"},{\"geo\":\"geo\",\"hovertemplate\":\"<b>%{hovertext}</b><br><br>economy=Senegal<br>% of male with debit card=%{marker.size}<br>economycode=%{location}<extra></extra>\",\"hovertext\":[\"Senegal\"],\"legendgroup\":\"Senegal\",\"locations\":[\"SEN\"],\"marker\":{\"color\":\"#EF553B\",\"size\":[9.0],\"sizemode\":\"area\",\"sizeref\":0.1635,\"symbol\":\"circle\"},\"mode\":\"markers\",\"name\":\"Senegal\",\"showlegend\":true,\"type\":\"scattergeo\"},{\"geo\":\"geo\",\"hovertemplate\":\"<b>%{hovertext}</b><br><br>economy=Serbia<br>% of male with debit card=%{marker.size}<br>economycode=%{location}<extra></extra>\",\"hovertext\":[\"Serbia\"],\"legendgroup\":\"Serbia\",\"locations\":[\"SRB\"],\"marker\":{\"color\":\"#00cc96\",\"size\":[31.2],\"sizemode\":\"area\",\"sizeref\":0.1635,\"symbol\":\"circle\"},\"mode\":\"markers\",\"name\":\"Serbia\",\"showlegend\":true,\"type\":\"scattergeo\"},{\"geo\":\"geo\",\"hovertemplate\":\"<b>%{hovertext}</b><br><br>economy=Sierra Leone<br>% of male with debit card=%{marker.size}<br>economycode=%{location}<extra></extra>\",\"hovertext\":[\"Sierra Leone\"],\"legendgroup\":\"Sierra Leone\",\"locations\":[\"SLE\"],\"marker\":{\"color\":\"#ab63fa\",\"size\":[0.8],\"sizemode\":\"area\",\"sizeref\":0.1635,\"symbol\":\"circle\"},\"mode\":\"markers\",\"name\":\"Sierra Leone\",\"showlegend\":true,\"type\":\"scattergeo\"},{\"geo\":\"geo\",\"hovertemplate\":\"<b>%{hovertext}</b><br><br>economy=Singapore<br>% of male with debit card=%{marker.size}<br>economycode=%{location}<extra></extra>\",\"hovertext\":[\"Singapore\"],\"legendgroup\":\"Singapore\",\"locations\":[\"SGP\"],\"marker\":{\"color\":\"#FFA15A\",\"size\":[40.1],\"sizemode\":\"area\",\"sizeref\":0.1635,\"symbol\":\"circle\"},\"mode\":\"markers\",\"name\":\"Singapore\",\"showlegend\":true,\"type\":\"scattergeo\"},{\"geo\":\"geo\",\"hovertemplate\":\"<b>%{hovertext}</b><br><br>economy=Slovak Republic<br>% of male with debit card=%{marker.size}<br>economycode=%{location}<extra></extra>\",\"hovertext\":[\"Slovak Republic\"],\"legendgroup\":\"Slovak Republic\",\"locations\":[\"SVK\"],\"marker\":{\"color\":\"#19d3f3\",\"size\":[34.1],\"sizemode\":\"area\",\"sizeref\":0.1635,\"symbol\":\"circle\"},\"mode\":\"markers\",\"name\":\"Slovak Republic\",\"showlegend\":true,\"type\":\"scattergeo\"},{\"geo\":\"geo\",\"hovertemplate\":\"<b>%{hovertext}</b><br><br>economy=Slovenia<br>% of male with debit card=%{marker.size}<br>economycode=%{location}<extra></extra>\",\"hovertext\":[\"Slovenia\"],\"legendgroup\":\"Slovenia\",\"locations\":[\"SVN\"],\"marker\":{\"color\":\"#FF6692\",\"size\":[43.8],\"sizemode\":\"area\",\"sizeref\":0.1635,\"symbol\":\"circle\"},\"mode\":\"markers\",\"name\":\"Slovenia\",\"showlegend\":true,\"type\":\"scattergeo\"},{\"geo\":\"geo\",\"hovertemplate\":\"<b>%{hovertext}</b><br><br>economy=South Africa<br>% of male with debit card=%{marker.size}<br>economycode=%{location}<extra></extra>\",\"hovertext\":[\"South Africa\"],\"legendgroup\":\"South Africa\",\"locations\":[\"ZAF\"],\"marker\":{\"color\":\"#B6E880\",\"size\":[20.6],\"sizemode\":\"area\",\"sizeref\":0.1635,\"symbol\":\"circle\"},\"mode\":\"markers\",\"name\":\"South Africa\",\"showlegend\":true,\"type\":\"scattergeo\"},{\"geo\":\"geo\",\"hovertemplate\":\"<b>%{hovertext}</b><br><br>economy=South Sudan<br>% of male with debit card=%{marker.size}<br>economycode=%{location}<extra></extra>\",\"hovertext\":[\"South Sudan\"],\"legendgroup\":\"South Sudan\",\"locations\":[\"SSD\"],\"marker\":{\"color\":\"#FF97FF\",\"size\":[2.4],\"sizemode\":\"area\",\"sizeref\":0.1635,\"symbol\":\"circle\"},\"mode\":\"markers\",\"name\":\"South Sudan\",\"showlegend\":true,\"type\":\"scattergeo\"},{\"geo\":\"geo\",\"hovertemplate\":\"<b>%{hovertext}</b><br><br>economy=Spain<br>% of male with debit card=%{marker.size}<br>economycode=%{location}<extra></extra>\",\"hovertext\":[\"Spain\"],\"legendgroup\":\"Spain\",\"locations\":[\"ESP\"],\"marker\":{\"color\":\"#FECB52\",\"size\":[45.4],\"sizemode\":\"area\",\"sizeref\":0.1635,\"symbol\":\"circle\"},\"mode\":\"markers\",\"name\":\"Spain\",\"showlegend\":true,\"type\":\"scattergeo\"},{\"geo\":\"geo\",\"hovertemplate\":\"<b>%{hovertext}</b><br><br>economy=Sri Lanka<br>% of male with debit card=%{marker.size}<br>economycode=%{location}<extra></extra>\",\"hovertext\":[\"Sri Lanka\"],\"legendgroup\":\"Sri Lanka\",\"locations\":[\"LKA\"],\"marker\":{\"color\":\"#636efa\",\"size\":[16.12],\"sizemode\":\"area\",\"sizeref\":0.1635,\"symbol\":\"circle\"},\"mode\":\"markers\",\"name\":\"Sri Lanka\",\"showlegend\":true,\"type\":\"scattergeo\"},{\"geo\":\"geo\",\"hovertemplate\":\"<b>%{hovertext}</b><br><br>economy=Sweden<br>% of male with debit card=%{marker.size}<br>economycode=%{location}<extra></extra>\",\"hovertext\":[\"Sweden\"],\"legendgroup\":\"Sweden\",\"locations\":[\"SWE\"],\"marker\":{\"color\":\"#EF553B\",\"size\":[47.0],\"sizemode\":\"area\",\"sizeref\":0.1635,\"symbol\":\"circle\"},\"mode\":\"markers\",\"name\":\"Sweden\",\"showlegend\":true,\"type\":\"scattergeo\"},{\"geo\":\"geo\",\"hovertemplate\":\"<b>%{hovertext}</b><br><br>economy=Switzerland<br>% of male with debit card=%{marker.size}<br>economycode=%{location}<extra></extra>\",\"hovertext\":[\"Switzerland\"],\"legendgroup\":\"Switzerland\",\"locations\":[\"CHE\"],\"marker\":{\"color\":\"#00cc96\",\"size\":[43.1],\"sizemode\":\"area\",\"sizeref\":0.1635,\"symbol\":\"circle\"},\"mode\":\"markers\",\"name\":\"Switzerland\",\"showlegend\":true,\"type\":\"scattergeo\"},{\"geo\":\"geo\",\"hovertemplate\":\"<b>%{hovertext}</b><br><br>economy=Taiwan, China<br>% of male with debit card=%{marker.size}<br>economycode=%{location}<extra></extra>\",\"hovertext\":[\"Taiwan, China\"],\"legendgroup\":\"Taiwan, China\",\"locations\":[\"TWN\"],\"marker\":{\"color\":\"#ab63fa\",\"size\":[36.3],\"sizemode\":\"area\",\"sizeref\":0.1635,\"symbol\":\"circle\"},\"mode\":\"markers\",\"name\":\"Taiwan, China\",\"showlegend\":true,\"type\":\"scattergeo\"},{\"geo\":\"geo\",\"hovertemplate\":\"<b>%{hovertext}</b><br><br>economy=Tajikistan<br>% of male with debit card=%{marker.size}<br>economycode=%{location}<extra></extra>\",\"hovertext\":[\"Tajikistan\"],\"legendgroup\":\"Tajikistan\",\"locations\":[\"TJK\"],\"marker\":{\"color\":\"#FFA15A\",\"size\":[7.4],\"sizemode\":\"area\",\"sizeref\":0.1635,\"symbol\":\"circle\"},\"mode\":\"markers\",\"name\":\"Tajikistan\",\"showlegend\":true,\"type\":\"scattergeo\"},{\"geo\":\"geo\",\"hovertemplate\":\"<b>%{hovertext}</b><br><br>economy=Tanzania<br>% of male with debit card=%{marker.size}<br>economycode=%{location}<extra></extra>\",\"hovertext\":[\"Tanzania\"],\"legendgroup\":\"Tanzania\",\"locations\":[\"TZA\"],\"marker\":{\"color\":\"#19d3f3\",\"size\":[9.7],\"sizemode\":\"area\",\"sizeref\":0.1635,\"symbol\":\"circle\"},\"mode\":\"markers\",\"name\":\"Tanzania\",\"showlegend\":true,\"type\":\"scattergeo\"},{\"geo\":\"geo\",\"hovertemplate\":\"<b>%{hovertext}</b><br><br>economy=Thailand<br>% of male with debit card=%{marker.size}<br>economycode=%{location}<extra></extra>\",\"hovertext\":[\"Thailand\"],\"legendgroup\":\"Thailand\",\"locations\":[\"THA\"],\"marker\":{\"color\":\"#FF6692\",\"size\":[21.5],\"sizemode\":\"area\",\"sizeref\":0.1635,\"symbol\":\"circle\"},\"mode\":\"markers\",\"name\":\"Thailand\",\"showlegend\":true,\"type\":\"scattergeo\"},{\"geo\":\"geo\",\"hovertemplate\":\"<b>%{hovertext}</b><br><br>economy=Togo<br>% of male with debit card=%{marker.size}<br>economycode=%{location}<extra></extra>\",\"hovertext\":[\"Togo\"],\"legendgroup\":\"Togo\",\"locations\":[\"TGO\"],\"marker\":{\"color\":\"#B6E880\",\"size\":[10.4],\"sizemode\":\"area\",\"sizeref\":0.1635,\"symbol\":\"circle\"},\"mode\":\"markers\",\"name\":\"Togo\",\"showlegend\":true,\"type\":\"scattergeo\"},{\"geo\":\"geo\",\"hovertemplate\":\"<b>%{hovertext}</b><br><br>economy=Trinidad and Tobago<br>% of male with debit card=%{marker.size}<br>economycode=%{location}<extra></extra>\",\"hovertext\":[\"Trinidad and Tobago\"],\"legendgroup\":\"Trinidad and Tobago\",\"locations\":[\"TTO\"],\"marker\":{\"color\":\"#FF97FF\",\"size\":[28.97],\"sizemode\":\"area\",\"sizeref\":0.1635,\"symbol\":\"circle\"},\"mode\":\"markers\",\"name\":\"Trinidad and Tobago\",\"showlegend\":true,\"type\":\"scattergeo\"},{\"geo\":\"geo\",\"hovertemplate\":\"<b>%{hovertext}</b><br><br>economy=Tunisia<br>% of male with debit card=%{marker.size}<br>economycode=%{location}<extra></extra>\",\"hovertext\":[\"Tunisia\"],\"legendgroup\":\"Tunisia\",\"locations\":[\"TUN\"],\"marker\":{\"color\":\"#FECB52\",\"size\":[16.28],\"sizemode\":\"area\",\"sizeref\":0.1635,\"symbol\":\"circle\"},\"mode\":\"markers\",\"name\":\"Tunisia\",\"showlegend\":true,\"type\":\"scattergeo\"},{\"geo\":\"geo\",\"hovertemplate\":\"<b>%{hovertext}</b><br><br>economy=Turkey<br>% of male with debit card=%{marker.size}<br>economycode=%{location}<extra></extra>\",\"hovertext\":[\"Turkey\"],\"legendgroup\":\"Turkey\",\"locations\":[\"TUR\"],\"marker\":{\"color\":\"#636efa\",\"size\":[41.6],\"sizemode\":\"area\",\"sizeref\":0.1635,\"symbol\":\"circle\"},\"mode\":\"markers\",\"name\":\"Turkey\",\"showlegend\":true,\"type\":\"scattergeo\"},{\"geo\":\"geo\",\"hovertemplate\":\"<b>%{hovertext}</b><br><br>economy=Turkmenistan<br>% of male with debit card=%{marker.size}<br>economycode=%{location}<extra></extra>\",\"hovertext\":[\"Turkmenistan\"],\"legendgroup\":\"Turkmenistan\",\"locations\":[\"TKM\"],\"marker\":{\"color\":\"#EF553B\",\"size\":[23.8],\"sizemode\":\"area\",\"sizeref\":0.1635,\"symbol\":\"circle\"},\"mode\":\"markers\",\"name\":\"Turkmenistan\",\"showlegend\":true,\"type\":\"scattergeo\"},{\"geo\":\"geo\",\"hovertemplate\":\"<b>%{hovertext}</b><br><br>economy=Uganda<br>% of male with debit card=%{marker.size}<br>economycode=%{location}<extra></extra>\",\"hovertext\":[\"Uganda\"],\"legendgroup\":\"Uganda\",\"locations\":[\"UGA\"],\"marker\":{\"color\":\"#00cc96\",\"size\":[11.7],\"sizemode\":\"area\",\"sizeref\":0.1635,\"symbol\":\"circle\"},\"mode\":\"markers\",\"name\":\"Uganda\",\"showlegend\":true,\"type\":\"scattergeo\"},{\"geo\":\"geo\",\"hovertemplate\":\"<b>%{hovertext}</b><br><br>economy=Ukraine<br>% of male with debit card=%{marker.size}<br>economycode=%{location}<extra></extra>\",\"hovertext\":[\"Ukraine\"],\"legendgroup\":\"Ukraine\",\"locations\":[\"UKR\"],\"marker\":{\"color\":\"#ab63fa\",\"size\":[18.5],\"sizemode\":\"area\",\"sizeref\":0.1635,\"symbol\":\"circle\"},\"mode\":\"markers\",\"name\":\"Ukraine\",\"showlegend\":true,\"type\":\"scattergeo\"},{\"geo\":\"geo\",\"hovertemplate\":\"<b>%{hovertext}</b><br><br>economy=United Arab Emirates<br>% of male with debit card=%{marker.size}<br>economycode=%{location}<extra></extra>\",\"hovertext\":[\"United Arab Emirates\"],\"legendgroup\":\"United Arab Emirates\",\"locations\":[\"ARE\"],\"marker\":{\"color\":\"#FFA15A\",\"size\":[65.4],\"sizemode\":\"area\",\"sizeref\":0.1635,\"symbol\":\"circle\"},\"mode\":\"markers\",\"name\":\"United Arab Emirates\",\"showlegend\":true,\"type\":\"scattergeo\"},{\"geo\":\"geo\",\"hovertemplate\":\"<b>%{hovertext}</b><br><br>economy=United Kingdom<br>% of male with debit card=%{marker.size}<br>economycode=%{location}<extra></extra>\",\"hovertext\":[\"United Kingdom\"],\"legendgroup\":\"United Kingdom\",\"locations\":[\"GBR\"],\"marker\":{\"color\":\"#19d3f3\",\"size\":[45.9],\"sizemode\":\"area\",\"sizeref\":0.1635,\"symbol\":\"circle\"},\"mode\":\"markers\",\"name\":\"United Kingdom\",\"showlegend\":true,\"type\":\"scattergeo\"},{\"geo\":\"geo\",\"hovertemplate\":\"<b>%{hovertext}</b><br><br>economy=United States<br>% of male with debit card=%{marker.size}<br>economycode=%{location}<extra></extra>\",\"hovertext\":[\"United States\"],\"legendgroup\":\"United States\",\"locations\":[\"USA\"],\"marker\":{\"color\":\"#FF6692\",\"size\":[41.0],\"sizemode\":\"area\",\"sizeref\":0.1635,\"symbol\":\"circle\"},\"mode\":\"markers\",\"name\":\"United States\",\"showlegend\":true,\"type\":\"scattergeo\"},{\"geo\":\"geo\",\"hovertemplate\":\"<b>%{hovertext}</b><br><br>economy=Uruguay<br>% of male with debit card=%{marker.size}<br>economycode=%{location}<extra></extra>\",\"hovertext\":[\"Uruguay\"],\"legendgroup\":\"Uruguay\",\"locations\":[\"URY\"],\"marker\":{\"color\":\"#B6E880\",\"size\":[23.4],\"sizemode\":\"area\",\"sizeref\":0.1635,\"symbol\":\"circle\"},\"mode\":\"markers\",\"name\":\"Uruguay\",\"showlegend\":true,\"type\":\"scattergeo\"},{\"geo\":\"geo\",\"hovertemplate\":\"<b>%{hovertext}</b><br><br>economy=Uzbekistan<br>% of male with debit card=%{marker.size}<br>economycode=%{location}<extra></extra>\",\"hovertext\":[\"Uzbekistan\"],\"legendgroup\":\"Uzbekistan\",\"locations\":[\"UZB\"],\"marker\":{\"color\":\"#FF97FF\",\"size\":[11.4],\"sizemode\":\"area\",\"sizeref\":0.1635,\"symbol\":\"circle\"},\"mode\":\"markers\",\"name\":\"Uzbekistan\",\"showlegend\":true,\"type\":\"scattergeo\"},{\"geo\":\"geo\",\"hovertemplate\":\"<b>%{hovertext}</b><br><br>economy=Venezuela, RB<br>% of male with debit card=%{marker.size}<br>economycode=%{location}<extra></extra>\",\"hovertext\":[\"Venezuela, RB\"],\"legendgroup\":\"Venezuela, RB\",\"locations\":[\"VEN\"],\"marker\":{\"color\":\"#FECB52\",\"size\":[26.9],\"sizemode\":\"area\",\"sizeref\":0.1635,\"symbol\":\"circle\"},\"mode\":\"markers\",\"name\":\"Venezuela, RB\",\"showlegend\":true,\"type\":\"scattergeo\"},{\"geo\":\"geo\",\"hovertemplate\":\"<b>%{hovertext}</b><br><br>economy=Vietnam<br>% of male with debit card=%{marker.size}<br>economycode=%{location}<extra></extra>\",\"hovertext\":[\"Vietnam\"],\"legendgroup\":\"Vietnam\",\"locations\":[\"VNM\"],\"marker\":{\"color\":\"#636efa\",\"size\":[12.18],\"sizemode\":\"area\",\"sizeref\":0.1635,\"symbol\":\"circle\"},\"mode\":\"markers\",\"name\":\"Vietnam\",\"showlegend\":true,\"type\":\"scattergeo\"},{\"geo\":\"geo\",\"hovertemplate\":\"<b>%{hovertext}</b><br><br>economy=West Bank and Gaza<br>% of male with debit card=%{marker.size}<br>economycode=%{location}<extra></extra>\",\"hovertext\":[\"West Bank and Gaza\"],\"legendgroup\":\"West Bank and Gaza\",\"locations\":[\"PSE\"],\"marker\":{\"color\":\"#EF553B\",\"size\":[11.6],\"sizemode\":\"area\",\"sizeref\":0.1635,\"symbol\":\"circle\"},\"mode\":\"markers\",\"name\":\"West Bank and Gaza\",\"showlegend\":true,\"type\":\"scattergeo\"},{\"geo\":\"geo\",\"hovertemplate\":\"<b>%{hovertext}</b><br><br>economy=Zambia<br>% of male with debit card=%{marker.size}<br>economycode=%{location}<extra></extra>\",\"hovertext\":[\"Zambia\"],\"legendgroup\":\"Zambia\",\"locations\":[\"ZMB\"],\"marker\":{\"color\":\"#00cc96\",\"size\":[12.7],\"sizemode\":\"area\",\"sizeref\":0.1635,\"symbol\":\"circle\"},\"mode\":\"markers\",\"name\":\"Zambia\",\"showlegend\":true,\"type\":\"scattergeo\"},{\"geo\":\"geo\",\"hovertemplate\":\"<b>%{hovertext}</b><br><br>economy=Zimbabwe<br>% of male with debit card=%{marker.size}<br>economycode=%{location}<extra></extra>\",\"hovertext\":[\"Zimbabwe\"],\"legendgroup\":\"Zimbabwe\",\"locations\":[\"ZWE\"],\"marker\":{\"color\":\"#ab63fa\",\"size\":[13.1],\"sizemode\":\"area\",\"sizeref\":0.1635,\"symbol\":\"circle\"},\"mode\":\"markers\",\"name\":\"Zimbabwe\",\"showlegend\":true,\"type\":\"scattergeo\"}],                        {\"geo\":{\"center\":{},\"domain\":{\"x\":[0.0,1.0],\"y\":[0.0,1.0]}},\"legend\":{\"itemsizing\":\"constant\",\"title\":{\"text\":\"economy\"},\"tracegroupgap\":0},\"margin\":{\"t\":60},\"template\":{\"data\":{\"bar\":[{\"error_x\":{\"color\":\"#2a3f5f\"},\"error_y\":{\"color\":\"#2a3f5f\"},\"marker\":{\"line\":{\"color\":\"#E5ECF6\",\"width\":0.5},\"pattern\":{\"fillmode\":\"overlay\",\"size\":10,\"solidity\":0.2}},\"type\":\"bar\"}],\"barpolar\":[{\"marker\":{\"line\":{\"color\":\"#E5ECF6\",\"width\":0.5},\"pattern\":{\"fillmode\":\"overlay\",\"size\":10,\"solidity\":0.2}},\"type\":\"barpolar\"}],\"carpet\":[{\"aaxis\":{\"endlinecolor\":\"#2a3f5f\",\"gridcolor\":\"white\",\"linecolor\":\"white\",\"minorgridcolor\":\"white\",\"startlinecolor\":\"#2a3f5f\"},\"baxis\":{\"endlinecolor\":\"#2a3f5f\",\"gridcolor\":\"white\",\"linecolor\":\"white\",\"minorgridcolor\":\"white\",\"startlinecolor\":\"#2a3f5f\"},\"type\":\"carpet\"}],\"choropleth\":[{\"colorbar\":{\"outlinewidth\":0,\"ticks\":\"\"},\"type\":\"choropleth\"}],\"contour\":[{\"colorbar\":{\"outlinewidth\":0,\"ticks\":\"\"},\"colorscale\":[[0.0,\"#0d0887\"],[0.1111111111111111,\"#46039f\"],[0.2222222222222222,\"#7201a8\"],[0.3333333333333333,\"#9c179e\"],[0.4444444444444444,\"#bd3786\"],[0.5555555555555556,\"#d8576b\"],[0.6666666666666666,\"#ed7953\"],[0.7777777777777778,\"#fb9f3a\"],[0.8888888888888888,\"#fdca26\"],[1.0,\"#f0f921\"]],\"type\":\"contour\"}],\"contourcarpet\":[{\"colorbar\":{\"outlinewidth\":0,\"ticks\":\"\"},\"type\":\"contourcarpet\"}],\"heatmap\":[{\"colorbar\":{\"outlinewidth\":0,\"ticks\":\"\"},\"colorscale\":[[0.0,\"#0d0887\"],[0.1111111111111111,\"#46039f\"],[0.2222222222222222,\"#7201a8\"],[0.3333333333333333,\"#9c179e\"],[0.4444444444444444,\"#bd3786\"],[0.5555555555555556,\"#d8576b\"],[0.6666666666666666,\"#ed7953\"],[0.7777777777777778,\"#fb9f3a\"],[0.8888888888888888,\"#fdca26\"],[1.0,\"#f0f921\"]],\"type\":\"heatmap\"}],\"heatmapgl\":[{\"colorbar\":{\"outlinewidth\":0,\"ticks\":\"\"},\"colorscale\":[[0.0,\"#0d0887\"],[0.1111111111111111,\"#46039f\"],[0.2222222222222222,\"#7201a8\"],[0.3333333333333333,\"#9c179e\"],[0.4444444444444444,\"#bd3786\"],[0.5555555555555556,\"#d8576b\"],[0.6666666666666666,\"#ed7953\"],[0.7777777777777778,\"#fb9f3a\"],[0.8888888888888888,\"#fdca26\"],[1.0,\"#f0f921\"]],\"type\":\"heatmapgl\"}],\"histogram\":[{\"marker\":{\"pattern\":{\"fillmode\":\"overlay\",\"size\":10,\"solidity\":0.2}},\"type\":\"histogram\"}],\"histogram2d\":[{\"colorbar\":{\"outlinewidth\":0,\"ticks\":\"\"},\"colorscale\":[[0.0,\"#0d0887\"],[0.1111111111111111,\"#46039f\"],[0.2222222222222222,\"#7201a8\"],[0.3333333333333333,\"#9c179e\"],[0.4444444444444444,\"#bd3786\"],[0.5555555555555556,\"#d8576b\"],[0.6666666666666666,\"#ed7953\"],[0.7777777777777778,\"#fb9f3a\"],[0.8888888888888888,\"#fdca26\"],[1.0,\"#f0f921\"]],\"type\":\"histogram2d\"}],\"histogram2dcontour\":[{\"colorbar\":{\"outlinewidth\":0,\"ticks\":\"\"},\"colorscale\":[[0.0,\"#0d0887\"],[0.1111111111111111,\"#46039f\"],[0.2222222222222222,\"#7201a8\"],[0.3333333333333333,\"#9c179e\"],[0.4444444444444444,\"#bd3786\"],[0.5555555555555556,\"#d8576b\"],[0.6666666666666666,\"#ed7953\"],[0.7777777777777778,\"#fb9f3a\"],[0.8888888888888888,\"#fdca26\"],[1.0,\"#f0f921\"]],\"type\":\"histogram2dcontour\"}],\"mesh3d\":[{\"colorbar\":{\"outlinewidth\":0,\"ticks\":\"\"},\"type\":\"mesh3d\"}],\"parcoords\":[{\"line\":{\"colorbar\":{\"outlinewidth\":0,\"ticks\":\"\"}},\"type\":\"parcoords\"}],\"pie\":[{\"automargin\":true,\"type\":\"pie\"}],\"scatter\":[{\"marker\":{\"colorbar\":{\"outlinewidth\":0,\"ticks\":\"\"}},\"type\":\"scatter\"}],\"scatter3d\":[{\"line\":{\"colorbar\":{\"outlinewidth\":0,\"ticks\":\"\"}},\"marker\":{\"colorbar\":{\"outlinewidth\":0,\"ticks\":\"\"}},\"type\":\"scatter3d\"}],\"scattercarpet\":[{\"marker\":{\"colorbar\":{\"outlinewidth\":0,\"ticks\":\"\"}},\"type\":\"scattercarpet\"}],\"scattergeo\":[{\"marker\":{\"colorbar\":{\"outlinewidth\":0,\"ticks\":\"\"}},\"type\":\"scattergeo\"}],\"scattergl\":[{\"marker\":{\"colorbar\":{\"outlinewidth\":0,\"ticks\":\"\"}},\"type\":\"scattergl\"}],\"scattermapbox\":[{\"marker\":{\"colorbar\":{\"outlinewidth\":0,\"ticks\":\"\"}},\"type\":\"scattermapbox\"}],\"scatterpolar\":[{\"marker\":{\"colorbar\":{\"outlinewidth\":0,\"ticks\":\"\"}},\"type\":\"scatterpolar\"}],\"scatterpolargl\":[{\"marker\":{\"colorbar\":{\"outlinewidth\":0,\"ticks\":\"\"}},\"type\":\"scatterpolargl\"}],\"scatterternary\":[{\"marker\":{\"colorbar\":{\"outlinewidth\":0,\"ticks\":\"\"}},\"type\":\"scatterternary\"}],\"surface\":[{\"colorbar\":{\"outlinewidth\":0,\"ticks\":\"\"},\"colorscale\":[[0.0,\"#0d0887\"],[0.1111111111111111,\"#46039f\"],[0.2222222222222222,\"#7201a8\"],[0.3333333333333333,\"#9c179e\"],[0.4444444444444444,\"#bd3786\"],[0.5555555555555556,\"#d8576b\"],[0.6666666666666666,\"#ed7953\"],[0.7777777777777778,\"#fb9f3a\"],[0.8888888888888888,\"#fdca26\"],[1.0,\"#f0f921\"]],\"type\":\"surface\"}],\"table\":[{\"cells\":{\"fill\":{\"color\":\"#EBF0F8\"},\"line\":{\"color\":\"white\"}},\"header\":{\"fill\":{\"color\":\"#C8D4E3\"},\"line\":{\"color\":\"white\"}},\"type\":\"table\"}]},\"layout\":{\"annotationdefaults\":{\"arrowcolor\":\"#2a3f5f\",\"arrowhead\":0,\"arrowwidth\":1},\"autotypenumbers\":\"strict\",\"coloraxis\":{\"colorbar\":{\"outlinewidth\":0,\"ticks\":\"\"}},\"colorscale\":{\"diverging\":[[0,\"#8e0152\"],[0.1,\"#c51b7d\"],[0.2,\"#de77ae\"],[0.3,\"#f1b6da\"],[0.4,\"#fde0ef\"],[0.5,\"#f7f7f7\"],[0.6,\"#e6f5d0\"],[0.7,\"#b8e186\"],[0.8,\"#7fbc41\"],[0.9,\"#4d9221\"],[1,\"#276419\"]],\"sequential\":[[0.0,\"#0d0887\"],[0.1111111111111111,\"#46039f\"],[0.2222222222222222,\"#7201a8\"],[0.3333333333333333,\"#9c179e\"],[0.4444444444444444,\"#bd3786\"],[0.5555555555555556,\"#d8576b\"],[0.6666666666666666,\"#ed7953\"],[0.7777777777777778,\"#fb9f3a\"],[0.8888888888888888,\"#fdca26\"],[1.0,\"#f0f921\"]],\"sequentialminus\":[[0.0,\"#0d0887\"],[0.1111111111111111,\"#46039f\"],[0.2222222222222222,\"#7201a8\"],[0.3333333333333333,\"#9c179e\"],[0.4444444444444444,\"#bd3786\"],[0.5555555555555556,\"#d8576b\"],[0.6666666666666666,\"#ed7953\"],[0.7777777777777778,\"#fb9f3a\"],[0.8888888888888888,\"#fdca26\"],[1.0,\"#f0f921\"]]},\"colorway\":[\"#636efa\",\"#EF553B\",\"#00cc96\",\"#ab63fa\",\"#FFA15A\",\"#19d3f3\",\"#FF6692\",\"#B6E880\",\"#FF97FF\",\"#FECB52\"],\"font\":{\"color\":\"#2a3f5f\"},\"geo\":{\"bgcolor\":\"white\",\"lakecolor\":\"white\",\"landcolor\":\"#E5ECF6\",\"showlakes\":true,\"showland\":true,\"subunitcolor\":\"white\"},\"hoverlabel\":{\"align\":\"left\"},\"hovermode\":\"closest\",\"mapbox\":{\"style\":\"light\"},\"paper_bgcolor\":\"white\",\"plot_bgcolor\":\"#E5ECF6\",\"polar\":{\"angularaxis\":{\"gridcolor\":\"white\",\"linecolor\":\"white\",\"ticks\":\"\"},\"bgcolor\":\"#E5ECF6\",\"radialaxis\":{\"gridcolor\":\"white\",\"linecolor\":\"white\",\"ticks\":\"\"}},\"scene\":{\"xaxis\":{\"backgroundcolor\":\"#E5ECF6\",\"gridcolor\":\"white\",\"gridwidth\":2,\"linecolor\":\"white\",\"showbackground\":true,\"ticks\":\"\",\"zerolinecolor\":\"white\"},\"yaxis\":{\"backgroundcolor\":\"#E5ECF6\",\"gridcolor\":\"white\",\"gridwidth\":2,\"linecolor\":\"white\",\"showbackground\":true,\"ticks\":\"\",\"zerolinecolor\":\"white\"},\"zaxis\":{\"backgroundcolor\":\"#E5ECF6\",\"gridcolor\":\"white\",\"gridwidth\":2,\"linecolor\":\"white\",\"showbackground\":true,\"ticks\":\"\",\"zerolinecolor\":\"white\"}},\"shapedefaults\":{\"line\":{\"color\":\"#2a3f5f\"}},\"ternary\":{\"aaxis\":{\"gridcolor\":\"white\",\"linecolor\":\"white\",\"ticks\":\"\"},\"baxis\":{\"gridcolor\":\"white\",\"linecolor\":\"white\",\"ticks\":\"\"},\"bgcolor\":\"#E5ECF6\",\"caxis\":{\"gridcolor\":\"white\",\"linecolor\":\"white\",\"ticks\":\"\"}},\"title\":{\"x\":0.05},\"xaxis\":{\"automargin\":true,\"gridcolor\":\"white\",\"linecolor\":\"white\",\"ticks\":\"\",\"title\":{\"standoff\":15},\"zerolinecolor\":\"white\",\"zerolinewidth\":2},\"yaxis\":{\"automargin\":true,\"gridcolor\":\"white\",\"linecolor\":\"white\",\"ticks\":\"\",\"title\":{\"standoff\":15},\"zerolinecolor\":\"white\",\"zerolinewidth\":2}}}},                        {\"responsive\": true}                    ).then(function(){\n",
       "                            \n",
       "var gd = document.getElementById('e186deba-610c-4c08-a7e0-1495fcbda068');\n",
       "var x = new MutationObserver(function (mutations, observer) {{\n",
       "        var display = window.getComputedStyle(gd).display;\n",
       "        if (!display || display === 'none') {{\n",
       "            console.log([gd, 'removed!']);\n",
       "            Plotly.purge(gd);\n",
       "            observer.disconnect();\n",
       "        }}\n",
       "}});\n",
       "\n",
       "// Listen for the removal of the full notebook cells\n",
       "var notebookContainer = gd.closest('#notebook-container');\n",
       "if (notebookContainer) {{\n",
       "    x.observe(notebookContainer, {childList: true});\n",
       "}}\n",
       "\n",
       "// Listen for the clearing of the current output cell\n",
       "var outputEl = gd.closest('.output');\n",
       "if (outputEl) {{\n",
       "    x.observe(outputEl, {childList: true});\n",
       "}}\n",
       "\n",
       "                        })                };                });            </script>        </div>"
      ]
     },
     "metadata": {},
     "output_type": "display_data"
    }
   ],
   "source": [
    "fig = px.scatter_geo(\n",
    "    grouped_data2,\n",
    "    locations=\"economycode\",\n",
    "    color=\"economy\",\n",
    "    size=\"% of male with debit card\",\n",
    "    hover_name=\"economy\")\n",
    "\n",
    "fig.show()"
   ]
  },
  {
   "cell_type": "code",
   "execution_count": null,
   "metadata": {},
   "outputs": [],
   "source": []
  },
  {
   "cell_type": "code",
   "execution_count": null,
   "metadata": {},
   "outputs": [],
   "source": []
  }
 ],
 "metadata": {
  "colab": {
   "collapsed_sections": [],
   "provenance": []
  },
  "kernelspec": {
   "display_name": "Python 3 (ipykernel)",
   "language": "python",
   "name": "python3"
  },
  "language_info": {
   "codemirror_mode": {
    "name": "ipython",
    "version": 3
   },
   "file_extension": ".py",
   "mimetype": "text/x-python",
   "name": "python",
   "nbconvert_exporter": "python",
   "pygments_lexer": "ipython3",
   "version": "3.9.11"
  },
  "toc": {
   "base_numbering": 1,
   "nav_menu": {},
   "number_sections": true,
   "sideBar": true,
   "skip_h1_title": false,
   "title_cell": "Table of Contents",
   "title_sidebar": "Contents",
   "toc_cell": true,
   "toc_position": {},
   "toc_section_display": true,
   "toc_window_display": false
  }
 },
 "nbformat": 4,
 "nbformat_minor": 1
}
