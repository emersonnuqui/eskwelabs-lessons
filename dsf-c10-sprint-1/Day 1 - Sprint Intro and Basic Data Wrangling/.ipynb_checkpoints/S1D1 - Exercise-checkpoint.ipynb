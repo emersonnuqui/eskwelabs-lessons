{
 "cells": [
  {
   "cell_type": "markdown",
   "metadata": {
    "toc": true
   },
   "source": [
    "<h1>Table of Contents<span class=\"tocSkip\"></span></h1>\n",
    "<div class=\"toc\"><ul class=\"toc-item\"><li><span><a href=\"#Exercises\" data-toc-modified-id=\"Exercises-1\"><span class=\"toc-item-num\">1&nbsp;&nbsp;</span>Exercises</a></span><ul class=\"toc-item\"><li><span><a href=\"#EASY.-What-is-the-breakdown-of-the-Filipino-respondents-by-gender?\" data-toc-modified-id=\"EASY.-What-is-the-breakdown-of-the-Filipino-respondents-by-gender?-1.1\"><span class=\"toc-item-num\">1.1&nbsp;&nbsp;</span>EASY. What is the breakdown of the Filipino respondents by gender?</a></span></li><li><span><a href=\"#AVERAGE.-What-percentage-of-the-Filipino-respondents-have-BOTH-credit-card-and-debit-card?-Hint:-browse-through-the-data-description-to-find-the-needed-columns.\" data-toc-modified-id=\"AVERAGE.-What-percentage-of-the-Filipino-respondents-have-BOTH-credit-card-and-debit-card?-Hint:-browse-through-the-data-description-to-find-the-needed-columns.-1.2\"><span class=\"toc-item-num\">1.2&nbsp;&nbsp;</span>AVERAGE. What percentage of the Filipino respondents have BOTH credit card and debit card? Hint: browse through the data description to find the needed columns.</a></span></li><li><span><a href=\"#DIFFICULT.-Compare-the-richest-20%-to-the-poorest-20%-of-Filipino-respondents-in-terms-of-debit-card-ownership.-Is-there-a-discrepancy?\" data-toc-modified-id=\"DIFFICULT.-Compare-the-richest-20%-to-the-poorest-20%-of-Filipino-respondents-in-terms-of-debit-card-ownership.-Is-there-a-discrepancy?-1.3\"><span class=\"toc-item-num\">1.3&nbsp;&nbsp;</span>DIFFICULT. Compare the richest 20% to the poorest 20% of Filipino respondents in terms of debit card ownership. Is there a discrepancy?</a></span></li></ul></li></ul></div>"
   ]
  },
  {
   "cell_type": "markdown",
   "metadata": {
    "id": "COCN0vRF_0ni"
   },
   "source": [
    "# Exercises"
   ]
  },
  {
   "cell_type": "code",
   "execution_count": null,
   "metadata": {
    "id": "9JD0QEk5nEDg"
   },
   "outputs": [],
   "source": [
    "# Import pandas\n",
    "import pandas as pd"
   ]
  },
  {
   "cell_type": "code",
   "execution_count": null,
   "metadata": {
    "id": "8rl_xWq3m1kH"
   },
   "outputs": [],
   "source": [
    "# Load the data\n",
    "data = pd.read_csv('micro_world.csv', engine='python')"
   ]
  },
  {
   "cell_type": "code",
   "execution_count": null,
   "metadata": {
    "id": "aVefTNZim9mD"
   },
   "outputs": [],
   "source": [
    "# Filter the data\n",
    "philippine_data = data[\n",
    "    data['economy']=='Philippines'\n",
    "]"
   ]
  },
  {
   "cell_type": "markdown",
   "metadata": {
    "id": "DI5r9nctlhjA"
   },
   "source": [
    "## EASY. What is the breakdown of the Filipino respondents by gender?"
   ]
  },
  {
   "cell_type": "code",
   "execution_count": null,
   "metadata": {
    "id": "Y28hdYwMlmuJ"
   },
   "outputs": [],
   "source": []
  },
  {
   "cell_type": "markdown",
   "metadata": {
    "id": "YzVWf5hRpp06"
   },
   "source": [
    "## AVERAGE. What percentage of the Filipino respondents have BOTH credit card and debit card? Hint: browse through the data description to find the needed columns."
   ]
  },
  {
   "cell_type": "code",
   "execution_count": null,
   "metadata": {
    "id": "ZMwtJSsKpv2g"
   },
   "outputs": [],
   "source": []
  },
  {
   "cell_type": "markdown",
   "metadata": {
    "id": "dWDi1d-uloP5"
   },
   "source": [
    "## DIFFICULT. Compare the richest 20% to the poorest 20% of Filipino respondents in terms of debit card ownership. Is there a discrepancy? "
   ]
  },
  {
   "cell_type": "code",
   "execution_count": null,
   "metadata": {
    "id": "o7dZ5-9znKbR"
   },
   "outputs": [],
   "source": []
  }
 ],
 "metadata": {
  "colab": {
   "collapsed_sections": [],
   "provenance": []
  },
  "kernelspec": {
   "display_name": "Python 3 (ipykernel)",
   "language": "python",
   "name": "python3"
  },
  "language_info": {
   "codemirror_mode": {
    "name": "ipython",
    "version": 3
   },
   "file_extension": ".py",
   "mimetype": "text/x-python",
   "name": "python",
   "nbconvert_exporter": "python",
   "pygments_lexer": "ipython3",
   "version": "3.9.11"
  },
  "toc": {
   "base_numbering": 1,
   "nav_menu": {},
   "number_sections": true,
   "sideBar": true,
   "skip_h1_title": false,
   "title_cell": "Table of Contents",
   "title_sidebar": "Contents",
   "toc_cell": true,
   "toc_position": {},
   "toc_section_display": true,
   "toc_window_display": false
  }
 },
 "nbformat": 4,
 "nbformat_minor": 1
}
