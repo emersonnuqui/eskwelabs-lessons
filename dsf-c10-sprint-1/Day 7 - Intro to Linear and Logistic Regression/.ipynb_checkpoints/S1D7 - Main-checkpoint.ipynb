{
 "cells": [
  {
   "cell_type": "markdown",
   "metadata": {
    "toc": true
   },
   "source": [
    "<h1>Table of Contents<span class=\"tocSkip\"></span></h1>\n",
    "<div class=\"toc\"><ul class=\"toc-item\"><li><span><a href=\"#Logistic-Regression-in-Python\" data-toc-modified-id=\"Logistic-Regression-in-Python-1\"><span class=\"toc-item-num\">1&nbsp;&nbsp;</span>Logistic Regression in Python</a></span><ul class=\"toc-item\"><li><ul class=\"toc-item\"><li><span><a href=\"#Prepare-the-data\" data-toc-modified-id=\"Prepare-the-data-1.0.1\"><span class=\"toc-item-num\">1.0.1&nbsp;&nbsp;</span>Prepare the data</a></span></li></ul></li><li><span><a href=\"#Perform-stats-on-the-data\" data-toc-modified-id=\"Perform-stats-on-the-data-1.1\"><span class=\"toc-item-num\">1.1&nbsp;&nbsp;</span>Perform stats on the data</a></span></li><li><span><a href=\"#Train-the-model\" data-toc-modified-id=\"Train-the-model-1.2\"><span class=\"toc-item-num\">1.2&nbsp;&nbsp;</span>Train the model</a></span></li><li><span><a href=\"#Predict\" data-toc-modified-id=\"Predict-1.3\"><span class=\"toc-item-num\">1.3&nbsp;&nbsp;</span>Predict</a></span></li></ul></li></ul></div>"
   ]
  },
  {
   "cell_type": "markdown",
   "metadata": {
    "id": "COCN0vRF_0ni"
   },
   "source": [
    "# Logistic Regression in Python"
   ]
  },
  {
   "cell_type": "code",
   "execution_count": 11,
   "metadata": {
    "executionInfo": {
     "elapsed": 1133,
     "status": "ok",
     "timestamp": 1662293723941,
     "user": {
      "displayName": "Aaron Sta.Clara",
      "userId": "12783855657381363427"
     },
     "user_tz": -480
    },
    "id": "9JD0QEk5nEDg"
   },
   "outputs": [],
   "source": [
    "# Import libraries\n",
    "import matplotlib.pyplot as plt\n",
    "import pandas as pd\n",
    "import plotly.express as px\n",
    "import seaborn as sns\n",
    "from sklearn.cluster import KMeans\n",
    "from sklearn.datasets import make_blobs\n",
    "from sklearn.preprocessing import StandardScaler"
   ]
  },
  {
   "cell_type": "code",
   "execution_count": 12,
   "metadata": {
    "executionInfo": {
     "elapsed": 7973,
     "status": "ok",
     "timestamp": 1662293732976,
     "user": {
      "displayName": "Aaron Sta.Clara",
      "userId": "12783855657381363427"
     },
     "user_tz": -480
    },
    "id": "8rl_xWq3m1kH"
   },
   "outputs": [],
   "source": [
    "# Load the data\n",
    "world_data = pd.read_csv('micro_world.csv', engine='python')"
   ]
  },
  {
   "cell_type": "code",
   "execution_count": 13,
   "metadata": {
    "executionInfo": {
     "elapsed": 5,
     "status": "ok",
     "timestamp": 1662293732977,
     "user": {
      "displayName": "Aaron Sta.Clara",
      "userId": "12783855657381363427"
     },
     "user_tz": -480
    },
    "id": "0UPc7NM6RW40"
   },
   "outputs": [],
   "source": [
    "# Filter Philippine data\n",
    "philippine_data = world_data[\n",
    "    world_data['economy'] == 'Philippines'\n",
    "]"
   ]
  },
  {
   "cell_type": "markdown",
   "metadata": {
    "id": "inLZYEuIetTM"
   },
   "source": [
    "### Prepare the data"
   ]
  },
  {
   "cell_type": "markdown",
   "metadata": {
    "id": "CN5UVjcPgsYf"
   },
   "source": [
    "Let's use **gender**, **income group** and **educational background** as features for the prediction of **debit card ownership**.\n",
    "\n",
    "Note that these are all categorical data."
   ]
  },
  {
   "cell_type": "code",
   "execution_count": 14,
   "metadata": {
    "executionInfo": {
     "elapsed": 5,
     "status": "ok",
     "timestamp": 1662293732977,
     "user": {
      "displayName": "Aaron Sta.Clara",
      "userId": "12783855657381363427"
     },
     "user_tz": -480
    },
    "id": "VHsRGxNKg0ub"
   },
   "outputs": [],
   "source": [
    "# Filter data\n",
    "data = philippine_data[\n",
    "    [\n",
    "        'female',\n",
    "        'educ',\n",
    "        'inc_q',\n",
    "        'fin2'\n",
    "    ]\n",
    "]"
   ]
  },
  {
   "cell_type": "code",
   "execution_count": 15,
   "metadata": {
    "colab": {
     "base_uri": "https://localhost:8080/",
     "height": 424
    },
    "executionInfo": {
     "elapsed": 4,
     "status": "ok",
     "timestamp": 1662293732977,
     "user": {
      "displayName": "Aaron Sta.Clara",
      "userId": "12783855657381363427"
     },
     "user_tz": -480
    },
    "id": "9PsCZ0MMhTj6",
    "outputId": "45c8d20c-f683-4776-8560-3cef55773a0b"
   },
   "outputs": [
    {
     "data": {
      "text/html": [
       "\n",
       "  <div id=\"df-eb0c57e5-19c9-42c9-8d63-6fb75f7e653b\">\n",
       "    <div class=\"colab-df-container\">\n",
       "      <div>\n",
       "<style scoped>\n",
       "    .dataframe tbody tr th:only-of-type {\n",
       "        vertical-align: middle;\n",
       "    }\n",
       "\n",
       "    .dataframe tbody tr th {\n",
       "        vertical-align: top;\n",
       "    }\n",
       "\n",
       "    .dataframe thead th {\n",
       "        text-align: right;\n",
       "    }\n",
       "</style>\n",
       "<table border=\"1\" class=\"dataframe\">\n",
       "  <thead>\n",
       "    <tr style=\"text-align: right;\">\n",
       "      <th></th>\n",
       "      <th>female</th>\n",
       "      <th>educ</th>\n",
       "      <th>inc_q</th>\n",
       "      <th>fin2</th>\n",
       "    </tr>\n",
       "  </thead>\n",
       "  <tbody>\n",
       "    <tr>\n",
       "      <th>114292</th>\n",
       "      <td>2</td>\n",
       "      <td>1.0</td>\n",
       "      <td>1.0</td>\n",
       "      <td>2.0</td>\n",
       "    </tr>\n",
       "    <tr>\n",
       "      <th>114293</th>\n",
       "      <td>2</td>\n",
       "      <td>3.0</td>\n",
       "      <td>5.0</td>\n",
       "      <td>1.0</td>\n",
       "    </tr>\n",
       "    <tr>\n",
       "      <th>114294</th>\n",
       "      <td>2</td>\n",
       "      <td>1.0</td>\n",
       "      <td>4.0</td>\n",
       "      <td>1.0</td>\n",
       "    </tr>\n",
       "    <tr>\n",
       "      <th>114295</th>\n",
       "      <td>2</td>\n",
       "      <td>2.0</td>\n",
       "      <td>5.0</td>\n",
       "      <td>1.0</td>\n",
       "    </tr>\n",
       "    <tr>\n",
       "      <th>114296</th>\n",
       "      <td>2</td>\n",
       "      <td>3.0</td>\n",
       "      <td>5.0</td>\n",
       "      <td>1.0</td>\n",
       "    </tr>\n",
       "    <tr>\n",
       "      <th>...</th>\n",
       "      <td>...</td>\n",
       "      <td>...</td>\n",
       "      <td>...</td>\n",
       "      <td>...</td>\n",
       "    </tr>\n",
       "    <tr>\n",
       "      <th>115287</th>\n",
       "      <td>1</td>\n",
       "      <td>2.0</td>\n",
       "      <td>1.0</td>\n",
       "      <td>2.0</td>\n",
       "    </tr>\n",
       "    <tr>\n",
       "      <th>115288</th>\n",
       "      <td>1</td>\n",
       "      <td>1.0</td>\n",
       "      <td>1.0</td>\n",
       "      <td>2.0</td>\n",
       "    </tr>\n",
       "    <tr>\n",
       "      <th>115289</th>\n",
       "      <td>2</td>\n",
       "      <td>2.0</td>\n",
       "      <td>4.0</td>\n",
       "      <td>2.0</td>\n",
       "    </tr>\n",
       "    <tr>\n",
       "      <th>115290</th>\n",
       "      <td>1</td>\n",
       "      <td>2.0</td>\n",
       "      <td>4.0</td>\n",
       "      <td>2.0</td>\n",
       "    </tr>\n",
       "    <tr>\n",
       "      <th>115291</th>\n",
       "      <td>1</td>\n",
       "      <td>1.0</td>\n",
       "      <td>1.0</td>\n",
       "      <td>2.0</td>\n",
       "    </tr>\n",
       "  </tbody>\n",
       "</table>\n",
       "<p>1000 rows × 4 columns</p>\n",
       "</div>\n",
       "      <button class=\"colab-df-convert\" onclick=\"convertToInteractive('df-eb0c57e5-19c9-42c9-8d63-6fb75f7e653b')\"\n",
       "              title=\"Convert this dataframe to an interactive table.\"\n",
       "              style=\"display:none;\">\n",
       "        \n",
       "  <svg xmlns=\"http://www.w3.org/2000/svg\" height=\"24px\"viewBox=\"0 0 24 24\"\n",
       "       width=\"24px\">\n",
       "    <path d=\"M0 0h24v24H0V0z\" fill=\"none\"/>\n",
       "    <path d=\"M18.56 5.44l.94 2.06.94-2.06 2.06-.94-2.06-.94-.94-2.06-.94 2.06-2.06.94zm-11 1L8.5 8.5l.94-2.06 2.06-.94-2.06-.94L8.5 2.5l-.94 2.06-2.06.94zm10 10l.94 2.06.94-2.06 2.06-.94-2.06-.94-.94-2.06-.94 2.06-2.06.94z\"/><path d=\"M17.41 7.96l-1.37-1.37c-.4-.4-.92-.59-1.43-.59-.52 0-1.04.2-1.43.59L10.3 9.45l-7.72 7.72c-.78.78-.78 2.05 0 2.83L4 21.41c.39.39.9.59 1.41.59.51 0 1.02-.2 1.41-.59l7.78-7.78 2.81-2.81c.8-.78.8-2.07 0-2.86zM5.41 20L4 18.59l7.72-7.72 1.47 1.35L5.41 20z\"/>\n",
       "  </svg>\n",
       "      </button>\n",
       "      \n",
       "  <style>\n",
       "    .colab-df-container {\n",
       "      display:flex;\n",
       "      flex-wrap:wrap;\n",
       "      gap: 12px;\n",
       "    }\n",
       "\n",
       "    .colab-df-convert {\n",
       "      background-color: #E8F0FE;\n",
       "      border: none;\n",
       "      border-radius: 50%;\n",
       "      cursor: pointer;\n",
       "      display: none;\n",
       "      fill: #1967D2;\n",
       "      height: 32px;\n",
       "      padding: 0 0 0 0;\n",
       "      width: 32px;\n",
       "    }\n",
       "\n",
       "    .colab-df-convert:hover {\n",
       "      background-color: #E2EBFA;\n",
       "      box-shadow: 0px 1px 2px rgba(60, 64, 67, 0.3), 0px 1px 3px 1px rgba(60, 64, 67, 0.15);\n",
       "      fill: #174EA6;\n",
       "    }\n",
       "\n",
       "    [theme=dark] .colab-df-convert {\n",
       "      background-color: #3B4455;\n",
       "      fill: #D2E3FC;\n",
       "    }\n",
       "\n",
       "    [theme=dark] .colab-df-convert:hover {\n",
       "      background-color: #434B5C;\n",
       "      box-shadow: 0px 1px 3px 1px rgba(0, 0, 0, 0.15);\n",
       "      filter: drop-shadow(0px 1px 2px rgba(0, 0, 0, 0.3));\n",
       "      fill: #FFFFFF;\n",
       "    }\n",
       "  </style>\n",
       "\n",
       "      <script>\n",
       "        const buttonEl =\n",
       "          document.querySelector('#df-eb0c57e5-19c9-42c9-8d63-6fb75f7e653b button.colab-df-convert');\n",
       "        buttonEl.style.display =\n",
       "          google.colab.kernel.accessAllowed ? 'block' : 'none';\n",
       "\n",
       "        async function convertToInteractive(key) {\n",
       "          const element = document.querySelector('#df-eb0c57e5-19c9-42c9-8d63-6fb75f7e653b');\n",
       "          const dataTable =\n",
       "            await google.colab.kernel.invokeFunction('convertToInteractive',\n",
       "                                                     [key], {});\n",
       "          if (!dataTable) return;\n",
       "\n",
       "          const docLinkHtml = 'Like what you see? Visit the ' +\n",
       "            '<a target=\"_blank\" href=https://colab.research.google.com/notebooks/data_table.ipynb>data table notebook</a>'\n",
       "            + ' to learn more about interactive tables.';\n",
       "          element.innerHTML = '';\n",
       "          dataTable['output_type'] = 'display_data';\n",
       "          await google.colab.output.renderOutput(dataTable, element);\n",
       "          const docLink = document.createElement('div');\n",
       "          docLink.innerHTML = docLinkHtml;\n",
       "          element.appendChild(docLink);\n",
       "        }\n",
       "      </script>\n",
       "    </div>\n",
       "  </div>\n",
       "  "
      ],
      "text/plain": [
       "        female  educ  inc_q  fin2\n",
       "114292       2   1.0    1.0   2.0\n",
       "114293       2   3.0    5.0   1.0\n",
       "114294       2   1.0    4.0   1.0\n",
       "114295       2   2.0    5.0   1.0\n",
       "114296       2   3.0    5.0   1.0\n",
       "...        ...   ...    ...   ...\n",
       "115287       1   2.0    1.0   2.0\n",
       "115288       1   1.0    1.0   2.0\n",
       "115289       2   2.0    4.0   2.0\n",
       "115290       1   2.0    4.0   2.0\n",
       "115291       1   1.0    1.0   2.0\n",
       "\n",
       "[1000 rows x 4 columns]"
      ]
     },
     "execution_count": 15,
     "metadata": {},
     "output_type": "execute_result"
    }
   ],
   "source": [
    "# Show data\n",
    "data"
   ]
  },
  {
   "cell_type": "markdown",
   "metadata": {
    "id": "JXu8aj9MhWLP"
   },
   "source": [
    "According to the data documentation, here's the meaning of the encoded values per column: ![Screen Shot 2022-09-04 at 8.20.29 PM.png](data:image/png;base64,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)"
   ]
  },
  {
   "cell_type": "markdown",
   "metadata": {
    "id": "DQbv2rd5c5FD"
   },
   "source": [
    "Let us check the distribution of unique values per column. "
   ]
  },
  {
   "cell_type": "code",
   "execution_count": 17,
   "metadata": {
    "colab": {
     "base_uri": "https://localhost:8080/"
    },
    "executionInfo": {
     "elapsed": 299,
     "status": "ok",
     "timestamp": 1662294165308,
     "user": {
      "displayName": "Aaron Sta.Clara",
      "userId": "12783855657381363427"
     },
     "user_tz": -480
    },
    "id": "yLplfCvIc8dn",
    "outputId": "3e66308c-96a8-4098-8717-f02faea63ca1"
   },
   "outputs": [
    {
     "data": {
      "text/plain": [
       "2    562\n",
       "1    438\n",
       "Name: female, dtype: int64"
      ]
     },
     "execution_count": 17,
     "metadata": {},
     "output_type": "execute_result"
    }
   ],
   "source": [
    "# Check female column\n",
    "data['female'].value_counts()"
   ]
  },
  {
   "cell_type": "code",
   "execution_count": 18,
   "metadata": {
    "colab": {
     "base_uri": "https://localhost:8080/"
    },
    "executionInfo": {
     "elapsed": 275,
     "status": "ok",
     "timestamp": 1662294207210,
     "user": {
      "displayName": "Aaron Sta.Clara",
      "userId": "12783855657381363427"
     },
     "user_tz": -480
    },
    "id": "POyQOBUEdHgP",
    "outputId": "d5dec1c0-6f31-4cdb-d6dc-2a3197838b2c"
   },
   "outputs": [
    {
     "data": {
      "text/plain": [
       "2.0    594\n",
       "1.0    292\n",
       "3.0    114\n",
       "Name: educ, dtype: int64"
      ]
     },
     "execution_count": 18,
     "metadata": {},
     "output_type": "execute_result"
    }
   ],
   "source": [
    "# Check educ column\n",
    "data['educ'].value_counts()"
   ]
  },
  {
   "cell_type": "code",
   "execution_count": 19,
   "metadata": {
    "colab": {
     "base_uri": "https://localhost:8080/"
    },
    "executionInfo": {
     "elapsed": 288,
     "status": "ok",
     "timestamp": 1662294228373,
     "user": {
      "displayName": "Aaron Sta.Clara",
      "userId": "12783855657381363427"
     },
     "user_tz": -480
    },
    "id": "Xb2dPu7ydLTD",
    "outputId": "91161c88-f406-4874-e07e-3be48617e550"
   },
   "outputs": [
    {
     "data": {
      "text/plain": [
       "5.0    228\n",
       "4.0    209\n",
       "3.0    203\n",
       "1.0    192\n",
       "2.0    168\n",
       "Name: inc_q, dtype: int64"
      ]
     },
     "execution_count": 19,
     "metadata": {},
     "output_type": "execute_result"
    }
   ],
   "source": [
    "# Chekc inq_q column\n",
    "data['inc_q'].value_counts()"
   ]
  },
  {
   "cell_type": "code",
   "execution_count": 20,
   "metadata": {
    "colab": {
     "base_uri": "https://localhost:8080/"
    },
    "executionInfo": {
     "elapsed": 268,
     "status": "ok",
     "timestamp": 1662294260327,
     "user": {
      "displayName": "Aaron Sta.Clara",
      "userId": "12783855657381363427"
     },
     "user_tz": -480
    },
    "id": "hJNwv5DRdS0d",
    "outputId": "f1b0d3b9-885a-4dae-f68e-6ba8c8fe00c6"
   },
   "outputs": [
    {
     "data": {
      "text/plain": [
       "2.0    765\n",
       "1.0    234\n",
       "4.0      1\n",
       "Name: fin2, dtype: int64"
      ]
     },
     "execution_count": 20,
     "metadata": {},
     "output_type": "execute_result"
    }
   ],
   "source": [
    "# Check fin2 column\n",
    "data['fin2'].value_counts()"
   ]
  },
  {
   "cell_type": "markdown",
   "metadata": {
    "id": "Y1Wp0G0AdabQ"
   },
   "source": [
    "Notice that in fin2 column, there is one record with value of 4. According to the documentation, it seems that the respondent refused to answer. \n",
    "\n",
    "For now, let's replace this with 2. That is, we will assume this respondent has no debit card."
   ]
  },
  {
   "cell_type": "code",
   "execution_count": 21,
   "metadata": {
    "colab": {
     "base_uri": "https://localhost:8080/"
    },
    "executionInfo": {
     "elapsed": 256,
     "status": "ok",
     "timestamp": 1662294502233,
     "user": {
      "displayName": "Aaron Sta.Clara",
      "userId": "12783855657381363427"
     },
     "user_tz": -480
    },
    "id": "tfB8ODBNdZtT",
    "outputId": "d6a8df1e-e5a1-4bab-fb07-8c26b1751f5e"
   },
   "outputs": [
    {
     "name": "stderr",
     "output_type": "stream",
     "text": [
      "/usr/local/lib/python3.7/dist-packages/ipykernel_launcher.py:2: SettingWithCopyWarning: \n",
      "A value is trying to be set on a copy of a slice from a DataFrame.\n",
      "Try using .loc[row_indexer,col_indexer] = value instead\n",
      "\n",
      "See the caveats in the documentation: https://pandas.pydata.org/pandas-docs/stable/user_guide/indexing.html#returning-a-view-versus-a-copy\n",
      "  \n"
     ]
    }
   ],
   "source": [
    "# Replace 4 with 2 in fin2 column\n",
    "data['fin2'] = data['fin2'].replace({4:2})"
   ]
  },
  {
   "cell_type": "code",
   "execution_count": 22,
   "metadata": {
    "colab": {
     "base_uri": "https://localhost:8080/"
    },
    "executionInfo": {
     "elapsed": 261,
     "status": "ok",
     "timestamp": 1662294522110,
     "user": {
      "displayName": "Aaron Sta.Clara",
      "userId": "12783855657381363427"
     },
     "user_tz": -480
    },
    "id": "9rAFjwD8eTiV",
    "outputId": "822e272f-b09b-43e0-dd90-b06d4ba22a77"
   },
   "outputs": [
    {
     "data": {
      "text/plain": [
       "2.0    766\n",
       "1.0    234\n",
       "Name: fin2, dtype: int64"
      ]
     },
     "execution_count": 22,
     "metadata": {},
     "output_type": "execute_result"
    }
   ],
   "source": [
    "# Check again the fin2 column value distribution\n",
    "data['fin2'].value_counts()"
   ]
  },
  {
   "cell_type": "markdown",
   "metadata": {
    "id": "efkItNygmTSn"
   },
   "source": [
    "Now, let's make the column names more readable."
   ]
  },
  {
   "cell_type": "code",
   "execution_count": 23,
   "metadata": {
    "executionInfo": {
     "elapsed": 280,
     "status": "ok",
     "timestamp": 1662296649249,
     "user": {
      "displayName": "Aaron Sta.Clara",
      "userId": "12783855657381363427"
     },
     "user_tz": -480
    },
    "id": "qTqTJvlZmQZv"
   },
   "outputs": [],
   "source": [
    "# Rename columns\n",
    "data = data.rename(\n",
    "    columns = {\n",
    "        'female': 'gender',\n",
    "        'educ':'educational_background', \n",
    "        'inc_q':'income_group',\n",
    "        'fin2': 'has debit card'\n",
    "        }\n",
    ")"
   ]
  },
  {
   "cell_type": "code",
   "execution_count": 24,
   "metadata": {
    "colab": {
     "base_uri": "https://localhost:8080/",
     "height": 424
    },
    "executionInfo": {
     "elapsed": 336,
     "status": "ok",
     "timestamp": 1662296654137,
     "user": {
      "displayName": "Aaron Sta.Clara",
      "userId": "12783855657381363427"
     },
     "user_tz": -480
    },
    "id": "Ow-DsSzBmfMT",
    "outputId": "10294eac-f901-4b7f-af6f-5f94c62fb442"
   },
   "outputs": [
    {
     "data": {
      "text/html": [
       "\n",
       "  <div id=\"df-8e3c763c-1a3b-48ce-9eaa-1b3ed894b589\">\n",
       "    <div class=\"colab-df-container\">\n",
       "      <div>\n",
       "<style scoped>\n",
       "    .dataframe tbody tr th:only-of-type {\n",
       "        vertical-align: middle;\n",
       "    }\n",
       "\n",
       "    .dataframe tbody tr th {\n",
       "        vertical-align: top;\n",
       "    }\n",
       "\n",
       "    .dataframe thead th {\n",
       "        text-align: right;\n",
       "    }\n",
       "</style>\n",
       "<table border=\"1\" class=\"dataframe\">\n",
       "  <thead>\n",
       "    <tr style=\"text-align: right;\">\n",
       "      <th></th>\n",
       "      <th>gender</th>\n",
       "      <th>educational_background</th>\n",
       "      <th>income_group</th>\n",
       "      <th>has debit card</th>\n",
       "    </tr>\n",
       "  </thead>\n",
       "  <tbody>\n",
       "    <tr>\n",
       "      <th>114292</th>\n",
       "      <td>2</td>\n",
       "      <td>1.0</td>\n",
       "      <td>1.0</td>\n",
       "      <td>2.0</td>\n",
       "    </tr>\n",
       "    <tr>\n",
       "      <th>114293</th>\n",
       "      <td>2</td>\n",
       "      <td>3.0</td>\n",
       "      <td>5.0</td>\n",
       "      <td>1.0</td>\n",
       "    </tr>\n",
       "    <tr>\n",
       "      <th>114294</th>\n",
       "      <td>2</td>\n",
       "      <td>1.0</td>\n",
       "      <td>4.0</td>\n",
       "      <td>1.0</td>\n",
       "    </tr>\n",
       "    <tr>\n",
       "      <th>114295</th>\n",
       "      <td>2</td>\n",
       "      <td>2.0</td>\n",
       "      <td>5.0</td>\n",
       "      <td>1.0</td>\n",
       "    </tr>\n",
       "    <tr>\n",
       "      <th>114296</th>\n",
       "      <td>2</td>\n",
       "      <td>3.0</td>\n",
       "      <td>5.0</td>\n",
       "      <td>1.0</td>\n",
       "    </tr>\n",
       "    <tr>\n",
       "      <th>...</th>\n",
       "      <td>...</td>\n",
       "      <td>...</td>\n",
       "      <td>...</td>\n",
       "      <td>...</td>\n",
       "    </tr>\n",
       "    <tr>\n",
       "      <th>115287</th>\n",
       "      <td>1</td>\n",
       "      <td>2.0</td>\n",
       "      <td>1.0</td>\n",
       "      <td>2.0</td>\n",
       "    </tr>\n",
       "    <tr>\n",
       "      <th>115288</th>\n",
       "      <td>1</td>\n",
       "      <td>1.0</td>\n",
       "      <td>1.0</td>\n",
       "      <td>2.0</td>\n",
       "    </tr>\n",
       "    <tr>\n",
       "      <th>115289</th>\n",
       "      <td>2</td>\n",
       "      <td>2.0</td>\n",
       "      <td>4.0</td>\n",
       "      <td>2.0</td>\n",
       "    </tr>\n",
       "    <tr>\n",
       "      <th>115290</th>\n",
       "      <td>1</td>\n",
       "      <td>2.0</td>\n",
       "      <td>4.0</td>\n",
       "      <td>2.0</td>\n",
       "    </tr>\n",
       "    <tr>\n",
       "      <th>115291</th>\n",
       "      <td>1</td>\n",
       "      <td>1.0</td>\n",
       "      <td>1.0</td>\n",
       "      <td>2.0</td>\n",
       "    </tr>\n",
       "  </tbody>\n",
       "</table>\n",
       "<p>1000 rows × 4 columns</p>\n",
       "</div>\n",
       "      <button class=\"colab-df-convert\" onclick=\"convertToInteractive('df-8e3c763c-1a3b-48ce-9eaa-1b3ed894b589')\"\n",
       "              title=\"Convert this dataframe to an interactive table.\"\n",
       "              style=\"display:none;\">\n",
       "        \n",
       "  <svg xmlns=\"http://www.w3.org/2000/svg\" height=\"24px\"viewBox=\"0 0 24 24\"\n",
       "       width=\"24px\">\n",
       "    <path d=\"M0 0h24v24H0V0z\" fill=\"none\"/>\n",
       "    <path d=\"M18.56 5.44l.94 2.06.94-2.06 2.06-.94-2.06-.94-.94-2.06-.94 2.06-2.06.94zm-11 1L8.5 8.5l.94-2.06 2.06-.94-2.06-.94L8.5 2.5l-.94 2.06-2.06.94zm10 10l.94 2.06.94-2.06 2.06-.94-2.06-.94-.94-2.06-.94 2.06-2.06.94z\"/><path d=\"M17.41 7.96l-1.37-1.37c-.4-.4-.92-.59-1.43-.59-.52 0-1.04.2-1.43.59L10.3 9.45l-7.72 7.72c-.78.78-.78 2.05 0 2.83L4 21.41c.39.39.9.59 1.41.59.51 0 1.02-.2 1.41-.59l7.78-7.78 2.81-2.81c.8-.78.8-2.07 0-2.86zM5.41 20L4 18.59l7.72-7.72 1.47 1.35L5.41 20z\"/>\n",
       "  </svg>\n",
       "      </button>\n",
       "      \n",
       "  <style>\n",
       "    .colab-df-container {\n",
       "      display:flex;\n",
       "      flex-wrap:wrap;\n",
       "      gap: 12px;\n",
       "    }\n",
       "\n",
       "    .colab-df-convert {\n",
       "      background-color: #E8F0FE;\n",
       "      border: none;\n",
       "      border-radius: 50%;\n",
       "      cursor: pointer;\n",
       "      display: none;\n",
       "      fill: #1967D2;\n",
       "      height: 32px;\n",
       "      padding: 0 0 0 0;\n",
       "      width: 32px;\n",
       "    }\n",
       "\n",
       "    .colab-df-convert:hover {\n",
       "      background-color: #E2EBFA;\n",
       "      box-shadow: 0px 1px 2px rgba(60, 64, 67, 0.3), 0px 1px 3px 1px rgba(60, 64, 67, 0.15);\n",
       "      fill: #174EA6;\n",
       "    }\n",
       "\n",
       "    [theme=dark] .colab-df-convert {\n",
       "      background-color: #3B4455;\n",
       "      fill: #D2E3FC;\n",
       "    }\n",
       "\n",
       "    [theme=dark] .colab-df-convert:hover {\n",
       "      background-color: #434B5C;\n",
       "      box-shadow: 0px 1px 3px 1px rgba(0, 0, 0, 0.15);\n",
       "      filter: drop-shadow(0px 1px 2px rgba(0, 0, 0, 0.3));\n",
       "      fill: #FFFFFF;\n",
       "    }\n",
       "  </style>\n",
       "\n",
       "      <script>\n",
       "        const buttonEl =\n",
       "          document.querySelector('#df-8e3c763c-1a3b-48ce-9eaa-1b3ed894b589 button.colab-df-convert');\n",
       "        buttonEl.style.display =\n",
       "          google.colab.kernel.accessAllowed ? 'block' : 'none';\n",
       "\n",
       "        async function convertToInteractive(key) {\n",
       "          const element = document.querySelector('#df-8e3c763c-1a3b-48ce-9eaa-1b3ed894b589');\n",
       "          const dataTable =\n",
       "            await google.colab.kernel.invokeFunction('convertToInteractive',\n",
       "                                                     [key], {});\n",
       "          if (!dataTable) return;\n",
       "\n",
       "          const docLinkHtml = 'Like what you see? Visit the ' +\n",
       "            '<a target=\"_blank\" href=https://colab.research.google.com/notebooks/data_table.ipynb>data table notebook</a>'\n",
       "            + ' to learn more about interactive tables.';\n",
       "          element.innerHTML = '';\n",
       "          dataTable['output_type'] = 'display_data';\n",
       "          await google.colab.output.renderOutput(dataTable, element);\n",
       "          const docLink = document.createElement('div');\n",
       "          docLink.innerHTML = docLinkHtml;\n",
       "          element.appendChild(docLink);\n",
       "        }\n",
       "      </script>\n",
       "    </div>\n",
       "  </div>\n",
       "  "
      ],
      "text/plain": [
       "        gender  educational_background  income_group  has debit card\n",
       "114292       2                     1.0           1.0             2.0\n",
       "114293       2                     3.0           5.0             1.0\n",
       "114294       2                     1.0           4.0             1.0\n",
       "114295       2                     2.0           5.0             1.0\n",
       "114296       2                     3.0           5.0             1.0\n",
       "...        ...                     ...           ...             ...\n",
       "115287       1                     2.0           1.0             2.0\n",
       "115288       1                     1.0           1.0             2.0\n",
       "115289       2                     2.0           4.0             2.0\n",
       "115290       1                     2.0           4.0             2.0\n",
       "115291       1                     1.0           1.0             2.0\n",
       "\n",
       "[1000 rows x 4 columns]"
      ]
     },
     "execution_count": 24,
     "metadata": {},
     "output_type": "execute_result"
    }
   ],
   "source": [
    "# Show data\n",
    "data"
   ]
  },
  {
   "cell_type": "markdown",
   "metadata": {
    "id": "O7ERmpvcmhWm"
   },
   "source": [
    "## Perform stats on the data"
   ]
  },
  {
   "cell_type": "markdown",
   "metadata": {
    "id": "w5_wUOZNmrGf"
   },
   "source": [
    "We can use various techniques to test the predictive power of our features.\n",
    "\n",
    "For now, let's try to do **chi-square test of independence**. \n",
    "\n",
    "For each feature, we want to test if they are independent. \n",
    "\n",
    "In chi-square test of independence:\n",
    "*   Null hypothesis, Ho: there is no relationship between x and y.\n",
    "*   Alternative hypothesis, Ha: there is a relationship between x and y.\n",
    "\n",
    "If p < 0.05, then we reject the null hypothesis in favor of the alternative hypothesis. In this case, we can use the feature in our logistic regression modeling because x has a significant relationship with y. "
   ]
  },
  {
   "cell_type": "code",
   "execution_count": 25,
   "metadata": {
    "executionInfo": {
     "elapsed": 255,
     "status": "ok",
     "timestamp": 1662297324646,
     "user": {
      "displayName": "Aaron Sta.Clara",
      "userId": "12783855657381363427"
     },
     "user_tz": -480
    },
    "id": "hK5ikuemmpd_"
   },
   "outputs": [],
   "source": [
    "# Import the library\n",
    "from sklearn.feature_selection import chi2"
   ]
  },
  {
   "cell_type": "code",
   "execution_count": 26,
   "metadata": {
    "executionInfo": {
     "elapsed": 276,
     "status": "ok",
     "timestamp": 1662297416542,
     "user": {
      "displayName": "Aaron Sta.Clara",
      "userId": "12783855657381363427"
     },
     "user_tz": -480
    },
    "id": "LWIvYjkWmgl3"
   },
   "outputs": [],
   "source": [
    "# Separate features and labels\n",
    "X = data.drop('has debit card',axis=1)\n",
    "y = data['has debit card']"
   ]
  },
  {
   "cell_type": "code",
   "execution_count": 27,
   "metadata": {
    "executionInfo": {
     "elapsed": 273,
     "status": "ok",
     "timestamp": 1662297436897,
     "user": {
      "displayName": "Aaron Sta.Clara",
      "userId": "12783855657381363427"
     },
     "user_tz": -480
    },
    "id": "_UtWyHLPpaqO"
   },
   "outputs": [],
   "source": [
    "# Run chi-square test\n",
    "chi_scores = chi2(X, y)"
   ]
  },
  {
   "cell_type": "code",
   "execution_count": 28,
   "metadata": {
    "executionInfo": {
     "elapsed": 276,
     "status": "ok",
     "timestamp": 1662297491871,
     "user": {
      "displayName": "Aaron Sta.Clara",
      "userId": "12783855657381363427"
     },
     "user_tz": -480
    },
    "id": "avs0iT-kpfZ8"
   },
   "outputs": [],
   "source": [
    "# Create a dataframe for mapping p-values to features\n",
    "p_values = pd.Series(\n",
    "    chi_scores[1],\n",
    "    index = X.columns\n",
    "    )\n",
    "p_values.sort_values(\n",
    "    ascending = False, \n",
    "    inplace = True\n",
    "    )"
   ]
  },
  {
   "cell_type": "code",
   "execution_count": 30,
   "metadata": {
    "colab": {
     "base_uri": "https://localhost:8080/"
    },
    "executionInfo": {
     "elapsed": 277,
     "status": "ok",
     "timestamp": 1662297619121,
     "user": {
      "displayName": "Aaron Sta.Clara",
      "userId": "12783855657381363427"
     },
     "user_tz": -480
    },
    "id": "NxrKt1N_qKVl",
    "outputId": "d25f076e-137c-4e0b-973b-3fb54d7b4604"
   },
   "outputs": [
    {
     "data": {
      "text/plain": [
       "gender                    8.339401e-01\n",
       "educational_background    1.045321e-05\n",
       "income_group              1.089158e-14\n",
       "dtype: float64"
      ]
     },
     "execution_count": 30,
     "metadata": {},
     "output_type": "execute_result"
    }
   ],
   "source": [
    "# Display data\n",
    "p_values"
   ]
  },
  {
   "cell_type": "code",
   "execution_count": 29,
   "metadata": {
    "colab": {
     "base_uri": "https://localhost:8080/",
     "height": 608
    },
    "executionInfo": {
     "elapsed": 935,
     "status": "ok",
     "timestamp": 1662297596861,
     "user": {
      "displayName": "Aaron Sta.Clara",
      "userId": "12783855657381363427"
     },
     "user_tz": -480
    },
    "id": "S8-75b7jpszW",
    "outputId": "2a53db4f-1539-4d82-d631-b90ca0d79aac"
   },
   "outputs": [
    {
     "data": {
      "image/png": "[encoded data removed]",
      "text/plain": [
       "<Figure size 1200x600 with 1 Axes>"
      ]
     },
     "metadata": {
      "needs_background": "light"
     },
     "output_type": "display_data"
    }
   ],
   "source": [
    "# Plot p-values per feature\n",
    "plt.figure(figsize=(6,3)  , dpi=200)\n",
    "\n",
    "# Run bar plot\n",
    "plt.bar(\n",
    "    p_values.index,\n",
    "    p_values.values\n",
    ")\n",
    "\n",
    "# Set title\n",
    "plt.title('Chi-square test p-values')\n",
    "\n",
    "# Set labels\n",
    "plt.xlabel('Feature')\n",
    "plt.ylabel('p-value')\n",
    "\n",
    "# Show figure\n",
    "plt.show()"
   ]
  },
  {
   "cell_type": "markdown",
   "metadata": {
    "id": "2zsuNQ8BqO12"
   },
   "source": [
    "Based on this, it seems we can only use educational background and income group as candidate features for predicting debit card ownership."
   ]
  },
  {
   "cell_type": "markdown",
   "metadata": {
    "id": "CzYb9gvcqVU6"
   },
   "source": [
    "## Train the model"
   ]
  },
  {
   "cell_type": "code",
   "execution_count": 31,
   "metadata": {
    "executionInfo": {
     "elapsed": 277,
     "status": "ok",
     "timestamp": 1662297816538,
     "user": {
      "displayName": "Aaron Sta.Clara",
      "userId": "12783855657381363427"
     },
     "user_tz": -480
    },
    "id": "geSMJNEnqwNP"
   },
   "outputs": [],
   "source": [
    "# Reconfigure features and labels\n",
    "X = data[['educational_background', 'income_group']]\n",
    "y = data['has debit card']"
   ]
  },
  {
   "cell_type": "markdown",
   "metadata": {
    "id": "UUrOxZ0drANr"
   },
   "source": [
    "Now, we will apply train-test split. We will use the training data in training the model and we will set aside the test data for the evaluation of our modle performance. Usual train-test split are as follows:\n",
    "\n",
    "* 80/20 split: 80% training data, 20% test data\n",
    "* 70/30 split: 70% training data, 30% test data\n",
    "\n",
    "To put it simply, the essence of setting aside a test data is that we want to have a gauge of the model performance on the data it has not seen yet."
   ]
  },
  {
   "cell_type": "markdown",
   "metadata": {
    "id": "FeMimNKjq8hp"
   },
   "source": [
    "![image.png](data:image/png;base64,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)"
   ]
  },
  {
   "cell_type": "code",
   "execution_count": 32,
   "metadata": {
    "executionInfo": {
     "elapsed": 3,
     "status": "ok",
     "timestamp": 1662298016190,
     "user": {
      "displayName": "Aaron Sta.Clara",
      "userId": "12783855657381363427"
     },
     "user_tz": -480
    },
    "id": "96e5Jh4PrqCB"
   },
   "outputs": [],
   "source": [
    "# Apply train-test split\n",
    "from sklearn.model_selection import train_test_split\n",
    "\n",
    "X_train, X_test, y_train, y_test = train_test_split(\n",
    "    X, \n",
    "    y, \n",
    "    test_size=0.2, \n",
    "    random_state=42\n",
    "    )"
   ]
  },
  {
   "cell_type": "code",
   "execution_count": 33,
   "metadata": {
    "colab": {
     "base_uri": "https://localhost:8080/"
    },
    "executionInfo": {
     "elapsed": 391,
     "status": "ok",
     "timestamp": 1662298108528,
     "user": {
      "displayName": "Aaron Sta.Clara",
      "userId": "12783855657381363427"
     },
     "user_tz": -480
    },
    "id": "uGmye-ivrs5h",
    "outputId": "74e1bf31-fd44-4944-de76-26e41966c2fd"
   },
   "outputs": [
    {
     "data": {
      "text/plain": [
       "2.0    608\n",
       "1.0    192\n",
       "Name: has debit card, dtype: int64"
      ]
     },
     "execution_count": 33,
     "metadata": {},
     "output_type": "execute_result"
    }
   ],
   "source": [
    "# Check imbalance\n",
    "y_train.value_counts()"
   ]
  },
  {
   "cell_type": "markdown",
   "metadata": {
    "id": "a05xzQtTsEJz"
   },
   "source": [
    "Data is highly imbalanced.\n",
    "\n",
    "There is a lot of people without debit cards. If we don't correct this, the model will inevitably be biased towards people WITHOUT debit cards.\n",
    "\n",
    "We can do either (1) undersampling or (2) oversampling.\n",
    "\n",
    "**Undersampling**: reduce the majority class to match the minority.\n",
    "\n",
    "**Oversampling**: create synthetic copies of data points of the minority class to match the majority.\n",
    "\n",
    "Luckily, Logistic Regression of scikit-learn can do this for us by passing class_weight='balanced'."
   ]
  },
  {
   "cell_type": "code",
   "execution_count": 34,
   "metadata": {
    "executionInfo": {
     "elapsed": 263,
     "status": "ok",
     "timestamp": 1662298382453,
     "user": {
      "displayName": "Aaron Sta.Clara",
      "userId": "12783855657381363427"
     },
     "user_tz": -480
    },
    "id": "oWuqsBbRqYTd"
   },
   "outputs": [],
   "source": [
    "# Call the model\n",
    "from sklearn.linear_model import LogisticRegression\n",
    "\n",
    "model = LogisticRegression(\n",
    "    random_state=42,\n",
    "    class_weight='balanced'\n",
    "    )"
   ]
  },
  {
   "cell_type": "code",
   "execution_count": 35,
   "metadata": {
    "executionInfo": {
     "elapsed": 433,
     "status": "ok",
     "timestamp": 1662298391758,
     "user": {
      "displayName": "Aaron Sta.Clara",
      "userId": "12783855657381363427"
     },
     "user_tz": -480
    },
    "id": "1uDZAy1ntGcL"
   },
   "outputs": [],
   "source": [
    "# Fit the model\n",
    "trained_model = model.fit(X_train, y_train)"
   ]
  },
  {
   "cell_type": "markdown",
   "metadata": {
    "id": "hzdSa6bNtQRx"
   },
   "source": [
    "Note the difference between model and trained_model.\n",
    "\n",
    "The model is only a set of code. Meanwhile, trained_model can be thought of as code + data. \n",
    "\n",
    "Now, we can move to making predictions."
   ]
  },
  {
   "cell_type": "markdown",
   "metadata": {
    "id": "SgwCqkOxtl6K"
   },
   "source": [
    "## Predict"
   ]
  },
  {
   "cell_type": "code",
   "execution_count": 36,
   "metadata": {
    "executionInfo": {
     "elapsed": 453,
     "status": "ok",
     "timestamp": 1662298397580,
     "user": {
      "displayName": "Aaron Sta.Clara",
      "userId": "12783855657381363427"
     },
     "user_tz": -480
    },
    "id": "Ay-P587ttIfM"
   },
   "outputs": [],
   "source": [
    "# Predict using the trained models\n",
    "predictions = trained_model.predict(X_test)"
   ]
  },
  {
   "cell_type": "markdown",
   "metadata": {
    "id": "FeBzpvKCtoIM"
   },
   "source": [
    "To evaluate model performance, we can first prepare a confusion matrix."
   ]
  },
  {
   "cell_type": "code",
   "execution_count": 38,
   "metadata": {
    "executionInfo": {
     "elapsed": 304,
     "status": "ok",
     "timestamp": 1662298547993,
     "user": {
      "displayName": "Aaron Sta.Clara",
      "userId": "12783855657381363427"
     },
     "user_tz": -480
    },
    "id": "oGTiDMY9tKFY"
   },
   "outputs": [],
   "source": [
    "# Set the true and predicted values\n",
    "y_true = y_test\n",
    "y_pred = predictions"
   ]
  },
  {
   "cell_type": "code",
   "execution_count": 41,
   "metadata": {
    "colab": {
     "base_uri": "https://localhost:8080/",
     "height": 534
    },
    "executionInfo": {
     "elapsed": 882,
     "status": "ok",
     "timestamp": 1662298593088,
     "user": {
      "displayName": "Aaron Sta.Clara",
      "userId": "12783855657381363427"
     },
     "user_tz": -480
    },
    "id": "9Zsyd4Zstu0K",
    "outputId": "8be1d5de-8ab0-41fa-a15f-033dc758fa26"
   },
   "outputs": [
    {
     "data": {
      "image/png": "[encoded data removed]",
      "text/plain": [
       "<Figure size 1200x600 with 2 Axes>"
      ]
     },
     "metadata": {
      "needs_background": "light"
     },
     "output_type": "display_data"
    }
   ],
   "source": [
    "# Display confusion matrix\n",
    "from sklearn.metrics import confusion_matrix\n",
    "\n",
    "conf_matrix = confusion_matrix(y_true, y_pred)\n",
    "\n",
    "plt.figure(figsize=(15,7.5), dpi=80)\n",
    "plt.title('Confusion matrix')\n",
    "sns.heatmap(conf_matrix, annot=True, cmap=\"Blues\", fmt=\"d\")\n",
    "plt.xlabel('Predicted')\n",
    "plt.ylabel('True')\n",
    "plt.show()"
   ]
  },
  {
   "cell_type": "markdown",
   "metadata": {
    "id": "L7Rnpy4xt58M"
   },
   "source": [
    "It seems the model was able to perform pretty okay. Now, let's check the classification metrics."
   ]
  },
  {
   "cell_type": "code",
   "execution_count": 42,
   "metadata": {
    "colab": {
     "base_uri": "https://localhost:8080/"
    },
    "executionInfo": {
     "elapsed": 266,
     "status": "ok",
     "timestamp": 1662298640386,
     "user": {
      "displayName": "Aaron Sta.Clara",
      "userId": "12783855657381363427"
     },
     "user_tz": -480
    },
    "id": "Q21KzvNPuDKl",
    "outputId": "ce519fee-42a7-42ce-9df2-f6065828e7a6"
   },
   "outputs": [
    {
     "name": "stdout",
     "output_type": "stream",
     "text": [
      "              precision    recall  f1-score   support\n",
      "\n",
      "         1.0       0.38      0.76      0.51        42\n",
      "         2.0       0.91      0.67      0.77       158\n",
      "\n",
      "    accuracy                           0.69       200\n",
      "   macro avg       0.65      0.72      0.64       200\n",
      "weighted avg       0.80      0.69      0.72       200\n",
      "\n"
     ]
    }
   ],
   "source": [
    "# Display evaluation metrics\n",
    "from sklearn.metrics import classification_report\n",
    "\n",
    "print(classification_report(y_true, y_pred))"
   ]
  },
  {
   "cell_type": "markdown",
   "metadata": {
    "id": "-n0YlsLFuW9m"
   },
   "source": [
    "Based on precision and recall, the model was able to predict the non-debit card owners correctly compared to debit card owners.\n",
    "\n",
    "Overall, accuracy is 69% which is still better than a random classifier (with accuracy around 50%)."
   ]
  }
 ],
 "metadata": {
  "colab": {
   "collapsed_sections": [],
   "provenance": [],
   "toc_visible": true
  },
  "kernelspec": {
   "display_name": "Python 3 (ipykernel)",
   "language": "python",
   "name": "python3"
  },
  "language_info": {
   "codemirror_mode": {
    "name": "ipython",
    "version": 3
   },
   "file_extension": ".py",
   "mimetype": "text/x-python",
   "name": "python",
   "nbconvert_exporter": "python",
   "pygments_lexer": "ipython3",
   "version": "3.9.11"
  },
  "toc": {
   "base_numbering": 1,
   "nav_menu": {},
   "number_sections": true,
   "sideBar": true,
   "skip_h1_title": false,
   "title_cell": "Table of Contents",
   "title_sidebar": "Contents",
   "toc_cell": true,
   "toc_position": {},
   "toc_section_display": true,
   "toc_window_display": false
  }
 },
 "nbformat": 4,
 "nbformat_minor": 1
}
