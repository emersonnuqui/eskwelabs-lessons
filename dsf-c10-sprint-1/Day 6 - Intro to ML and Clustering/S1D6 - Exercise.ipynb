{
 "cells": [
  {
   "cell_type": "markdown",
   "metadata": {
    "toc": true
   },
   "source": [
    "<h1>Table of Contents<span class=\"tocSkip\"></span></h1>\n",
    "<div class=\"toc\"><ul class=\"toc-item\"><li><span><a href=\"#Exercises\" data-toc-modified-id=\"Exercises-1\"><span class=\"toc-item-num\">1&nbsp;&nbsp;</span>Exercises</a></span></li></ul></div>"
   ]
  },
  {
   "cell_type": "markdown",
   "metadata": {
    "id": "COCN0vRF_0ni"
   },
   "source": [
    "# Exercises"
   ]
  },
  {
   "cell_type": "code",
   "execution_count": 1,
   "metadata": {
    "colab": {
     "base_uri": "https://localhost:8080/"
    },
    "executionInfo": {
     "elapsed": 3985,
     "status": "ok",
     "timestamp": 1662176070616,
     "user": {
      "displayName": "Aaron Sta.Clara",
      "userId": "12783855657381363427"
     },
     "user_tz": -480
    },
    "id": "SDj4lb7Kmnf3",
    "outputId": "70b9f22a-919f-47df-8603-8613096984d0"
   },
   "outputs": [
    {
     "name": "stdout",
     "output_type": "stream",
     "text": [
      "Requirement already satisfied: kmodes in c:\\users\\emers\\eskwelabs\\eskwelabs - ds cohort 10 sprint 1 materials\\venv\\lib\\site-packages (0.12.1)\n",
      "Requirement already satisfied: scikit-learn>=0.22.0 in c:\\users\\emers\\eskwelabs\\eskwelabs - ds cohort 10 sprint 1 materials\\venv\\lib\\site-packages (from kmodes) (1.0)\n",
      "Requirement already satisfied: scipy>=0.13.3 in c:\\users\\emers\\eskwelabs\\eskwelabs - ds cohort 10 sprint 1 materials\\venv\\lib\\site-packages (from kmodes) (1.7.2)\n",
      "Requirement already satisfied: numpy>=1.10.4 in c:\\users\\emers\\eskwelabs\\eskwelabs - ds cohort 10 sprint 1 materials\\venv\\lib\\site-packages (from kmodes) (1.20.3)\n",
      "Requirement already satisfied: joblib>=0.11 in c:\\users\\emers\\eskwelabs\\eskwelabs - ds cohort 10 sprint 1 materials\\venv\\lib\\site-packages (from kmodes) (1.1.0)\n",
      "Requirement already satisfied: threadpoolctl>=2.0.0 in c:\\users\\emers\\eskwelabs\\eskwelabs - ds cohort 10 sprint 1 materials\\venv\\lib\\site-packages (from scikit-learn>=0.22.0->kmodes) (3.1.0)\n",
      "Note: you may need to restart the kernel to use updated packages.\n"
     ]
    }
   ],
   "source": [
    "pip install kmodes"
   ]
  },
  {
   "cell_type": "code",
   "execution_count": 2,
   "metadata": {
    "id": "9JD0QEk5nEDg"
   },
   "outputs": [],
   "source": [
    "# Import libraries\n",
    "from kmodes.kmodes import KModes\n",
    "import matplotlib.pyplot as plt\n",
    "import pandas as pd\n",
    "import plotly.express as px\n",
    "import seaborn as sns\n",
    "from sklearn.cluster import KMeans\n",
    "from sklearn.datasets import make_blobs\n",
    "from sklearn.preprocessing import StandardScaler\n",
    "import numpy as np"
   ]
  },
  {
   "cell_type": "code",
   "execution_count": 3,
   "metadata": {
    "id": "8rl_xWq3m1kH"
   },
   "outputs": [],
   "source": [
    "# Load the data\n",
    "data = pd.read_csv('micro_world.csv', engine='python')"
   ]
  },
  {
   "cell_type": "code",
   "execution_count": 4,
   "metadata": {
    "id": "Vm5PVU9BbqH8"
   },
   "outputs": [],
   "source": [
    "# Filter the data\n",
    "philippine_data = data[\n",
    "    data['economy']=='Philippines'\n",
    "]"
   ]
  },
  {
   "cell_type": "markdown",
   "metadata": {
    "id": "sz-vO8fubqxP"
   },
   "source": [
    "**INSTRUCTIONS**\n",
    "\n",
    "1. Create candidate variables for clustering. For now, let’s use categorical variables in clustering. Please make sure that your features make sense!\n",
    "2. Apply K-Modes clustering and profile each cluster.\n",
    "3. Using the cluster profile, what specific policy recommendations can we do in line with our aim to democratize access to financial services?\n"
   ]
  },
  {
   "cell_type": "code",
   "execution_count": 5,
   "metadata": {
    "id": "-tcwyaRYcX8A"
   },
   "outputs": [
    {
     "data": {
      "image/png": "[encoded data removed]",
      "text/plain": [
       "<Figure size 1500x800 with 2 Axes>"
      ]
     },
     "metadata": {},
     "output_type": "display_data"
    }
   ],
   "source": [
    "columns = [\"emp_in\", \"inc_q\", \"fin24\", \"fin30\"]\n",
    "corr = data[columns].corr()\n",
    "mask = np.triu(np.ones_like(corr, dtype=bool))\n",
    "fig, ax = plt.subplots(figsize=(15, 8))\n",
    "ax = sns.heatmap(corr, mask=mask, annot=True)"
   ]
  },
  {
   "cell_type": "code",
   "execution_count": 6,
   "metadata": {},
   "outputs": [],
   "source": [
    "# Filter data\n",
    "cluster_data = philippine_data[columns]"
   ]
  },
  {
   "cell_type": "code",
   "execution_count": 7,
   "metadata": {},
   "outputs": [
    {
     "data": {
      "text/plain": [
       "Index(['emp_in', 'inc_q', 'fin24', 'fin30'], dtype='object')"
      ]
     },
     "execution_count": 7,
     "metadata": {},
     "output_type": "execute_result"
    }
   ],
   "source": [
    "# Show data\n",
    "cluster_data.columns"
   ]
  },
  {
   "cell_type": "code",
   "execution_count": 8,
   "metadata": {},
   "outputs": [],
   "source": [
    "# Create dictionaries for mapping\n",
    "employment_mapping = {\n",
    "    0: 'no',\n",
    "    1: 'yes'\n",
    "}\n",
    "\n",
    "income_group_mapping = {\n",
    "    1:'poorest 20%',\n",
    "    2:'second 20%',\n",
    "    3:'middle 20%',\n",
    "    4:'fourth 20%',\n",
    "    5:'richest 20%'\n",
    "}\n",
    "\n",
    "emergency_fund_mapping = {\n",
    "    1: 'possible',\n",
    "    2: 'not possible'\n",
    "}\n",
    "\n",
    "utility_bill_mapping = {\n",
    "    1: 'yes',\n",
    "    2: 'no'\n",
    "}"
   ]
  },
  {
   "cell_type": "code",
   "execution_count": 9,
   "metadata": {},
   "outputs": [],
   "source": [
    "# Replace values using the mapping\n",
    "cluster_data = cluster_data.replace(\n",
    "    {\n",
    "        'emp_in': employment_mapping,\n",
    "        'inc_q': income_group_mapping,\n",
    "        'fin24': emergency_fund_mapping,\n",
    "        'fin30': utility_bill_mapping\n",
    "     }\n",
    "    )"
   ]
  },
  {
   "cell_type": "code",
   "execution_count": 10,
   "metadata": {},
   "outputs": [
    {
     "data": {
      "text/html": [
       "<div>\n",
       "<style scoped>\n",
       "    .dataframe tbody tr th:only-of-type {\n",
       "        vertical-align: middle;\n",
       "    }\n",
       "\n",
       "    .dataframe tbody tr th {\n",
       "        vertical-align: top;\n",
       "    }\n",
       "\n",
       "    .dataframe thead th {\n",
       "        text-align: right;\n",
       "    }\n",
       "</style>\n",
       "<table border=\"1\" class=\"dataframe\">\n",
       "  <thead>\n",
       "    <tr style=\"text-align: right;\">\n",
       "      <th></th>\n",
       "      <th>emp_in</th>\n",
       "      <th>inc_q</th>\n",
       "      <th>fin24</th>\n",
       "      <th>fin30</th>\n",
       "    </tr>\n",
       "  </thead>\n",
       "  <tbody>\n",
       "    <tr>\n",
       "      <th>114292</th>\n",
       "      <td>no</td>\n",
       "      <td>poorest 20%</td>\n",
       "      <td>not possible</td>\n",
       "      <td>yes</td>\n",
       "    </tr>\n",
       "    <tr>\n",
       "      <th>114293</th>\n",
       "      <td>yes</td>\n",
       "      <td>richest 20%</td>\n",
       "      <td>possible</td>\n",
       "      <td>no</td>\n",
       "    </tr>\n",
       "    <tr>\n",
       "      <th>114294</th>\n",
       "      <td>yes</td>\n",
       "      <td>fourth 20%</td>\n",
       "      <td>not possible</td>\n",
       "      <td>yes</td>\n",
       "    </tr>\n",
       "    <tr>\n",
       "      <th>114295</th>\n",
       "      <td>yes</td>\n",
       "      <td>richest 20%</td>\n",
       "      <td>possible</td>\n",
       "      <td>yes</td>\n",
       "    </tr>\n",
       "    <tr>\n",
       "      <th>114296</th>\n",
       "      <td>yes</td>\n",
       "      <td>richest 20%</td>\n",
       "      <td>possible</td>\n",
       "      <td>yes</td>\n",
       "    </tr>\n",
       "    <tr>\n",
       "      <th>...</th>\n",
       "      <td>...</td>\n",
       "      <td>...</td>\n",
       "      <td>...</td>\n",
       "      <td>...</td>\n",
       "    </tr>\n",
       "    <tr>\n",
       "      <th>115287</th>\n",
       "      <td>yes</td>\n",
       "      <td>poorest 20%</td>\n",
       "      <td>possible</td>\n",
       "      <td>yes</td>\n",
       "    </tr>\n",
       "    <tr>\n",
       "      <th>115288</th>\n",
       "      <td>no</td>\n",
       "      <td>poorest 20%</td>\n",
       "      <td>not possible</td>\n",
       "      <td>no</td>\n",
       "    </tr>\n",
       "    <tr>\n",
       "      <th>115289</th>\n",
       "      <td>yes</td>\n",
       "      <td>fourth 20%</td>\n",
       "      <td>possible</td>\n",
       "      <td>no</td>\n",
       "    </tr>\n",
       "    <tr>\n",
       "      <th>115290</th>\n",
       "      <td>yes</td>\n",
       "      <td>fourth 20%</td>\n",
       "      <td>possible</td>\n",
       "      <td>yes</td>\n",
       "    </tr>\n",
       "    <tr>\n",
       "      <th>115291</th>\n",
       "      <td>yes</td>\n",
       "      <td>poorest 20%</td>\n",
       "      <td>not possible</td>\n",
       "      <td>no</td>\n",
       "    </tr>\n",
       "  </tbody>\n",
       "</table>\n",
       "<p>1000 rows × 4 columns</p>\n",
       "</div>"
      ],
      "text/plain": [
       "       emp_in        inc_q         fin24 fin30\n",
       "114292     no  poorest 20%  not possible   yes\n",
       "114293    yes  richest 20%      possible    no\n",
       "114294    yes   fourth 20%  not possible   yes\n",
       "114295    yes  richest 20%      possible   yes\n",
       "114296    yes  richest 20%      possible   yes\n",
       "...       ...          ...           ...   ...\n",
       "115287    yes  poorest 20%      possible   yes\n",
       "115288     no  poorest 20%  not possible    no\n",
       "115289    yes   fourth 20%      possible    no\n",
       "115290    yes   fourth 20%      possible   yes\n",
       "115291    yes  poorest 20%  not possible    no\n",
       "\n",
       "[1000 rows x 4 columns]"
      ]
     },
     "execution_count": 10,
     "metadata": {},
     "output_type": "execute_result"
    }
   ],
   "source": [
    "cluster_data"
   ]
  },
  {
   "cell_type": "code",
   "execution_count": 11,
   "metadata": {},
   "outputs": [
    {
     "data": {
      "text/plain": [
       "emp_in    0\n",
       "inc_q     0\n",
       "fin24     0\n",
       "fin30     0\n",
       "dtype: int64"
      ]
     },
     "execution_count": 11,
     "metadata": {},
     "output_type": "execute_result"
    }
   ],
   "source": [
    "# Check nulls\n",
    "cluster_data.isna().sum()"
   ]
  },
  {
   "cell_type": "code",
   "execution_count": 12,
   "metadata": {},
   "outputs": [],
   "source": [
    "# Rename columns\n",
    "cluster_data = cluster_data.rename(\n",
    "    columns = {\n",
    "        'emp_in':'has_employed', \n",
    "        'inc_q':'income_group',\n",
    "        'fin24': 'has possible emergency fund',\n",
    "        'fin30': 'has paid utility bills'\n",
    "        }\n",
    ")"
   ]
  },
  {
   "cell_type": "code",
   "execution_count": null,
   "metadata": {},
   "outputs": [],
   "source": []
  },
  {
   "cell_type": "code",
   "execution_count": 13,
   "metadata": {},
   "outputs": [],
   "source": [
    "columns_now = ['has_employed', 'income_group', 'has possible emergency fund', 'has paid utility bills']"
   ]
  },
  {
   "cell_type": "code",
   "execution_count": null,
   "metadata": {},
   "outputs": [],
   "source": []
  },
  {
   "cell_type": "code",
   "execution_count": 14,
   "metadata": {},
   "outputs": [],
   "source": [
    "# Create clustering function\n",
    "def run_kmodes(n_clusters=None, cluster_data=None):\n",
    "  # Initialize clustering\n",
    "  kmodes = KModes(\n",
    "      init=\"random\",\n",
    "      n_clusters=n_clusters,\n",
    "      random_state=42\n",
    "      )\n",
    "  \n",
    "  # Apply clustering to the data\n",
    "  kmodes.fit(cluster_data)\n",
    "\n",
    "  # Print clustering cost\n",
    "  print(f\"Cost for n_clusters = {n_clusters}: {kmodes.cost_}\")\n",
    "\n",
    "  return kmodes.cost_, kmodes.labels_"
   ]
  },
  {
   "cell_type": "code",
   "execution_count": 15,
   "metadata": {},
   "outputs": [],
   "source": [
    "# Create container for cost\n",
    "cost_values = []"
   ]
  },
  {
   "cell_type": "code",
   "execution_count": 16,
   "metadata": {},
   "outputs": [
    {
     "ename": "TypeError",
     "evalue": "'<' not supported between instances of 'str' and 'int'",
     "output_type": "error",
     "traceback": [
      "\u001b[1;31m---------------------------------------------------------------------------\u001b[0m",
      "\u001b[1;31mTypeError\u001b[0m                                 Traceback (most recent call last)",
      "Cell \u001b[1;32mIn [16], line 4\u001b[0m\n\u001b[0;32m      1\u001b[0m \u001b[38;5;66;03m# Run clustering and save inertia to our empty container\u001b[39;00m\n\u001b[0;32m      2\u001b[0m \u001b[38;5;28;01mfor\u001b[39;00m k \u001b[38;5;129;01min\u001b[39;00m \u001b[38;5;28mrange\u001b[39m(\u001b[38;5;241m1\u001b[39m, \u001b[38;5;241m11\u001b[39m):\n\u001b[0;32m      3\u001b[0m   \u001b[38;5;66;03m# Run our function\u001b[39;00m\n\u001b[1;32m----> 4\u001b[0m   cost, labels \u001b[38;5;241m=\u001b[39m \u001b[43mrun_kmodes\u001b[49m\u001b[43m(\u001b[49m\n\u001b[0;32m      5\u001b[0m \u001b[43m    \u001b[49m\u001b[43mn_clusters\u001b[49m\u001b[38;5;241;43m=\u001b[39;49m\u001b[43mk\u001b[49m\u001b[43m,\u001b[49m\n\u001b[0;32m      6\u001b[0m \u001b[43m    \u001b[49m\u001b[43mcluster_data\u001b[49m\u001b[38;5;241;43m=\u001b[39;49m\u001b[43mcluster_data\u001b[49m\n\u001b[0;32m      7\u001b[0m \u001b[43m  \u001b[49m\u001b[43m)\u001b[49m\n\u001b[0;32m      9\u001b[0m   \u001b[38;5;66;03m# Save cost to our container\u001b[39;00m\n\u001b[0;32m     10\u001b[0m   cost_values\u001b[38;5;241m.\u001b[39mappend(cost)\n",
      "Cell \u001b[1;32mIn [14], line 11\u001b[0m, in \u001b[0;36mrun_kmodes\u001b[1;34m(n_clusters, cluster_data)\u001b[0m\n\u001b[0;32m      4\u001b[0m kmodes \u001b[38;5;241m=\u001b[39m KModes(\n\u001b[0;32m      5\u001b[0m     init\u001b[38;5;241m=\u001b[39m\u001b[38;5;124m\"\u001b[39m\u001b[38;5;124mrandom\u001b[39m\u001b[38;5;124m\"\u001b[39m,\n\u001b[0;32m      6\u001b[0m     n_clusters\u001b[38;5;241m=\u001b[39mn_clusters,\n\u001b[0;32m      7\u001b[0m     random_state\u001b[38;5;241m=\u001b[39m\u001b[38;5;241m42\u001b[39m\n\u001b[0;32m      8\u001b[0m     )\n\u001b[0;32m     10\u001b[0m \u001b[38;5;66;03m# Apply clustering to the data\u001b[39;00m\n\u001b[1;32m---> 11\u001b[0m \u001b[43mkmodes\u001b[49m\u001b[38;5;241;43m.\u001b[39;49m\u001b[43mfit\u001b[49m\u001b[43m(\u001b[49m\u001b[43mcluster_data\u001b[49m\u001b[43m)\u001b[49m\n\u001b[0;32m     13\u001b[0m \u001b[38;5;66;03m# Print clustering cost\u001b[39;00m\n\u001b[0;32m     14\u001b[0m \u001b[38;5;28mprint\u001b[39m(\u001b[38;5;124mf\u001b[39m\u001b[38;5;124m\"\u001b[39m\u001b[38;5;124mCost for n_clusters = \u001b[39m\u001b[38;5;132;01m{\u001b[39;00mn_clusters\u001b[38;5;132;01m}\u001b[39;00m\u001b[38;5;124m: \u001b[39m\u001b[38;5;132;01m{\u001b[39;00mkmodes\u001b[38;5;241m.\u001b[39mcost_\u001b[38;5;132;01m}\u001b[39;00m\u001b[38;5;124m\"\u001b[39m)\n",
      "File \u001b[1;32m~\\Eskwelabs\\Eskwelabs - DS Cohort 10 Sprint 1 Materials\\venv\\lib\\site-packages\\kmodes\\kmodes.py:134\u001b[0m, in \u001b[0;36mKModes.fit\u001b[1;34m(self, X, y, sample_weight, **kwargs)\u001b[0m\n\u001b[0;32m    129\u001b[0m random_state \u001b[38;5;241m=\u001b[39m check_random_state(\u001b[38;5;28mself\u001b[39m\u001b[38;5;241m.\u001b[39mrandom_state)\n\u001b[0;32m    130\u001b[0m _validate_sample_weight(sample_weight, n_samples\u001b[38;5;241m=\u001b[39mX\u001b[38;5;241m.\u001b[39mshape[\u001b[38;5;241m0\u001b[39m],\n\u001b[0;32m    131\u001b[0m                         n_clusters\u001b[38;5;241m=\u001b[39m\u001b[38;5;28mself\u001b[39m\u001b[38;5;241m.\u001b[39mn_clusters)\n\u001b[0;32m    133\u001b[0m \u001b[38;5;28mself\u001b[39m\u001b[38;5;241m.\u001b[39m_enc_cluster_centroids, \u001b[38;5;28mself\u001b[39m\u001b[38;5;241m.\u001b[39m_enc_map, \u001b[38;5;28mself\u001b[39m\u001b[38;5;241m.\u001b[39mlabels_, \u001b[38;5;28mself\u001b[39m\u001b[38;5;241m.\u001b[39mcost_, \\\n\u001b[1;32m--> 134\u001b[0m \u001b[38;5;28mself\u001b[39m\u001b[38;5;241m.\u001b[39mn_iter_, \u001b[38;5;28mself\u001b[39m\u001b[38;5;241m.\u001b[39mepoch_costs_ \u001b[38;5;241m=\u001b[39m \u001b[43mk_modes\u001b[49m\u001b[43m(\u001b[49m\n\u001b[0;32m    135\u001b[0m \u001b[43m    \u001b[49m\u001b[43mX\u001b[49m\u001b[43m,\u001b[49m\n\u001b[0;32m    136\u001b[0m \u001b[43m    \u001b[49m\u001b[38;5;28;43mself\u001b[39;49m\u001b[38;5;241;43m.\u001b[39;49m\u001b[43mn_clusters\u001b[49m\u001b[43m,\u001b[49m\n\u001b[0;32m    137\u001b[0m \u001b[43m    \u001b[49m\u001b[38;5;28;43mself\u001b[39;49m\u001b[38;5;241;43m.\u001b[39;49m\u001b[43mmax_iter\u001b[49m\u001b[43m,\u001b[49m\n\u001b[0;32m    138\u001b[0m \u001b[43m    \u001b[49m\u001b[38;5;28;43mself\u001b[39;49m\u001b[38;5;241;43m.\u001b[39;49m\u001b[43mcat_dissim\u001b[49m\u001b[43m,\u001b[49m\n\u001b[0;32m    139\u001b[0m \u001b[43m    \u001b[49m\u001b[38;5;28;43mself\u001b[39;49m\u001b[38;5;241;43m.\u001b[39;49m\u001b[43minit\u001b[49m\u001b[43m,\u001b[49m\n\u001b[0;32m    140\u001b[0m \u001b[43m    \u001b[49m\u001b[38;5;28;43mself\u001b[39;49m\u001b[38;5;241;43m.\u001b[39;49m\u001b[43mn_init\u001b[49m\u001b[43m,\u001b[49m\n\u001b[0;32m    141\u001b[0m \u001b[43m    \u001b[49m\u001b[38;5;28;43mself\u001b[39;49m\u001b[38;5;241;43m.\u001b[39;49m\u001b[43mverbose\u001b[49m\u001b[43m,\u001b[49m\n\u001b[0;32m    142\u001b[0m \u001b[43m    \u001b[49m\u001b[43mrandom_state\u001b[49m\u001b[43m,\u001b[49m\n\u001b[0;32m    143\u001b[0m \u001b[43m    \u001b[49m\u001b[38;5;28;43mself\u001b[39;49m\u001b[38;5;241;43m.\u001b[39;49m\u001b[43mn_jobs\u001b[49m\u001b[43m,\u001b[49m\n\u001b[0;32m    144\u001b[0m \u001b[43m    \u001b[49m\u001b[43msample_weight\u001b[49m\n\u001b[0;32m    145\u001b[0m \u001b[43m\u001b[49m\u001b[43m)\u001b[49m\n\u001b[0;32m    146\u001b[0m \u001b[38;5;28;01mreturn\u001b[39;00m \u001b[38;5;28mself\u001b[39m\n",
      "File \u001b[1;32m~\\Eskwelabs\\Eskwelabs - DS Cohort 10 Sprint 1 Materials\\venv\\lib\\site-packages\\kmodes\\kmodes.py:221\u001b[0m, in \u001b[0;36mk_modes\u001b[1;34m(X, n_clusters, max_iter, dissim, init, n_init, verbose, random_state, n_jobs, sample_weight)\u001b[0m\n\u001b[0;32m    217\u001b[0m X \u001b[38;5;241m=\u001b[39m check_array(X, dtype\u001b[38;5;241m=\u001b[39m\u001b[38;5;28;01mNone\u001b[39;00m)\n\u001b[0;32m    219\u001b[0m \u001b[38;5;66;03m# Convert the categorical values in X to integers for speed.\u001b[39;00m\n\u001b[0;32m    220\u001b[0m \u001b[38;5;66;03m# Based on the unique values in X, we can make a mapping to achieve this.\u001b[39;00m\n\u001b[1;32m--> 221\u001b[0m X, enc_map \u001b[38;5;241m=\u001b[39m \u001b[43mencode_features\u001b[49m\u001b[43m(\u001b[49m\u001b[43mX\u001b[49m\u001b[43m)\u001b[49m\n\u001b[0;32m    223\u001b[0m n_points, n_attrs \u001b[38;5;241m=\u001b[39m X\u001b[38;5;241m.\u001b[39mshape\n\u001b[0;32m    224\u001b[0m \u001b[38;5;28;01massert\u001b[39;00m n_clusters \u001b[38;5;241m<\u001b[39m\u001b[38;5;241m=\u001b[39m n_points, \u001b[38;5;124mf\u001b[39m\u001b[38;5;124m\"\u001b[39m\u001b[38;5;124mCannot have more clusters (\u001b[39m\u001b[38;5;132;01m{\u001b[39;00mn_clusters\u001b[38;5;132;01m}\u001b[39;00m\u001b[38;5;124m) \u001b[39m\u001b[38;5;124m\"\u001b[39m \\\n\u001b[0;32m    225\u001b[0m                                \u001b[38;5;124mf\u001b[39m\u001b[38;5;124m\"\u001b[39m\u001b[38;5;124mthan data points (\u001b[39m\u001b[38;5;132;01m{\u001b[39;00mn_points\u001b[38;5;132;01m}\u001b[39;00m\u001b[38;5;124m).\u001b[39m\u001b[38;5;124m\"\u001b[39m\n",
      "File \u001b[1;32m~\\Eskwelabs\\Eskwelabs - DS Cohort 10 Sprint 1 Materials\\venv\\lib\\site-packages\\kmodes\\util\\__init__.py:45\u001b[0m, in \u001b[0;36mencode_features\u001b[1;34m(X, enc_map)\u001b[0m\n\u001b[0;32m     43\u001b[0m \u001b[38;5;28;01mfor\u001b[39;00m ii \u001b[38;5;129;01min\u001b[39;00m \u001b[38;5;28mrange\u001b[39m(X\u001b[38;5;241m.\u001b[39mshape[\u001b[38;5;241m1\u001b[39m]):\n\u001b[0;32m     44\u001b[0m     \u001b[38;5;28;01mif\u001b[39;00m fit:\n\u001b[1;32m---> 45\u001b[0m         col_enc \u001b[38;5;241m=\u001b[39m {val: jj \u001b[38;5;28;01mfor\u001b[39;00m jj, val \u001b[38;5;129;01min\u001b[39;00m \u001b[38;5;28menumerate\u001b[39m(\u001b[43mnp\u001b[49m\u001b[38;5;241;43m.\u001b[39;49m\u001b[43munique\u001b[49m\u001b[43m(\u001b[49m\u001b[43mX\u001b[49m\u001b[43m[\u001b[49m\u001b[43m:\u001b[49m\u001b[43m,\u001b[49m\u001b[43m \u001b[49m\u001b[43mii\u001b[49m\u001b[43m]\u001b[49m\u001b[43m)\u001b[49m)\n\u001b[0;32m     46\u001b[0m                    \u001b[38;5;28;01mif\u001b[39;00m \u001b[38;5;129;01mnot\u001b[39;00m (\u001b[38;5;28misinstance\u001b[39m(val, \u001b[38;5;28mfloat\u001b[39m) \u001b[38;5;129;01mand\u001b[39;00m np\u001b[38;5;241m.\u001b[39misnan(val))}\n\u001b[0;32m     47\u001b[0m         enc_map\u001b[38;5;241m.\u001b[39mappend(col_enc)\n\u001b[0;32m     48\u001b[0m     \u001b[38;5;66;03m# Unknown categories (including np.NaNs) all get a value of -1.\u001b[39;00m\n",
      "File \u001b[1;32m<__array_function__ internals>:5\u001b[0m, in \u001b[0;36munique\u001b[1;34m(*args, **kwargs)\u001b[0m\n",
      "File \u001b[1;32m~\\Eskwelabs\\Eskwelabs - DS Cohort 10 Sprint 1 Materials\\venv\\lib\\site-packages\\numpy\\lib\\arraysetops.py:262\u001b[0m, in \u001b[0;36munique\u001b[1;34m(ar, return_index, return_inverse, return_counts, axis)\u001b[0m\n\u001b[0;32m    260\u001b[0m ar \u001b[38;5;241m=\u001b[39m np\u001b[38;5;241m.\u001b[39masanyarray(ar)\n\u001b[0;32m    261\u001b[0m \u001b[38;5;28;01mif\u001b[39;00m axis \u001b[38;5;129;01mis\u001b[39;00m \u001b[38;5;28;01mNone\u001b[39;00m:\n\u001b[1;32m--> 262\u001b[0m     ret \u001b[38;5;241m=\u001b[39m \u001b[43m_unique1d\u001b[49m\u001b[43m(\u001b[49m\u001b[43mar\u001b[49m\u001b[43m,\u001b[49m\u001b[43m \u001b[49m\u001b[43mreturn_index\u001b[49m\u001b[43m,\u001b[49m\u001b[43m \u001b[49m\u001b[43mreturn_inverse\u001b[49m\u001b[43m,\u001b[49m\u001b[43m \u001b[49m\u001b[43mreturn_counts\u001b[49m\u001b[43m)\u001b[49m\n\u001b[0;32m    263\u001b[0m     \u001b[38;5;28;01mreturn\u001b[39;00m _unpack_tuple(ret)\n\u001b[0;32m    265\u001b[0m \u001b[38;5;66;03m# axis was specified and not None\u001b[39;00m\n",
      "File \u001b[1;32m~\\Eskwelabs\\Eskwelabs - DS Cohort 10 Sprint 1 Materials\\venv\\lib\\site-packages\\numpy\\lib\\arraysetops.py:323\u001b[0m, in \u001b[0;36m_unique1d\u001b[1;34m(ar, return_index, return_inverse, return_counts)\u001b[0m\n\u001b[0;32m    321\u001b[0m     aux \u001b[38;5;241m=\u001b[39m ar[perm]\n\u001b[0;32m    322\u001b[0m \u001b[38;5;28;01melse\u001b[39;00m:\n\u001b[1;32m--> 323\u001b[0m     \u001b[43mar\u001b[49m\u001b[38;5;241;43m.\u001b[39;49m\u001b[43msort\u001b[49m\u001b[43m(\u001b[49m\u001b[43m)\u001b[49m\n\u001b[0;32m    324\u001b[0m     aux \u001b[38;5;241m=\u001b[39m ar\n\u001b[0;32m    325\u001b[0m mask \u001b[38;5;241m=\u001b[39m np\u001b[38;5;241m.\u001b[39mempty(aux\u001b[38;5;241m.\u001b[39mshape, dtype\u001b[38;5;241m=\u001b[39mnp\u001b[38;5;241m.\u001b[39mbool_)\n",
      "\u001b[1;31mTypeError\u001b[0m: '<' not supported between instances of 'str' and 'int'"
     ]
    }
   ],
   "source": [
    "# Run clustering and save inertia to our empty container\n",
    "for k in range(1, 11):\n",
    "  # Run our function\n",
    "  cost, labels = run_kmodes(\n",
    "    n_clusters=k,\n",
    "    cluster_data=cluster_data\n",
    "  )\n",
    "\n",
    "  # Save cost to our container\n",
    "  cost_values.append(cost)"
   ]
  },
  {
   "cell_type": "code",
   "execution_count": null,
   "metadata": {},
   "outputs": [],
   "source": []
  }
 ],
 "metadata": {
  "colab": {
   "collapsed_sections": [],
   "provenance": [],
   "toc_visible": true
  },
  "kernelspec": {
   "display_name": "Python 3 (ipykernel)",
   "language": "python",
   "name": "python3"
  },
  "language_info": {
   "codemirror_mode": {
    "name": "ipython",
    "version": 3
   },
   "file_extension": ".py",
   "mimetype": "text/x-python",
   "name": "python",
   "nbconvert_exporter": "python",
   "pygments_lexer": "ipython3",
   "version": "3.9.11"
  },
  "toc": {
   "base_numbering": 1,
   "nav_menu": {},
   "number_sections": true,
   "sideBar": true,
   "skip_h1_title": false,
   "title_cell": "Table of Contents",
   "title_sidebar": "Contents",
   "toc_cell": true,
   "toc_position": {},
   "toc_section_display": true,
   "toc_window_display": false
  }
 },
 "nbformat": 4,
 "nbformat_minor": 1
}
