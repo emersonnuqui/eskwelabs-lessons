{
 "cells": [
  {
   "cell_type": "markdown",
   "metadata": {
    "toc": true
   },
   "source": [
    "<h1>Table of Contents<span class=\"tocSkip\"></span></h1>\n",
    "<div class=\"toc\"><ul class=\"toc-item\"><li><span><a href=\"#Exercises\" data-toc-modified-id=\"Exercises-1\"><span class=\"toc-item-num\">1&nbsp;&nbsp;</span>Exercises</a></span><ul class=\"toc-item\"><li><span><a href=\"#EASY.-What-is-the-breakdown-of-gender-per-region?-Use-.groupby().\" data-toc-modified-id=\"EASY.-What-is-the-breakdown-of-gender-per-region?-Use-.groupby().-1.1\"><span class=\"toc-item-num\">1.1&nbsp;&nbsp;</span>EASY. What is the breakdown of gender per region? Use .groupby().</a></span></li><li><span><a href=\"#AVERAGE.-Per-region,-compute-percentage-of-population-with-credit-card-AND-debit-card-segmented-by-gender.\" data-toc-modified-id=\"AVERAGE.-Per-region,-compute-percentage-of-population-with-credit-card-AND-debit-card-segmented-by-gender.-1.2\"><span class=\"toc-item-num\">1.2&nbsp;&nbsp;</span>AVERAGE. Per region, compute percentage of population with credit card AND debit card segmented by gender.</a></span></li><li><span><a href=\"#DIFFICULT.-Compute-the-following-metric-per-region:\" data-toc-modified-id=\"DIFFICULT.-Compute-the-following-metric-per-region:-1.3\"><span class=\"toc-item-num\">1.3&nbsp;&nbsp;</span>DIFFICULT. Compute the following metric per region:</a></span></li></ul></li></ul></div>"
   ]
  },
  {
   "cell_type": "markdown",
   "metadata": {
    "id": "COCN0vRF_0ni"
   },
   "source": [
    "# Exercises"
   ]
  },
  {
   "cell_type": "code",
   "execution_count": 1,
   "metadata": {
    "executionInfo": {
     "elapsed": 1233,
     "status": "ok",
     "timestamp": 1662177106332,
     "user": {
      "displayName": "Aaron Sta.Clara",
      "userId": "12783855657381363427"
     },
     "user_tz": -480
    },
    "id": "9JD0QEk5nEDg"
   },
   "outputs": [],
   "source": [
    "# Import pandas\n",
    "import pandas as pd"
   ]
  },
  {
   "cell_type": "code",
   "execution_count": 2,
   "metadata": {
    "executionInfo": {
     "elapsed": 829,
     "status": "ok",
     "timestamp": 1662177108070,
     "user": {
      "displayName": "Aaron Sta.Clara",
      "userId": "12783855657381363427"
     },
     "user_tz": -480
    },
    "id": "8rl_xWq3m1kH"
   },
   "outputs": [],
   "source": [
    "# Load the data\n",
    "data = pd.read_csv('micro_world.csv', engine='python')"
   ]
  },
  {
   "cell_type": "markdown",
   "metadata": {
    "id": "DI5r9nctlhjA"
   },
   "source": [
    "## EASY. What is the breakdown of gender per region? Use .groupby()."
   ]
  },
  {
   "cell_type": "code",
   "execution_count": 2,
   "metadata": {
    "executionInfo": {
     "elapsed": 2,
     "status": "ok",
     "timestamp": 1662177108071,
     "user": {
      "displayName": "Aaron Sta.Clara",
      "userId": "12783855657381363427"
     },
     "user_tz": -480
    },
    "id": "Y28hdYwMlmuJ"
   },
   "outputs": [],
   "source": []
  },
  {
   "cell_type": "markdown",
   "metadata": {
    "id": "YzVWf5hRpp06"
   },
   "source": [
    "## AVERAGE. Per region, compute percentage of population with credit card AND debit card segmented by gender.\n",
    "\n",
    "Hint:\n",
    "Columns will be region, % of male with BOTH credit card AND debit card, % of female with BOTH credit card AND debit card"
   ]
  },
  {
   "cell_type": "code",
   "execution_count": 2,
   "metadata": {
    "executionInfo": {
     "elapsed": 2,
     "status": "ok",
     "timestamp": 1662177108071,
     "user": {
      "displayName": "Aaron Sta.Clara",
      "userId": "12783855657381363427"
     },
     "user_tz": -480
    },
    "id": "ZMwtJSsKpv2g"
   },
   "outputs": [],
   "source": []
  },
  {
   "cell_type": "markdown",
   "metadata": {
    "id": "dWDi1d-uloP5"
   },
   "source": [
    "## DIFFICULT. Compute the following metric per region:\n",
    "\n",
    "card ownership access gender ratio = % of females with BOTH credit card AND debit card/% of males with BOTH credit card AND debit card\n",
    "\n",
    "No apparent gender discrepancy if metric approaches 1. Else, there is a discrepancy."
   ]
  },
  {
   "cell_type": "code",
   "execution_count": 2,
   "metadata": {
    "executionInfo": {
     "elapsed": 655,
     "status": "ok",
     "timestamp": 1662177108724,
     "user": {
      "displayName": "Aaron Sta.Clara",
      "userId": "12783855657381363427"
     },
     "user_tz": -480
    },
    "id": "o7dZ5-9znKbR"
   },
   "outputs": [],
   "source": []
  }
 ],
 "metadata": {
  "colab": {
   "collapsed_sections": [],
   "provenance": []
  },
  "kernelspec": {
   "display_name": "Python 3 (ipykernel)",
   "language": "python",
   "name": "python3"
  },
  "language_info": {
   "codemirror_mode": {
    "name": "ipython",
    "version": 3
   },
   "file_extension": ".py",
   "mimetype": "text/x-python",
   "name": "python",
   "nbconvert_exporter": "python",
   "pygments_lexer": "ipython3",
   "version": "3.9.11"
  },
  "toc": {
   "base_numbering": 1,
   "nav_menu": {},
   "number_sections": true,
   "sideBar": true,
   "skip_h1_title": false,
   "title_cell": "Table of Contents",
   "title_sidebar": "Contents",
   "toc_cell": true,
   "toc_position": {},
   "toc_section_display": true,
   "toc_window_display": false
  }
 },
 "nbformat": 4,
 "nbformat_minor": 1
}
