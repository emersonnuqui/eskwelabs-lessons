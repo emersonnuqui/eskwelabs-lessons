{
 "cells": [
  {
   "cell_type": "markdown",
   "metadata": {
    "toc": true
   },
   "source": [
    "<h1>Table of Contents<span class=\"tocSkip\"></span></h1>\n",
    "<div class=\"toc\"><ul class=\"toc-item\"><li><span><a href=\"#Basics-of-a-Jupyter-Notebook---ipynb-files\" data-toc-modified-id=\"Basics-of-a-Jupyter-Notebook---ipynb-files-1\"><span class=\"toc-item-num\">1&nbsp;&nbsp;</span>Basics of a Jupyter Notebook - ipynb files</a></span><ul class=\"toc-item\"><li><ul class=\"toc-item\"><li><span><a href=\"#What-are-Jupyter-Notebooks?\" data-toc-modified-id=\"What-are-Jupyter-Notebooks?-1.0.1\"><span class=\"toc-item-num\">1.0.1&nbsp;&nbsp;</span>What are Jupyter Notebooks?</a></span></li><li><span><a href=\"#Jupyter-Notebook-Features\" data-toc-modified-id=\"Jupyter-Notebook-Features-1.0.2\"><span class=\"toc-item-num\">1.0.2&nbsp;&nbsp;</span>Jupyter Notebook Features</a></span></li><li><span><a href=\"#What-is-Markdown?\" data-toc-modified-id=\"What-is-Markdown?-1.0.3\"><span class=\"toc-item-num\">1.0.3&nbsp;&nbsp;</span>What is Markdown?</a></span></li></ul></li></ul></li><li><span><a href=\"#H1\" data-toc-modified-id=\"H1-2\"><span class=\"toc-item-num\">2&nbsp;&nbsp;</span>H1</a></span><ul class=\"toc-item\"><li><span><a href=\"#H2\" data-toc-modified-id=\"H2-2.1\"><span class=\"toc-item-num\">2.1&nbsp;&nbsp;</span>H2</a></span><ul class=\"toc-item\"><li><span><a href=\"#H3\" data-toc-modified-id=\"H3-2.1.1\"><span class=\"toc-item-num\">2.1.1&nbsp;&nbsp;</span>H3</a></span><ul class=\"toc-item\"><li><span><a href=\"#H4\" data-toc-modified-id=\"H4-2.1.1.1\"><span class=\"toc-item-num\">2.1.1.1&nbsp;&nbsp;</span>H4</a></span></li></ul></li><li><span><a href=\"#Kernels,-Variables,-and-Environment\" data-toc-modified-id=\"Kernels,-Variables,-and-Environment-2.1.2\"><span class=\"toc-item-num\">2.1.2&nbsp;&nbsp;</span>Kernels, Variables, and Environment</a></span></li><li><span><a href=\"#Command-vs.-Edit-Mode-&amp;-Shortcuts\" data-toc-modified-id=\"Command-vs.-Edit-Mode-&amp;-Shortcuts-2.1.3\"><span class=\"toc-item-num\">2.1.3&nbsp;&nbsp;</span>Command vs. Edit Mode &amp; Shortcuts</a></span><ul class=\"toc-item\"><li><span><a href=\"#Additional-Shortcuts\" data-toc-modified-id=\"Additional-Shortcuts-2.1.3.1\"><span class=\"toc-item-num\">2.1.3.1&nbsp;&nbsp;</span>Additional Shortcuts</a></span></li></ul></li><li><span><a href=\"#How-do-you-install-Jupyter-Notebooks?\" data-toc-modified-id=\"How-do-you-install-Jupyter-Notebooks?-2.1.4\"><span class=\"toc-item-num\">2.1.4&nbsp;&nbsp;</span>How do you install Jupyter Notebooks?</a></span></li></ul></li></ul></li><li><span><a href=\"#Python-Basics\" data-toc-modified-id=\"Python-Basics-3\"><span class=\"toc-item-num\">3&nbsp;&nbsp;</span>Python Basics</a></span><ul class=\"toc-item\"><li><span><a href=\"#Numbers\" data-toc-modified-id=\"Numbers-3.1\"><span class=\"toc-item-num\">3.1&nbsp;&nbsp;</span>Numbers</a></span><ul class=\"toc-item\"><li><span><a href=\"#Basic-Arithmetic-Operations\" data-toc-modified-id=\"Basic-Arithmetic-Operations-3.1.1\"><span class=\"toc-item-num\">3.1.1&nbsp;&nbsp;</span>Basic Arithmetic Operations</a></span></li></ul></li><li><span><a href=\"#Variables\" data-toc-modified-id=\"Variables-3.2\"><span class=\"toc-item-num\">3.2&nbsp;&nbsp;</span>Variables</a></span></li><li><span><a href=\"#Strings\" data-toc-modified-id=\"Strings-3.3\"><span class=\"toc-item-num\">3.3&nbsp;&nbsp;</span>Strings</a></span></li><li><span><a href=\"#Lists\" data-toc-modified-id=\"Lists-3.4\"><span class=\"toc-item-num\">3.4&nbsp;&nbsp;</span>Lists</a></span></li><li><span><a href=\"#Tuples\" data-toc-modified-id=\"Tuples-3.5\"><span class=\"toc-item-num\">3.5&nbsp;&nbsp;</span>Tuples</a></span></li><li><span><a href=\"#Operations\" data-toc-modified-id=\"Operations-3.6\"><span class=\"toc-item-num\">3.6&nbsp;&nbsp;</span>Operations</a></span><ul class=\"toc-item\"><li><span><a href=\"#Numeric-operations\" data-toc-modified-id=\"Numeric-operations-3.6.1\"><span class=\"toc-item-num\">3.6.1&nbsp;&nbsp;</span>Numeric operations</a></span></li><li><span><a href=\"#List-Operations\" data-toc-modified-id=\"List-Operations-3.6.2\"><span class=\"toc-item-num\">3.6.2&nbsp;&nbsp;</span>List Operations</a></span><ul class=\"toc-item\"><li><span><a href=\"#List-Concatenation,-Replication-and-Length\" data-toc-modified-id=\"List-Concatenation,-Replication-and-Length-3.6.2.1\"><span class=\"toc-item-num\">3.6.2.1&nbsp;&nbsp;</span>List Concatenation, Replication and Length</a></span></li><li><span><a href=\"#The-range-function\" data-toc-modified-id=\"The-range-function-3.6.2.2\"><span class=\"toc-item-num\">3.6.2.2&nbsp;&nbsp;</span>The <code>range</code> function</a></span></li><li><span><a href=\"#List-Sorting\" data-toc-modified-id=\"List-Sorting-3.6.2.3\"><span class=\"toc-item-num\">3.6.2.3&nbsp;&nbsp;</span>List Sorting</a></span></li><li><span><a href=\"#List-Slicing\" data-toc-modified-id=\"List-Slicing-3.6.2.4\"><span class=\"toc-item-num\">3.6.2.4&nbsp;&nbsp;</span>List Slicing</a></span></li><li><span><a href=\"#Replace,-insert,-and-remove-elements-from-a-list\" data-toc-modified-id=\"Replace,-insert,-and-remove-elements-from-a-list-3.6.2.5\"><span class=\"toc-item-num\">3.6.2.5&nbsp;&nbsp;</span>Replace, insert, and remove elements from a list</a></span></li><li><span><a href=\"#Lists-and-Math\" data-toc-modified-id=\"Lists-and-Math-3.6.2.6\"><span class=\"toc-item-num\">3.6.2.6&nbsp;&nbsp;</span>Lists and Math</a></span></li></ul></li><li><span><a href=\"#String-Operations\" data-toc-modified-id=\"String-Operations-3.6.3\"><span class=\"toc-item-num\">3.6.3&nbsp;&nbsp;</span>String Operations</a></span><ul class=\"toc-item\"><li><span><a href=\"#String-Slicing\" data-toc-modified-id=\"String-Slicing-3.6.3.1\"><span class=\"toc-item-num\">3.6.3.1&nbsp;&nbsp;</span>String Slicing</a></span></li><li><span><a href=\"#String-split\" data-toc-modified-id=\"String-split-3.6.3.2\"><span class=\"toc-item-num\">3.6.3.2&nbsp;&nbsp;</span>String <code>split</code></a></span></li><li><span><a href=\"#String-operations\" data-toc-modified-id=\"String-operations-3.6.3.3\"><span class=\"toc-item-num\">3.6.3.3&nbsp;&nbsp;</span>String operations</a></span></li><li><span><a href=\"#String-methods\" data-toc-modified-id=\"String-methods-3.6.3.4\"><span class=\"toc-item-num\">3.6.3.4&nbsp;&nbsp;</span>String methods</a></span></li><li><span><a href=\"#String-formatting-using-print()\" data-toc-modified-id=\"String-formatting-using-print()-3.6.3.5\"><span class=\"toc-item-num\">3.6.3.5&nbsp;&nbsp;</span>String formatting using print()</a></span></li></ul></li></ul></li><li><span><a href=\"#Control-Structures\" data-toc-modified-id=\"Control-Structures-3.7\"><span class=\"toc-item-num\">3.7&nbsp;&nbsp;</span>Control Structures</a></span><ul class=\"toc-item\"><li><span><a href=\"#Selection-by-conditionals\" data-toc-modified-id=\"Selection-by-conditionals-3.7.1\"><span class=\"toc-item-num\">3.7.1&nbsp;&nbsp;</span>Selection by conditionals</a></span><ul class=\"toc-item\"><li><span><a href=\"#if\" data-toc-modified-id=\"if-3.7.1.1\"><span class=\"toc-item-num\">3.7.1.1&nbsp;&nbsp;</span><code>if</code></a></span></li><li><span><a href=\"#if---else\" data-toc-modified-id=\"if---else-3.7.1.2\"><span class=\"toc-item-num\">3.7.1.2&nbsp;&nbsp;</span><code>if</code> - <code>else</code></a></span></li><li><span><a href=\"#if---elif-and-if---elif----else\" data-toc-modified-id=\"if---elif-and-if---elif----else-3.7.1.3\"><span class=\"toc-item-num\">3.7.1.3&nbsp;&nbsp;</span><code>if</code> - <code>elif</code> and <code>if</code> - <code>elif</code>  - <code>else</code></a></span></li></ul></li><li><span><a href=\"#Repetition\" data-toc-modified-id=\"Repetition-3.7.2\"><span class=\"toc-item-num\">3.7.2&nbsp;&nbsp;</span>Repetition</a></span><ul class=\"toc-item\"><li><span><a href=\"#For-loop\" data-toc-modified-id=\"For-loop-3.7.2.1\"><span class=\"toc-item-num\">3.7.2.1&nbsp;&nbsp;</span><code>For</code> loop</a></span></li><li><span><a href=\"#while-Loop\" data-toc-modified-id=\"while-Loop-3.7.2.2\"><span class=\"toc-item-num\">3.7.2.2&nbsp;&nbsp;</span><code>while</code> Loop</a></span></li></ul></li></ul></li></ul></li><li><span><a href=\"#User-defined-Functions\" data-toc-modified-id=\"User-defined-Functions-4\"><span class=\"toc-item-num\">4&nbsp;&nbsp;</span>User-defined Functions</a></span><ul class=\"toc-item\"><li><ul class=\"toc-item\"><li><ul class=\"toc-item\"><li><span><a href=\"#Putting-it-all-together:-Pig-Latin\" data-toc-modified-id=\"Putting-it-all-together:-Pig-Latin-4.0.0.1\"><span class=\"toc-item-num\">4.0.0.1&nbsp;&nbsp;</span>Putting it all together: Pig Latin</a></span></li></ul></li></ul></li></ul></li></ul></div>"
   ]
  },
  {
   "cell_type": "markdown",
   "metadata": {
    "id": "qPOfXNkyXaHn"
   },
   "source": [
    "Table of Contents:\n",
    "- Basics of a Jupyter Notebook\n",
    "- Python Basics\n",
    "  - Numbers\n",
    "  - Variables\n",
    "  - Strings\n",
    "  - Lists\n",
    "  - Tuples\n",
    "  - Operations\n",
    "  - Control Structures\n",
    "- User-defined Functions"
   ]
  },
  {
   "cell_type": "markdown",
   "metadata": {
    "id": "uSRHtWXX7lKC"
   },
   "source": [
    "# Basics of a Jupyter Notebook - ipynb files"
   ]
  },
  {
   "cell_type": "markdown",
   "metadata": {
    "id": "aPo4v0IVRmsc"
   },
   "source": [
    "### What are Jupyter Notebooks?\n",
    "\n",
    "Jupyter is a web-based interactive development environment that supports multiple programming languages, however most commonly used with the Python programming language.\n",
    "\n",
    "The interactive environment that Jupyter provides enables students, scientists, and researchers to create reproducible analysis and formulate a story within a single document.\n",
    "\n",
    "Lets take a look at an example of a completed Jupyter Notebook: [Example Notebook](http://nbviewer.jupyter.org/github/cossatot/lanf_earthquake_likelihood/blob/master/notebooks/lanf_manuscript_notebook.ipynb)"
   ]
  },
  {
   "cell_type": "markdown",
   "metadata": {
    "id": "UtfQspU5Roix"
   },
   "source": [
    "### Jupyter Notebook Features\n",
    "\n",
    "* File Browser\n",
    "* Markdown Cells & Syntax\n",
    "* Kernels, Variables, & Environment\n",
    "* Command vs. Edit Mode & Shortcuts"
   ]
  },
  {
   "cell_type": "markdown",
   "metadata": {
    "id": "p5C0en47RqET"
   },
   "source": [
    "### What is Markdown?\n",
    "\n",
    "Markdown is a markup language that uses plain text formatting syntax.  This means that we can modify the formatting our text with the use of various symbols on our keyboard as indicators.\n",
    "\n",
    "Some examples include:\n",
    "\n",
    "* Headers\n",
    "* Text modifications such as italics and bold\n",
    "* Ordered and Unordered lists\n",
    "* Links\n",
    "* Tables\n",
    "* Images\n",
    "* Etc.\n",
    "\n",
    "Now I'll showcase some examples of how this formatting is done:"
   ]
  },
  {
   "cell_type": "markdown",
   "metadata": {
    "id": "J-m4OVoXRsqi"
   },
   "source": [
    "Headers:\n",
    "\n",
    "# H1\n",
    "## H2\n",
    "### H3\n",
    "#### H4\n",
    "##### H5\n",
    "###### H6"
   ]
  },
  {
   "cell_type": "markdown",
   "metadata": {
    "id": "xOdCGkJuRwcc"
   },
   "source": [
    "Text modifications:\n",
    "\n",
    "Emphasis, aka italics, with *asterisks* or _underscores_.\n",
    "\n",
    "Strong emphasis, aka bold, with **asterisks** or __underscores__.\n",
    "\n",
    "Combined emphasis with **asterisks and _underscores_**.\n",
    "\n",
    "Strikethrough uses two tildes. ~~Scratch this.~~ "
   ]
  },
  {
   "cell_type": "markdown",
   "metadata": {
    "id": "EgcH1ycvRxmb"
   },
   "source": [
    "Lists:\n",
    "\n",
    "1. First ordered list item\n",
    "2. Another item\n",
    "  * Unordered sub-list. \n",
    "1. Actual numbers don't matter, just that it's a number\n",
    "  1. Ordered sub-list\n",
    "4. And another item.\n",
    "\n",
    "* Unordered list can use asterisks\n",
    "- Or minuses\n",
    "+ Or pluses"
   ]
  },
  {
   "cell_type": "markdown",
   "metadata": {
    "id": "_CNi_uuRRysJ"
   },
   "source": [
    "### Kernels, Variables, and Environment\n",
    "\n",
    "A notebook kernel is a “computational engine” that executes the code contained in a Notebook document. There are kernels for various programming languages, however we are solely using the python kernel which executes python code.\n",
    "\n",
    "When a notebook is opened, the associated kernel is automatically launched for our convenience."
   ]
  },
  {
   "cell_type": "code",
   "execution_count": 1,
   "metadata": {
    "colab": {
     "base_uri": "https://localhost:8080/"
    },
    "executionInfo": {
     "elapsed": 7,
     "status": "ok",
     "timestamp": 1651889735315,
     "user": {
      "displayName": "Christian Ataiza",
      "userId": "02674055789675689831"
     },
     "user_tz": -480
    },
    "id": "zdO3-G2-R0ut",
    "outputId": "21f397dc-369d-4f63-be9c-66c4123d9385"
   },
   "outputs": [
    {
     "name": "stdout",
     "output_type": "stream",
     "text": [
      "This is a python code cell\n"
     ]
    }
   ],
   "source": [
    "### This is python\n",
    "print(\"This is a python code cell\")"
   ]
  },
  {
   "cell_type": "markdown",
   "metadata": {
    "id": "gSti_QL1R3Mr"
   },
   "source": [
    "A kernel is the back-end of our notebook which not only executes our python code, but stores our initialized variables."
   ]
  },
  {
   "cell_type": "markdown",
   "metadata": {
    "id": "povqmeOvR42b"
   },
   "source": [
    "It is important to note that Jupyter Notebooks have in-line cell execution.  This means that a prior executing cell must complete its operations prior to another cell being executed.  A cell still being executing is indicated by the [*] on the left-hand side of the cell."
   ]
  },
  {
   "cell_type": "code",
   "execution_count": 2,
   "metadata": {
    "id": "Yqj152b0SYxx"
   },
   "outputs": [
    {
     "name": "stdout",
     "output_type": "stream",
     "text": [
      "This won't print until all prior cells have finished executing.\n"
     ]
    }
   ],
   "source": [
    "print(\"This won't print until all prior cells have finished executing.\")"
   ]
  },
  {
   "cell_type": "markdown",
   "metadata": {
    "id": "b2TPevt6TZY9"
   },
   "source": [
    "### Command vs. Edit Mode & Shortcuts\n",
    "\n",
    "There is an edit and a command mode for jupyter notebooks.  The mode is easily identifiable by the color of the left border of the cell.\n",
    "\n",
    "Blue = Command Mode.\n",
    "\n",
    "Green = Edit Mode.\n",
    "\n",
    "Command Mode can be toggled by pressing **esc** on your keyboard.\n",
    "\n",
    "Commands can be used to execute notebook functions.  For example, changing the format of a markdown cell or adding line numbers.\n",
    "\n",
    "Lets toggle line numbers while in command mode by pressing **L**.\n",
    "\n",
    "#### Additional Shortcuts\n",
    "\n",
    "There are a lot of shortcuts that can be used to improve productivity while using Jupyter Notebooks.\n",
    "\n",
    "Here is a list:\n",
    "\n",
    "![Jupyter Notebook Shortcuts](https://media.cheatography.com/storage/thumb/weidadeyue_jupyter-notebook.750.jpg?last=1462914889)"
   ]
  },
  {
   "cell_type": "markdown",
   "metadata": {
    "id": "22ddlas_SFNF"
   },
   "source": [
    "### How do you install Jupyter Notebooks?\n",
    "\n",
    "Official Installation Guide: https://jupyter.readthedocs.io/en/latest/install.html\n",
    "\n",
    "Jupyter recommends utilizing Anaconda, which is a platform compatible with Windows, macOS, and Linux systems.  \n",
    "\n",
    "Anaconda Download: https://www.anaconda.com/download/#macos"
   ]
  },
  {
   "cell_type": "markdown",
   "metadata": {
    "id": "SaHnIaKL7k-O"
   },
   "source": [
    "# Python Basics"
   ]
  },
  {
   "cell_type": "markdown",
   "metadata": {
    "id": "omMAaztmPcgm"
   },
   "source": [
    "## Numbers\n",
    "\n"
   ]
  },
  {
   "cell_type": "markdown",
   "metadata": {
    "id": "8AYdm0MPQzep"
   },
   "source": [
    "Python has 4 types of numbers:\n",
    "*   Integers\n",
    "*   Floating point (Decimals or exponential notation)\n",
    "*   Complex (Imaginary Numbers) \n",
    "*   Booleans \n"
   ]
  },
  {
   "cell_type": "code",
   "execution_count": 3,
   "metadata": {
    "colab": {
     "base_uri": "https://localhost:8080/"
    },
    "executionInfo": {
     "elapsed": 320,
     "status": "ok",
     "timestamp": 1651570695760,
     "user": {
      "displayName": "Christian Ataiza",
      "userId": "02674055789675689831"
     },
     "user_tz": -480
    },
    "id": "QEKGagsPQzFS",
    "outputId": "d7f9423d-defd-41fb-c4df-2c7c34d738f2"
   },
   "outputs": [
    {
     "data": {
      "text/plain": [
       "-6.3456"
      ]
     },
     "execution_count": 3,
     "metadata": {},
     "output_type": "execute_result"
    }
   ],
   "source": [
    "# Here are a few examples of each data number type in Python\n",
    "True # Boolean\n",
    "False # Boolean\n",
    "37 # Integer \n",
    "-2993929937277166 # Integer\n",
    "2.1 # Float\n",
    "-6.3456 #Float"
   ]
  },
  {
   "cell_type": "markdown",
   "metadata": {
    "id": "XuZ4DvFXSQhg"
   },
   "source": [
    "> Note that when running a notebook cell, it will only show the last statement. To inspect all of them, use the `print()` function\n",
    "\n"
   ]
  },
  {
   "cell_type": "code",
   "execution_count": 4,
   "metadata": {
    "colab": {
     "base_uri": "https://localhost:8080/"
    },
    "executionInfo": {
     "elapsed": 5,
     "status": "ok",
     "timestamp": 1651570913724,
     "user": {
      "displayName": "Christian Ataiza",
      "userId": "02674055789675689831"
     },
     "user_tz": -480
    },
    "id": "JMltUc78Sp6T",
    "outputId": "9da672ca-3eb5-4de1-fbe6-e419f80616f4"
   },
   "outputs": [
    {
     "name": "stdout",
     "output_type": "stream",
     "text": [
      "True\n",
      "False\n",
      "37\n",
      "-2993929937277166\n",
      "2.1\n",
      "-6.3456\n"
     ]
    }
   ],
   "source": [
    "# Here are a few examples of each data number type in Python\n",
    "print(True) # Boolean\n",
    "print(False) # Boolean\n",
    "print(37) # Integer \n",
    "print(-2993929937277166) # Integer\n",
    "print(2.1) # Float\n",
    "print(-6.3456) #Float"
   ]
  },
  {
   "cell_type": "markdown",
   "metadata": {
    "id": "94YPe2EpTnaG"
   },
   "source": [
    "### Basic Arithmetic Operations"
   ]
  },
  {
   "cell_type": "markdown",
   "metadata": {
    "id": "w7e0QTekTxXk"
   },
   "source": [
    "There are common operations that can be done in Python which follows basic math principles. Take note of the PEMDAS rule!"
   ]
  },
  {
   "cell_type": "code",
   "execution_count": 5,
   "metadata": {
    "colab": {
     "base_uri": "https://localhost:8080/"
    },
    "executionInfo": {
     "elapsed": 342,
     "status": "ok",
     "timestamp": 1651571204662,
     "user": {
      "displayName": "Christian Ataiza",
      "userId": "02674055789675689831"
     },
     "user_tz": -480
    },
    "id": "NbqYSK80TxCc",
    "outputId": "ec96b94a-e41e-4cba-cb38-3941d53b2726"
   },
   "outputs": [
    {
     "data": {
      "text/plain": [
       "2"
      ]
     },
     "execution_count": 5,
     "metadata": {},
     "output_type": "execute_result"
    }
   ],
   "source": [
    "1 + 1 # because Python ignores whitespace, \"1+1\" may work but is not encouraged"
   ]
  },
  {
   "cell_type": "code",
   "execution_count": 6,
   "metadata": {
    "colab": {
     "base_uri": "https://localhost:8080/"
    },
    "executionInfo": {
     "elapsed": 344,
     "status": "ok",
     "timestamp": 1651571235163,
     "user": {
      "displayName": "Christian Ataiza",
      "userId": "02674055789675689831"
     },
     "user_tz": -480
    },
    "id": "9qFIEE8AUK5S",
    "outputId": "c222bb6d-65e6-4dcc-9d19-9b68ac11bd6a"
   },
   "outputs": [
    {
     "data": {
      "text/plain": [
       "7"
      ]
     },
     "execution_count": 6,
     "metadata": {},
     "output_type": "execute_result"
    }
   ],
   "source": [
    "1 + 2 * 3     # * has precedence over +"
   ]
  },
  {
   "cell_type": "code",
   "execution_count": 7,
   "metadata": {
    "colab": {
     "base_uri": "https://localhost:8080/"
    },
    "executionInfo": {
     "elapsed": 369,
     "status": "ok",
     "timestamp": 1651571259621,
     "user": {
      "displayName": "Christian Ataiza",
      "userId": "02674055789675689831"
     },
     "user_tz": -480
    },
    "id": "B90dSXAEURuU",
    "outputId": "868cfc90-19b7-4817-bea1-79a4853fa5d2"
   },
   "outputs": [
    {
     "name": "stdout",
     "output_type": "stream",
     "text": [
      "9\n",
      "2\n"
     ]
    }
   ],
   "source": [
    "print((1 + 2) * 3)\n",
    "print(8 - 6)"
   ]
  },
  {
   "cell_type": "markdown",
   "metadata": {
    "id": "H2jxl9PrUg15"
   },
   "source": [
    "Python arithmetic distinguishes whole numbers or integers from those with decimals, called float numbers.\n",
    "See how this plays out, especially in division."
   ]
  },
  {
   "cell_type": "code",
   "execution_count": 8,
   "metadata": {
    "colab": {
     "base_uri": "https://localhost:8080/"
    },
    "executionInfo": {
     "elapsed": 657,
     "status": "ok",
     "timestamp": 1651571365836,
     "user": {
      "displayName": "Christian Ataiza",
      "userId": "02674055789675689831"
     },
     "user_tz": -480
    },
    "id": "FkM7FWVIUnnx",
    "outputId": "5cdcb71b-6c54-42d4-effd-69534d1fb06b"
   },
   "outputs": [
    {
     "name": "stdout",
     "output_type": "stream",
     "text": [
      "5.666666666666667\n",
      "5\n",
      "5.0\n",
      "2\n",
      "128\n"
     ]
    }
   ],
   "source": [
    "print(17 / 3)     # int / int -> float\n",
    "print(17 // 3)    # floor division/integer division\n",
    "print(17.0 // 3)  # return float if one of the values is float \n",
    "print(17 % 3)     # remainder\n",
    "print(2 ** 7)     # 2 to the power of 7"
   ]
  },
  {
   "cell_type": "markdown",
   "metadata": {
    "id": "onke2hFHU9f9"
   },
   "source": [
    "Common Arithmetic Operations: "
   ]
  },
  {
   "cell_type": "code",
   "execution_count": 9,
   "metadata": {
    "id": "27Xd9akrkEp-"
   },
   "outputs": [
    {
     "data": {
      "text/plain": [
       "0"
      ]
     },
     "execution_count": 9,
     "metadata": {},
     "output_type": "execute_result"
    }
   ],
   "source": [
    "x = 0\n",
    "y = 1\n",
    "x + y      #Add\n",
    "x - y      #Subtract\n",
    "x * y      #Multiply\n",
    "x / y      #Divide\n",
    "x // y     #Floor Divide\n",
    "x % y      #Modulo\n",
    "x ** y     #Power\n",
    "abs(x)     #Absolute Value"
   ]
  },
  {
   "cell_type": "markdown",
   "metadata": {
    "id": "2m8n53NEUNuC"
   },
   "source": [
    "## Variables"
   ]
  },
  {
   "cell_type": "markdown",
   "metadata": {
    "id": "UksYP0z8ke_p"
   },
   "source": [
    "> **Variables** are containers to store values. Variables are declared to avoid having to re-type a long expression, or to keep a value so the computer doesn’t have to recompute it."
   ]
  },
  {
   "cell_type": "code",
   "execution_count": 10,
   "metadata": {
    "id": "VLRb4MBykK36"
   },
   "outputs": [],
   "source": [
    "# In the cell above notice we declared the following:\n",
    "x = 0 # the variable x is assigned the value of 0\n",
    "y = 1"
   ]
  },
  {
   "cell_type": "markdown",
   "metadata": {
    "id": "Otjln8AMllKT"
   },
   "source": [
    "The equal sign \"=\" is used to assign a value to a variable."
   ]
  },
  {
   "cell_type": "code",
   "execution_count": 11,
   "metadata": {
    "id": "tbnki20ymgHx"
   },
   "outputs": [],
   "source": [
    "first_example = 4/2 # no output since we are assigning it to variable first_example"
   ]
  },
  {
   "cell_type": "code",
   "execution_count": 12,
   "metadata": {
    "colab": {
     "base_uri": "https://localhost:8080/"
    },
    "executionInfo": {
     "elapsed": 375,
     "status": "ok",
     "timestamp": 1651592893036,
     "user": {
      "displayName": "Christian Ataiza",
      "userId": "02674055789675689831"
     },
     "user_tz": -480
    },
    "id": "9H1nt7WKm2Uu",
    "outputId": "3daee25a-a354-47e5-da92-7fc52a47b40f"
   },
   "outputs": [
    {
     "name": "stdout",
     "output_type": "stream",
     "text": [
      "2.0\n"
     ]
    }
   ],
   "source": [
    "print(first_example)"
   ]
  },
  {
   "cell_type": "markdown",
   "metadata": {
    "id": "Iz9S-cEymcFK"
   },
   "source": [
    "**Naming convention**\n",
    "\n",
    "- Variable names in Python should start with letters, and can contain any number of letters, digits, and  _.\n",
    "\n",
    "- Python names are case sensitive.  This applies both to variable names and to function names imported from modules.\n",
    "\n",
    "- By convention, Python variables usually start with lower-case letters. \n",
    "\n",
    "- Variables should have descriptive names; for multi-word names, separate the words by underscores.\n",
    "\n",
    " - Good names:  initial_price, my_income_tax, discounted_price2\n",
    " \n",
    " - One-letter names are used in certain circumstances - e.g. i, j, k when used as indexes - but are otherwise frowned upon.\n",
    " \n",
    "- Certain words are not allowed to be variable names. These words are reserved as python built-in functions \\\n",
    "They will show up as green bold-faced text as soon as you type them (e.g. if, try, while)"
   ]
  },
  {
   "cell_type": "code",
   "execution_count": 13,
   "metadata": {
    "colab": {
     "base_uri": "https://localhost:8080/"
    },
    "executionInfo": {
     "elapsed": 326,
     "status": "ok",
     "timestamp": 1651593667099,
     "user": {
      "displayName": "Christian Ataiza",
      "userId": "02674055789675689831"
     },
     "user_tz": -480
    },
    "id": "hxjKqOG0m7_9",
    "outputId": "92ec6600-00cc-459b-ff32-a5422a4fffb9"
   },
   "outputs": [
    {
     "name": "stdout",
     "output_type": "stream",
     "text": [
      "12.0\n"
     ]
    }
   ],
   "source": [
    "double_this = 3 * 2 # it is possible to assign expressions into variables\n",
    "print(first_example * double_this)"
   ]
  },
  {
   "cell_type": "markdown",
   "metadata": {
    "id": "4QMa3QW6PcXS"
   },
   "source": [
    "## Strings"
   ]
  },
  {
   "cell_type": "markdown",
   "metadata": {
    "id": "QfqMg_qjntwz"
   },
   "source": [
    "Python can also do operations using text as input. In programming, a sequence of characters or a chunck of text is called a **string**.\n",
    "\n",
    "A string is written using either single quotes `'text'` or double quotes `\"text\"`. When you use single quotes, you will need to add a `\\` for words that require an apostrophe."
   ]
  },
  {
   "cell_type": "code",
   "execution_count": 14,
   "metadata": {
    "id": "fDZWAUCGnZvr"
   },
   "outputs": [],
   "source": [
    "# Single quote\n",
    "string1 = 'Yeah but no but yeah but...'\n",
    "\n",
    "# Double quote\n",
    "string2 = \"computer says no\""
   ]
  },
  {
   "cell_type": "markdown",
   "metadata": {
    "id": "5GBgKotpoXTj"
   },
   "source": [
    "When you use single quotes, you will need to add the escape character `\\` for words that require an apostrophe. Therefore it is better to use double quotes when your string contains an apostrophe."
   ]
  },
  {
   "cell_type": "code",
   "execution_count": 15,
   "metadata": {
    "colab": {
     "base_uri": "https://localhost:8080/"
    },
    "executionInfo": {
     "elapsed": 308,
     "status": "ok",
     "timestamp": 1651593272978,
     "user": {
      "displayName": "Christian Ataiza",
      "userId": "02674055789675689831"
     },
     "user_tz": -480
    },
    "id": "mygWAc8_nyjs",
    "outputId": "3b96ce01-b7d4-4b79-81f1-9f73c1198472"
   },
   "outputs": [
    {
     "name": "stdout",
     "output_type": "stream",
     "text": [
      "Hello, everything's fine!\n",
      "Hello, everything's fine!\n"
     ]
    }
   ],
   "source": [
    "string3 = 'Hello, everything\\'s fine!'\n",
    "print(string3)\n",
    "\n",
    "string4 = \"Hello, everything's fine!\"\n",
    "print(string4)"
   ]
  },
  {
   "cell_type": "markdown",
   "metadata": {
    "id": "YkbFwUXiojnw"
   },
   "source": [
    "Normally strings may only span a single line. **Triple quotes** capture all text enclosed across multiple lines including all formatting.\n",
    "\n",
    "There is no difference between using single (‘) versus double (“) quotes - but do take note of the caveats mentioned above. *However, the same type of quote used to start a string must be used to terminate it.*"
   ]
  },
  {
   "cell_type": "code",
   "execution_count": 16,
   "metadata": {
    "id": "_bbiGA7_oel5"
   },
   "outputs": [],
   "source": [
    "# Triple quotes\n",
    "c = '''\n",
    "Look into my eyes, look into my eyes, the eyes, the eyes, the eyes,\n",
    "not around the eyes,\n",
    "don't look around the eyes,\n",
    "look into my eyes, you're under.\n",
    "'''"
   ]
  },
  {
   "cell_type": "code",
   "execution_count": 17,
   "metadata": {},
   "outputs": [
    {
     "data": {
      "text/plain": [
       "\"\\nLook into my eyes, look into my eyes, the eyes, the eyes, the eyes,\\nnot around the eyes,\\ndon't look around the eyes,\\nlook into my eyes, you're under.\\n\""
      ]
     },
     "execution_count": 17,
     "metadata": {},
     "output_type": "execute_result"
    }
   ],
   "source": [
    "c"
   ]
  },
  {
   "cell_type": "code",
   "execution_count": 18,
   "metadata": {
    "colab": {
     "base_uri": "https://localhost:8080/",
     "height": 35
    },
    "executionInfo": {
     "elapsed": 7,
     "status": "ok",
     "timestamp": 1651593446842,
     "user": {
      "displayName": "Christian Ataiza",
      "userId": "02674055789675689831"
     },
     "user_tz": -480
    },
    "id": "72YdfI83oywC",
    "outputId": "a2eaabf1-ff16-400c-a54d-1e5923d58307"
   },
   "outputs": [
    {
     "data": {
      "text/plain": [
       "'\\\\'"
      ]
     },
     "execution_count": 18,
     "metadata": {},
     "output_type": "execute_result"
    }
   ],
   "source": [
    "#Extra information [String escape codes]\n",
    "'\\n'      # Line feed\n",
    "'\\r'      # Carriage return\n",
    "'\\t'      # Tab\n",
    "'\\''      # Literal single quote\n",
    "'\\\"'      # Literal double quote\n",
    "'\\\\'      # Literal backslash"
   ]
  },
  {
   "cell_type": "markdown",
   "metadata": {
    "id": "tlNiHGKhpHou"
   },
   "source": [
    "You can also convert an integer or a float using the builtin command `str`"
   ]
  },
  {
   "cell_type": "code",
   "execution_count": 19,
   "metadata": {
    "colab": {
     "base_uri": "https://localhost:8080/"
    },
    "executionInfo": {
     "elapsed": 3,
     "status": "ok",
     "timestamp": 1651593504961,
     "user": {
      "displayName": "Christian Ataiza",
      "userId": "02674055789675689831"
     },
     "user_tz": -480
    },
    "id": "q-xk6fNxpFiX",
    "outputId": "02d8ab4e-e777-486c-9c33-56736cf89be3"
   },
   "outputs": [
    {
     "name": "stdout",
     "output_type": "stream",
     "text": [
      "1\n",
      "1\n"
     ]
    }
   ],
   "source": [
    "print(1) # integer\n",
    "print(str(1)) # integer converted into string"
   ]
  },
  {
   "cell_type": "markdown",
   "metadata": {
    "id": "2gZu-9nKPi0Z"
   },
   "source": [
    "## Lists"
   ]
  },
  {
   "cell_type": "markdown",
   "metadata": {
    "id": "Vf0MN-Ypqnck"
   },
   "source": [
    "> Python’s primary type for holding an ordered collection of values are through **lists**.\n",
    "\n",
    "*   Lists are *ordered* collections of values.\n",
    "*   An **element** refers to an item in the list\n",
    "*   Lists can contain any types of values, including numbers, strings or even another list\n",
    "\n"
   ]
  },
  {
   "cell_type": "code",
   "execution_count": 20,
   "metadata": {
    "colab": {
     "base_uri": "https://localhost:8080/"
    },
    "executionInfo": {
     "elapsed": 319,
     "status": "ok",
     "timestamp": 1651594240921,
     "user": {
      "displayName": "Christian Ataiza",
      "userId": "02674055789675689831"
     },
     "user_tz": -480
    },
    "id": "TZJDTBbzoyYh",
    "outputId": "a9bddc1a-04fe-4ba1-e190-3ad6f3312325"
   },
   "outputs": [
    {
     "data": {
      "text/plain": [
       "[1, 4, 9, 16, 25]"
      ]
     },
     "execution_count": 20,
     "metadata": {},
     "output_type": "execute_result"
    }
   ],
   "source": [
    "# Use square brackets to define a list and separate each element using a ,\n",
    "squares = [1, 4, 9, 16, 25]\n",
    "squares"
   ]
  },
  {
   "cell_type": "code",
   "execution_count": 21,
   "metadata": {
    "colab": {
     "base_uri": "https://localhost:8080/"
    },
    "executionInfo": {
     "elapsed": 4,
     "status": "ok",
     "timestamp": 1651594299943,
     "user": {
      "displayName": "Christian Ataiza",
      "userId": "02674055789675689831"
     },
     "user_tz": -480
    },
    "id": "luHZYhvzsCiL",
    "outputId": "4cc74d1d-1224-4b5b-b6ab-bee2aca824cd"
   },
   "outputs": [
    {
     "data": {
      "text/plain": [
       "['spam', ['foo'], 420, 1.1]"
      ]
     },
     "execution_count": 21,
     "metadata": {},
     "output_type": "execute_result"
    }
   ],
   "source": [
    "# Example of a list containing other data types:\n",
    "example_two = [\"spam\", [\"foo\"], 420, 1.1]\n",
    "example_two"
   ]
  },
  {
   "cell_type": "code",
   "execution_count": 22,
   "metadata": {
    "colab": {
     "base_uri": "https://localhost:8080/"
    },
    "executionInfo": {
     "elapsed": 5,
     "status": "ok",
     "timestamp": 1651597591867,
     "user": {
      "displayName": "Christian Ataiza",
      "userId": "02674055789675689831"
     },
     "user_tz": -480
    },
    "id": "cREJepHi4ve0",
    "outputId": "c4f79277-e6c0-4647-a747-3f26548ffa12"
   },
   "outputs": [
    {
     "data": {
      "text/plain": [
       "[]"
      ]
     },
     "execution_count": 22,
     "metadata": {},
     "output_type": "execute_result"
    }
   ],
   "source": [
    "# Empty lists can be declared also!\n",
    "empty_list = []\n",
    "empty_list"
   ]
  },
  {
   "cell_type": "markdown",
   "metadata": {
    "id": "6NkDcXlt-E9y"
   },
   "source": [
    "## Tuples"
   ]
  },
  {
   "cell_type": "markdown",
   "metadata": {
    "id": "gw-aB8V2-Itt"
   },
   "source": [
    "Tuples are like lists but are immutable (meaning that the elements cannot be changed)"
   ]
  },
  {
   "cell_type": "code",
   "execution_count": 23,
   "metadata": {
    "colab": {
     "base_uri": "https://localhost:8080/"
    },
    "executionInfo": {
     "elapsed": 292,
     "status": "ok",
     "timestamp": 1651599078183,
     "user": {
      "displayName": "Christian Ataiza",
      "userId": "02674055789675689831"
     },
     "user_tz": -480
    },
    "id": "slhTc9rJ-EV0",
    "outputId": "1bf94792-60b0-4354-b0e2-e3a39f8606da"
   },
   "outputs": [
    {
     "name": "stdout",
     "output_type": "stream",
     "text": [
      "(1, 2, 3, 4, 5)\n",
      "('spam', ['foo'], 420, 1.1)\n"
     ]
    }
   ],
   "source": [
    "# Use the parenthsis to define a tuple and separate each element using a ,\n",
    "tuple_one = (1, 2, 3, 4, 5)\n",
    "print(tuple_one)\n",
    "\n",
    "tuple_two = (\"spam\", [\"foo\"], 420, 1.1)\n",
    "print(tuple_two)"
   ]
  },
  {
   "cell_type": "markdown",
   "metadata": {
    "id": "xwpQfqbQQcMr"
   },
   "source": [
    "## Operations"
   ]
  },
  {
   "cell_type": "markdown",
   "metadata": {
    "id": "wuIOExOMtV-S"
   },
   "source": [
    "### Numeric operations"
   ]
  },
  {
   "cell_type": "markdown",
   "metadata": {
    "id": "Lkn7_SR9t7_w"
   },
   "source": [
    "Aside from the operations mentioned above, *comparisons (relational)* operators also work with numbers. "
   ]
  },
  {
   "cell_type": "code",
   "execution_count": 5,
   "metadata": {
    "colab": {
     "base_uri": "https://localhost:8080/"
    },
    "executionInfo": {
     "elapsed": 330,
     "status": "ok",
     "timestamp": 1651594856922,
     "user": {
      "displayName": "Christian Ataiza",
      "userId": "02674055789675689831"
     },
     "user_tz": -480
    },
    "id": "XTNaJu_at3Cr",
    "outputId": "e743cc7b-8e35-4b4c-a9a1-1873835d13c4"
   },
   "outputs": [
    {
     "name": "stdout",
     "output_type": "stream",
     "text": [
      "True\n",
      "True\n",
      "False\n",
      "False\n",
      "False\n",
      "True\n"
     ]
    }
   ],
   "source": [
    "x = 0\n",
    "y = 1\n",
    "print(x < y)      # Less than\n",
    "print(x <= y)     # Less than or equal\n",
    "print(x > y)      # Greater than\n",
    "print(x >= y)     # Greater than or equal\n",
    "print(x == y)     # Equal to\n",
    "print(x != y)     # Not equal to"
   ]
  },
  {
   "cell_type": "markdown",
   "metadata": {
    "id": "Hre_0AXDuuKM"
   },
   "source": [
    "The type name can also be used to convert values into the respective numeric data type:"
   ]
  },
  {
   "cell_type": "code",
   "execution_count": 13,
   "metadata": {
    "colab": {
     "base_uri": "https://localhost:8080/"
    },
    "executionInfo": {
     "elapsed": 3,
     "status": "ok",
     "timestamp": 1651594988815,
     "user": {
      "displayName": "Christian Ataiza",
      "userId": "02674055789675689831"
     },
     "user_tz": -480
    },
    "id": "OxDxyM2Curdg",
    "outputId": "efcddb2e-b73b-4e52-d58d-1b50c7b8edd7"
   },
   "outputs": [
    {
     "name": "stdout",
     "output_type": "stream",
     "text": [
      "0\n",
      "1.0\n",
      "<class 'bool'>\n"
     ]
    }
   ],
   "source": [
    "a = int(x)\n",
    "b = float(y)\n",
    "print(a)\n",
    "print(b)"
   ]
  },
  {
   "cell_type": "markdown",
   "metadata": {
    "id": "2OauUsVsuabm"
   },
   "source": [
    "Note that the cells above returned Boolean `True` and `False` "
   ]
  },
  {
   "cell_type": "markdown",
   "metadata": {
    "id": "_wjLG6bCu97N"
   },
   "source": [
    "Booleans also receive a special mention since there are special functions dedicated for it's usage: `and`, `or`, `not` known as Boolean operators"
   ]
  },
  {
   "cell_type": "code",
   "execution_count": 26,
   "metadata": {
    "colab": {
     "base_uri": "https://localhost:8080/"
    },
    "executionInfo": {
     "elapsed": 5,
     "status": "ok",
     "timestamp": 1651595138660,
     "user": {
      "displayName": "Christian Ataiza",
      "userId": "02674055789675689831"
     },
     "user_tz": -480
    },
    "id": "uMUiNq3kvKm7",
    "outputId": "4cb6dc08-ad59-4f9b-b3f6-2bd5c7924d87"
   },
   "outputs": [
    {
     "name": "stdout",
     "output_type": "stream",
     "text": [
      "True\n",
      "False\n",
      "False\n"
     ]
    }
   ],
   "source": [
    "# and -- returns True if all operands are True\n",
    "print(True and True)\n",
    "print(False and True)\n",
    "print(False and False)"
   ]
  },
  {
   "cell_type": "code",
   "execution_count": 27,
   "metadata": {
    "colab": {
     "base_uri": "https://localhost:8080/"
    },
    "executionInfo": {
     "elapsed": 5,
     "status": "ok",
     "timestamp": 1651595158897,
     "user": {
      "displayName": "Christian Ataiza",
      "userId": "02674055789675689831"
     },
     "user_tz": -480
    },
    "id": "0dD7ZLr0vXHC",
    "outputId": "4b96904d-3c10-44da-dddd-1d36e2bc4622"
   },
   "outputs": [
    {
     "name": "stdout",
     "output_type": "stream",
     "text": [
      "True\n",
      "True\n",
      "False\n"
     ]
    }
   ],
   "source": [
    "# or -- returns True if at least one operand is True\n",
    "print(True or True)\n",
    "print(False or True)\n",
    "print(False or False)"
   ]
  },
  {
   "cell_type": "code",
   "execution_count": 28,
   "metadata": {
    "colab": {
     "base_uri": "https://localhost:8080/"
    },
    "executionInfo": {
     "elapsed": 321,
     "status": "ok",
     "timestamp": 1651595173618,
     "user": {
      "displayName": "Christian Ataiza",
      "userId": "02674055789675689831"
     },
     "user_tz": -480
    },
    "id": "T614yPghvYC4",
    "outputId": "301b8d25-0155-4828-dd39-fed34f461b08"
   },
   "outputs": [
    {
     "name": "stdout",
     "output_type": "stream",
     "text": [
      "False\n",
      "True\n"
     ]
    }
   ],
   "source": [
    "# not -- returns the opposite of what is given\n",
    "print(not True)\n",
    "print(not False)"
   ]
  },
  {
   "cell_type": "markdown",
   "metadata": {
    "id": "ijiwSm7wu8S7"
   },
   "source": [
    "**Bonus:** Refer to the documentation to find out more on the built-in library `math`"
   ]
  },
  {
   "cell_type": "markdown",
   "metadata": {
    "id": "IoQVWgUBtV0q"
   },
   "source": [
    "### List Operations"
   ]
  },
  {
   "cell_type": "markdown",
   "metadata": {
    "id": "JX65wSxl0uIx"
   },
   "source": [
    "#### List Concatenation, Replication and Length"
   ]
  },
  {
   "cell_type": "code",
   "execution_count": 29,
   "metadata": {
    "id": "J2geKfKGzA93"
   },
   "outputs": [],
   "source": [
    "names = [\"Monty\", \"Python\", \"Spam\", \"Eggs\"]"
   ]
  },
  {
   "cell_type": "markdown",
   "metadata": {
    "id": "Np8lqFYvymAw"
   },
   "source": [
    "Add a new item to your list using the `append()` method. <br>\n",
    "\n"
   ]
  },
  {
   "cell_type": "code",
   "execution_count": 30,
   "metadata": {
    "colab": {
     "base_uri": "https://localhost:8080/"
    },
    "executionInfo": {
     "elapsed": 8,
     "status": "ok",
     "timestamp": 1651596143330,
     "user": {
      "displayName": "Christian Ataiza",
      "userId": "02674055789675689831"
     },
     "user_tz": -480
    },
    "id": "sHRtIYDkzABs",
    "outputId": "9e2cbe03-4f0e-46dd-fcb3-e2bf5a0349f9"
   },
   "outputs": [
    {
     "data": {
      "text/plain": [
       "['Monty', 'Python', 'Spam', 'Eggs', 'Murphy']"
      ]
     },
     "execution_count": 30,
     "metadata": {},
     "output_type": "execute_result"
    }
   ],
   "source": [
    "names.append(\"Murphy\") # Adds Murphy to the end of the list (i.e. Append)\n",
    "names"
   ]
  },
  {
   "cell_type": "markdown",
   "metadata": {
    "id": "qEZugnOVz8mD"
   },
   "source": [
    "Combining lists together (i.e. concatenate) is done using the `+` operator"
   ]
  },
  {
   "cell_type": "code",
   "execution_count": 31,
   "metadata": {
    "colab": {
     "base_uri": "https://localhost:8080/"
    },
    "executionInfo": {
     "elapsed": 4,
     "status": "ok",
     "timestamp": 1651596489056,
     "user": {
      "displayName": "Christian Ataiza",
      "userId": "02674055789675689831"
     },
     "user_tz": -480
    },
    "id": "LvgkGjiRz8BT",
    "outputId": "16fa9c48-11c7-420f-e297-34193c3d5414"
   },
   "outputs": [
    {
     "name": "stdout",
     "output_type": "stream",
     "text": [
      "['Monty', 'Python', 'Spam', 'Eggs', 'Murphy', 'I am', 'Running out of', 'Jokes']\n"
     ]
    }
   ],
   "source": [
    "to_add = [\"I am\", \"Running out of\", \"Jokes\"]\n",
    "combined_list = names + to_add\n",
    "print(combined_list)"
   ]
  },
  {
   "cell_type": "markdown",
   "metadata": {
    "id": "Vqj_A0_B09Z_"
   },
   "source": [
    "Replicate lists `n` times using the `*` operator."
   ]
  },
  {
   "cell_type": "code",
   "execution_count": 32,
   "metadata": {
    "colab": {
     "base_uri": "https://localhost:8080/"
    },
    "executionInfo": {
     "elapsed": 302,
     "status": "ok",
     "timestamp": 1651597289390,
     "user": {
      "displayName": "Christian Ataiza",
      "userId": "02674055789675689831"
     },
     "user_tz": -480
    },
    "id": "Qr733B7b08jF",
    "outputId": "4415f4a0-bfb2-4c2f-9a3f-7799f40d795d"
   },
   "outputs": [
    {
     "data": {
      "text/plain": [
       "['Monty',\n",
       " 'Python',\n",
       " 'Spam',\n",
       " 'Eggs',\n",
       " 'Murphy',\n",
       " 'Monty',\n",
       " 'Python',\n",
       " 'Spam',\n",
       " 'Eggs',\n",
       " 'Murphy',\n",
       " 'Monty',\n",
       " 'Python',\n",
       " 'Spam',\n",
       " 'Eggs',\n",
       " 'Murphy']"
      ]
     },
     "execution_count": 32,
     "metadata": {},
     "output_type": "execute_result"
    }
   ],
   "source": [
    "n = 3\n",
    "names * n"
   ]
  },
  {
   "cell_type": "markdown",
   "metadata": {
    "id": "YCnOk5lu3rHk"
   },
   "source": [
    "Get the length of a list by using the `len()` function."
   ]
  },
  {
   "cell_type": "code",
   "execution_count": 33,
   "metadata": {
    "colab": {
     "base_uri": "https://localhost:8080/"
    },
    "executionInfo": {
     "elapsed": 5,
     "status": "ok",
     "timestamp": 1651597360804,
     "user": {
      "displayName": "Christian Ataiza",
      "userId": "02674055789675689831"
     },
     "user_tz": -480
    },
    "id": "wbWj_5UU3qkK",
    "outputId": "689e462a-4e5b-449d-eb71-13e412086770"
   },
   "outputs": [
    {
     "name": "stdout",
     "output_type": "stream",
     "text": [
      "5\n",
      "8\n"
     ]
    }
   ],
   "source": [
    "print(len(names))\n",
    "print(len(names + to_add))"
   ]
  },
  {
   "cell_type": "markdown",
   "metadata": {
    "id": "psnrsFSy6x0q"
   },
   "source": [
    "#### The `range` function"
   ]
  },
  {
   "cell_type": "code",
   "execution_count": 34,
   "metadata": {
    "colab": {
     "base_uri": "https://localhost:8080/"
    },
    "executionInfo": {
     "elapsed": 309,
     "status": "ok",
     "timestamp": 1651598137751,
     "user": {
      "displayName": "Christian Ataiza",
      "userId": "02674055789675689831"
     },
     "user_tz": -480
    },
    "id": "R24l0X9p60Z8",
    "outputId": "71dfae23-922b-43fd-fa74-eb466d377af5"
   },
   "outputs": [
    {
     "name": "stdout",
     "output_type": "stream",
     "text": [
      "range(0, 10)\n",
      "[0, 1, 2, 3, 4, 5, 6, 7, 8, 9]\n",
      "[10, 11, 12, 13, 14]\n",
      "[15, 14, 13, 12, 11]\n"
     ]
    }
   ],
   "source": [
    "# The range function gives an object representing a list of integers. \n",
    "# To get the list itself cast the range object to a list as follows:\n",
    "\n",
    "print(range(10)) # Returns a range object\n",
    "print(list(range(10)))\n",
    "print(list(range(10, 15)))\n",
    "print(list(range(15, 10, -1)))"
   ]
  },
  {
   "cell_type": "markdown",
   "metadata": {
    "id": "2BSgo_t_1h3b"
   },
   "source": [
    "#### List Sorting"
   ]
  },
  {
   "cell_type": "markdown",
   "metadata": {
    "id": "GqyLESV81znQ"
   },
   "source": [
    "The built-in functions `sorted()` and list method `.sort()` sorts lists.<br>\n",
    "The function `sorted()` sorts the list returns a NEW list that is sorted while `.sort()` manipulates the original list to be rearranged."
   ]
  },
  {
   "cell_type": "code",
   "execution_count": 35,
   "metadata": {
    "colab": {
     "base_uri": "https://localhost:8080/"
    },
    "executionInfo": {
     "elapsed": 4,
     "status": "ok",
     "timestamp": 1651596928732,
     "user": {
      "displayName": "Christian Ataiza",
      "userId": "02674055789675689831"
     },
     "user_tz": -480
    },
    "id": "6EfihgKZ1ar-",
    "outputId": "63deb664-1c3c-4337-94b6-1cea07703253"
   },
   "outputs": [
    {
     "name": "stdout",
     "output_type": "stream",
     "text": [
      "[2, 3, 4, 5, 6]\n",
      "[4, 3, 6, 2, 5]\n",
      "[6, 5, 4, 3, 2]\n"
     ]
    }
   ],
   "source": [
    "# Sorted\n",
    "a = [4, 3, 6, 2, 5]\n",
    "print(sorted(a)) # The original list isn't changed\n",
    "print(a)\n",
    "\n",
    "# By default it is sorted by ascending\n",
    "# Reversed order to sort by descending\n",
    "print(sorted(a, reverse = True))"
   ]
  },
  {
   "cell_type": "code",
   "execution_count": 36,
   "metadata": {
    "colab": {
     "base_uri": "https://localhost:8080/"
    },
    "executionInfo": {
     "elapsed": 4,
     "status": "ok",
     "timestamp": 1651597208640,
     "user": {
      "displayName": "Christian Ataiza",
      "userId": "02674055789675689831"
     },
     "user_tz": -480
    },
    "id": "eiUKv9UK1gL3",
    "outputId": "79b08072-1521-4a8c-fe7e-5a1b14f2e443"
   },
   "outputs": [
    {
     "name": "stdout",
     "output_type": "stream",
     "text": [
      "[2, 3, 4, 5, 6]\n",
      "[6, 5, 4, 3, 2]\n"
     ]
    }
   ],
   "source": [
    "# .sort() \n",
    "b = [4, 3, 6, 2, 5] \n",
    "b.sort() # The original list is sorted in-place\n",
    "print(b)\n",
    "\n",
    "# By default it is sorted by ascending\n",
    "# Reversed order to sort by descending\n",
    "b.sort(reverse = True)\n",
    "print(b)"
   ]
  },
  {
   "cell_type": "markdown",
   "metadata": {
    "id": "_CpTVNsk3ZKS"
   },
   "source": [
    "#### List Slicing"
   ]
  },
  {
   "cell_type": "markdown",
   "metadata": {
    "id": "ZlxT_K5t4Fog"
   },
   "source": [
    "Get a single element of a list by providing a single integer number called index within brackets beside it. (e.g. `list[index]`)\n",
    "<hr>\n",
    "\n",
    "**NOTE:** The first element is usually at index 0 which is common convetion from coding (i.e. [0, 1, ...])"
   ]
  },
  {
   "cell_type": "code",
   "execution_count": 37,
   "metadata": {
    "colab": {
     "base_uri": "https://localhost:8080/"
    },
    "executionInfo": {
     "elapsed": 312,
     "status": "ok",
     "timestamp": 1651597470630,
     "user": {
      "displayName": "Christian Ataiza",
      "userId": "02674055789675689831"
     },
     "user_tz": -480
    },
    "id": "Xd8-OOGI3ZBv",
    "outputId": "1e6b890f-b614-4c10-a2dd-a5cb8fabe1a7"
   },
   "outputs": [
    {
     "name": "stdout",
     "output_type": "stream",
     "text": [
      "1\n",
      "16\n",
      "25\n"
     ]
    }
   ],
   "source": [
    "squares = [1, 4, 9, 16, 25]\n",
    "print(squares[0]) # 1 \n",
    "print(squares[3]) # 16 \n",
    "print(squares[4]) # 25"
   ]
  },
  {
   "cell_type": "markdown",
   "metadata": {
    "id": "M-0CYzgb46JL"
   },
   "source": [
    "Negative indices count from the end. The last element starts at index `-1`."
   ]
  },
  {
   "cell_type": "code",
   "execution_count": 38,
   "metadata": {
    "colab": {
     "base_uri": "https://localhost:8080/"
    },
    "executionInfo": {
     "elapsed": 4,
     "status": "ok",
     "timestamp": 1651597640215,
     "user": {
      "displayName": "Christian Ataiza",
      "userId": "02674055789675689831"
     },
     "user_tz": -480
    },
    "id": "lEdoxUzV44r9",
    "outputId": "ffc577ca-05cb-4dd8-e6ef-a6475287d0bb"
   },
   "outputs": [
    {
     "name": "stdout",
     "output_type": "stream",
     "text": [
      "25\n",
      "16\n",
      "1\n"
     ]
    }
   ],
   "source": [
    "print(squares[-1]) # 25\n",
    "print(squares[-2]) # 16\n",
    "print(squares[-5]) # 1"
   ]
  },
  {
   "cell_type": "markdown",
   "metadata": {
    "id": "5iryudU_7l40"
   },
   "source": [
    "You may also specify a range of elements to display by using the following syntax:"
   ]
  },
  {
   "cell_type": "code",
   "execution_count": 39,
   "metadata": {
    "id": "vMDemy4Q7m_B"
   },
   "outputs": [
    {
     "name": "stdout",
     "output_type": "stream",
     "text": [
      "[4, 9]\n",
      "[1, 4, 9]\n",
      "[9, 16, 25]\n",
      "[25, 16, 9, 4, 1]\n"
     ]
    }
   ],
   "source": [
    "squares = [1, 4, 9, 16, 25]\n",
    "\n",
    "print(squares[1:3]) # We always end BEFORE index b in a:b\n",
    "print(squares[:3])\n",
    "print(squares[2:])\n",
    "print(squares[::-1])    # nifty way of reversing a list "
   ]
  },
  {
   "cell_type": "markdown",
   "metadata": {
    "id": "JDPZ7yKQ5xLI"
   },
   "source": [
    "#### Replace, insert, and remove elements from a list"
   ]
  },
  {
   "cell_type": "markdown",
   "metadata": {
    "id": "PW9U5bCR7mLB"
   },
   "source": []
  },
  {
   "cell_type": "markdown",
   "metadata": {
    "id": "OLSrgmZd6CNc"
   },
   "source": [
    "Using list slicing above, we can re-assign elements in a list using `=`"
   ]
  },
  {
   "cell_type": "code",
   "execution_count": 14,
   "metadata": {
    "colab": {
     "base_uri": "https://localhost:8080/"
    },
    "executionInfo": {
     "elapsed": 291,
     "status": "ok",
     "timestamp": 1651598065930,
     "user": {
      "displayName": "Christian Ataiza",
      "userId": "02674055789675689831"
     },
     "user_tz": -480
    },
    "id": "SQ2Kh3_45wz9",
    "outputId": "325203ee-91ff-4578-9362-489517035e58"
   },
   "outputs": [
    {
     "name": "stdout",
     "output_type": "stream",
     "text": [
      "pikachu\n",
      "['bulbasaur', 'squirtle', 'charmander', 'togepi']\n"
     ]
    }
   ],
   "source": [
    "pokemon = ['bulbasaur', 'squirtle', 'charmander', 'pikachu']\n",
    "print(pokemon[3]) # pikachu \n",
    "\n",
    "# single element replacement\n",
    "pokemon[3] = 'togepi' # re-assigning the value at index 3 of the list\n",
    "print(pokemon)"
   ]
  },
  {
   "cell_type": "code",
   "execution_count": 41,
   "metadata": {
    "colab": {
     "base_uri": "https://localhost:8080/"
    },
    "executionInfo": {
     "elapsed": 312,
     "status": "ok",
     "timestamp": 1651598468887,
     "user": {
      "displayName": "Christian Ataiza",
      "userId": "02674055789675689831"
     },
     "user_tz": -480
    },
    "id": "TCWP896H6eHk",
    "outputId": "7c58822b-f790-48bc-f6ad-bc8d8c89c936"
   },
   "outputs": [
    {
     "name": "stdout",
     "output_type": "stream",
     "text": [
      "['bulbasaur', 'squirtle', 'charmander']\n",
      "['chikorita', 'totodile', 'cyndaquil', 'togepi']\n"
     ]
    }
   ],
   "source": [
    "# multiple element replacement\n",
    "print(pokemon[:3]) # 'bulbasaur', 'squirtle', 'charmander'\n",
    "pokemon[:3] = ['chikorita', 'totodile', 'cyndaquil'] # re-assining multiple elem\n",
    "print(pokemon)"
   ]
  },
  {
   "cell_type": "markdown",
   "metadata": {
    "id": "vxa4Qaka8Nq1"
   },
   "source": [
    "Use the list method `insert(i,e)` to insert element e in position i. (If i is out of bounds, it inserts it in the closest place it can.)"
   ]
  },
  {
   "cell_type": "code",
   "execution_count": 16,
   "metadata": {
    "colab": {
     "base_uri": "https://localhost:8080/"
    },
    "executionInfo": {
     "elapsed": 302,
     "status": "ok",
     "timestamp": 1651598565757,
     "user": {
      "displayName": "Christian Ataiza",
      "userId": "02674055789675689831"
     },
     "user_tz": -480
    },
    "id": "BRBnoJtm8NBQ",
    "outputId": "b373f522-13d7-4043-99c4-482446e96d10"
   },
   "outputs": [
    {
     "name": "stdout",
     "output_type": "stream",
     "text": [
      "['mew', 'mew', 'bulbasaur', 'squirtle', 'charmander', 'togepi']\n",
      "['mew', 'jigglypuff', 'mew', 'bulbasaur', 'squirtle', 'charmander', 'togepi']\n"
     ]
    }
   ],
   "source": [
    "pokemon.insert(0,\"mew\") # inserts at index 0 \n",
    "print(pokemon)\n",
    "pokemon.insert(1, \"jigglypuff\")\n",
    "print(pokemon)"
   ]
  },
  {
   "cell_type": "code",
   "execution_count": 43,
   "metadata": {
    "colab": {
     "base_uri": "https://localhost:8080/"
    },
    "executionInfo": {
     "elapsed": 4,
     "status": "ok",
     "timestamp": 1651598602586,
     "user": {
      "displayName": "Christian Ataiza",
      "userId": "02674055789675689831"
     },
     "user_tz": -480
    },
    "id": "iusxfQ_f8L6A",
    "outputId": "bb0bb286-b21d-4924-b624-5e1ffa790739"
   },
   "outputs": [
    {
     "name": "stdout",
     "output_type": "stream",
     "text": [
      "['mew', 'chikorita', 'totodile', 'cyndaquil', 'togepi', 'sentret']\n"
     ]
    }
   ],
   "source": [
    "pokemon.insert(100,\"sentret\") # since 100 is out of bounds, it goes to the nearest\n",
    "print(pokemon) "
   ]
  },
  {
   "cell_type": "markdown",
   "metadata": {
    "id": "6Fbezh4_8wi1"
   },
   "source": [
    "Use the builtin method `del list[i]` to delete element at index i in the list IN PLACE."
   ]
  },
  {
   "cell_type": "code",
   "execution_count": 44,
   "metadata": {
    "colab": {
     "base_uri": "https://localhost:8080/"
    },
    "executionInfo": {
     "elapsed": 313,
     "status": "ok",
     "timestamp": 1651598701210,
     "user": {
      "displayName": "Christian Ataiza",
      "userId": "02674055789675689831"
     },
     "user_tz": -480
    },
    "id": "t4y3U2Q986sH",
    "outputId": "e3b0bfdf-6b8b-4a3f-c5e1-6a3c3059bb16"
   },
   "outputs": [
    {
     "name": "stdout",
     "output_type": "stream",
     "text": [
      "['mew', 'chikorita', 'totodile', 'cyndaquil', 'togepi']\n"
     ]
    }
   ],
   "source": [
    "del pokemon[-1] # deletes sentret \n",
    "print(pokemon)"
   ]
  },
  {
   "cell_type": "markdown",
   "metadata": {
    "id": "ggkKvnFo5Mkb"
   },
   "source": [
    "#### Lists and Math"
   ]
  },
  {
   "cell_type": "markdown",
   "metadata": {
    "id": "33fH_CtN5PWU"
   },
   "source": [
    "*Caution: Lists were not designed for math operations.* <br>\n",
    "Specifically, lists don’t represent vectors/matrices as in MATLAB, Octave, R, etc. However, there are some packages to help you with that (e.g. numpy)."
   ]
  },
  {
   "cell_type": "code",
   "execution_count": 45,
   "metadata": {
    "colab": {
     "base_uri": "https://localhost:8080/"
    },
    "executionInfo": {
     "elapsed": 280,
     "status": "ok",
     "timestamp": 1651597747521,
     "user": {
      "displayName": "Christian Ataiza",
      "userId": "02674055789675689831"
     },
     "user_tz": -480
    },
    "id": "wolT760W5Lxn",
    "outputId": "fe56b9af-3185-440f-80fe-377930f8f4e0"
   },
   "outputs": [
    {
     "data": {
      "text/plain": [
       "[1, 2, 3, 4, 5, 10, 11, 12, 13, 14]"
      ]
     },
     "execution_count": 45,
     "metadata": {},
     "output_type": "execute_result"
    }
   ],
   "source": [
    "nums = [1, 2, 3, 4, 5]\n",
    "nums + [10, 11, 12, 13, 14] # Python detects this as list concatenating"
   ]
  },
  {
   "cell_type": "markdown",
   "metadata": {
    "id": "uetBFhaH5gXj"
   },
   "source": [
    "However, we can *aggregate* lists to return single values such as:\n",
    "- **`sum()`**:  Take the sum of the numbers in a list\n",
    "- **`max()`**, **`min()`**:  Take the maximum or minimum of the numbers in a list.  (This can also apply to strings, using lexicographic order. **READ**: <a href=https://www.cs.cmu.edu/~pattis/15-1XX/common/handouts/ascii.html>ASCII values</a>)\n"
   ]
  },
  {
   "cell_type": "code",
   "execution_count": 46,
   "metadata": {
    "colab": {
     "base_uri": "https://localhost:8080/"
    },
    "executionInfo": {
     "elapsed": 302,
     "status": "ok",
     "timestamp": 1651597822568,
     "user": {
      "displayName": "Christian Ataiza",
      "userId": "02674055789675689831"
     },
     "user_tz": -480
    },
    "id": "43XlwZDN5am5",
    "outputId": "475e78a6-b45c-401b-fe05-508ef0031c84"
   },
   "outputs": [
    {
     "name": "stdout",
     "output_type": "stream",
     "text": [
      "15\n",
      "5\n"
     ]
    }
   ],
   "source": [
    "print(sum(nums))\n",
    "print(max(nums))"
   ]
  },
  {
   "cell_type": "markdown",
   "metadata": {
    "id": "sFcKUpuYtVpf"
   },
   "source": [
    "### String Operations"
   ]
  },
  {
   "cell_type": "markdown",
   "metadata": {
    "id": "9Kg_vAej-xNE"
   },
   "source": [
    "#### String Slicing"
   ]
  },
  {
   "cell_type": "markdown",
   "metadata": {
    "id": "GGa8ku9f-ACt"
   },
   "source": [
    "Strings work like an *array* (e.g. lists) for for accessing individual characters. You use an integer index, starting at 0. Negative indices specify a position relative to the end of the string."
   ]
  },
  {
   "cell_type": "code",
   "execution_count": 17,
   "metadata": {
    "id": "3dIyoNf59_mN"
   },
   "outputs": [
    {
     "name": "stdout",
     "output_type": "stream",
     "text": [
      "l\n"
     ]
    }
   ],
   "source": [
    "a = 'Hello world'\n",
    "b = a[0]          # 'H'\n",
    "c = a[4]          # 'o'\n",
    "d = a[-1]         # 'd' (end of string)\n",
    "e = a[-2]"
   ]
  },
  {
   "cell_type": "markdown",
   "metadata": {
    "id": "sBia5jCt_IGm"
   },
   "source": [
    "You can also slice or select substrings specifying a range of indices with `:`."
   ]
  },
  {
   "cell_type": "code",
   "execution_count": 48,
   "metadata": {
    "colab": {
     "base_uri": "https://localhost:8080/"
    },
    "executionInfo": {
     "elapsed": 4,
     "status": "ok",
     "timestamp": 1651599351936,
     "user": {
      "displayName": "Christian Ataiza",
      "userId": "02674055789675689831"
     },
     "user_tz": -480
    },
    "id": "i0WffXh9_Mhe",
    "outputId": "39a16f12-c14d-4441-ef51-02680be28072"
   },
   "outputs": [],
   "source": [
    "d = a[:5]     # 'Hello'\n",
    "e = a[6:]     # 'world'\n",
    "f = a[3:8]    # 'lo wo'\n",
    "g = a[-5:]    # 'world'"
   ]
  },
  {
   "cell_type": "markdown",
   "metadata": {
    "id": "Dl3VCty2A35f"
   },
   "source": [
    "However, unlike lists, strings are read-only so it we cannot reassign values using string slicing."
   ]
  },
  {
   "cell_type": "code",
   "execution_count": 50,
   "metadata": {
    "colab": {
     "base_uri": "https://localhost:8080/",
     "height": 166
    },
    "executionInfo": {
     "elapsed": 504,
     "status": "error",
     "timestamp": 1651599776821,
     "user": {
      "displayName": "Christian Ataiza",
      "userId": "02674055789675689831"
     },
     "user_tz": -480
    },
    "id": "y_wSunqYBFFz",
    "outputId": "e7eb067d-7330-453f-9c2f-ec9a3bdba3d5"
   },
   "outputs": [
    {
     "ename": "TypeError",
     "evalue": "'str' object does not support item assignment",
     "output_type": "error",
     "traceback": [
      "\u001b[1;31m---------------------------------------------------------------------------\u001b[0m",
      "\u001b[1;31mTypeError\u001b[0m                                 Traceback (most recent call last)",
      "Input \u001b[1;32mIn [50]\u001b[0m, in \u001b[0;36m<cell line: 1>\u001b[1;34m()\u001b[0m\n\u001b[1;32m----> 1\u001b[0m a[\u001b[38;5;241m-\u001b[39m\u001b[38;5;241m5\u001b[39m:] \u001b[38;5;241m=\u001b[39m \u001b[38;5;124m\"\u001b[39m\u001b[38;5;124mmundo\u001b[39m\u001b[38;5;124m\"\u001b[39m\n",
      "\u001b[1;31mTypeError\u001b[0m: 'str' object does not support item assignment"
     ]
    }
   ],
   "source": [
    "a[-5:] = \"mundo\" "
   ]
  },
  {
   "cell_type": "markdown",
   "metadata": {
    "id": "sjg2qUH4_0tJ"
   },
   "source": [
    "#### String `split`"
   ]
  },
  {
   "cell_type": "markdown",
   "metadata": {
    "id": "Vm5J0Vcz_8mQ"
   },
   "source": [
    "Since strings are basically lists of characters, some functions and operations utilize this such as `split`, `in` and `join` <br>\n",
    "\n",
    "`.split()` splits a string into a list of strings on the *delimeter*. By default, the *delimeter* consists of spaces, tabs (\\t), and newlines (\\n), but the *delimeter* can be given as an argument."
   ]
  },
  {
   "cell_type": "code",
   "execution_count": 51,
   "metadata": {
    "colab": {
     "base_uri": "https://localhost:8080/"
    },
    "executionInfo": {
     "elapsed": 5,
     "status": "ok",
     "timestamp": 1651599563034,
     "user": {
      "displayName": "Christian Ataiza",
      "userId": "02674055789675689831"
     },
     "user_tz": -480
    },
    "id": "e3jnJbZm_0AF",
    "outputId": "7990b550-173b-41be-a52d-15556eb24a86"
   },
   "outputs": [
    {
     "name": "stdout",
     "output_type": "stream",
     "text": [
      "['my', 'dog', 'has', 'fleas']\n",
      "['my dog ', 'as fleas']\n"
     ]
    }
   ],
   "source": [
    "s = 'my dog has fleas'\n",
    "print(s.split())\n",
    "print(s.split('h'))"
   ]
  },
  {
   "cell_type": "markdown",
   "metadata": {
    "id": "57waUMFZAatJ"
   },
   "source": [
    "**`join`** concatenate a list of words with intervening occurences of a delimeter."
   ]
  },
  {
   "cell_type": "code",
   "execution_count": 18,
   "metadata": {
    "colab": {
     "base_uri": "https://localhost:8080/"
    },
    "executionInfo": {
     "elapsed": 286,
     "status": "ok",
     "timestamp": 1651599606651,
     "user": {
      "displayName": "Christian Ataiza",
      "userId": "02674055789675689831"
     },
     "user_tz": -480
    },
    "id": "aoNgS-7BAaVD",
    "outputId": "672eb72e-754a-47d3-83c5-adc4cfacafc7"
   },
   "outputs": [
    {
     "name": "stdout",
     "output_type": "stream",
     "text": [
      "mydoghasfleas\n",
      "my.dog.has.fleas\n",
      "my dog has fleas\n",
      "<class 'str'>\n"
     ]
    }
   ],
   "source": [
    "l = ['my','dog','has','fleas']\n",
    "print(''.join(l))\n",
    "print('.'.join(l))\n",
    "print(' '.join(l))\n",
    "print(\"hello\".join(l))"
   ]
  },
  {
   "cell_type": "markdown",
   "metadata": {
    "id": "V8GlrUatAvmq"
   },
   "source": [
    "The **`in`** operator is used to check if an element is present in a given array. It returns `True` if its present and `False` otherwise"
   ]
  },
  {
   "cell_type": "code",
   "execution_count": 56,
   "metadata": {
    "colab": {
     "base_uri": "https://localhost:8080/"
    },
    "executionInfo": {
     "elapsed": 334,
     "status": "ok",
     "timestamp": 1651599678666,
     "user": {
      "displayName": "Christian Ataiza",
      "userId": "02674055789675689831"
     },
     "user_tz": -480
    },
    "id": "2tGm8_bBAhtG",
    "outputId": "d79da61b-8218-4141-bb98-9c8adf20fbbc"
   },
   "outputs": [
    {
     "name": "stdout",
     "output_type": "stream",
     "text": [
      "True\n",
      "False\n",
      "True\n"
     ]
    }
   ],
   "source": [
    "print(1 in [1,2,3,4,5])\n",
    "print(0 in [1,2,3,4,5])\n",
    "print('une' in 'funeral')"
   ]
  },
  {
   "cell_type": "markdown",
   "metadata": {
    "id": "rtIROjDYByLv"
   },
   "source": []
  },
  {
   "cell_type": "markdown",
   "metadata": {
    "id": "79Lqe0hTBpvN"
   },
   "source": [
    "#### String operations"
   ]
  },
  {
   "cell_type": "markdown",
   "metadata": {
    "id": "Wfy40DWvBsAR"
   },
   "source": [
    "Following the list operations, strings handle some operations in a similar manner."
   ]
  },
  {
   "cell_type": "code",
   "execution_count": 60,
   "metadata": {
    "id": "sOM8GCWyBpN0"
   },
   "outputs": [
    {
     "name": "stdout",
     "output_type": "stream",
     "text": [
      "5\n"
     ]
    }
   ],
   "source": [
    "# Concatenation (+)\n",
    "a = 'Hello' +'World'   # 'HelloWorld'\n",
    "b = 'Say ' + a          # 'Say HelloWorld'\n",
    "\n",
    "# Length (len)\n",
    "s = 'Hello'\n",
    "                 # 5\n",
    "\n",
    "# Membership test (`in`, `not in`)\n",
    "t = 'e' in s            # True\n",
    "f = 'x' in s            # False\n",
    "g = 'hi' not in s       # True\n",
    "\n",
    "# Replication (s * n)\n",
    "rep = s * 5             # 'HelloHelloHelloHelloHello'"
   ]
  },
  {
   "cell_type": "markdown",
   "metadata": {
    "id": "xL_MFmPKB6rs"
   },
   "source": [
    "#### String methods"
   ]
  },
  {
   "cell_type": "markdown",
   "metadata": {
    "id": "i5YyTeJaB87E"
   },
   "source": [
    "Python has a set of built-in methods that you can use on strings (https://docs.python.org/2.5/lib/string-methods.html)."
   ]
  },
  {
   "cell_type": "markdown",
   "metadata": {
    "id": "dcxLtqnNCFxZ"
   },
   "source": [
    "**`lower`** and **`upper`** changes the case of the text to either all lowercase or all uppercase letters## "
   ]
  },
  {
   "cell_type": "code",
   "execution_count": 61,
   "metadata": {
    "colab": {
     "base_uri": "https://localhost:8080/",
     "height": 35
    },
    "executionInfo": {
     "elapsed": 886,
     "status": "ok",
     "timestamp": 1651600081810,
     "user": {
      "displayName": "Christian Ataiza",
      "userId": "02674055789675689831"
     },
     "user_tz": -480
    },
    "id": "QaKxFkw8CMcq",
    "outputId": "d2858981-699d-4ee9-cee0-7eff3c0c50fd"
   },
   "outputs": [
    {
     "data": {
      "text/plain": [
       "'i am ironman'"
      ]
     },
     "execution_count": 61,
     "metadata": {},
     "output_type": "execute_result"
    }
   ],
   "source": [
    "text = \"I aM IronMan\"\n",
    "text.lower()"
   ]
  },
  {
   "cell_type": "code",
   "execution_count": 62,
   "metadata": {
    "colab": {
     "base_uri": "https://localhost:8080/",
     "height": 35
    },
    "executionInfo": {
     "elapsed": 8,
     "status": "ok",
     "timestamp": 1651600084041,
     "user": {
      "displayName": "Christian Ataiza",
      "userId": "02674055789675689831"
     },
     "user_tz": -480
    },
    "id": "qjSoR25HCUG6",
    "outputId": "cb208bdf-bc6a-4fd7-99d0-b5f33494f4b7"
   },
   "outputs": [
    {
     "data": {
      "text/plain": [
       "'I AM IRONMAN'"
      ]
     },
     "execution_count": 62,
     "metadata": {},
     "output_type": "execute_result"
    }
   ],
   "source": [
    "text.upper()"
   ]
  },
  {
   "cell_type": "markdown",
   "metadata": {
    "id": "infFtqQ4CFpM"
   },
   "source": [
    "**`strip`** removes \"whitespace\" (spaces, tab, newlines,..., etc) from the beginning and the end of a string."
   ]
  },
  {
   "cell_type": "code",
   "execution_count": 19,
   "metadata": {
    "colab": {
     "base_uri": "https://localhost:8080/",
     "height": 35
    },
    "executionInfo": {
     "elapsed": 298,
     "status": "ok",
     "timestamp": 1651600090982,
     "user": {
      "displayName": "Christian Ataiza",
      "userId": "02674055789675689831"
     },
     "user_tz": -480
    },
    "id": "rfo5XZ1rCVg_",
    "outputId": "d715027a-48d8-4336-f211-b294685abb2f"
   },
   "outputs": [
    {
     "data": {
      "text/plain": [
       "'I am             Ironman'"
      ]
     },
     "execution_count": 19,
     "metadata": {},
     "output_type": "execute_result"
    }
   ],
   "source": [
    "text = '    I am Ironman    '\n",
    "text.strip()"
   ]
  },
  {
   "cell_type": "markdown",
   "metadata": {
    "id": "-ESVJ408CFd4"
   },
   "source": [
    "**`find`** returns a number corresponding to the position of the first occurence of the search item. It returns -1 on failure."
   ]
  },
  {
   "cell_type": "code",
   "execution_count": 64,
   "metadata": {
    "colab": {
     "base_uri": "https://localhost:8080/"
    },
    "executionInfo": {
     "elapsed": 6,
     "status": "ok",
     "timestamp": 1651600105665,
     "user": {
      "displayName": "Christian Ataiza",
      "userId": "02674055789675689831"
     },
     "user_tz": -480
    },
    "id": "hvP9kI0cCXeZ",
    "outputId": "d828b30d-c8bb-4dbe-911b-3efa69cc618d"
   },
   "outputs": [
    {
     "data": {
      "text/plain": [
       "5"
      ]
     },
     "execution_count": 64,
     "metadata": {},
     "output_type": "execute_result"
    }
   ],
   "source": [
    "text = 'I am Ironman'\n",
    "text.find('Ironman')"
   ]
  },
  {
   "cell_type": "code",
   "execution_count": 65,
   "metadata": {
    "colab": {
     "base_uri": "https://localhost:8080/"
    },
    "executionInfo": {
     "elapsed": 6,
     "status": "ok",
     "timestamp": 1651600106009,
     "user": {
      "displayName": "Christian Ataiza",
      "userId": "02674055789675689831"
     },
     "user_tz": -480
    },
    "id": "PRmw1xJgCZXD",
    "outputId": "08d0d70b-222e-482c-ba4c-d296549d5bb7"
   },
   "outputs": [
    {
     "data": {
      "text/plain": [
       "-1"
      ]
     },
     "execution_count": 65,
     "metadata": {},
     "output_type": "execute_result"
    }
   ],
   "source": [
    "text.find(\"Thanos\")"
   ]
  },
  {
   "cell_type": "markdown",
   "metadata": {
    "id": "Hmqg1gxACcGp"
   },
   "source": [
    "**`replace`** is used to change an item inside the string with another. For example:"
   ]
  },
  {
   "cell_type": "code",
   "execution_count": 66,
   "metadata": {
    "colab": {
     "base_uri": "https://localhost:8080/",
     "height": 35
    },
    "executionInfo": {
     "elapsed": 307,
     "status": "ok",
     "timestamp": 1651600132525,
     "user": {
      "displayName": "Christian Ataiza",
      "userId": "02674055789675689831"
     },
     "user_tz": -480
    },
    "id": "JL7Lpo8fCbnc",
    "outputId": "ddcc1944-4966-4dff-a4d8-b05e7b940783"
   },
   "outputs": [
    {
     "data": {
      "text/plain": [
       "'I am Captain America. I am the best Avenger.'"
      ]
     },
     "execution_count": 66,
     "metadata": {},
     "output_type": "execute_result"
    }
   ],
   "source": [
    "text = 'I am Ironman. I am the best Avenger.'\n",
    "text.replace('Ironman','Captain America')"
   ]
  },
  {
   "cell_type": "markdown",
   "metadata": {
    "id": "gIMl1N87CrsC"
   },
   "source": [
    "#### String formatting using print()"
   ]
  },
  {
   "cell_type": "markdown",
   "metadata": {
    "id": "TnGZjCZzC5Dc"
   },
   "source": [
    "- The `%` operator is used to create nicely formatted strings from other values. Its syntax is `format_specifier % (tuple of values)`.\n",
    "- `format_specifier` is a string containing special format symbols, which are used to insert values from the tuple:\n",
    "  - `%s` means inserting a string.\n",
    "  - `%d` means inserting an integer.\n",
    "  - `%f` means inserting a float.\n",
    "- To specify the number of decimal places shown with a float place a `.` and number of decimal places between the `%` and the `f`.\n",
    "- The number of format symbol in the format specifier must equal to the number of values in the tuple, and each format symbol must match the type of the corresponding value in the tuple."
   ]
  },
  {
   "cell_type": "markdown",
   "metadata": {
    "id": "bzEFnEdgC9F6"
   },
   "source": [
    "##### `% operator`\n",
    "- Its syntax is `format_specifier % (tuple of values)`."
   ]
  },
  {
   "cell_type": "code",
   "execution_count": 67,
   "metadata": {
    "colab": {
     "base_uri": "https://localhost:8080/"
    },
    "executionInfo": {
     "elapsed": 4,
     "status": "ok",
     "timestamp": 1651600471683,
     "user": {
      "displayName": "Christian Ataiza",
      "userId": "02674055789675689831"
     },
     "user_tz": -480
    },
    "id": "ydA9-dMXDwNk",
    "outputId": "d91269e1-b718-4b5f-a995-6961ea522969"
   },
   "outputs": [
    {
     "name": "stdout",
     "output_type": "stream",
     "text": [
      "hello, 2017.000000!\n",
      "hello, 2017!\n",
      "hello, Sam!\n"
     ]
    }
   ],
   "source": [
    "print(\"hello, %f!\" % 2017) \n",
    "print(\"hello, %d!\" % 2017)\n",
    "print(\"hello, %s!\" % 'Sam')"
   ]
  },
  {
   "cell_type": "code",
   "execution_count": 71,
   "metadata": {
    "colab": {
     "base_uri": "https://localhost:8080/"
    },
    "executionInfo": {
     "elapsed": 319,
     "status": "ok",
     "timestamp": 1651600477150,
     "user": {
      "displayName": "Christian Ataiza",
      "userId": "02674055789675689831"
     },
     "user_tz": -480
    },
    "id": "EmFR8WLTDzbs",
    "outputId": "a707ea95-3c38-4bd5-cf70-4ef4a4aa801b"
   },
   "outputs": [
    {
     "name": "stdout",
     "output_type": "stream",
     "text": [
      "My name is Mike and I am 25 years old.\n"
     ]
    }
   ],
   "source": [
    "name = \"Mike\"\n",
    "age = 25\n",
    "\n",
    "print('My name is %s and I am %d years old.' % (name, age))\n",
    "#print('Hello %s, and I am %d years old' % (name, age))"
   ]
  },
  {
   "cell_type": "markdown",
   "metadata": {
    "id": "Nji8yIvpDEgp"
   },
   "source": [
    "##### `.format`\n",
    "- The format function is a newer, and more powerful, method to format strings.\n",
    "- Index of values placed in braces"
   ]
  },
  {
   "cell_type": "code",
   "execution_count": 72,
   "metadata": {
    "colab": {
     "base_uri": "https://localhost:8080/"
    },
    "executionInfo": {
     "elapsed": 323,
     "status": "ok",
     "timestamp": 1651600488275,
     "user": {
      "displayName": "Christian Ataiza",
      "userId": "02674055789675689831"
     },
     "user_tz": -480
    },
    "id": "0eweRXOcDwzI",
    "outputId": "d48bac60-d624-41d5-98e9-1a84b31cde93"
   },
   "outputs": [
    {
     "name": "stdout",
     "output_type": "stream",
     "text": [
      "My name is Mike and I am 25years old.\n"
     ]
    }
   ],
   "source": [
    "name = \"Mike\"\n",
    "age = 25\n",
    "\n",
    "print('My name is {0} and I am {1}years old.'.format(name, age))"
   ]
  },
  {
   "cell_type": "code",
   "execution_count": 73,
   "metadata": {
    "colab": {
     "base_uri": "https://localhost:8080/"
    },
    "executionInfo": {
     "elapsed": 5,
     "status": "ok",
     "timestamp": 1651600495482,
     "user": {
      "displayName": "Christian Ataiza",
      "userId": "02674055789675689831"
     },
     "user_tz": -480
    },
    "id": "367W1yhCD3zd",
    "outputId": "5ac039a0-25f5-4558-8d32-11a31925bbe5"
   },
   "outputs": [
    {
     "name": "stdout",
     "output_type": "stream",
     "text": [
      "\"I am 25 years old\", said Mike.\n"
     ]
    }
   ],
   "source": [
    "print('\"I am {1} years old\", said {0}.'.format(name, age))"
   ]
  },
  {
   "cell_type": "markdown",
   "metadata": {
    "id": "LSW955BVDP8W"
   },
   "source": [
    "##### `f-string`\n",
    "- The f-string is the newest method to format strings.\n",
    "- Place the values directly in the braces\n",
    "- Most recently programmed and made available in Python 3.6"
   ]
  },
  {
   "cell_type": "code",
   "execution_count": 74,
   "metadata": {
    "colab": {
     "base_uri": "https://localhost:8080/"
    },
    "executionInfo": {
     "elapsed": 422,
     "status": "ok",
     "timestamp": 1651600505604,
     "user": {
      "displayName": "Christian Ataiza",
      "userId": "02674055789675689831"
     },
     "user_tz": -480
    },
    "id": "LQO9jeZsDxNg",
    "outputId": "2e68995e-60ba-40b8-df6c-1a130ce1602f"
   },
   "outputs": [
    {
     "name": "stdout",
     "output_type": "stream",
     "text": [
      "My name is Mike and I am 25 years old.\n"
     ]
    }
   ],
   "source": [
    "name = \"Mike\"\n",
    "age = 25\n",
    "\n",
    "print(f'My name is {name} and I am {age} years old.')"
   ]
  },
  {
   "cell_type": "code",
   "execution_count": 77,
   "metadata": {
    "colab": {
     "base_uri": "https://localhost:8080/"
    },
    "executionInfo": {
     "elapsed": 8,
     "status": "ok",
     "timestamp": 1651600510645,
     "user": {
      "displayName": "Christian Ataiza",
      "userId": "02674055789675689831"
     },
     "user_tz": -480
    },
    "id": "BMfDB7KPD7qZ",
    "outputId": "7d9c52e4-b9be-4322-d98b-dc01aeb68392"
   },
   "outputs": [
    {
     "name": "stdout",
     "output_type": "stream",
     "text": [
      "My name is MIKE and I am 25 years old, said Mike.\n"
     ]
    }
   ],
   "source": [
    "print(f'My name is {name.upper()} and I am {age} years old, said {name}.')"
   ]
  },
  {
   "cell_type": "markdown",
   "metadata": {
    "id": "cn_kRaKjPinG"
   },
   "source": [
    "## Control Structures"
   ]
  },
  {
   "cell_type": "markdown",
   "metadata": {
    "id": "bawoISfdG62i"
   },
   "source": [
    "In broad terms, a program is a set of instructions given to a computer to handle a task.\n",
    "How do we make sure that these instructions are executed in order and as intended?\n",
    "\n",
    "\n",
    "All programming languages use **control structures** to organize the flow of data.\n",
    "These determine how a program will respond when data exhibits certain conditions and parameters.\n",
    "In essence, these control structures implement decision-making processes that are needed for the use case"
   ]
  },
  {
   "cell_type": "markdown",
   "metadata": {
    "id": "lVLwD2eEG9W0"
   },
   "source": [
    "Control structures may be any of the following\n",
    "- Selection by conditional (`if`, `if-else`, `if-elif-else`)\n",
    "- Repetition (`for`, `while`)\n",
    "- Exception (`break`,`continue`,`try-except`)\n",
    "\n",
    "We will be discussing the first two."
   ]
  },
  {
   "cell_type": "markdown",
   "metadata": {
    "id": "CD--Cb9FHF4s"
   },
   "source": [
    "### Selection by conditionals"
   ]
  },
  {
   "cell_type": "markdown",
   "metadata": {
    "id": "tQ2pl6aVHPBe"
   },
   "source": [
    "#### `if` \n",
    "\n",
    "- The syntax to implement a basic conditional statement in a function is:\n",
    "\n",
    "```python\n",
    "if (condition1) :     # where condition is any boolean expression\n",
    "    expression2       # expression is indented\n",
    "\n",
    "```\n",
    "\n",
    "- An `if` statement evaluates the expression inside the parenthesis. \\\n",
    "- If the expression is evaluated to `True`, the indented expression is executed. \\\n",
    "- If it is `False`, the indented expression inside the body is skipped."
   ]
  },
  {
   "cell_type": "code",
   "execution_count": 21,
   "metadata": {
    "id": "TaY2KZzhHKM0"
   },
   "outputs": [
    {
     "name": "stdout",
     "output_type": "stream",
     "text": [
      "Score1 is bigger\n",
      "2555\n"
     ]
    }
   ],
   "source": [
    "score1 = 80\n",
    "score2 = 90\n",
    "\n",
    "if (score1 > score2) :\n",
    "    print(\"Score1 is bigger\")\n"
   ]
  },
  {
   "cell_type": "code",
   "execution_count": 81,
   "metadata": {
    "colab": {
     "base_uri": "https://localhost:8080/"
    },
    "executionInfo": {
     "elapsed": 2,
     "status": "ok",
     "timestamp": 1651601428465,
     "user": {
      "displayName": "Christian Ataiza",
      "userId": "02674055789675689831"
     },
     "user_tz": -480
    },
    "id": "BCJgswwOHVSY",
    "outputId": "01a975d4-bcfe-4dbf-cb17-932bc0b02bda"
   },
   "outputs": [
    {
     "name": "stdout",
     "output_type": "stream",
     "text": [
      "score1 is bigger\n"
     ]
    }
   ],
   "source": [
    "score1 = 90\n",
    "score2 = 80\n",
    "\n",
    "if (score1 > score2) :\n",
    "    print(\"score1 is bigger\")"
   ]
  },
  {
   "cell_type": "code",
   "execution_count": 82,
   "metadata": {
    "colab": {
     "base_uri": "https://localhost:8080/"
    },
    "executionInfo": {
     "elapsed": 1128,
     "status": "ok",
     "timestamp": 1651601430825,
     "user": {
      "displayName": "Christian Ataiza",
      "userId": "02674055789675689831"
     },
     "user_tz": -480
    },
    "id": "Awxn0DUoHVts",
    "outputId": "61bfcb48-881b-4170-a65c-20ffa6ea7370"
   },
   "outputs": [
    {
     "name": "stdout",
     "output_type": "stream",
     "text": [
      "score1 is bigger and it is a passing mark\n"
     ]
    }
   ],
   "source": [
    "score1 = 90\n",
    "score2 = 80\n",
    "\n",
    "passing_score = 85\n",
    "#you may specify more than one condition and combine using logical operators\n",
    "\n",
    "if ((score1 > score2) and (score1 > passing_score)):        \n",
    "    print(\"score1 is bigger and it is a passing mark\")"
   ]
  },
  {
   "cell_type": "markdown",
   "metadata": {
    "id": "rqCd1c1OHglN"
   },
   "source": [
    "#### `if` - `else` \n",
    "An `if` statement is often paired with an `else` statement. \n",
    "The `else` statement executes the indented expression if the condition provided in `if` is `False`\n",
    "```python\n",
    "if (condition) :      \n",
    "    expression1       # indented\n",
    "else:                 # Note: else doesnt accept any conditions!\n",
    "    expression2       # indented\n",
    "```"
   ]
  },
  {
   "cell_type": "code",
   "execution_count": 83,
   "metadata": {
    "colab": {
     "base_uri": "https://localhost:8080/"
    },
    "executionInfo": {
     "elapsed": 304,
     "status": "ok",
     "timestamp": 1651601506631,
     "user": {
      "displayName": "Christian Ataiza",
      "userId": "02674055789675689831"
     },
     "user_tz": -480
    },
    "id": "n7JuxnX-HmHG",
    "outputId": "9ec131ec-5739-4440-b4c7-551e250225b7"
   },
   "outputs": [
    {
     "name": "stdout",
     "output_type": "stream",
     "text": [
      " score2 is bigger\n"
     ]
    }
   ],
   "source": [
    "score1 = 80\n",
    "score2 = 90\n",
    "\n",
    "if (score1 > score2):\n",
    "    print(\" score1 is bigger\")\n",
    "else:\n",
    "    print(\" score2 is bigger\")"
   ]
  },
  {
   "cell_type": "markdown",
   "metadata": {
    "id": "3J1QWQNbIV6-"
   },
   "source": [
    "#### `if` - `elif` and `if` - `elif`  - `else`\n",
    "\n",
    "An `elif` (short for else if) statement is added if you need to account for more than 1 condition.\n",
    "\n",
    "```python\n",
    "if (condition1) :      \n",
    "    expression1       # indented\n",
    "elif (condition2):    \n",
    "    expression2       # indented\n",
    "elif (condition3):    \n",
    "    expression3       # indented\n",
    "else:\n",
    "    expression4       # indented\n",
    "```\n",
    "- You may add as many `elif` statements as needed.\n"
   ]
  },
  {
   "cell_type": "code",
   "execution_count": 84,
   "metadata": {
    "id": "48Dd_TsRIWQO"
   },
   "outputs": [
    {
     "name": "stdout",
     "output_type": "stream",
     "text": [
      "score1 and score2 are equal\n"
     ]
    }
   ],
   "source": [
    "score1 = 80\n",
    "score2 = 80\n",
    "\n",
    "if (score1 > score2):\n",
    "    print(\"score1 is bigger\")\n",
    "elif (score1 == score2):\n",
    "    print(\"score1 and score2 are equal\" )\n",
    "else:\n",
    "    print(\"score2 is bigger\")"
   ]
  },
  {
   "cell_type": "markdown",
   "metadata": {
    "id": "9ZsgehKvIkBT"
   },
   "source": [
    "### Repetition\n",
    "\n"
   ]
  },
  {
   "cell_type": "markdown",
   "metadata": {
    "id": "sLp-YxdTIsUp"
   },
   "source": [
    "The power of programming lies in the computer's ability to perform calculations repeatedly at a pace no human could possibly do. \n",
    "\n",
    "Loops are processes that gets repeated again and again until a certain condition is reached. \n",
    "A single repetition of a process is often called an `iteration`."
   ]
  },
  {
   "cell_type": "markdown",
   "metadata": {
    "id": "UPXw4mACIviz"
   },
   "source": [
    "#### `For` loop\n",
    "\n",
    "A `for` loop has 2 sections: a `header` which specifies the iterating condition, and a `body` which is executed once per iteration\n",
    "\n",
    "```python\n",
    "for item in sequence:      \n",
    "    expression(s)    #indented\n",
    "```\n",
    "\n",
    "In flowchart form: <br>\n",
    "![alt text](http://www.trytoprogram.com/images/python_for_loop.jpg)\n"
   ]
  },
  {
   "cell_type": "code",
   "execution_count": 85,
   "metadata": {
    "id": "HHp_lqzVIi5S"
   },
   "outputs": [],
   "source": [
    "avengers = ['Iron Man','Captain America','Hulk','Thor','Black Widow','Hawkeye']"
   ]
  },
  {
   "cell_type": "code",
   "execution_count": 86,
   "metadata": {
    "colab": {
     "base_uri": "https://localhost:8080/"
    },
    "executionInfo": {
     "elapsed": 313,
     "status": "ok",
     "timestamp": 1651601844480,
     "user": {
      "displayName": "Christian Ataiza",
      "userId": "02674055789675689831"
     },
     "user_tz": -480
    },
    "id": "P66vTOg6I3Su",
    "outputId": "5678658a-bbe5-43f3-f4a1-fe652a09d280"
   },
   "outputs": [
    {
     "name": "stdout",
     "output_type": "stream",
     "text": [
      "Iron Man\n",
      "Captain America\n",
      "Hulk\n",
      "Thor\n",
      "Black Widow\n",
      "Hawkeye\n"
     ]
    }
   ],
   "source": [
    "for member in avengers:\n",
    "    print(member)"
   ]
  },
  {
   "cell_type": "code",
   "execution_count": null,
   "metadata": {
    "colab": {
     "base_uri": "https://localhost:8080/"
    },
    "executionInfo": {
     "elapsed": 300,
     "status": "ok",
     "timestamp": 1651601814613,
     "user": {
      "displayName": "Christian Ataiza",
      "userId": "02674055789675689831"
     },
     "user_tz": -480
    },
    "id": "rSuTd1tFI4Pp",
    "outputId": "a2b81aa9-40c6-4ae9-9e9e-cf2979311c16"
   },
   "outputs": [],
   "source": [
    "# Recall that the `range` function generates a list of numbers:\n",
    "for i in range(len(avengers)):\n",
    "    print(i, avengers[i])"
   ]
  },
  {
   "cell_type": "markdown",
   "metadata": {
    "id": "jna8CCqPJFIQ"
   },
   "source": [
    "- In addition to the iteration variable taking on values in a list, you may want other variables to take on different values in each iteration.  You can accomplish this by “self-assigning” to those variables.  \n",
    "- The following `for` loop sums the elements of a list:"
   ]
  },
  {
   "cell_type": "code",
   "execution_count": null,
   "metadata": {
    "id": "i46JIpqxJB39"
   },
   "outputs": [],
   "source": [
    "primes = [2, 3, 5, 7, 11]\n",
    "sum_primes = 0    \n",
    "for p in primes:\n",
    "    sum_primes = sum_primes + p\n",
    "sum_primes"
   ]
  },
  {
   "cell_type": "markdown",
   "metadata": {
    "id": "YETkOHoBJWov"
   },
   "source": [
    "#### `while` Loop\n",
    "\n",
    "- While loops are used when the condition for terminating the loop is known, but not necessarily the number of iterations.  \n",
    " \n",
    "- When using a while loop, iteration continues until a given condition becomes False:\n",
    "```python\n",
    "while <condition>:\n",
    "   statements\n",
    "```\n",
    "In flowchart form: <br>\n",
    "![alt text](http://www.trytoprogram.com/images/python_while_loop.jpg)\n",
    "\n",
    "- As a first example, this loop prints integers from 0 to 9:"
   ]
  },
  {
   "cell_type": "code",
   "execution_count": null,
   "metadata": {
    "colab": {
     "base_uri": "https://localhost:8080/"
    },
    "executionInfo": {
     "elapsed": 299,
     "status": "ok",
     "timestamp": 1651601997132,
     "user": {
      "displayName": "Christian Ataiza",
      "userId": "02674055789675689831"
     },
     "user_tz": -480
    },
    "id": "pb6IXiApJnBv",
    "outputId": "fc4e1d35-3a2b-4e48-f125-af358760dae0"
   },
   "outputs": [],
   "source": [
    "i = 0\n",
    "while i < 10:\n",
    "    print(i)\n",
    "    i = i + 1"
   ]
  },
  {
   "cell_type": "markdown",
   "metadata": {
    "id": "TtGdw0OfJpRV"
   },
   "source": [
    "This for loop does the same thing:"
   ]
  },
  {
   "cell_type": "code",
   "execution_count": null,
   "metadata": {
    "colab": {
     "base_uri": "https://localhost:8080/"
    },
    "executionInfo": {
     "elapsed": 316,
     "status": "ok",
     "timestamp": 1651602009400,
     "user": {
      "displayName": "Christian Ataiza",
      "userId": "02674055789675689831"
     },
     "user_tz": -480
    },
    "id": "jYimKVuFJn7E",
    "outputId": "fd0c23bc-713d-4c43-bcc3-2051430f0efa"
   },
   "outputs": [],
   "source": [
    "for i in range(0, 10):\n",
    "    print(i)"
   ]
  },
  {
   "cell_type": "markdown",
   "metadata": {
    "id": "GjGsPrFMJsG9"
   },
   "source": [
    "- One thing we can do with while loops that is hard to do with for loops is to terminate early.  \n",
    "- This loops adds up integers starting from 1 until the sum exceeds n:"
   ]
  },
  {
   "cell_type": "code",
   "execution_count": null,
   "metadata": {
    "colab": {
     "base_uri": "https://localhost:8080/"
    },
    "executionInfo": {
     "elapsed": 329,
     "status": "ok",
     "timestamp": 1651602022967,
     "user": {
      "displayName": "Christian Ataiza",
      "userId": "02674055789675689831"
     },
     "user_tz": -480
    },
    "id": "lMO9K6GNJrKl",
    "outputId": "c1ac501d-2fd2-4fbd-da2a-805941a00847"
   },
   "outputs": [],
   "source": [
    "n = 20\n",
    "i = 1\n",
    "sum_ = 0 # Do not overwrite the built-in sum() function\n",
    "while sum_ <= n:\n",
    "    sum_ = sum_ + i\n",
    "    i = i + 1\n",
    "sum_"
   ]
  },
  {
   "cell_type": "markdown",
   "metadata": {
    "id": "NuPFM2cE7zZm"
   },
   "source": [
    "# User-defined Functions\n"
   ]
  },
  {
   "cell_type": "markdown",
   "metadata": {
    "id": "6z8lA9fNKSQJ"
   },
   "source": [
    "- Functions in programming are like functions in math. They take in input, run them through a series of instructions, and returns an output\n",
    "- For example, the built-in function `abs` takes the absolute value of a number"
   ]
  },
  {
   "cell_type": "markdown",
   "metadata": {
    "id": "4-emDCRlKTvA"
   },
   "source": [
    "The keyword `def` introduces a function definition. It is followed by the function name and a parenthesized list of *parameters*, called the *function arguments*. <br>\n",
    "A sequence of statements in the body of the function start at the next line, and must be indented. <br>\n",
    "The function ends with the keyword `return` which specifies the variable it outputs. <br>\n",
    "```\n",
    "def funcname(args):\n",
    "  statement\n",
    "  statement\n",
    "  ...\n",
    "  return result\n",
    "```\n",
    "Heres how to use it:"
   ]
  },
  {
   "cell_type": "code",
   "execution_count": 1,
   "metadata": {
    "id": "f84l67hBKMM2"
   },
   "outputs": [],
   "source": [
    "# function adding the square and the cube given x\n",
    "def add_two_powers(x):\n",
    "    result = x**2 + x**3\n",
    "    return result"
   ]
  },
  {
   "cell_type": "code",
   "execution_count": null,
   "metadata": {
    "id": "sRkzxv2sKpeS"
   },
   "outputs": [],
   "source": [
    "add_two_powers(4)"
   ]
  },
  {
   "cell_type": "markdown",
   "metadata": {
    "id": "_9zHQYfYKdnh"
   },
   "source": [
    "For brevity, a function could also be written with a mathematical expression after 'return'"
   ]
  },
  {
   "cell_type": "code",
   "execution_count": null,
   "metadata": {
    "id": "nPdU4NadKqhk"
   },
   "outputs": [],
   "source": [
    "def add_two_powers(x):\n",
    "    return x**2 + x**3"
   ]
  },
  {
   "cell_type": "markdown",
   "metadata": {
    "id": "ibH2wk5fLfMQ"
   },
   "source": [
    "The Anaconda installer already includes some frequently used modules in its Python installation.\n",
    "\n",
    "The `math` module is a popular one. You can use it by using the `import` keyword"
   ]
  },
  {
   "cell_type": "code",
   "execution_count": null,
   "metadata": {
    "colab": {
     "base_uri": "https://localhost:8080/"
    },
    "executionInfo": {
     "elapsed": 3,
     "status": "ok",
     "timestamp": 1651602505890,
     "user": {
      "displayName": "Christian Ataiza",
      "userId": "02674055789675689831"
     },
     "user_tz": -480
    },
    "id": "X6g_558gLiJT",
    "outputId": "ee562f53-9bd5-4161-d705-5be6a0a42232"
   },
   "outputs": [],
   "source": [
    "import math\n",
    "math.sqrt(25)"
   ]
  },
  {
   "cell_type": "markdown",
   "metadata": {
    "id": "qemG3jtfLpz3"
   },
   "source": [
    "If unsure with what a function or a certain library does, the `help` function can provide documentation for easy reading."
   ]
  },
  {
   "cell_type": "code",
   "execution_count": null,
   "metadata": {
    "colab": {
     "base_uri": "https://localhost:8080/"
    },
    "executionInfo": {
     "elapsed": 5,
     "status": "ok",
     "timestamp": 1651602562109,
     "user": {
      "displayName": "Christian Ataiza",
      "userId": "02674055789675689831"
     },
     "user_tz": -480
    },
    "id": "eXmVwa3cLpf3",
    "outputId": "93c8f414-c064-4e28-906f-2825415d7b25"
   },
   "outputs": [],
   "source": [
    "help(math)"
   ]
  },
  {
   "cell_type": "markdown",
   "metadata": {
    "id": "z26dYbooKvxw"
   },
   "source": [
    "We are able to do any operation mentioned so far in this lecture and label it under a function:"
   ]
  },
  {
   "cell_type": "code",
   "execution_count": null,
   "metadata": {
    "colab": {
     "base_uri": "https://localhost:8080/"
    },
    "executionInfo": {
     "elapsed": 361,
     "status": "ok",
     "timestamp": 1651604631659,
     "user": {
      "displayName": "Christian Ataiza",
      "userId": "02674055789675689831"
     },
     "user_tz": -480
    },
    "id": "GVkq24_RLUdh",
    "outputId": "9e0494f9-de8a-4094-9c6f-b8c37a486d52"
   },
   "outputs": [],
   "source": [
    "# defining a func called make_it_triple\n",
    "def make_it_triple(x):\n",
    "    return x * 3 # the list is tripled \n",
    "\n",
    "make_it_triple([\"a\", \"b\", \"c\"])"
   ]
  },
  {
   "cell_type": "markdown",
   "metadata": {
    "id": "12B5RgpnMtxb"
   },
   "source": [
    "#### Putting it all together: Pig Latin"
   ]
  },
  {
   "cell_type": "markdown",
   "metadata": {
    "id": "As4MjUPMNVJe"
   },
   "source": [
    "Most words in Pig Latin end in \"ay.\" Use the rules below to translate normal English into [Pig Latin](https://web.ics.purdue.edu/~morelanj/RAO/prepare2.html).\n",
    "\n",
    "1. If a word starts with a consonant and a vowel, put the first letter of the word at the end of the word and add \"ay.\"\n",
    "\n",
    "  Example: Happy = appyh + ay = appyhay\n",
    "\n",
    "\n",
    "2. If a word starts with two consonants move the two consonants to the end of the word and add \"ay.\"\n",
    "\n",
    "  Example: Child = Ildch + ay = Ildchay\n",
    "\n",
    "\n",
    "3. If a word starts with a vowel add the word \"way\" at the end of the word.\n",
    "\n",
    "  Example: Awesome = Awesome +way = Awesomeway\n"
   ]
  },
  {
   "cell_type": "code",
   "execution_count": 2,
   "metadata": {
    "id": "6bOeGW3-Ms49"
   },
   "outputs": [],
   "source": [
    "def to_pl(sent):\n",
    "    vowels = [\"a\", \"e\", \"i\", \"o\", \"u\"] # defining vowels\n",
    "\n",
    "    sentence = sent.split(\" \") # we take each word in the sentence\n",
    "    new_sentence = [] # storing the words of the sentence here\n",
    "  \n",
    "    for word in sentence: # for each word in the sentence\n",
    "        # Pig Latin rules\n",
    "        # if it begins with a vowel, add way at the end\n",
    "        if word[0].lower() in vowels:\n",
    "            word_ = word.lower() + \"way\"\n",
    "        # if the first two letters are consonants\n",
    "        elif word[:2][1].lower() not in vowels: \n",
    "            word_ = word[2:].lower() + word[:2].lower() + \"ay\"\n",
    "        else: # everything else\n",
    "            word_ = word[1:].lower() + word[0].lower() + \"ay\"\n",
    "\n",
    "        new_sentence.append(word_)\n",
    "        \n",
    "    return \" \".join(new_sentence)\n"
   ]
  },
  {
   "cell_type": "code",
   "execution_count": 3,
   "metadata": {
    "colab": {
     "base_uri": "https://localhost:8080/"
    },
    "executionInfo": {
     "elapsed": 357,
     "status": "ok",
     "timestamp": 1651604584612,
     "user": {
      "displayName": "Christian Ataiza",
      "userId": "02674055789675689831"
     },
     "user_tz": -480
    },
    "id": "SE9ORyODNkNw",
    "outputId": "1d3b0624-2017-49cd-9098-bb90e5b1ebfd"
   },
   "outputs": [
    {
     "name": "stdout",
     "output_type": "stream",
     "text": [
      "igpay atinlay isway ardhay otay eakspay\n"
     ]
    }
   ],
   "source": [
    "print(to_pl(\"Pig Latin is hard to speak\"))"
   ]
  },
  {
   "cell_type": "code",
   "execution_count": null,
   "metadata": {
    "id": "oYM3j-n8TfjE"
   },
   "outputs": [],
   "source": [
    "# Improvements to the function is left to the user as an exercise"
   ]
  }
 ],
 "metadata": {
  "colab": {
   "authorship_tag": "ABX9TyN1qgmQ7d1igtvWNW+2XC1z",
   "collapsed_sections": [
    "omMAaztmPcgm",
    "94YPe2EpTnaG",
    "2m8n53NEUNuC",
    "4QMa3QW6PcXS",
    "2gZu-9nKPi0Z",
    "wuIOExOMtV-S",
    "psnrsFSy6x0q",
    "2BSgo_t_1h3b",
    "_CpTVNsk3ZKS"
   ],
   "name": "[Eskwelabs] Day 1 - Python.ipynb",
   "provenance": []
  },
  "kernelspec": {
   "display_name": "Python 3 (ipykernel)",
   "language": "python",
   "name": "python3"
  },
  "language_info": {
   "codemirror_mode": {
    "name": "ipython",
    "version": 3
   },
   "file_extension": ".py",
   "mimetype": "text/x-python",
   "name": "python",
   "nbconvert_exporter": "python",
   "pygments_lexer": "ipython3",
   "version": "3.9.11"
  },
  "toc": {
   "base_numbering": 1,
   "nav_menu": {},
   "number_sections": true,
   "sideBar": true,
   "skip_h1_title": false,
   "title_cell": "Table of Contents",
   "title_sidebar": "Contents",
   "toc_cell": true,
   "toc_position": {
    "height": "calc(100% - 180px)",
    "left": "10px",
    "top": "150px",
    "width": "377.733px"
   },
   "toc_section_display": true,
   "toc_window_display": true
  }
 },
 "nbformat": 4,
 "nbformat_minor": 1
}
