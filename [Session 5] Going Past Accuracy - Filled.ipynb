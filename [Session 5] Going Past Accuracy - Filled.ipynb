{
 "cells": [
  {
   "cell_type": "markdown",
   "metadata": {},
   "source": [
    "<div><span style=\"background-color: #9e4244; padding-top: 80px; padding-right: 20px; padding-bottom: 50px; padding-left: 20px; color: white; font-size: 22px; font-weight: bold\">Session 5: Going Past Accuracy</span></div>"
   ]
  },
  {
   "cell_type": "markdown",
   "metadata": {},
   "source": [
    "by BYJ Cirio"
   ]
  },
  {
   "cell_type": "markdown",
   "metadata": {},
   "source": [
    "<div class=\"alert alert-danger alert-info\">\n",
    "     In this notebook you will learn different evaluation metrics beside accuracy. Specifically, the topics covered are as follows:<br>\n",
    "    <ol>\n",
    "        <li>Stratify and StratifiedKFold</li>\n",
    "        <li>Other Evaluation Metrics: Precision, Recall, F1-Score</li>\n",
    "        <li><i>Exercise: Re-run models using Precision, Recall, F1-Score</i></li>\n",
    "    </ol>\n",
    "</div>"
   ]
  },
  {
   "cell_type": "code",
   "execution_count": 1,
   "metadata": {},
   "outputs": [],
   "source": [
    "# general libraries\n",
    "import time\n",
    "import warnings\n",
    "import numpy as np\n",
    "import pandas as pd\n",
    "from tqdm.notebook import tqdm\n",
    "from collections import Counter\n",
    "warnings.filterwarnings(\"ignore\")\n",
    "\n",
    "# visualization\n",
    "import seaborn as sns\n",
    "import matplotlib.pyplot as plt\n",
    "from wordcloud import WordCloud\n",
    "from nltk.corpus import stopwords\n",
    "\n",
    "# modelling\n",
    "from sklearn.model_selection import train_test_split, StratifiedKFold\n",
    "from sklearn.linear_model import LogisticRegression\n",
    "from sklearn.tree import DecisionTreeClassifier\n",
    "from sklearn.ensemble import RandomForestClassifier, GradientBoostingClassifier"
   ]
  },
  {
   "cell_type": "code",
   "execution_count": 2,
   "metadata": {},
   "outputs": [
    {
     "data": {
      "text/html": [
       "<div>\n",
       "<style scoped>\n",
       "    .dataframe tbody tr th:only-of-type {\n",
       "        vertical-align: middle;\n",
       "    }\n",
       "\n",
       "    .dataframe tbody tr th {\n",
       "        vertical-align: top;\n",
       "    }\n",
       "\n",
       "    .dataframe thead th {\n",
       "        text-align: right;\n",
       "    }\n",
       "</style>\n",
       "<table border=\"1\" class=\"dataframe\">\n",
       "  <thead>\n",
       "    <tr style=\"text-align: right;\">\n",
       "      <th></th>\n",
       "      <th>lat</th>\n",
       "      <th>long</th>\n",
       "      <th>city_pop</th>\n",
       "      <th>amt</th>\n",
       "      <th>is_fraud</th>\n",
       "      <th>merch_lat</th>\n",
       "      <th>merch_long</th>\n",
       "      <th>trans_day</th>\n",
       "      <th>age</th>\n",
       "      <th>gender_F</th>\n",
       "      <th>...</th>\n",
       "      <th>trans_month__Mar</th>\n",
       "      <th>trans_month__May</th>\n",
       "      <th>trans_month__Nov</th>\n",
       "      <th>trans_month__Oct</th>\n",
       "      <th>trans_month__Sep</th>\n",
       "      <th>part_of_day_afternoon</th>\n",
       "      <th>part_of_day_breakfast</th>\n",
       "      <th>part_of_day_dinner</th>\n",
       "      <th>part_of_day_early morning</th>\n",
       "      <th>part_of_day_lunch</th>\n",
       "    </tr>\n",
       "  </thead>\n",
       "  <tbody>\n",
       "    <tr>\n",
       "      <th>0</th>\n",
       "      <td>9.65</td>\n",
       "      <td>123.85</td>\n",
       "      <td>105051</td>\n",
       "      <td>825.04</td>\n",
       "      <td>1</td>\n",
       "      <td>9.265518</td>\n",
       "      <td>123.368859</td>\n",
       "      <td>13</td>\n",
       "      <td>60</td>\n",
       "      <td>0</td>\n",
       "      <td>...</td>\n",
       "      <td>0</td>\n",
       "      <td>0</td>\n",
       "      <td>0</td>\n",
       "      <td>0</td>\n",
       "      <td>0</td>\n",
       "      <td>0</td>\n",
       "      <td>0</td>\n",
       "      <td>1</td>\n",
       "      <td>0</td>\n",
       "      <td>0</td>\n",
       "    </tr>\n",
       "    <tr>\n",
       "      <th>1</th>\n",
       "      <td>9.65</td>\n",
       "      <td>123.85</td>\n",
       "      <td>105051</td>\n",
       "      <td>306.55</td>\n",
       "      <td>1</td>\n",
       "      <td>9.236416</td>\n",
       "      <td>124.337292</td>\n",
       "      <td>12</td>\n",
       "      <td>60</td>\n",
       "      <td>0</td>\n",
       "      <td>...</td>\n",
       "      <td>0</td>\n",
       "      <td>0</td>\n",
       "      <td>0</td>\n",
       "      <td>0</td>\n",
       "      <td>0</td>\n",
       "      <td>0</td>\n",
       "      <td>0</td>\n",
       "      <td>0</td>\n",
       "      <td>1</td>\n",
       "      <td>0</td>\n",
       "    </tr>\n",
       "    <tr>\n",
       "      <th>2</th>\n",
       "      <td>9.65</td>\n",
       "      <td>123.85</td>\n",
       "      <td>105051</td>\n",
       "      <td>346.48</td>\n",
       "      <td>1</td>\n",
       "      <td>9.460644</td>\n",
       "      <td>124.461767</td>\n",
       "      <td>12</td>\n",
       "      <td>60</td>\n",
       "      <td>0</td>\n",
       "      <td>...</td>\n",
       "      <td>0</td>\n",
       "      <td>0</td>\n",
       "      <td>0</td>\n",
       "      <td>0</td>\n",
       "      <td>0</td>\n",
       "      <td>0</td>\n",
       "      <td>0</td>\n",
       "      <td>0</td>\n",
       "      <td>0</td>\n",
       "      <td>1</td>\n",
       "    </tr>\n",
       "    <tr>\n",
       "      <th>3</th>\n",
       "      <td>9.65</td>\n",
       "      <td>123.85</td>\n",
       "      <td>105051</td>\n",
       "      <td>919.50</td>\n",
       "      <td>1</td>\n",
       "      <td>10.606020</td>\n",
       "      <td>123.930862</td>\n",
       "      <td>12</td>\n",
       "      <td>60</td>\n",
       "      <td>0</td>\n",
       "      <td>...</td>\n",
       "      <td>0</td>\n",
       "      <td>0</td>\n",
       "      <td>0</td>\n",
       "      <td>0</td>\n",
       "      <td>0</td>\n",
       "      <td>0</td>\n",
       "      <td>0</td>\n",
       "      <td>0</td>\n",
       "      <td>1</td>\n",
       "      <td>0</td>\n",
       "    </tr>\n",
       "    <tr>\n",
       "      <th>4</th>\n",
       "      <td>9.65</td>\n",
       "      <td>123.85</td>\n",
       "      <td>105051</td>\n",
       "      <td>1131.45</td>\n",
       "      <td>1</td>\n",
       "      <td>8.806183</td>\n",
       "      <td>123.719528</td>\n",
       "      <td>13</td>\n",
       "      <td>60</td>\n",
       "      <td>0</td>\n",
       "      <td>...</td>\n",
       "      <td>0</td>\n",
       "      <td>0</td>\n",
       "      <td>0</td>\n",
       "      <td>0</td>\n",
       "      <td>0</td>\n",
       "      <td>0</td>\n",
       "      <td>0</td>\n",
       "      <td>1</td>\n",
       "      <td>0</td>\n",
       "      <td>0</td>\n",
       "    </tr>\n",
       "  </tbody>\n",
       "</table>\n",
       "<p>5 rows × 951 columns</p>\n",
       "</div>"
      ],
      "text/plain": [
       "    lat    long  city_pop      amt  is_fraud  merch_lat  merch_long  \\\n",
       "0  9.65  123.85    105051   825.04         1   9.265518  123.368859   \n",
       "1  9.65  123.85    105051   306.55         1   9.236416  124.337292   \n",
       "2  9.65  123.85    105051   346.48         1   9.460644  124.461767   \n",
       "3  9.65  123.85    105051   919.50         1  10.606020  123.930862   \n",
       "4  9.65  123.85    105051  1131.45         1   8.806183  123.719528   \n",
       "\n",
       "   trans_day  age  gender_F  ...  trans_month__Mar  trans_month__May  \\\n",
       "0         13   60         0  ...                 0                 0   \n",
       "1         12   60         0  ...                 0                 0   \n",
       "2         12   60         0  ...                 0                 0   \n",
       "3         12   60         0  ...                 0                 0   \n",
       "4         13   60         0  ...                 0                 0   \n",
       "\n",
       "   trans_month__Nov  trans_month__Oct  trans_month__Sep  \\\n",
       "0                 0                 0                 0   \n",
       "1                 0                 0                 0   \n",
       "2                 0                 0                 0   \n",
       "3                 0                 0                 0   \n",
       "4                 0                 0                 0   \n",
       "\n",
       "   part_of_day_afternoon  part_of_day_breakfast  part_of_day_dinner  \\\n",
       "0                      0                      0                   1   \n",
       "1                      0                      0                   0   \n",
       "2                      0                      0                   0   \n",
       "3                      0                      0                   0   \n",
       "4                      0                      0                   1   \n",
       "\n",
       "   part_of_day_early morning  part_of_day_lunch  \n",
       "0                          0                  0  \n",
       "1                          1                  0  \n",
       "2                          0                  1  \n",
       "3                          1                  0  \n",
       "4                          0                  0  \n",
       "\n",
       "[5 rows x 951 columns]"
      ]
     },
     "execution_count": 2,
     "metadata": {},
     "output_type": "execute_result"
    }
   ],
   "source": [
    "df = pd.read_csv('cc_df.csv', nrows=100000)\n",
    "df.head()"
   ]
  },
  {
   "cell_type": "code",
   "execution_count": 3,
   "metadata": {},
   "outputs": [
    {
     "name": "stdout",
     "output_type": "stream",
     "text": [
      "Would Recommend:       0\n",
      "1    924\n",
      "0  99076\n",
      "Proportion Chance Criterion: 98.17%\n",
      "1.25 * Proportion Chance Criterion: 122.71%\n"
     ]
    },
    {
     "data": {
      "image/png": "[encoded data removed]",
      "text/plain": [
       "<Figure size 640x480 with 1 Axes>"
      ]
     },
     "metadata": {},
     "output_type": "display_data"
    }
   ],
   "source": [
    "state_counts = Counter(df['is_fraud'])\n",
    "df_state = pd.DataFrame.from_dict(state_counts, orient='index')\n",
    "df_state.plot(kind='bar', color='pink')\n",
    "\n",
    "num=(df_state[0]/df_state[0].sum())**2\n",
    "\n",
    "print(\"Would Recommend:{}\".format(df_state))\n",
    "\n",
    "print(\"Proportion Chance Criterion: {:0.2f}%\".format(100*num.sum()))\n",
    "print(\"1.25 * Proportion Chance Criterion: {:0.2f}%\".format(1.25*100*num.sum()))"
   ]
  },
  {
   "cell_type": "markdown",
   "metadata": {},
   "source": [
    "<div><span style=\"background-color: #ff0257; padding-top: 100px; padding-right: 20px; padding-bottom: 50px; padding-left: 20px; color: #FFFAF0; font-size: 18px; font-weight: bold\">Stratify/StratifiedKFold </span></div>"
   ]
  },
  {
   "cell_type": "code",
   "execution_count": 4,
   "metadata": {},
   "outputs": [],
   "source": [
    "X = df.drop(['is_fraud'], axis=1)\n",
    "y = df['is_fraud']\n",
    "(X_trainval, X_holdout, y_trainval, y_holdout) = train_test_split(X, y, \n",
    "                                                                  random_state=11, test_size=0.25,\n",
    "                                                                  stratify=y) # to maintain the number of samples for each class"
   ]
  },
  {
   "cell_type": "markdown",
   "metadata": {},
   "source": [
    "We use [`StratifiedKFold`](https://scikit-learn.org/stable/modules/generated/sklearn.model_selection.StratifiedKFold.html) to split the train set further into train and validation sets. This is done to address overfitting and ensure same numbers are maintained for each class."
   ]
  },
  {
   "cell_type": "code",
   "execution_count": 5,
   "metadata": {},
   "outputs": [],
   "source": [
    "# initialize models with default hyperparamters\n",
    "models_dict = {\n",
    "    'LogisticRegressor': LogisticRegression(),\n",
    "    'RandomForestClassifier': RandomForestClassifier(random_state=11),\n",
    "    'DecisionTreeClassifier': DecisionTreeClassifier(random_state=11),\n",
    "    'GradientBoostingClassifier': GradientBoostingClassifier(random_state=11)   \n",
    "}"
   ]
  },
  {
   "cell_type": "code",
   "execution_count": 6,
   "metadata": {},
   "outputs": [
    {
     "data": {
      "application/vnd.jupyter.widget-view+json": {
       "model_id": "2e17c97a94674702b336f34613b10ea5",
       "version_major": 2,
       "version_minor": 0
      },
      "text/plain": [
       "  0%|          | 0/4 [00:00<?, ?it/s]"
      ]
     },
     "metadata": {},
     "output_type": "display_data"
    },
    {
     "name": "stdout",
     "output_type": "stream",
     "text": [
      "Report Generated in 372.61 seconds\n"
     ]
    },
    {
     "data": {
      "text/html": [
       "<div>\n",
       "<style scoped>\n",
       "    .dataframe tbody tr th:only-of-type {\n",
       "        vertical-align: middle;\n",
       "    }\n",
       "\n",
       "    .dataframe tbody tr th {\n",
       "        vertical-align: top;\n",
       "    }\n",
       "\n",
       "    .dataframe thead th {\n",
       "        text-align: right;\n",
       "    }\n",
       "</style>\n",
       "<table border=\"1\" class=\"dataframe\">\n",
       "  <thead>\n",
       "    <tr style=\"text-align: right;\">\n",
       "      <th></th>\n",
       "      <th>ave_train_acc</th>\n",
       "      <th>ave_val_acc</th>\n",
       "      <th>run_time</th>\n",
       "    </tr>\n",
       "  </thead>\n",
       "  <tbody>\n",
       "    <tr>\n",
       "      <th>LogisticRegressor</th>\n",
       "      <td>98.938667</td>\n",
       "      <td>98.938667</td>\n",
       "      <td>3.710219</td>\n",
       "    </tr>\n",
       "    <tr>\n",
       "      <th>RandomForestClassifier</th>\n",
       "      <td>100.000000</td>\n",
       "      <td>99.617333</td>\n",
       "      <td>18.186849</td>\n",
       "    </tr>\n",
       "    <tr>\n",
       "      <th>DecisionTreeClassifier</th>\n",
       "      <td>100.000000</td>\n",
       "      <td>99.728000</td>\n",
       "      <td>4.829628</td>\n",
       "    </tr>\n",
       "    <tr>\n",
       "      <th>GradientBoostingClassifier</th>\n",
       "      <td>99.888667</td>\n",
       "      <td>99.766667</td>\n",
       "      <td>45.623910</td>\n",
       "    </tr>\n",
       "  </tbody>\n",
       "</table>\n",
       "</div>"
      ],
      "text/plain": [
       "                            ave_train_acc  ave_val_acc   run_time\n",
       "LogisticRegressor               98.938667    98.938667   3.710219\n",
       "RandomForestClassifier         100.000000    99.617333  18.186849\n",
       "DecisionTreeClassifier         100.000000    99.728000   4.829628\n",
       "GradientBoostingClassifier      99.888667    99.766667  45.623910"
      ]
     },
     "metadata": {},
     "output_type": "display_data"
    }
   ],
   "source": [
    "# budget automl\n",
    "skf = StratifiedKFold(n_splits=5)\n",
    "\n",
    "res = {}\n",
    "\n",
    "# log start time\n",
    "total_start = time.time()\n",
    "\n",
    "for model_name, model in tqdm(models_dict.items()):\n",
    "    train_scores = []\n",
    "    val_scores = []\n",
    "    \n",
    "    for train_index, val_index in skf.split(X_trainval, y_trainval): # train and validation set\n",
    "        X_train, X_val = X_trainval.iloc[train_index], X_trainval.iloc[val_index]\n",
    "        y_train, y_val = y_trainval.iloc[train_index], y_trainval.iloc[val_index]\n",
    "        \n",
    "        start_time = time.time() # for logging run times\n",
    "        \n",
    "        # fit\n",
    "        model.fit(X_train, y_train)\n",
    "        \n",
    "        # default metric: accuracy\n",
    "        train_score = model.score(X_train, y_train)\n",
    "        val_score = model.score(X_val, y_val)\n",
    "        \n",
    "        end_time = time.time() # for logging run times\n",
    "        \n",
    "        train_scores.append(train_score)\n",
    "        val_scores.append(val_score)\n",
    "        \n",
    "    res[model_name] = {\n",
    "        'ave_train_acc':np.mean(train_scores) * 100,\n",
    "        'ave_val_acc':np.mean(val_scores) * 100,\n",
    "        'run_time': end_time - start_time\n",
    "    }\n",
    "\n",
    "# log end time\n",
    "total_end = time.time()\n",
    "\n",
    "elapsed = total_end - total_start\n",
    "print(f\"Report Generated in {elapsed:.2f} seconds\")\n",
    "display(pd.DataFrame(res).T)"
   ]
  },
  {
   "cell_type": "markdown",
   "metadata": {},
   "source": [
    "The current results show that our ML models perform well. But do they really? Being the the skeptics that we are, we go *beyond accuracy* and look deeper into the predictions in the following sections. "
   ]
  },
  {
   "cell_type": "code",
   "execution_count": 7,
   "metadata": {},
   "outputs": [],
   "source": [
    "def get_confusion_matrix(y_true, y_pred, return_tuple=False):\n",
    "    \"\"\"Return confusion matrix from inputs of true and predicted values\"\"\"\n",
    "    TP = ((y_pred == 1) & (y_true == 1)).sum()\n",
    "    TN = ((y_pred == 0) & (y_true == 0)).sum()\n",
    "    FP = ((y_pred == 1) & (y_true == 0)).sum()\n",
    "    FN = ((y_pred == 0) & (y_true == 1)).sum()\n",
    "    if return_tuple:\n",
    "        return TN, FP, FN, TP\n",
    "    return np.array([[TN, FP],\n",
    "                     [FN, TP]])"
   ]
  },
  {
   "cell_type": "code",
   "execution_count": 8,
   "metadata": {},
   "outputs": [
    {
     "data": {
      "text/plain": [
       "array([[24736,    33],\n",
       "       [   45,   186]], dtype=int64)"
      ]
     },
     "execution_count": 8,
     "metadata": {},
     "output_type": "execute_result"
    }
   ],
   "source": [
    "# Show counting of TP, TN, FP, FN\n",
    "model = GradientBoostingClassifier()\n",
    "model.fit(X_trainval, y_trainval)\n",
    "\n",
    "y_pred = model.predict(X_holdout)\n",
    "y_true = y_holdout\n",
    "\n",
    "get_confusion_matrix(y_true, y_pred)"
   ]
  },
  {
   "cell_type": "code",
   "execution_count": 9,
   "metadata": {},
   "outputs": [
    {
     "data": {
      "application/vnd.jupyter.widget-view+json": {
       "model_id": "b0de2b7008f649c7989281805dc27538",
       "version_major": 2,
       "version_minor": 0
      },
      "text/plain": [
       "0it [00:00, ?it/s]"
      ]
     },
     "metadata": {},
     "output_type": "display_data"
    },
    {
     "data": {
      "image/png": "[encoded data removed]",
      "text/plain": [
       "<Figure size 2000x500 with 4 Axes>"
      ]
     },
     "metadata": {},
     "output_type": "display_data"
    }
   ],
   "source": [
    "from sklearn.metrics import ConfusionMatrixDisplay\n",
    "\n",
    "best_model = GradientBoostingClassifier()\n",
    "best_model.fit(X_trainval, y_trainval)\n",
    "y_pred = model.predict(X_holdout)\n",
    "\n",
    "eval_dict = {\n",
    "    'AllNegativeClassifier': np.zeros(y_holdout.shape),\n",
    "    'AllPositiveClassifier' : np.ones(y_holdout.shape),\n",
    "    'GradientBoostingRegressor': y_pred,\n",
    "    'PerfectClassifier': y_holdout\n",
    "}\n",
    "\n",
    "fig, axes = plt.subplots(1, 4, figsize=(20, 5))\n",
    "\n",
    "for index, (model_name, preds) in tqdm(enumerate(eval_dict.items())):\n",
    "    ConfusionMatrixDisplay.from_predictions(y_holdout, preds, \n",
    "                                            ax=axes[index], cmap='summer',\n",
    "                                            colorbar=False)\n",
    "    axes[index].set_title(model_name, fontsize=12)\n",
    "    axes[index].set_xlabel('Predicted Label', fontsize=12)\n",
    "    axes[index].set_ylabel('True Label', fontsize=12)"
   ]
  },
  {
   "cell_type": "code",
   "execution_count": 10,
   "metadata": {},
   "outputs": [
    {
     "data": {
      "text/plain": [
       "0.99076"
      ]
     },
     "execution_count": 10,
     "metadata": {},
     "output_type": "execute_result"
    }
   ],
   "source": [
    "from sklearn.metrics import accuracy_score\n",
    "accuracy_score(y_holdout, np.zeros(y_holdout.shape))"
   ]
  },
  {
   "cell_type": "markdown",
   "metadata": {},
   "source": [
    "<div><span style=\"background-color: #ff0257; padding-top: 100px; padding-right: 20px; padding-bottom: 50px; padding-left: 20px; color: #FFFAF0; font-size: 18px; font-weight: bold\">Other Evaluation Metrics </span></div>"
   ]
  },
  {
   "cell_type": "markdown",
   "metadata": {},
   "source": [
    "* ***Recall***  - Tells how well the positive (minority) class was predicted\n",
    "\n",
    "\\begin{equation}\n",
    "\\mathrm{Recall} = \\frac{TP}{TP + FN}\n",
    "\\end{equation}\n",
    "\n",
    "* ***Precision*** - Measures the fraction of correctly classified positive class and the number of samples classified as positive\n",
    "\n",
    "\\begin{equation}\n",
    "\\mathrm{Precision} = \\frac{TP}{TP + FP}\n",
    "\\end{equation}\n",
    "\n",
    "\n",
    "* ***F-1 score*** - Captures the harmonic balance between precision and recall\n",
    "\n",
    "\\begin{equation}\n",
    "\\mathrm{F1}  = 2*\\frac{\\mathrm{Precision}*\\mathrm{Recall}}{\\mathrm{Precision} + \\mathrm{Recall}}\n",
    "\\end{equation}"
   ]
  },
  {
   "cell_type": "markdown",
   "metadata": {},
   "source": [
    "<div><span style=\"background-color: #ff0257; padding-top: 100px; padding-right: 20px; padding-bottom: 50px; padding-left: 20px; color: #FFFAF0; font-size: 18px; font-weight: bold\">Exercise </span></div>"
   ]
  },
  {
   "cell_type": "markdown",
   "metadata": {},
   "source": [
    "1) Add codes to incorporate `precision`, `recall`, and `F1-score`. Based on the business objective of the study, which metric is the most appropriate? <br>\n",
    "2) Can you think of ways on how you can further hypertune the parameters for a specific model?"
   ]
  },
  {
   "cell_type": "code",
   "execution_count": 11,
   "metadata": {},
   "outputs": [],
   "source": [
    "from sklearn.metrics import (precision_score, recall_score, f1_score)"
   ]
  },
  {
   "cell_type": "code",
   "execution_count": 14,
   "metadata": {
    "ExecuteTime": {
     "end_time": "2022-10-21T09:28:14.776411Z",
     "start_time": "2022-10-21T09:28:14.758460Z"
    }
   },
   "outputs": [
    {
     "data": {
      "application/vnd.jupyter.widget-view+json": {
       "model_id": "30841039a7c44d79a81e502c84cdf67a",
       "version_major": 2,
       "version_minor": 0
      },
      "text/plain": [
       "  0%|          | 0/4 [00:00<?, ?it/s]"
      ]
     },
     "metadata": {},
     "output_type": "display_data"
    },
    {
     "data": {
      "application/vnd.jupyter.widget-view+json": {
       "model_id": "2a80cfd39378420e96dec8c508531346",
       "version_major": 2,
       "version_minor": 0
      },
      "text/plain": [
       "0it [00:00, ?it/s]"
      ]
     },
     "metadata": {},
     "output_type": "display_data"
    },
    {
     "data": {
      "application/vnd.jupyter.widget-view+json": {
       "model_id": "f850523f1f7e4285a98d73b3ee4c8381",
       "version_major": 2,
       "version_minor": 0
      },
      "text/plain": [
       "0it [00:00, ?it/s]"
      ]
     },
     "metadata": {},
     "output_type": "display_data"
    },
    {
     "data": {
      "application/vnd.jupyter.widget-view+json": {
       "model_id": "ac2c8f0d0b73437c87c90826c152d599",
       "version_major": 2,
       "version_minor": 0
      },
      "text/plain": [
       "0it [00:00, ?it/s]"
      ]
     },
     "metadata": {},
     "output_type": "display_data"
    },
    {
     "data": {
      "application/vnd.jupyter.widget-view+json": {
       "model_id": "31e9587271e346079a30d1dc9d659e49",
       "version_major": 2,
       "version_minor": 0
      },
      "text/plain": [
       "0it [00:00, ?it/s]"
      ]
     },
     "metadata": {},
     "output_type": "display_data"
    },
    {
     "name": "stdout",
     "output_type": "stream",
     "text": [
      "Report Generated in 381.20 seconds\n"
     ]
    },
    {
     "data": {
      "text/html": [
       "<div>\n",
       "<style scoped>\n",
       "    .dataframe tbody tr th:only-of-type {\n",
       "        vertical-align: middle;\n",
       "    }\n",
       "\n",
       "    .dataframe tbody tr th {\n",
       "        vertical-align: top;\n",
       "    }\n",
       "\n",
       "    .dataframe thead th {\n",
       "        text-align: right;\n",
       "    }\n",
       "</style>\n",
       "<table border=\"1\" class=\"dataframe\">\n",
       "  <thead>\n",
       "    <tr style=\"text-align: right;\">\n",
       "      <th></th>\n",
       "      <th>ave_train_acc</th>\n",
       "      <th>ave_val_acc</th>\n",
       "      <th>ave_train_prec</th>\n",
       "      <th>ave_val_prec</th>\n",
       "      <th>ave_train_rec</th>\n",
       "      <th>ave_val_rec</th>\n",
       "      <th>ave_train_f1</th>\n",
       "      <th>ave_val_f1</th>\n",
       "      <th>run_time</th>\n",
       "    </tr>\n",
       "  </thead>\n",
       "  <tbody>\n",
       "    <tr>\n",
       "      <th>LogisticRegressor</th>\n",
       "      <td>25.398865</td>\n",
       "      <td>25.389825</td>\n",
       "      <td>1.176471</td>\n",
       "      <td>5.000000</td>\n",
       "      <td>0.180505</td>\n",
       "      <td>0.719424</td>\n",
       "      <td>0.312989</td>\n",
       "      <td>1.257862</td>\n",
       "      <td>0.011500</td>\n",
       "    </tr>\n",
       "    <tr>\n",
       "      <th>RandomForestClassifier</th>\n",
       "      <td>100.000000</td>\n",
       "      <td>83.004090</td>\n",
       "      <td>100.000000</td>\n",
       "      <td>100.000000</td>\n",
       "      <td>100.000000</td>\n",
       "      <td>56.115108</td>\n",
       "      <td>100.000000</td>\n",
       "      <td>71.889401</td>\n",
       "      <td>0.011938</td>\n",
       "    </tr>\n",
       "    <tr>\n",
       "      <th>DecisionTreeClassifier</th>\n",
       "      <td>100.000000</td>\n",
       "      <td>88.668668</td>\n",
       "      <td>100.000000</td>\n",
       "      <td>88.970588</td>\n",
       "      <td>100.000000</td>\n",
       "      <td>87.050360</td>\n",
       "      <td>100.000000</td>\n",
       "      <td>88.000000</td>\n",
       "      <td>0.020016</td>\n",
       "    </tr>\n",
       "    <tr>\n",
       "      <th>GradientBoostingClassifier</th>\n",
       "      <td>95.379056</td>\n",
       "      <td>90.145478</td>\n",
       "      <td>94.318182</td>\n",
       "      <td>88.970588</td>\n",
       "      <td>89.891697</td>\n",
       "      <td>87.050360</td>\n",
       "      <td>92.051756</td>\n",
       "      <td>88.000000</td>\n",
       "      <td>0.011997</td>\n",
       "    </tr>\n",
       "  </tbody>\n",
       "</table>\n",
       "</div>"
      ],
      "text/plain": [
       "                            ave_train_acc  ave_val_acc  ave_train_prec  \\\n",
       "LogisticRegressor               25.398865    25.389825        1.176471   \n",
       "RandomForestClassifier         100.000000    83.004090      100.000000   \n",
       "DecisionTreeClassifier         100.000000    88.668668      100.000000   \n",
       "GradientBoostingClassifier      95.379056    90.145478       94.318182   \n",
       "\n",
       "                            ave_val_prec  ave_train_rec  ave_val_rec  \\\n",
       "LogisticRegressor               5.000000       0.180505     0.719424   \n",
       "RandomForestClassifier        100.000000     100.000000    56.115108   \n",
       "DecisionTreeClassifier         88.970588     100.000000    87.050360   \n",
       "GradientBoostingClassifier     88.970588      89.891697    87.050360   \n",
       "\n",
       "                            ave_train_f1  ave_val_f1  run_time  \n",
       "LogisticRegressor               0.312989    1.257862  0.011500  \n",
       "RandomForestClassifier        100.000000   71.889401  0.011938  \n",
       "DecisionTreeClassifier        100.000000   88.000000  0.020016  \n",
       "GradientBoostingClassifier     92.051756   88.000000  0.011997  "
      ]
     },
     "metadata": {},
     "output_type": "display_data"
    }
   ],
   "source": [
    "# budget automl\n",
    "skf = StratifiedKFold(n_splits=5)\n",
    "\n",
    "res = {}\n",
    "\n",
    "# log start time\n",
    "total_start = time.time()\n",
    "\n",
    "for model_name, model in tqdm(models_dict.items()):\n",
    "    train_scores = []\n",
    "    val_scores = []\n",
    "    \n",
    "    #### (1) Insert containers here for the precision, recall, and f1 score ####\n",
    "\n",
    "    \n",
    "    ####--------------------------------------------------------- ####\n",
    "    \n",
    "    for train_index, val_index in tqdm(skf.split(X_trainval, y_trainval)): # train and validation set\n",
    "        X_train, X_val = X_trainval.iloc[train_index], X_trainval.iloc[val_index]\n",
    "        y_train, y_val = y_trainval.iloc[train_index], y_trainval.iloc[val_index]\n",
    "        \n",
    "        start_time = time.time() # for logging run times\n",
    "        \n",
    "        # fit\n",
    "        model.fit(X_train, y_train)\n",
    "        \n",
    "        # default metric: accuracy\n",
    "        train_score = model.score(X_train, y_train)\n",
    "        val_score = model.score(X_val, y_val)\n",
    "        \n",
    "        end_time = time.time() # for logging run times\n",
    "        \n",
    "        train_scores.append(train_score)\n",
    "        val_scores.append(val_score)\n",
    "        \n",
    "        #### (2) Predict the train and validation sets####\n",
    "        \n",
    "        # predict\n",
    "        \n",
    "        y_pred_train = model.predict(X_train)\n",
    "        y_pred_val = model.predict(X_val)\n",
    "        \n",
    "        ####----------------------------------------- ####\n",
    "        \n",
    "        #### (3) Compute and append the precision, recall, and f1 score to its containers ####\n",
    "        \n",
    "        # precision\n",
    "        \n",
    "        start_time = time.time() # for logging run times\n",
    "        \n",
    "        # default metric: accuracy\n",
    "        train_prec = precision_score(y_train, y_pred_train)\n",
    "        val_prec = precision_score(y_val, y_pred_val)\n",
    "        \n",
    "        end_time = time.time() # for logging run times\n",
    "        \n",
    "        train_scores.append(train_prec)\n",
    "        val_scores.append(val_prec)\n",
    "\n",
    "        # recall\n",
    "        \n",
    "        start_time = time.time() # for logging run times\n",
    "        \n",
    "        # default metric: accuracy\n",
    "        train_rec = recall_score(y_train, y_pred_train)\n",
    "        val_rec = recall_score(y_val, y_pred_val)\n",
    "        \n",
    "        end_time = time.time() # for logging run times\n",
    "        \n",
    "        train_scores.append(train_rec)\n",
    "        val_scores.append(val_rec)\n",
    "        \n",
    "        \n",
    "        # f1\n",
    "        \n",
    "        start_time = time.time() # for logging run times\n",
    "        \n",
    "        # default metric: accuracy\n",
    "        train_f1 = f1_score(y_train, y_pred_train)\n",
    "        val_f1 = f1_score(y_val, y_pred_val)\n",
    "        \n",
    "        end_time = time.time() # for logging run times\n",
    "        \n",
    "        train_scores.append(train_f1)\n",
    "        val_scores.append(val_f1)\n",
    "        \n",
    "        \n",
    "        ####------------------------------------------------------------------------- ####\n",
    "        \n",
    "    res[model_name] = {\n",
    "        'ave_train_acc':np.mean(train_scores) * 100,\n",
    "        'ave_val_acc':np.mean(val_scores) * 100,\n",
    "        'ave_train_prec':np.mean(train_prec) * 100,\n",
    "        'ave_val_prec':np.mean(val_prec) * 100,\n",
    "        'ave_train_rec':np.mean(train_rec) * 100,\n",
    "        'ave_val_rec':np.mean(val_rec) * 100,\n",
    "        'ave_train_f1':np.mean(train_f1) * 100,\n",
    "        'ave_val_f1':np.mean(val_f1) * 100,\n",
    "        'run_time': end_time - start_time\n",
    "    }\n",
    "\n",
    "# log end time\n",
    "total_end = time.time()\n",
    "\n",
    "elapsed = total_end - total_start\n",
    "print(f\"Report Generated in {elapsed:.2f} seconds\")\n",
    "display(pd.DataFrame(res).T)"
   ]
  },
  {
   "cell_type": "code",
   "execution_count": null,
   "metadata": {},
   "outputs": [],
   "source": []
  }
 ],
 "metadata": {
  "kernelspec": {
   "display_name": "Python 3 (ipykernel)",
   "language": "python",
   "name": "python3"
  },
  "language_info": {
   "codemirror_mode": {
    "name": "ipython",
    "version": 3
   },
   "file_extension": ".py",
   "mimetype": "text/x-python",
   "name": "python",
   "nbconvert_exporter": "python",
   "pygments_lexer": "ipython3",
   "version": "3.9.11"
  },
  "toc": {
   "base_numbering": 1,
   "nav_menu": {},
   "number_sections": true,
   "sideBar": true,
   "skip_h1_title": false,
   "title_cell": "Table of Contents",
   "title_sidebar": "Contents",
   "toc_cell": false,
   "toc_position": {},
   "toc_section_display": true,
   "toc_window_display": false
  }
 },
 "nbformat": 4,
 "nbformat_minor": 4
}
